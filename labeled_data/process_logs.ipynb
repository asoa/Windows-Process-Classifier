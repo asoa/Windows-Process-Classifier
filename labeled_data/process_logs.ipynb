{
 "cells": [
  {
   "cell_type": "code",
   "execution_count": 1,
   "metadata": {},
   "outputs": [],
   "source": [
    "from pyspark.conf import SparkConf\n",
    "from pyspark.sql import SparkSession\n",
    "from pyspark.sql.types import *\n",
    "import pyspark.sql.functions as F\n",
    "import pandas as pd\n",
    "import matplotlib.pyplot as plt\n",
    "from pyspark.ml import feature, evaluation, Pipeline\n",
    "from pyspark.ml.classification import LogisticRegression"
   ]
  },
  {
   "cell_type": "code",
   "execution_count": 2,
   "metadata": {},
   "outputs": [
    {
     "data": {
      "text/plain": [
       "<pyspark.conf.SparkConf at 0x7f9c2a6ada58>"
      ]
     },
     "execution_count": 2,
     "metadata": {},
     "output_type": "execute_result"
    }
   ],
   "source": [
    "conf = (SparkConf()\n",
    "            .setAppName('data_explore')\n",
    "            .setMaster('spark://spark-master:7077')\n",
    "       )\n",
    "conf.set(\"spark.executor.memory\", \"6g\")\n",
    "conf.set(\"spark.driver.maxResultSize\", \"0\")\n",
    "conf.set(\"spark.sql.shuffle.partitions\", \"30\")\n",
    "conf.set(\"spark.driver.memory\", \"3g\")"
   ]
  },
  {
   "cell_type": "code",
   "execution_count": 3,
   "metadata": {},
   "outputs": [],
   "source": [
    "spark = SparkSession.builder.config(conf=conf).getOrCreate()"
   ]
  },
  {
   "cell_type": "code",
   "execution_count": 4,
   "metadata": {},
   "outputs": [],
   "source": [
    "df = (spark.read.format('csv')\n",
    "      .option('inferSchema', 'true')\n",
    "      .option('header', 'true')\n",
    "      .option('escape', '\"')\n",
    "      .load('hdfs://namenode:9000/data/labeled_process_logs.csv') \n",
    "      .dropna() # orginal dataset had 52,025 rows, this operation drops 682 rows\n",
    "     )"
   ]
  },
  {
   "cell_type": "code",
   "execution_count": 5,
   "metadata": {},
   "outputs": [
    {
     "name": "stdout",
     "output_type": "stream",
     "text": [
      "+--------------------+---------------+--------------------+-------------+--------------------+--------------------+--------+--------+--------------------+-----------+\n",
      "|           timestamp|       hostname|              kernel|host_platform|        process_name|      parent_process|login_id|event_id|        command_line|class_label|\n",
      "+--------------------+---------------+--------------------+-------------+--------------------+--------------------+--------+--------+--------------------+-----------+\n",
      "|2019-11-02T01:22:...|DESKTOP-1QAE25C|10.0.18362.30 (Wi...|      windows|C:\\Windows\\System...|C:\\Windows\\System...|   0x3e5|    4688|C:\\Windows\\system...|          0|\n",
      "|2019-11-02T01:22:...|DESKTOP-1QAE25C|10.0.18362.30 (Wi...|      windows|C:\\Windows\\System...|C:\\Windows\\System...|   0x3e5|    4688|C:\\Windows\\system...|          0|\n",
      "|2019-11-02T01:22:...|DESKTOP-1QAE25C|10.0.18362.30 (Wi...|      windows|C:\\Windows\\System...|C:\\Windows\\System...|     0x0|    4688|  oobe\\windeploy.exe|          0|\n",
      "|2019-11-02T01:22:...|DESKTOP-1QAE25C|10.0.18362.30 (Wi...|      windows|C:\\Windows\\System...|C:\\Windows\\System...|     0x0|    4688|C:\\Windows\\system...|          0|\n",
      "|2019-11-02T01:22:...|DESKTOP-1QAE25C|10.0.18362.30 (Wi...|      windows|C:\\Windows\\System...|C:\\Windows\\System...|   0x3e5|    4688|C:\\Windows\\System...|          0|\n",
      "+--------------------+---------------+--------------------+-------------+--------------------+--------------------+--------+--------+--------------------+-----------+\n",
      "only showing top 5 rows\n",
      "\n"
     ]
    }
   ],
   "source": [
    "df.show(5)"
   ]
  },
  {
   "cell_type": "markdown",
   "metadata": {},
   "source": [
    "## clean process,path fields and create command line tokens"
   ]
  },
  {
   "cell_type": "code",
   "execution_count": 6,
   "metadata": {},
   "outputs": [],
   "source": [
    "from pyspark.sql.functions import regexp_extract, regexp_replace, col, count, split, size, to_date\n",
    "clean_df = df.select(\n",
    "    '*',\n",
    "    regexp_extract(col('process_name'), r\"(\\w?:?.*\\\\?\\w+\\s?\\w+\\\\)\", 0).alias('process_path'),\n",
    "    split(col('command_line'), '\\s+(?=[-/]+)').alias('cmd_line_split')\n",
    ").withColumn(\n",
    "    'class_label', (col('class_label').cast('int'))\n",
    ").withColumn(\n",
    "    'trusted_path', (col('process_path').like('%C:\\Program Files%') | col('process_path').like('%C:\\Windows%') | col('process_path').like('%C:\\PROGRA~2%') |col('process_path').like('%Program Files (x86)%')).cast('int')\n",
    ").withColumn(\n",
    "    '_timestamp', F.to_timestamp(col('timestamp'))\n",
    ").withColumn(\n",
    "    'process_name', regexp_extract(col('process_name'), r'(\\w+.?\\w+$)', 0)\n",
    ").withColumn(\n",
    "    'parent_process', regexp_extract(col('parent_process'), r'(\\w+.?\\w+$)', 0)\n",
    ").withColumn(\n",
    "    'command_line', regexp_replace(col('command_line'), r'[\"|\\{}();=:]',\" \")\n",
    ").withColumn(\n",
    "    'command_line', regexp_replace(col('command_line'), r'[(\\s+\\\\\\s+)]', \" \")\n",
    ").withColumn(\n",
    "    'command_line', regexp_replace(col('command_line'), r'\\s+\\.\\s+', \"\")  \n",
    ").withColumn(\n",
    "    'command_line', regexp_replace(col('command_line'), r':\\/\\/(\\d+\\.?)+:\\d+', \" \")  # remove ip addresss\n",
    ").withColumn(\n",
    "    'command_line', regexp_replace(col('command_line'), r'\\/\\/raw.*\\.com(\\/\\w+)*.*\\/', \"\")  # remove github url\n",
    ").withColumn(\n",
    "    'cmd_line_tokens', regexp_replace(col('command_line'), r'[\\?\\&]',\" \")\n",
    ").withColumn(\n",
    "    'cmd_line_tokens', regexp_replace(col('command_line'), r'\\d{10,}',\"\")  # long string of digits\n",
    ").withColumn(\n",
    "    'cmd_line_tokens', regexp_replace(col('command_line'), r'[C,]',\"\")\n",
    ").withColumn(\n",
    "    'cmd_line_tokens', split(col('command_line'), '\\s+')\n",
    ")"
   ]
  },
  {
   "cell_type": "markdown",
   "metadata": {},
   "source": [
    "## cleaned command line tokens"
   ]
  },
  {
   "cell_type": "code",
   "execution_count": 7,
   "metadata": {},
   "outputs": [],
   "source": [
    "@F.udf(returnType=ArrayType(StringType()))\n",
    "def clean_array(l):\n",
    "    arr = [x for x in l if x is not \",\" and x is not \" \"]\n",
    "    return arr"
   ]
  },
  {
   "cell_type": "code",
   "execution_count": 8,
   "metadata": {},
   "outputs": [
    {
     "name": "stdout",
     "output_type": "stream",
     "text": [
      "+---------------------------------------------------------------------------------------------+\n",
      "|cmd_line_tokens                                                                              |\n",
      "+---------------------------------------------------------------------------------------------+\n",
      "|[C, Windows, system32, svchost.exe, -k, LocalServiceNoNetwork, -p]                           |\n",
      "|[C, Windows, system32, oobe, setup.exe]                                                      |\n",
      "|[C, Windows, system32, svchost.exe, -k, LocalServiceNetworkRestricted, -p, -s, TimeBrokerSvc]|\n",
      "|[C, Windows, System32, Upfc.exe, /launchtype, boot, /cv, 09o3CnnAskG8AMTNUwkQhQ.0]           |\n",
      "|[C, Windows, System32, svchost.exe, -k, LocalServiceNetworkRestricted, -p, -s, EventLog]     |\n",
      "|[C, Windows, system32, svchost.exe, -k, LocalService, -p, -s, SstpSvc]                       |\n",
      "|[C, Windows, system32, svchost.exe, -k, netsvcs, -p, -s, LanmanServer]                       |\n",
      "|[C, Windows, system32, svchost.exe, -k, wsappx, -p, -s, AppXSvc]                             |\n",
      "|[C, Windows, system32, sppsvc.exe]                                                           |\n",
      "|[C, Windows, System32, svchost.exe, -k, netsvcs, -p, -s, Themes]                             |\n",
      "+---------------------------------------------------------------------------------------------+\n",
      "only showing top 10 rows\n",
      "\n"
     ]
    }
   ],
   "source": [
    "clean_df.select('cmd_line_tokens').sample(.10).show(10, False)"
   ]
  },
  {
   "cell_type": "markdown",
   "metadata": {},
   "source": [
    "## create freq and tfidf pipeline"
   ]
  },
  {
   "cell_type": "code",
   "execution_count": 9,
   "metadata": {},
   "outputs": [],
   "source": [
    "cv_pipeline = Pipeline(stages=[\n",
    "    feature.CountVectorizer(minTF=1, minDF=3, inputCol='cmd_line_tokens', outputCol='tf')\n",
    "]).fit(clean_df)"
   ]
  },
  {
   "cell_type": "code",
   "execution_count": 10,
   "metadata": {},
   "outputs": [
    {
     "name": "stdout",
     "output_type": "stream",
     "text": [
      "+--------------------------------------------------------------------------+\n",
      "|tf                                                                        |\n",
      "+--------------------------------------------------------------------------+\n",
      "|(5362,[0,15,26,49,50,89,455],[1.0,1.0,1.0,1.0,1.0,1.0,1.0])               |\n",
      "|(5362,[0,15,26,49,50,89,91,155,843],[1.0,1.0,1.0,1.0,1.0,1.0,1.0,1.0,1.0])|\n",
      "|(5362,[1420,4759],[1.0,1.0])                                              |\n",
      "|(5362,[0,15,26,1420,2407],[1.0,1.0,1.0,1.0,1.0])                          |\n",
      "|(5362,[0,15,31,49,50,89,91,140,685],[1.0,1.0,1.0,1.0,1.0,1.0,1.0,1.0,1.0])|\n",
      "|(5362,[0,15,31,49,50,89,91,145,829],[1.0,1.0,1.0,1.0,1.0,1.0,1.0,1.0,1.0])|\n",
      "|(5362,[0,15,26,49,50,89,91,140,828],[1.0,1.0,1.0,1.0,1.0,1.0,1.0,1.0,1.0])|\n",
      "|(5362,[0,15,31,579,652,654,722],[1.0,1.0,1.0,1.0,1.0,1.0,1.0])            |\n",
      "|(5362,[0,15,26,49,50,91,145,764],[1.0,1.0,1.0,1.0,1.0,1.0,1.0,1.0])       |\n",
      "|(5362,[0,15,31,49,50,89,91,140,820],[1.0,1.0,1.0,1.0,1.0,1.0,1.0,1.0,1.0])|\n",
      "|(5362,[0,15,26,49,50,89,91,155,837],[1.0,1.0,1.0,1.0,1.0,1.0,1.0,1.0,1.0])|\n",
      "|(5362,[0,15,26,49,50,89,91,109,272],[1.0,1.0,1.0,1.0,1.0,1.0,1.0,1.0,1.0])|\n",
      "|(5362,[0,15,26,49,50,89,91,109,839],[1.0,1.0,1.0,1.0,1.0,1.0,1.0,1.0,1.0])|\n",
      "|(5362,[0,15,26,49,50,89,91,155,818],[1.0,1.0,1.0,1.0,1.0,1.0,1.0,1.0,1.0])|\n",
      "|(5362,[0,15,26,49,50,89,91,145,854],[1.0,1.0,1.0,1.0,1.0,1.0,1.0,1.0,1.0])|\n",
      "|(5362,[0,15,31,49,50,89,91,109,826],[1.0,1.0,1.0,1.0,1.0,1.0,1.0,1.0,1.0])|\n",
      "|(5362,[0,15,206,208],[1.0,1.0,1.0,1.0])                                   |\n",
      "|(5362,[0,15,26,49,50,89,91,140,868],[1.0,1.0,1.0,1.0,1.0,1.0,1.0,1.0,1.0])|\n",
      "|(5362,[0,15,26,49,50,89,91,109,819],[1.0,1.0,1.0,1.0,1.0,1.0,1.0,1.0,1.0])|\n",
      "|(5362,[0,15,26,49,50,89,91,109,867],[1.0,1.0,1.0,1.0,1.0,1.0,1.0,1.0,1.0])|\n",
      "+--------------------------------------------------------------------------+\n",
      "only showing top 20 rows\n",
      "\n"
     ]
    }
   ],
   "source": [
    "cv_pipeline.transform(clean_df).select('tf').show(20,truncate=False)"
   ]
  },
  {
   "cell_type": "code",
   "execution_count": 11,
   "metadata": {},
   "outputs": [
    {
     "data": {
      "text/plain": [
       "5362"
      ]
     },
     "execution_count": 11,
     "metadata": {},
     "output_type": "execute_result"
    }
   ],
   "source": [
    "len(cv_pipeline.stages[0].vocabulary)"
   ]
  },
  {
   "cell_type": "code",
   "execution_count": 12,
   "metadata": {},
   "outputs": [],
   "source": [
    "idf_pipeline = Pipeline(stages=[\n",
    "    cv_pipeline, feature.IDF(inputCol='tf', outputCol='tfidf')\n",
    "]).fit(clean_df)"
   ]
  },
  {
   "cell_type": "code",
   "execution_count": 13,
   "metadata": {},
   "outputs": [],
   "source": [
    "tfidf_df = idf_pipeline.transform(clean_df)"
   ]
  },
  {
   "cell_type": "markdown",
   "metadata": {},
   "source": [
    "## create logistic regression model"
   ]
  },
  {
   "cell_type": "code",
   "execution_count": 14,
   "metadata": {},
   "outputs": [],
   "source": [
    "training_df, validation_df, testing_df = clean_df.randomSplit([0.6, 0.3, 0.1], seed=0)"
   ]
  },
  {
   "cell_type": "code",
   "execution_count": 15,
   "metadata": {},
   "outputs": [
    {
     "data": {
      "text/plain": [
       "[30843, 15310, 5190]"
      ]
     },
     "execution_count": 15,
     "metadata": {},
     "output_type": "execute_result"
    }
   ],
   "source": [
    "[training_df.count(), validation_df.count(), testing_df.count()]"
   ]
  },
  {
   "cell_type": "code",
   "execution_count": 16,
   "metadata": {},
   "outputs": [],
   "source": [
    "lr = LogisticRegression(featuresCol='tfidf', labelCol='class_label')"
   ]
  },
  {
   "cell_type": "code",
   "execution_count": 17,
   "metadata": {},
   "outputs": [],
   "source": [
    "lr_pipeline = Pipeline(stages=[\n",
    "    idf_pipeline, \n",
    "    lr\n",
    "]).fit(training_df)"
   ]
  },
  {
   "cell_type": "code",
   "execution_count": 18,
   "metadata": {},
   "outputs": [
    {
     "name": "stdout",
     "output_type": "stream",
     "text": [
      "+------------+\n",
      "|avg(correct)|\n",
      "+------------+\n",
      "|         1.0|\n",
      "+------------+\n",
      "\n"
     ]
    }
   ],
   "source": [
    "lr_pipeline.transform(validation_df).\\\n",
    "    select(F.expr('float(prediction = class_label)').alias('correct')).\\\n",
    "    select(F.avg('correct')).show()"
   ]
  },
  {
   "cell_type": "code",
   "execution_count": 19,
   "metadata": {},
   "outputs": [],
   "source": [
    "import pandas as pd\n",
    "vocabulary = idf_pipeline.stages[0].stages[0].vocabulary\n",
    "weights = lr_pipeline.stages[-1].coefficients.toArray()\n",
    "coeffs_df = pd.DataFrame({'token': vocabulary, 'weight': weights})"
   ]
  },
  {
   "cell_type": "markdown",
   "metadata": {},
   "source": [
    "## the positive class is 1 (malicious) so the positive weights indicate a feature that contributes positively to being classified as malicious"
   ]
  },
  {
   "cell_type": "code",
   "execution_count": 20,
   "metadata": {},
   "outputs": [
    {
     "data": {
      "text/html": [
       "<div>\n",
       "<style scoped>\n",
       "    .dataframe tbody tr th:only-of-type {\n",
       "        vertical-align: middle;\n",
       "    }\n",
       "\n",
       "    .dataframe tbody tr th {\n",
       "        vertical-align: top;\n",
       "    }\n",
       "\n",
       "    .dataframe thead th {\n",
       "        text-align: right;\n",
       "    }\n",
       "</style>\n",
       "<table border=\"1\" class=\"dataframe\">\n",
       "  <thead>\n",
       "    <tr style=\"text-align: right;\">\n",
       "      <th></th>\n",
       "      <th>token</th>\n",
       "      <th>weight</th>\n",
       "    </tr>\n",
       "  </thead>\n",
       "  <tbody>\n",
       "    <tr>\n",
       "      <th>271</th>\n",
       "      <td>/C</td>\n",
       "      <td>6.502964</td>\n",
       "    </tr>\n",
       "    <tr>\n",
       "      <th>641</th>\n",
       "      <td>wmic</td>\n",
       "      <td>3.980105</td>\n",
       "    </tr>\n",
       "    <tr>\n",
       "      <th>5104</th>\n",
       "      <td>calc</td>\n",
       "      <td>3.703205</td>\n",
       "    </tr>\n",
       "    <tr>\n",
       "      <th>144</th>\n",
       "      <td>-ExecutionPolicy</td>\n",
       "      <td>1.282716</td>\n",
       "    </tr>\n",
       "    <tr>\n",
       "      <th>148</th>\n",
       "      <td>Bypass</td>\n",
       "      <td>1.281894</td>\n",
       "    </tr>\n",
       "    <tr>\n",
       "      <th>147</th>\n",
       "      <td>-C</td>\n",
       "      <td>1.281894</td>\n",
       "    </tr>\n",
       "    <tr>\n",
       "      <th>2557</th>\n",
       "      <td>reg</td>\n",
       "      <td>1.023405</td>\n",
       "    </tr>\n",
       "    <tr>\n",
       "      <th>704</th>\n",
       "      <td>RegSvr32.sct</td>\n",
       "      <td>0.951700</td>\n",
       "    </tr>\n",
       "    <tr>\n",
       "      <th>702</th>\n",
       "      <td>/u</td>\n",
       "      <td>0.951700</td>\n",
       "    </tr>\n",
       "    <tr>\n",
       "      <th>688</th>\n",
       "      <td>scrobj.dll</td>\n",
       "      <td>0.951700</td>\n",
       "    </tr>\n",
       "    <tr>\n",
       "      <th>701</th>\n",
       "      <td>/i</td>\n",
       "      <td>0.951700</td>\n",
       "    </tr>\n",
       "    <tr>\n",
       "      <th>624</th>\n",
       "      <td>gpresult</td>\n",
       "      <td>0.841661</td>\n",
       "    </tr>\n",
       "    <tr>\n",
       "      <th>139</th>\n",
       "      <td>powershell.exe</td>\n",
       "      <td>0.790126</td>\n",
       "    </tr>\n",
       "    <tr>\n",
       "      <th>507</th>\n",
       "      <td>regsvr32.exe</td>\n",
       "      <td>0.697982</td>\n",
       "    </tr>\n",
       "    <tr>\n",
       "      <th>259</th>\n",
       "      <td>Select-Object</td>\n",
       "      <td>0.590040</td>\n",
       "    </tr>\n",
       "    <tr>\n",
       "      <th>301</th>\n",
       "      <td>$_.FullName</td>\n",
       "      <td>0.561043</td>\n",
       "    </tr>\n",
       "    <tr>\n",
       "      <th>303</th>\n",
       "      <td>foreach</td>\n",
       "      <td>0.561043</td>\n",
       "    </tr>\n",
       "    <tr>\n",
       "      <th>2627</th>\n",
       "      <td>Get-NetTCPConnection</td>\n",
       "      <td>0.540402</td>\n",
       "    </tr>\n",
       "    <tr>\n",
       "      <th>2396</th>\n",
       "      <td>nltest</td>\n",
       "      <td>0.532661</td>\n",
       "    </tr>\n",
       "    <tr>\n",
       "      <th>377</th>\n",
       "      <td>staged</td>\n",
       "      <td>0.530745</td>\n",
       "    </tr>\n",
       "  </tbody>\n",
       "</table>\n",
       "</div>"
      ],
      "text/plain": [
       "                     token    weight\n",
       "271                     /C  6.502964\n",
       "641                   wmic  3.980105\n",
       "5104                  calc  3.703205\n",
       "144       -ExecutionPolicy  1.282716\n",
       "148                 Bypass  1.281894\n",
       "147                     -C  1.281894\n",
       "2557                   reg  1.023405\n",
       "704           RegSvr32.sct  0.951700\n",
       "702                     /u  0.951700\n",
       "688             scrobj.dll  0.951700\n",
       "701                     /i  0.951700\n",
       "624               gpresult  0.841661\n",
       "139         powershell.exe  0.790126\n",
       "507           regsvr32.exe  0.697982\n",
       "259          Select-Object  0.590040\n",
       "301            $_.FullName  0.561043\n",
       "303                foreach  0.561043\n",
       "2627  Get-NetTCPConnection  0.540402\n",
       "2396                nltest  0.532661\n",
       "377                 staged  0.530745"
      ]
     },
     "execution_count": 20,
     "metadata": {},
     "output_type": "execute_result"
    }
   ],
   "source": [
    "coeffs_df.sort_values('weight', ascending=False).head(20)"
   ]
  },
  {
   "cell_type": "markdown",
   "metadata": {},
   "source": [
    "## example of malicious tokens"
   ]
  },
  {
   "cell_type": "code",
   "execution_count": 30,
   "metadata": {},
   "outputs": [
    {
     "name": "stdout",
     "output_type": "stream",
     "text": [
      "+--------------------------------------------------------------------------------------+\n",
      "|cmd_line_tokens                                                                       |\n",
      "+--------------------------------------------------------------------------------------+\n",
      "|[powershell.exe, -ExecutionPolicy, Bypass, -C, Remove-Item, -Path, staged, -recurse, ]|\n",
      "|[cmd.exe, /C, arp, -a, ]                                                              |\n",
      "|[cmd.exe, /C, net, share, ]                                                           |\n",
      "|[powershell.exe, -ExecutionPolicy, Bypass, -C, Remove-Item, -Path, staged, -recurse, ]|\n",
      "|[powershell.exe, -ExecutionPolicy, Bypass, -C, Remove-Item, -Path, staged, -recurse, ]|\n",
      "+--------------------------------------------------------------------------------------+\n",
      "only showing top 5 rows\n",
      "\n"
     ]
    }
   ],
   "source": [
    "training_df.select('cmd_line_tokens').filter('class_label == 1').sample(.20).show(5, truncate=False)"
   ]
  },
  {
   "cell_type": "markdown",
   "metadata": {},
   "source": [
    "## the negative class is 0 (benign) so the negative weights indicate a feature that contributes negatively to being classified as benign"
   ]
  },
  {
   "cell_type": "code",
   "execution_count": 21,
   "metadata": {},
   "outputs": [
    {
     "data": {
      "text/html": [
       "<div>\n",
       "<style scoped>\n",
       "    .dataframe tbody tr th:only-of-type {\n",
       "        vertical-align: middle;\n",
       "    }\n",
       "\n",
       "    .dataframe tbody tr th {\n",
       "        vertical-align: top;\n",
       "    }\n",
       "\n",
       "    .dataframe thead th {\n",
       "        text-align: right;\n",
       "    }\n",
       "</style>\n",
       "<table border=\"1\" class=\"dataframe\">\n",
       "  <thead>\n",
       "    <tr style=\"text-align: right;\">\n",
       "      <th></th>\n",
       "      <th>token</th>\n",
       "      <th>weight</th>\n",
       "    </tr>\n",
       "  </thead>\n",
       "  <tbody>\n",
       "    <tr>\n",
       "      <th>0</th>\n",
       "      <td>C</td>\n",
       "      <td>-56.615276</td>\n",
       "    </tr>\n",
       "    <tr>\n",
       "      <th>1</th>\n",
       "      <td></td>\n",
       "      <td>-7.581101</td>\n",
       "    </tr>\n",
       "    <tr>\n",
       "      <th>651</th>\n",
       "      <td>Wbem</td>\n",
       "      <td>-4.560307</td>\n",
       "    </tr>\n",
       "    <tr>\n",
       "      <th>645</th>\n",
       "      <td>WMIC.exe</td>\n",
       "      <td>-4.560307</td>\n",
       "    </tr>\n",
       "    <tr>\n",
       "      <th>15</th>\n",
       "      <td>Windows</td>\n",
       "      <td>-2.367351</td>\n",
       "    </tr>\n",
       "    <tr>\n",
       "      <th>123</th>\n",
       "      <td>taskhostw.exe</td>\n",
       "      <td>-2.011005</td>\n",
       "    </tr>\n",
       "    <tr>\n",
       "      <th>6</th>\n",
       "      <td>Files</td>\n",
       "      <td>-1.539467</td>\n",
       "    </tr>\n",
       "    <tr>\n",
       "      <th>7</th>\n",
       "      <td>Program</td>\n",
       "      <td>-1.539467</td>\n",
       "    </tr>\n",
       "    <tr>\n",
       "      <th>718</th>\n",
       "      <td>sihost.exe</td>\n",
       "      <td>-1.471196</td>\n",
       "    </tr>\n",
       "    <tr>\n",
       "      <th>329</th>\n",
       "      <td>whoami</td>\n",
       "      <td>-1.446494</td>\n",
       "    </tr>\n",
       "    <tr>\n",
       "      <th>2998</th>\n",
       "      <td>reg.exe</td>\n",
       "      <td>-1.442276</td>\n",
       "    </tr>\n",
       "    <tr>\n",
       "      <th>26</th>\n",
       "      <td>system32</td>\n",
       "      <td>-1.439866</td>\n",
       "    </tr>\n",
       "    <tr>\n",
       "      <th>8</th>\n",
       "      <td>x86</td>\n",
       "      <td>-1.412961</td>\n",
       "    </tr>\n",
       "    <tr>\n",
       "      <th>9</th>\n",
       "      <td>Application</td>\n",
       "      <td>-1.332775</td>\n",
       "    </tr>\n",
       "    <tr>\n",
       "      <th>10</th>\n",
       "      <td>chrome.exe</td>\n",
       "      <td>-1.330430</td>\n",
       "    </tr>\n",
       "    <tr>\n",
       "      <th>31</th>\n",
       "      <td>System32</td>\n",
       "      <td>-1.286969</td>\n",
       "    </tr>\n",
       "    <tr>\n",
       "      <th>2713</th>\n",
       "      <td>hostname</td>\n",
       "      <td>-1.273341</td>\n",
       "    </tr>\n",
       "    <tr>\n",
       "      <th>723</th>\n",
       "      <td>AppXDeploymentExtensions.OneCore.dll,ShellRefresh</td>\n",
       "      <td>-1.223533</td>\n",
       "    </tr>\n",
       "    <tr>\n",
       "      <th>4928</th>\n",
       "      <td>/RunFirstLogonAnim</td>\n",
       "      <td>-1.208536</td>\n",
       "    </tr>\n",
       "    <tr>\n",
       "      <th>3159</th>\n",
       "      <td>verclsid.exe</td>\n",
       "      <td>-1.195253</td>\n",
       "    </tr>\n",
       "  </tbody>\n",
       "</table>\n",
       "</div>"
      ],
      "text/plain": [
       "                                                  token     weight\n",
       "0                                                     C -56.615276\n",
       "1                                                        -7.581101\n",
       "651                                                Wbem  -4.560307\n",
       "645                                            WMIC.exe  -4.560307\n",
       "15                                              Windows  -2.367351\n",
       "123                                       taskhostw.exe  -2.011005\n",
       "6                                                 Files  -1.539467\n",
       "7                                               Program  -1.539467\n",
       "718                                          sihost.exe  -1.471196\n",
       "329                                              whoami  -1.446494\n",
       "2998                                            reg.exe  -1.442276\n",
       "26                                             system32  -1.439866\n",
       "8                                                   x86  -1.412961\n",
       "9                                           Application  -1.332775\n",
       "10                                           chrome.exe  -1.330430\n",
       "31                                             System32  -1.286969\n",
       "2713                                           hostname  -1.273341\n",
       "723   AppXDeploymentExtensions.OneCore.dll,ShellRefresh  -1.223533\n",
       "4928                                 /RunFirstLogonAnim  -1.208536\n",
       "3159                                       verclsid.exe  -1.195253"
      ]
     },
     "execution_count": 21,
     "metadata": {},
     "output_type": "execute_result"
    }
   ],
   "source": [
    "coeffs_df.sort_values('weight').head(20)"
   ]
  },
  {
   "cell_type": "markdown",
   "metadata": {},
   "source": [
    "## example of benign tokens"
   ]
  },
  {
   "cell_type": "code",
   "execution_count": 31,
   "metadata": {},
   "outputs": [
    {
     "name": "stdout",
     "output_type": "stream",
     "text": [
      "+--------------------------------------------------------------------------------------------------------------------------------------------+\n",
      "|cmd_line_tokens                                                                                                                             |\n",
      "+--------------------------------------------------------------------------------------------------------------------------------------------+\n",
      "|[C, Windows, servicing, TrustedInstaller.exe]                                                                                               |\n",
      "|[, C, ProgramData, Microsoft, Windows, Defender, platform, 4.18.1910.4-0, NisSrv.exe, ]                                                     |\n",
      "|[C, Windows, System32, RuntimeBroker.exe, -Embedding]                                                                                       |\n",
      "|[C, Windows, winsxs, amd64_microsoft-windows-servicingstack_31bf3856ad364e35_10.0.18362.411_none_5f53d2d858cf8961, TiWorker.exe, -Embedding]|\n",
      "|[C, Windows, winsxs, amd64_microsoft-windows-servicingstack_31bf3856ad364e35_10.0.18362.411_none_5f53d2d858cf8961, TiWorker.exe, -Embedding]|\n",
      "+--------------------------------------------------------------------------------------------------------------------------------------------+\n",
      "only showing top 5 rows\n",
      "\n"
     ]
    }
   ],
   "source": [
    "training_df.select('cmd_line_tokens').filter('class_label == 0').sample(.20).show(5, truncate=False)"
   ]
  },
  {
   "cell_type": "markdown",
   "metadata": {},
   "source": [
    "## create another model with elastic net regularization to control overfitting and mitigate noisy data"
   ]
  },
  {
   "cell_type": "code",
   "execution_count": 22,
   "metadata": {},
   "outputs": [],
   "source": [
    "en_lr = Pipeline(stages=[\n",
    "    idf_pipeline,\n",
    "    LogisticRegression(featuresCol='tfidf',labelCol='class_label',regParam=0.02,elasticNetParam=0.3)\n",
    "]).fit(training_df)"
   ]
  },
  {
   "cell_type": "code",
   "execution_count": 23,
   "metadata": {},
   "outputs": [],
   "source": [
    "validation_model = en_lr.transform(validation_df)"
   ]
  },
  {
   "cell_type": "code",
   "execution_count": 24,
   "metadata": {},
   "outputs": [
    {
     "name": "stdout",
     "output_type": "stream",
     "text": [
      "+------------------+\n",
      "|        prediction|\n",
      "+------------------+\n",
      "|0.9998693664271718|\n",
      "+------------------+\n",
      "\n"
     ]
    }
   ],
   "source": [
    "from pyspark.sql.functions import avg\n",
    "validation_model.selectExpr('avg(float(prediction = class_label)) as prediction').show()"
   ]
  },
  {
   "cell_type": "markdown",
   "metadata": {},
   "source": [
    "## re-examine the coefficients of the model to determine how well it learned the weights for the tokens"
   ]
  },
  {
   "cell_type": "code",
   "execution_count": 25,
   "metadata": {},
   "outputs": [],
   "source": [
    "coefs = en_lr.stages[-1].coefficients.toArray()\n",
    "word_coefs = pd.DataFrame({'token': cv_pipeline.stages[0].vocabulary, 'weights': coefs})"
   ]
  },
  {
   "cell_type": "markdown",
   "metadata": {},
   "source": [
    "+ malicious tokens"
   ]
  },
  {
   "cell_type": "code",
   "execution_count": 26,
   "metadata": {},
   "outputs": [
    {
     "data": {
      "text/html": [
       "<div>\n",
       "<style scoped>\n",
       "    .dataframe tbody tr th:only-of-type {\n",
       "        vertical-align: middle;\n",
       "    }\n",
       "\n",
       "    .dataframe tbody tr th {\n",
       "        vertical-align: top;\n",
       "    }\n",
       "\n",
       "    .dataframe thead th {\n",
       "        text-align: right;\n",
       "    }\n",
       "</style>\n",
       "<table border=\"1\" class=\"dataframe\">\n",
       "  <thead>\n",
       "    <tr style=\"text-align: right;\">\n",
       "      <th></th>\n",
       "      <th>token</th>\n",
       "      <th>weights</th>\n",
       "    </tr>\n",
       "  </thead>\n",
       "  <tbody>\n",
       "    <tr>\n",
       "      <th>271</th>\n",
       "      <td>/C</td>\n",
       "      <td>0.783473</td>\n",
       "    </tr>\n",
       "    <tr>\n",
       "      <th>243</th>\n",
       "      <td>cmd.exe</td>\n",
       "      <td>0.497236</td>\n",
       "    </tr>\n",
       "    <tr>\n",
       "      <th>144</th>\n",
       "      <td>-ExecutionPolicy</td>\n",
       "      <td>0.435198</td>\n",
       "    </tr>\n",
       "    <tr>\n",
       "      <th>147</th>\n",
       "      <td>-C</td>\n",
       "      <td>0.434920</td>\n",
       "    </tr>\n",
       "    <tr>\n",
       "      <th>148</th>\n",
       "      <td>Bypass</td>\n",
       "      <td>0.434920</td>\n",
       "    </tr>\n",
       "    <tr>\n",
       "      <th>139</th>\n",
       "      <td>powershell.exe</td>\n",
       "      <td>0.394196</td>\n",
       "    </tr>\n",
       "    <tr>\n",
       "      <th>704</th>\n",
       "      <td>RegSvr32.sct</td>\n",
       "      <td>0.251580</td>\n",
       "    </tr>\n",
       "    <tr>\n",
       "      <th>688</th>\n",
       "      <td>scrobj.dll</td>\n",
       "      <td>0.251580</td>\n",
       "    </tr>\n",
       "    <tr>\n",
       "      <th>702</th>\n",
       "      <td>/u</td>\n",
       "      <td>0.251580</td>\n",
       "    </tr>\n",
       "    <tr>\n",
       "      <th>701</th>\n",
       "      <td>/i</td>\n",
       "      <td>0.251580</td>\n",
       "    </tr>\n",
       "    <tr>\n",
       "      <th>950</th>\n",
       "      <td>Public</td>\n",
       "      <td>0.116527</td>\n",
       "    </tr>\n",
       "    <tr>\n",
       "      <th>908</th>\n",
       "      <td>http</td>\n",
       "      <td>0.116527</td>\n",
       "    </tr>\n",
       "    <tr>\n",
       "      <th>907</th>\n",
       "      <td>-v</td>\n",
       "      <td>0.116527</td>\n",
       "    </tr>\n",
       "    <tr>\n",
       "      <th>919</th>\n",
       "      <td>sandcat.exe</td>\n",
       "      <td>0.116527</td>\n",
       "    </tr>\n",
       "    <tr>\n",
       "      <th>929</th>\n",
       "      <td>//192.168.4.10</td>\n",
       "      <td>0.116527</td>\n",
       "    </tr>\n",
       "  </tbody>\n",
       "</table>\n",
       "</div>"
      ],
      "text/plain": [
       "                token   weights\n",
       "271                /C  0.783473\n",
       "243           cmd.exe  0.497236\n",
       "144  -ExecutionPolicy  0.435198\n",
       "147                -C  0.434920\n",
       "148            Bypass  0.434920\n",
       "139    powershell.exe  0.394196\n",
       "704      RegSvr32.sct  0.251580\n",
       "688        scrobj.dll  0.251580\n",
       "702                /u  0.251580\n",
       "701                /i  0.251580\n",
       "950            Public  0.116527\n",
       "908              http  0.116527\n",
       "907                -v  0.116527\n",
       "919       sandcat.exe  0.116527\n",
       "929    //192.168.4.10  0.116527"
      ]
     },
     "execution_count": 26,
     "metadata": {},
     "output_type": "execute_result"
    }
   ],
   "source": [
    "word_coefs.sort_values('weights', ascending=False).head(15)"
   ]
  },
  {
   "cell_type": "markdown",
   "metadata": {},
   "source": [
    "+ benign tokens"
   ]
  },
  {
   "cell_type": "code",
   "execution_count": 27,
   "metadata": {},
   "outputs": [
    {
     "data": {
      "text/html": [
       "<div>\n",
       "<style scoped>\n",
       "    .dataframe tbody tr th:only-of-type {\n",
       "        vertical-align: middle;\n",
       "    }\n",
       "\n",
       "    .dataframe tbody tr th {\n",
       "        vertical-align: top;\n",
       "    }\n",
       "\n",
       "    .dataframe thead th {\n",
       "        text-align: right;\n",
       "    }\n",
       "</style>\n",
       "<table border=\"1\" class=\"dataframe\">\n",
       "  <thead>\n",
       "    <tr style=\"text-align: right;\">\n",
       "      <th></th>\n",
       "      <th>token</th>\n",
       "      <th>weights</th>\n",
       "    </tr>\n",
       "  </thead>\n",
       "  <tbody>\n",
       "    <tr>\n",
       "      <th>0</th>\n",
       "      <td>C</td>\n",
       "      <td>0.0</td>\n",
       "    </tr>\n",
       "    <tr>\n",
       "      <th>3578</th>\n",
       "      <td>1568,2869842192297148915,8002914160209687559,1...</td>\n",
       "      <td>0.0</td>\n",
       "    </tr>\n",
       "    <tr>\n",
       "      <th>3577</th>\n",
       "      <td>1624,3163048634562658899,4908755355501109964,1...</td>\n",
       "      <td>0.0</td>\n",
       "    </tr>\n",
       "    <tr>\n",
       "      <th>3576</th>\n",
       "      <td>Microsoft.Pcd26229b#</td>\n",
       "      <td>0.0</td>\n",
       "    </tr>\n",
       "    <tr>\n",
       "      <th>3575</th>\n",
       "      <td>1532,12424944089969324879,5506418820526302287,...</td>\n",
       "      <td>0.0</td>\n",
       "    </tr>\n",
       "    <tr>\n",
       "      <th>3574</th>\n",
       "      <td>4fc95f0b13ec2127b5cd6cebbc9e3a31</td>\n",
       "      <td>0.0</td>\n",
       "    </tr>\n",
       "    <tr>\n",
       "      <th>3573</th>\n",
       "      <td>1552,16080360943918942232,14127310776218489240...</td>\n",
       "      <td>0.0</td>\n",
       "    </tr>\n",
       "    <tr>\n",
       "      <th>3572</th>\n",
       "      <td>270f73da430d947b2d1f419de547829d</td>\n",
       "      <td>0.0</td>\n",
       "    </tr>\n",
       "    <tr>\n",
       "      <th>3579</th>\n",
       "      <td>1572,945730016226139338,4365584540048621087,13...</td>\n",
       "      <td>0.0</td>\n",
       "    </tr>\n",
       "    <tr>\n",
       "      <th>3571</th>\n",
       "      <td>Microsoft.ConfigCI.Commands.ni.dll</td>\n",
       "      <td>0.0</td>\n",
       "    </tr>\n",
       "    <tr>\n",
       "      <th>3569</th>\n",
       "      <td>1684</td>\n",
       "      <td>0.0</td>\n",
       "    </tr>\n",
       "    <tr>\n",
       "      <th>3568</th>\n",
       "      <td>1548,15987639688250812505,427745152857559160,1...</td>\n",
       "      <td>0.0</td>\n",
       "    </tr>\n",
       "    <tr>\n",
       "      <th>3567</th>\n",
       "      <td>1580,2983102761478106906,18403661963648410334,...</td>\n",
       "      <td>0.0</td>\n",
       "    </tr>\n",
       "    <tr>\n",
       "      <th>3566</th>\n",
       "      <td>1524,1679306841849904215,8652211141286649668,1...</td>\n",
       "      <td>0.0</td>\n",
       "    </tr>\n",
       "    <tr>\n",
       "      <th>3565</th>\n",
       "      <td>1588,1025739610138113714,7957823136248872634,1...</td>\n",
       "      <td>0.0</td>\n",
       "    </tr>\n",
       "  </tbody>\n",
       "</table>\n",
       "</div>"
      ],
      "text/plain": [
       "                                                  token  weights\n",
       "0                                                     C      0.0\n",
       "3578  1568,2869842192297148915,8002914160209687559,1...      0.0\n",
       "3577  1624,3163048634562658899,4908755355501109964,1...      0.0\n",
       "3576                               Microsoft.Pcd26229b#      0.0\n",
       "3575  1532,12424944089969324879,5506418820526302287,...      0.0\n",
       "3574                   4fc95f0b13ec2127b5cd6cebbc9e3a31      0.0\n",
       "3573  1552,16080360943918942232,14127310776218489240...      0.0\n",
       "3572                   270f73da430d947b2d1f419de547829d      0.0\n",
       "3579  1572,945730016226139338,4365584540048621087,13...      0.0\n",
       "3571                 Microsoft.ConfigCI.Commands.ni.dll      0.0\n",
       "3569                                               1684      0.0\n",
       "3568  1548,15987639688250812505,427745152857559160,1...      0.0\n",
       "3567  1580,2983102761478106906,18403661963648410334,...      0.0\n",
       "3566  1524,1679306841849904215,8652211141286649668,1...      0.0\n",
       "3565  1588,1025739610138113714,7957823136248872634,1...      0.0"
      ]
     },
     "execution_count": 27,
     "metadata": {},
     "output_type": "execute_result"
    }
   ],
   "source": [
    "word_coefs.sort_values('weights', ascending=True).head(15)"
   ]
  },
  {
   "cell_type": "markdown",
   "metadata": {},
   "source": [
    "+ The 'C' is the directory path for all programs, not very informative here and should probably be removed \n",
    "+ The random numbers look to be from Microsoft Edge browser url srings, and other seemingly benign system processes--however hackers use similar encoding strategies for malicious code execution; therefore this feature shouldn't be ignored"
   ]
  }
 ],
 "metadata": {
  "kernelspec": {
   "display_name": "Python 3",
   "language": "python",
   "name": "python3"
  },
  "language_info": {
   "codemirror_mode": {
    "name": "ipython",
    "version": 3
   },
   "file_extension": ".py",
   "mimetype": "text/x-python",
   "name": "python",
   "nbconvert_exporter": "python",
   "pygments_lexer": "ipython3",
   "version": "3.7.3"
  }
 },
 "nbformat": 4,
 "nbformat_minor": 4
}
