{
 "cells": [
  {
   "cell_type": "code",
   "execution_count": 1,
   "metadata": {},
   "outputs": [],
   "source": [
    "from pyspark.conf import SparkConf\n",
    "from pyspark.sql import SparkSession\n",
    "import pyspark.sql.functions as F\n",
    "import pyspark.sql.types as T\n",
    "import pandas as pd\n",
    "import matplotlib.pyplot as plt\n",
    "from pyspark.ml import feature, evaluation, Pipeline\n",
    "from pyspark.ml.classification import LogisticRegression\n",
    "from pyspark.ml.evaluation import BinaryClassificationEvaluator\n",
    "from pyspark.ml.tuning import CrossValidator, ParamGridBuilder"
   ]
  },
  {
   "cell_type": "code",
   "execution_count": 2,
   "metadata": {},
   "outputs": [
    {
     "data": {
      "text/plain": [
       "<pyspark.conf.SparkConf at 0x7f895ba4f780>"
      ]
     },
     "execution_count": 2,
     "metadata": {},
     "output_type": "execute_result"
    }
   ],
   "source": [
    "conf = (SparkConf()\n",
    "            .setAppName('data_explore')\n",
    "            .setMaster('spark://spark-master:7077')\n",
    "       )\n",
    "conf.set(\"spark.executor.memory\", \"6g\")\n",
    "conf.set(\"spark.driver.maxResultSize\", \"0\")\n",
    "conf.set(\"spark.sql.shuffle.partitions\", \"100\")\n",
    "# conf.set(\"spark.default.parallelism\", \"3\")\n",
    "conf.set(\"spark.driver.memory\", \"3g\") "
   ]
  },
  {
   "cell_type": "markdown",
   "metadata": {},
   "source": [
    "# TODO\n",
    "+ validation/model tuning\n",
    "+ cross validation\n",
    "+ test final model against this dataset: https://github.com/hunters-forge/mordor\n",
    "\n",
    "---\n"
   ]
  },
  {
   "cell_type": "code",
   "execution_count": 3,
   "metadata": {},
   "outputs": [],
   "source": [
    "spark = SparkSession.builder.config(conf=conf).getOrCreate()"
   ]
  },
  {
   "cell_type": "code",
   "execution_count": 4,
   "metadata": {},
   "outputs": [
    {
     "data": {
      "text/plain": [
       "[('spark.executor.id', 'driver'),\n",
       " ('spark.sql.shuffle.partitions', '100'),\n",
       " ('spark.executor.memory', '6g'),\n",
       " ('spark.driver.host', '7b97f6eeabc6'),\n",
       " ('spark.driver.memory', '3g'),\n",
       " ('spark.app.id', 'app-20191109045930-0030'),\n",
       " ('spark.rdd.compress', 'True'),\n",
       " ('spark.master', 'spark://spark-master:7077'),\n",
       " ('spark.serializer.objectStreamReset', '100'),\n",
       " ('spark.driver.port', '45013'),\n",
       " ('spark.driver.maxResultSize', '0'),\n",
       " ('spark.submit.deployMode', 'client'),\n",
       " ('spark.ui.showConsoleProgress', 'true'),\n",
       " ('spark.app.name', 'data_explore')]"
      ]
     },
     "execution_count": 4,
     "metadata": {},
     "output_type": "execute_result"
    }
   ],
   "source": [
    "spark.sparkContext.getConf().getAll()"
   ]
  },
  {
   "cell_type": "code",
   "execution_count": 15,
   "metadata": {},
   "outputs": [
    {
     "data": {
      "text/plain": [
       "DataFrame[timestamp: string, hostname: string, kernel: string, host_platform: string, process_name: string, parent_process: string, login_id: string, event_id: int, command_line: string, class_label: int]"
      ]
     },
     "execution_count": 15,
     "metadata": {},
     "output_type": "execute_result"
    }
   ],
   "source": [
    "df = (spark.read.format('csv')\n",
    "      .option('inferSchema', 'true')\n",
    "      .option('header', 'true')\n",
    "      .option('escape', '\"')\n",
    "#       .option('schema', T.StringType())\n",
    "      .load('hdfs://namenode:9000/data/labeled_process_logs.csv') \n",
    "      .dropna() # orginal dataset had 52,025 rows, this operation drops 682 rows\n",
    "     )\n",
    "df.cache()"
   ]
  },
  {
   "cell_type": "markdown",
   "metadata": {},
   "source": [
    "# Data Cleaning and Engineering\n",
    "\n",
    "---\n"
   ]
  },
  {
   "cell_type": "markdown",
   "metadata": {},
   "source": [
    "## the target labels are unbalanced, and will result in a model with high bias that won't generalize well.  the minority class (1) will be resampled"
   ]
  },
  {
   "cell_type": "code",
   "execution_count": 6,
   "metadata": {},
   "outputs": [
    {
     "data": {
      "text/plain": [
       "<matplotlib.axes._subplots.AxesSubplot at 0x7f895b8a0a20>"
      ]
     },
     "execution_count": 6,
     "metadata": {},
     "output_type": "execute_result"
    },
    {
     "data": {
      "image/png": "[encoded data removed]",
      "text/plain": [
       "<Figure size 432x288 with 1 Axes>"
      ]
     },
     "metadata": {
      "needs_background": "light"
     },
     "output_type": "display_data"
    }
   ],
   "source": [
    "df.groupBy('class_label').count().toPandas().plot.bar(x='class_label', y='count')"
   ]
  },
  {
   "cell_type": "code",
   "execution_count": 7,
   "metadata": {},
   "outputs": [
    {
     "name": "stdout",
     "output_type": "stream",
     "text": [
      "+-----------+-----+\n",
      "|class_label|count|\n",
      "+-----------+-----+\n",
      "|          1|  452|\n",
      "|          0|50891|\n",
      "+-----------+-----+\n",
      "\n"
     ]
    }
   ],
   "source": [
    "df.groupBy('class_label').count().show()"
   ]
  },
  {
   "cell_type": "code",
   "execution_count": 8,
   "metadata": {},
   "outputs": [],
   "source": [
    "bootstrapped_1_rdd = spark.sparkContext.union([df.filter('class_label == 1').sample(withReplacement=True, fraction=.1, seed=0).rdd\n",
    "                  for x in range(1000)])\n",
    "bootstrapped_1_rdd.persist()\n",
    "bootstrapped_1_df = spark.createDataFrame(bootstrapped_1_rdd)\n",
    "bootstrapped_1_df.cache()"
   ]
  },
  {
   "cell_type": "code",
   "execution_count": 16,
   "metadata": {},
   "outputs": [],
   "source": [
    "combined_df = spark.createDataFrame(spark.sparkContext.union([bootstrapped_1_df.rdd, df.rdd]))"
   ]
  },
  {
   "cell_type": "code",
   "execution_count": 17,
   "metadata": {},
   "outputs": [
    {
     "data": {
      "text/plain": [
       "<matplotlib.axes._subplots.AxesSubplot at 0x7f8959c12e10>"
      ]
     },
     "execution_count": 17,
     "metadata": {},
     "output_type": "execute_result"
    },
    {
     "data": {
      "image/png": "[encoded data removed]",
      "text/plain": [
       "<Figure size 432x288 with 1 Axes>"
      ]
     },
     "metadata": {
      "needs_background": "light"
     },
     "output_type": "display_data"
    }
   ],
   "source": [
    "combined_df.groupBy('class_label').count().toPandas().plot.bar(x='class_label', y='count')"
   ]
  },
  {
   "cell_type": "markdown",
   "metadata": {},
   "source": [
    "### Clean process,path fields and create command line tokens"
   ]
  },
  {
   "cell_type": "code",
   "execution_count": 18,
   "metadata": {},
   "outputs": [],
   "source": [
    "# TODO: consider converting this to a UDF\n",
    "\n",
    "from pyspark.sql.functions import regexp_extract, regexp_replace, col, count, split, size, to_date\n",
    "combined_df = combined_df.select(\n",
    "    '*',\n",
    "    regexp_extract(col('process_name'), r\"(\\w?:?.*\\\\?\\w+\\s?\\w+\\\\)\", 0).alias('process_path'),\n",
    "    split(col('command_line'), '\\s+(?=[-/]+)').alias('cmd_line_split')\n",
    ").withColumn(\n",
    "    'class_label', (col('class_label').cast('int'))\n",
    ").withColumn(\n",
    "    'trusted_path', (col('process_path').like('%C:\\Program Files%') | col('process_path').like('%C:\\Windows%') | col('process_path').like('%C:\\PROGRA~2%') |col('process_path').like('%Program Files (x86)%')).cast('int')\n",
    ").withColumn(\n",
    "    '_timestamp', F.to_timestamp(col('timestamp'))\n",
    ").withColumn(\n",
    "    'process_name', regexp_extract(col('process_name'), r'(\\w+.?\\w+$)', 0)\n",
    ").withColumn(\n",
    "    'parent_process', regexp_extract(col('parent_process'), r'(\\w+.?\\w+$)', 0)\n",
    ").withColumn(\n",
    "    'command_line', regexp_replace(col('command_line'), r'[:\\\\\"\\?]',\" \")  # directory punct\n",
    ").withColumn(\n",
    "    'command_line', regexp_replace(col('command_line'), r'--field-trial-handle=.*\\d+',\"\")   # chrome data\n",
    ").withColumn(\n",
    "    'command_line', regexp_replace(col('command_line'), r'\\/\\/raw.*\\.com(\\/\\w+)*.*\\/',\"\") # github url\n",
    ").withColumn(\n",
    "    'command_line', regexp_replace(col('command_line'), r\"\\||\\s*\\\"\\s*\\|\\\"|-\\s*\\d{1}\\s*|\\'\",\"\")  # | \" 1 ' , \n",
    ").withColumn(\n",
    "    'command_line', regexp_replace(col('command_line'), r':\\/\\/(\\d+\\.?)+:\\d+',\"\")  # ip \n",
    ").withColumn(\n",
    "    'command_line', regexp_replace(col('command_line'), r'\\b\\d+\\b',\"\")  # lone numbers\n",
    ").withColumn(\n",
    "    'command_line', regexp_replace(col('command_line'), r'\\{.*\\}',\"\")  # {edfc6dbe, 9c3, 3ed, 21a1affb5fd}\n",
    ").withColumn(\n",
    "    'command_line', regexp_replace(col('command_line'), r'[=/;\\(\\),_]',\"\") # random punctuation\n",
    ").withColumn(\n",
    "    'cmd_line_tokens', split(col('command_line'), '\\s+')\n",
    ")"
   ]
  },
  {
   "cell_type": "markdown",
   "metadata": {},
   "source": [
    "### Cleaned command line tokens"
   ]
  },
  {
   "cell_type": "code",
   "execution_count": 19,
   "metadata": {},
   "outputs": [],
   "source": [
    "@F.udf(returnType=T.ArrayType(T.StringType()))\n",
    "def clean_array(l):\n",
    "    arr = [str(x).lower() for x in l if x != 'C' and x != \"\"]\n",
    "    return arr"
   ]
  },
  {
   "cell_type": "code",
   "execution_count": 20,
   "metadata": {},
   "outputs": [],
   "source": [
    "combined_df = combined_df.withColumn('cmd_line_tokens', clean_array(col('cmd_line_tokens')))"
   ]
  },
  {
   "cell_type": "code",
   "execution_count": 21,
   "metadata": {},
   "outputs": [
    {
     "name": "stdout",
     "output_type": "stream",
     "text": [
      "+------------------------------------------------------------------------------------------------------------------------------------------------------------------------------------------------------------------------+\n",
      "|cmd_line_tokens                                                                                                                                                                                                         |\n",
      "+------------------------------------------------------------------------------------------------------------------------------------------------------------------------------------------------------------------------+\n",
      "|[powershell.exe, -executionpolicy, bypass, -c, $exe, get-itemproperty, -path, hklm, system, currentcontrolset, services, walletservice, .imagepath.split[]$path, resolve-path, $exe.pathif, test-path, $path, +, .saved]|\n",
      "|[powershell.exe, -executionpolicy, bypass, -c, gpresult, r]                                                                                                                                                             |\n",
      "|[windows, system32, regsvr32.exe, s, u, i, https, regsvr32.sct, scrobj.dll]                                                                                                                                             |\n",
      "|[powershell.exe, -executionpolicy, bypass, -c, get-childitem, users, -recurse, -include, *.txt, foreach, select-object, -first]                                                                                         |\n",
      "|[powershell.exe, -executionpolicy, bypass, -c, get-childitem, users, -recurse, -include, *.yml, foreach, select-object, -first]                                                                                         |\n",
      "|[windows, system32, regsvr32.exe, s, u, i, https, regsvr32.sct, scrobj.dll]                                                                                                                                             |\n",
      "|[powershell.exe, -executionpolicy, bypass, -c, get-wmiobject, -class, win32useraccount]                                                                                                                                 |\n",
      "|[cmd.exe, whoami]                                                                                                                                                                                                       |\n",
      "|[powershell.exe, -executionpolicy, bypass, -c, get-childitem, users, -recurse, -include, *.yml, foreach, select-object, -first]                                                                                         |\n",
      "|[powershell.exe, -executionpolicy, bypass, -c, remove-item, -path, staged, -recurse]                                                                                                                                    |\n",
      "|[cmd.exe, net, share]                                                                                                                                                                                                   |\n",
      "|[powershell.exe, -executionpolicy, bypass, -c, gpresult, r]                                                                                                                                                             |\n",
      "|[cmd.exe, arp, -a]                                                                                                                                                                                                      |\n",
      "|[powershell.exe, -executionpolicy, bypass, -c, get-wmiobject, -class, win32useraccount]                                                                                                                                 |\n",
      "|[powershell.exe, -executionpolicy, bypass, -c, wmic, namespace, root, securitycenter2, path, antivirusproduct, get, value]                                                                                              |\n",
      "|[cmd.exe, net, share]                                                                                                                                                                                                   |\n",
      "|[powershell.exe, -executionpolicy, bypass, -c, gpresult, r]                                                                                                                                                             |\n",
      "|[powershell.exe, -executionpolicy, bypass, -c, new-item, -path, ., -name, staged, -itemtype, directory, -force, foreach, select-object]                                                                                 |\n",
      "|[powershell.exe, -executionpolicy, bypass, -c, get-wmiobject, -class, win32useraccount]                                                                                                                                 |\n",
      "|[powershell.exe, -executionpolicy, bypass, -c, get-childitem, users, -recurse, -include, *.yml, foreach, select-object, -first]                                                                                         |\n",
      "+------------------------------------------------------------------------------------------------------------------------------------------------------------------------------------------------------------------------+\n",
      "only showing top 20 rows\n",
      "\n"
     ]
    }
   ],
   "source": [
    "combined_df.select('cmd_line_tokens').sample(.10).show(20, False)"
   ]
  },
  {
   "cell_type": "markdown",
   "metadata": {},
   "source": [
    "### Create train, validation, test split"
   ]
  },
  {
   "cell_type": "code",
   "execution_count": 22,
   "metadata": {},
   "outputs": [],
   "source": [
    "training_df, validation_df, testing_df = combined_df.select('cmd_line_tokens', 'class_label').randomSplit([0.6, 0.3, 0.1], seed=0)"
   ]
  },
  {
   "cell_type": "code",
   "execution_count": 23,
   "metadata": {},
   "outputs": [
    {
     "data": {
      "text/plain": [
       "[58973, 29614, 9756]"
      ]
     },
     "execution_count": 23,
     "metadata": {},
     "output_type": "execute_result"
    }
   ],
   "source": [
    "[training_df.count(), validation_df.count(), testing_df.count()]"
   ]
  },
  {
   "cell_type": "markdown",
   "metadata": {},
   "source": [
    "### Create freq and tfidf pipeline and fit to training data"
   ]
  },
  {
   "cell_type": "code",
   "execution_count": 24,
   "metadata": {},
   "outputs": [],
   "source": [
    "cv_pipeline = Pipeline(stages=[\n",
    "    feature.CountVectorizer(minTF=1, minDF=3, inputCol='cmd_line_tokens', outputCol='tf')\n",
    "]).fit(training_df)"
   ]
  },
  {
   "cell_type": "code",
   "execution_count": 25,
   "metadata": {},
   "outputs": [
    {
     "name": "stdout",
     "output_type": "stream",
     "text": [
      "+----------------------------------------------------------------------------------------------------------------------------------------------+\n",
      "|tf                                                                                                                                            |\n",
      "+----------------------------------------------------------------------------------------------------------------------------------------------+\n",
      "|(1087,[2,6,7,10,23,38,57,59,60,61,62,63,64,65,66,67,68,106,107],[1.0,1.0,1.0,1.0,1.0,1.0,1.0,1.0,1.0,1.0,1.0,1.0,1.0,1.0,1.0,1.0,1.0,1.0,1.0])|\n",
      "|(1087,[14,36],[1.0,1.0])                                                                                                                      |\n",
      "|(1087,[2,6,7,10,28,29],[1.0,1.0,1.0,1.0,1.0,1.0])                                                                                             |\n",
      "|(1087,[11,12,27,40,42,43,44,45,46],[1.0,1.0,1.0,1.0,1.0,1.0,1.0,1.0,1.0])                                                                     |\n",
      "|(1087,[11,12,27,40,42,43,44,45,46],[1.0,1.0,1.0,1.0,1.0,1.0,1.0,1.0,1.0])                                                                     |\n",
      "|(1087,[11,12,27,40,42,43,44,45,46],[1.0,1.0,1.0,1.0,1.0,1.0,1.0,1.0,1.0])                                                                     |\n",
      "|(1087,[11,12,27,40,42,43,44,45,46],[1.0,1.0,1.0,1.0,1.0,1.0,1.0,1.0,1.0])                                                                     |\n",
      "|(1087,[14,36],[1.0,1.0])                                                                                                                      |\n",
      "|(1087,[2,6,7,10,32,33,37],[1.0,1.0,1.0,1.0,1.0,1.0,1.0])                                                                                      |\n",
      "|(1087,[14,36],[1.0,1.0])                                                                                                                      |\n",
      "|(1087,[2,6,7,10,28,29],[1.0,1.0,1.0,1.0,1.0,1.0])                                                                                             |\n",
      "|(1087,[14,36],[1.0,1.0])                                                                                                                      |\n",
      "|(1087,[2,6,7,10,13,16,17,22,24,25,26,34],[1.0,1.0,1.0,1.0,1.0,1.0,1.0,1.0,1.0,1.0,1.0,1.0])                                                   |\n",
      "|(1087,[2,6,7,10,13,16,17,22,24,25,26,34],[1.0,1.0,1.0,1.0,1.0,1.0,1.0,1.0,1.0,1.0,1.0,1.0])                                                   |\n",
      "|(1087,[2,6,7,10,32,33,37],[1.0,1.0,1.0,1.0,1.0,1.0,1.0])                                                                                      |\n",
      "|(1087,[2,6,7,10,28,29],[1.0,1.0,1.0,1.0,1.0,1.0])                                                                                             |\n",
      "|(1087,[2,6,7,10,121,123,124,125,126,127,128,140],[1.0,1.0,1.0,1.0,1.0,1.0,1.0,1.0,1.0,1.0,1.0,1.0])                                           |\n",
      "|(1087,[2,6,7,10,28,29],[1.0,1.0,1.0,1.0,1.0,1.0])                                                                                             |\n",
      "|(1087,[14,31,35],[1.0,1.0,1.0])                                                                                                               |\n",
      "|(1087,[2,6,7,10,141,142,144],[1.0,1.0,1.0,1.0,1.0,1.0,1.0])                                                                                   |\n",
      "+----------------------------------------------------------------------------------------------------------------------------------------------+\n",
      "only showing top 20 rows\n",
      "\n"
     ]
    }
   ],
   "source": [
    "cv_pipeline.transform(combined_df).select('tf').show(20,truncate=False)"
   ]
  },
  {
   "cell_type": "code",
   "execution_count": 26,
   "metadata": {},
   "outputs": [
    {
     "data": {
      "text/plain": [
       "1087"
      ]
     },
     "execution_count": 26,
     "metadata": {},
     "output_type": "execute_result"
    }
   ],
   "source": [
    "len(cv_pipeline.stages[0].vocabulary)"
   ]
  },
  {
   "cell_type": "code",
   "execution_count": 27,
   "metadata": {},
   "outputs": [],
   "source": [
    "idf_pipeline = Pipeline(stages=[\n",
    "    cv_pipeline, feature.IDF(inputCol='tf', outputCol='tfidf')\n",
    "]).fit(training_df)"
   ]
  },
  {
   "cell_type": "markdown",
   "metadata": {},
   "source": [
    "# Modeling\n",
    "---"
   ]
  },
  {
   "cell_type": "markdown",
   "metadata": {},
   "source": [
    "### create logistic regression model"
   ]
  },
  {
   "cell_type": "code",
   "execution_count": 28,
   "metadata": {},
   "outputs": [],
   "source": [
    "lr = LogisticRegression(featuresCol='tfidf', labelCol='class_label')"
   ]
  },
  {
   "cell_type": "code",
   "execution_count": null,
   "metadata": {},
   "outputs": [],
   "source": [
    "lr_pipeline = Pipeline(stages=[\n",
    "    idf_pipeline, \n",
    "    lr\n",
    "]).fit(training_df)"
   ]
  },
  {
   "cell_type": "code",
   "execution_count": null,
   "metadata": {},
   "outputs": [],
   "source": [
    "lr_pipeline.transform(validation_df).\\\n",
    "    select(F.expr('float(prediction = class_label)').alias('correct')).\\\n",
    "    select(F.avg('correct')).show()"
   ]
  },
  {
   "cell_type": "code",
   "execution_count": null,
   "metadata": {},
   "outputs": [],
   "source": [
    "import pandas as pd\n",
    "vocabulary = idf_pipeline.stages[0].stages[0].vocabulary\n",
    "weights = lr_pipeline.stages[-1].coefficients.toArray()\n",
    "coeffs_df = pd.DataFrame({'token': vocabulary, 'weight': weights})"
   ]
  },
  {
   "cell_type": "markdown",
   "metadata": {},
   "source": [
    "### Inference"
   ]
  },
  {
   "cell_type": "code",
   "execution_count": null,
   "metadata": {},
   "outputs": [],
   "source": [
    "validation_model = en_lr.transform(validation_df)"
   ]
  },
  {
   "cell_type": "markdown",
   "metadata": {},
   "source": [
    "### The positive class is 1 (malicious) so the positive weights indicate a feature that contributes positively to being classified as malicious"
   ]
  },
  {
   "cell_type": "code",
   "execution_count": null,
   "metadata": {},
   "outputs": [],
   "source": [
    "coeffs_df.sort_values('weight', ascending=False).head(20)"
   ]
  },
  {
   "cell_type": "markdown",
   "metadata": {},
   "source": [
    "### Example of malicious tokens"
   ]
  },
  {
   "cell_type": "code",
   "execution_count": null,
   "metadata": {},
   "outputs": [],
   "source": [
    "training_df.select('cmd_line_tokens').filter('class_label == 1').sample(.20).show(15, truncate=False)"
   ]
  },
  {
   "cell_type": "markdown",
   "metadata": {},
   "source": [
    "### The negative class is 0 (benign) so the negative weights indicate a feature that contributes negatively to being classified as benign"
   ]
  },
  {
   "cell_type": "code",
   "execution_count": null,
   "metadata": {},
   "outputs": [],
   "source": [
    "coeffs_df.sort_values('weight').head(20)"
   ]
  },
  {
   "cell_type": "markdown",
   "metadata": {},
   "source": [
    "### Example of benign tokens"
   ]
  },
  {
   "cell_type": "code",
   "execution_count": null,
   "metadata": {},
   "outputs": [],
   "source": [
    "training_df.select('cmd_line_tokens').filter('class_label == 0').sample(.20).show(5, truncate=False)"
   ]
  },
  {
   "cell_type": "markdown",
   "metadata": {},
   "source": [
    "### Create another model with elastic net regularization to control overfitting and mitigate noisy data\n",
    "+ will grid search over these regParam and elasticNetParam parameters during validation"
   ]
  },
  {
   "cell_type": "code",
   "execution_count": null,
   "metadata": {},
   "outputs": [],
   "source": [
    "en_lr = Pipeline(stages=[\n",
    "    idf_pipeline,\n",
    "    LogisticRegression(featuresCol='tfidf',labelCol='class_label',regParam=0.02,elasticNetParam=0.3)\n",
    "]).fit(training_df)"
   ]
  },
  {
   "cell_type": "code",
   "execution_count": null,
   "metadata": {},
   "outputs": [],
   "source": [
    "from pyspark.sql.functions import avg\n",
    "validation_model.selectExpr('avg(float(prediction = class_label)) as prediction').show()"
   ]
  },
  {
   "cell_type": "markdown",
   "metadata": {},
   "source": [
    "### Re-examine the coefficients of the model to determine how well it learned the weights for the tokens"
   ]
  },
  {
   "cell_type": "code",
   "execution_count": null,
   "metadata": {},
   "outputs": [],
   "source": [
    "coefs = en_lr.stages[-1].coefficients.toArray()\n",
    "word_coefs = pd.DataFrame({'token': cv_pipeline.stages[0].vocabulary, 'weights': coefs})"
   ]
  },
  {
   "cell_type": "markdown",
   "metadata": {},
   "source": [
    "+ malicious tokens"
   ]
  },
  {
   "cell_type": "code",
   "execution_count": null,
   "metadata": {},
   "outputs": [],
   "source": [
    "word_coefs.sort_values('weights', ascending=False).head(15)"
   ]
  },
  {
   "cell_type": "markdown",
   "metadata": {},
   "source": [
    "+ benign tokens"
   ]
  },
  {
   "cell_type": "code",
   "execution_count": null,
   "metadata": {},
   "outputs": [],
   "source": [
    "word_coefs.sort_values('weights', ascending=True).head(10)"
   ]
  },
  {
   "cell_type": "markdown",
   "metadata": {},
   "source": [
    "# Model Tuning\n",
    "+ Perform grid-search over TF-IDF and regularization parameters\n",
    "---"
   ]
  },
  {
   "cell_type": "code",
   "execution_count": null,
   "metadata": {},
   "outputs": [],
   "source": [
    "paramGrid = (ParamGridBuilder()\n",
    "                 .baseOn({en_lr.labelCol: 'class_label'})\n",
    "                 .baseOn({en_lr.predictionCol, 'prediction'}) \n",
    "                 .addGrid(en_lr.regParam, [0., 0.01, 0.02])\n",
    "                 .addGrid(en_lr.elasticNetParam, [0., 0.2, 0.4])\n",
    "                 .build()\n",
    "            )"
   ]
  },
  {
   "cell_type": "markdown",
   "metadata": {},
   "source": [
    "+ Loop over each parameter mapping in paramGrid and fit model"
   ]
  },
  {
   "cell_type": "code",
   "execution_count": null,
   "metadata": {},
   "outputs": [],
   "source": [
    "models = []\n",
    "for g in range(len(paramGrid)):\n",
    "    print(\"Fitting model {}\".format(g))\n",
    "    _model = en_lr.fit(validation_df, paramGrid[g])\n",
    "    models.append(_model)"
   ]
  },
  {
   "cell_type": "markdown",
   "metadata": {},
   "source": [
    "+ Get the accuracy of each model"
   ]
  },
  {
   "cell_type": "markdown",
   "metadata": {},
   "source": [
    "# Cross validation \n",
    "+ test generalization performance on test dataset\n",
    "\n",
    "---"
   ]
  },
  {
   "cell_type": "markdown",
   "metadata": {},
   "source": [
    "### Write LR intecept, coefficients, and CV vocabulary to disk"
   ]
  },
  {
   "cell_type": "code",
   "execution_count": null,
   "metadata": {},
   "outputs": [],
   "source": [
    "en_lr.stages[1].intercept"
   ]
  },
  {
   "cell_type": "code",
   "execution_count": null,
   "metadata": {},
   "outputs": [],
   "source": [
    "import pickle\n",
    "\n",
    "with open('coefs_array.pkl', 'wb') as f:\n",
    "    pickle.dump(coefs, f)\n",
    "with open('intercept.pkl', 'wb') as f:\n",
    "    pickle.dump(en_lr.stages[1].intercept, f)\n",
    "with open('cv_vocabulary.pkl', 'wb') as f:\n",
    "    pickle.dump(en_lr.stages[0].stages[0].stages[0].vocabulary, f)"
   ]
  }
 ],
 "metadata": {
  "kernelspec": {
   "display_name": "Python 3",
   "language": "python",
   "name": "python3"
  },
  "language_info": {
   "codemirror_mode": {
    "name": "ipython",
    "version": 3
   },
   "file_extension": ".py",
   "mimetype": "text/x-python",
   "name": "python",
   "nbconvert_exporter": "python",
   "pygments_lexer": "ipython3",
   "version": "3.7.3"
  }
 },
 "nbformat": 4,
 "nbformat_minor": 4
}
