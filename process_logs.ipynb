{
 "cells": [
  {
   "cell_type": "code",
   "execution_count": 3,
   "metadata": {},
   "outputs": [],
   "source": [
    "from pyspark.conf import SparkConf\n",
    "from pyspark.sql import SparkSession\n",
    "import pyspark.sql.functions as F\n",
    "import pyspark.sql.types as T\n",
    "import pandas as pd\n",
    "import matplotlib.pyplot as plt\n",
    "from pyspark.ml import feature, evaluation, Pipeline\n",
    "from pyspark.ml.classification import LogisticRegression"
   ]
  },
  {
   "cell_type": "code",
   "execution_count": 4,
   "metadata": {},
   "outputs": [
    {
     "data": {
      "text/plain": [
       "<pyspark.conf.SparkConf at 0x7f47bcdc45f8>"
      ]
     },
     "execution_count": 4,
     "metadata": {},
     "output_type": "execute_result"
    }
   ],
   "source": [
    "conf = (SparkConf()\n",
    "            .setAppName('data_explore')\n",
    "            .setMaster('spark://spark-master:7077')\n",
    "       )\n",
    "conf.set(\"spark.executor.memory\", \"6g\")\n",
    "conf.set(\"spark.driver.maxResultSize\", \"0\")\n",
    "conf.set(\"spark.sql.shuffle.partitions\", \"200\")\n",
    "conf.set(\"spark.default.parallelism\", \"3\")\n",
    "conf.set(\"spark.driver.memory\", \"3g\") "
   ]
  },
  {
   "cell_type": "markdown",
   "metadata": {},
   "source": [
    "## TODO\n",
    "+ test final model against this dataset: https://github.com/hunters-forge/mordor"
   ]
  },
  {
   "cell_type": "code",
   "execution_count": 5,
   "metadata": {},
   "outputs": [],
   "source": [
    "spark = SparkSession.builder.config(conf=conf).getOrCreate()"
   ]
  },
  {
   "cell_type": "code",
   "execution_count": 6,
   "metadata": {},
   "outputs": [
    {
     "data": {
      "text/plain": [
       "[('spark.driver.port', '42215'),\n",
       " ('spark.app.id', 'app-20191109012245-0026'),\n",
       " ('spark.executor.id', 'driver'),\n",
       " ('spark.executor.memory', '6g'),\n",
       " ('spark.driver.host', '7b97f6eeabc6'),\n",
       " ('spark.driver.memory', '3g'),\n",
       " ('spark.default.parallelism', '3'),\n",
       " ('spark.rdd.compress', 'True'),\n",
       " ('spark.master', 'spark://spark-master:7077'),\n",
       " ('spark.serializer.objectStreamReset', '100'),\n",
       " ('spark.driver.maxResultSize', '0'),\n",
       " ('spark.sql.shuffle.partitions', '200'),\n",
       " ('spark.submit.deployMode', 'client'),\n",
       " ('spark.ui.showConsoleProgress', 'true'),\n",
       " ('spark.app.name', 'data_explore')]"
      ]
     },
     "execution_count": 6,
     "metadata": {},
     "output_type": "execute_result"
    }
   ],
   "source": [
    "spark.sparkContext.getConf().getAll()"
   ]
  },
  {
   "cell_type": "code",
   "execution_count": 7,
   "metadata": {},
   "outputs": [],
   "source": [
    "df = (spark.read.format('csv')\n",
    "      .option('inferSchema', 'false')\n",
    "      .option('header', 'true')\n",
    "      .option('escape', '\"')\n",
    "      .option('schema', T.StringType())\n",
    "      .load('hdfs://namenode:9000/data/labeled_process_logs.csv') \n",
    "      .dropna() # orginal dataset had 52,025 rows, this operation drops 682 rows\n",
    "     )"
   ]
  },
  {
   "cell_type": "markdown",
   "metadata": {},
   "source": [
    "## the target labels are unbalanced, and will result in a model with high variance.  the minority class (1) will be resampled"
   ]
  },
  {
   "cell_type": "code",
   "execution_count": 8,
   "metadata": {},
   "outputs": [
    {
     "data": {
      "text/plain": [
       "<matplotlib.axes._subplots.AxesSubplot at 0x7f47bcdc4d68>"
      ]
     },
     "execution_count": 8,
     "metadata": {},
     "output_type": "execute_result"
    },
    {
     "data": {
      "image/png": "[encoded data removed]",
      "text/plain": [
       "<Figure size 432x288 with 1 Axes>"
      ]
     },
     "metadata": {
      "needs_background": "light"
     },
     "output_type": "display_data"
    }
   ],
   "source": [
    "df.groupBy('class_label').count().toPandas().plot.bar()"
   ]
  },
  {
   "cell_type": "code",
   "execution_count": 9,
   "metadata": {},
   "outputs": [
    {
     "name": "stdout",
     "output_type": "stream",
     "text": [
      "+-----------+-----+\n",
      "|class_label|count|\n",
      "+-----------+-----+\n",
      "|          0|50891|\n",
      "|          1|  452|\n",
      "+-----------+-----+\n",
      "\n"
     ]
    }
   ],
   "source": [
    "df.groupBy('class_label').count().show()"
   ]
  },
  {
   "cell_type": "code",
   "execution_count": 10,
   "metadata": {},
   "outputs": [],
   "source": [
    "bootstrapped_1_rdd = spark.sparkContext.union([df.filter('class_label == 1').sample(withReplacement=True, fraction=.1, seed=0).rdd\n",
    "                  for x in range(1000)])\n",
    "bootstrapped_1_df = spark.createDataFrame(bootstrapped_1_rdd)"
   ]
  },
  {
   "cell_type": "code",
   "execution_count": 11,
   "metadata": {},
   "outputs": [
    {
     "name": "stdout",
     "output_type": "stream",
     "text": [
      "CPU times: user 181 ms, sys: 78.7 ms, total: 260 ms\n",
      "Wall time: 3min 20s\n"
     ]
    },
    {
     "data": {
      "text/plain": [
       "47000"
      ]
     },
     "execution_count": 11,
     "metadata": {},
     "output_type": "execute_result"
    }
   ],
   "source": [
    "%%time\n",
    "bootstrapped_1_df.count()"
   ]
  },
  {
   "cell_type": "code",
   "execution_count": 12,
   "metadata": {},
   "outputs": [
    {
     "name": "stdout",
     "output_type": "stream",
     "text": [
      "+--------------------+---------------+--------------------+-------------+--------------------+--------------------+--------+--------+--------------------+-----------+\n",
      "|           timestamp|       hostname|              kernel|host_platform|        process_name|      parent_process|login_id|event_id|        command_line|class_label|\n",
      "+--------------------+---------------+--------------------+-------------+--------------------+--------------------+--------+--------+--------------------+-----------+\n",
      "|2019-11-03T12:38:...|    win10-alice|10.0.17763.802 (W...|      windows|C:\\Windows\\System...|C:\\Users\\Public\\s...|     0x0|    4688|powershell.exe -E...|          1|\n",
      "|2019-11-03T12:40:...|    win10-alice|10.0.17763.802 (W...|      windows|C:\\Windows\\System...|C:\\Users\\Public\\s...|     0x0|    4688|   cmd.exe /C whoami|          1|\n",
      "|2019-11-03T12:40:...|DESKTOP-1P21UNK|10.0.18362.449 (W...|      windows|C:\\Windows\\System...|C:\\Users\\Public\\s...|     0x0|    4688|powershell.exe -E...|          1|\n",
      "|2019-11-03T13:32:...|DESKTOP-1QAE25C|10.0.18362.449 (W...|      windows|C:\\Windows\\System...|C:\\Windows\\System...|     0x0|    4688|\"C:\\Windows\\syste...|          1|\n",
      "|2019-11-03T13:32:...|DESKTOP-1QAE25C|10.0.18362.449 (W...|      windows|C:\\Windows\\System...|C:\\Windows\\System...|     0x0|    4688|\"C:\\Windows\\syste...|          1|\n",
      "|2019-11-03T13:40:...|DESKTOP-38EI7CP|10.0.18362.418 (W...|      windows|C:\\Windows\\System...|C:\\Windows\\System...|     0x0|    4688|\"C:\\Windows\\syste...|          1|\n",
      "|2019-11-03T13:40:...|DESKTOP-38EI7CP|10.0.18362.418 (W...|      windows|C:\\Windows\\System...|C:\\Windows\\System...|     0x0|    4688|\"C:\\Windows\\syste...|          1|\n",
      "|2019-11-03T13:29:...|DESKTOP-1QAE25C|10.0.18362.449 (W...|      windows|C:\\Windows\\System...|C:\\Users\\Public\\s...|     0x0|    4688|   cmd.exe /C whoami|          1|\n",
      "|2019-11-03T13:30:...|DESKTOP-38EI7CP|10.0.18362.418 (W...|      windows|C:\\Windows\\System...|C:\\Users\\Public\\s...|     0x0|    4688|powershell.exe -E...|          1|\n",
      "|2019-11-03T13:30:...|DESKTOP-38EI7CP|10.0.18362.418 (W...|      windows|C:\\Windows\\System...|C:\\Users\\Public\\s...|     0x0|    4688|   cmd.exe /C whoami|          1|\n",
      "|2019-11-03T13:32:...|DESKTOP-1QAE25C|10.0.18362.449 (W...|      windows|C:\\Windows\\System...|C:\\Users\\Public\\s...|     0x0|    4688|powershell.exe -E...|          1|\n",
      "|2019-11-03T13:33:...|DESKTOP-1P21UNK|10.0.18362.449 (W...|      windows|C:\\Windows\\System...|C:\\Users\\Public\\s...|     0x0|    4688|   cmd.exe /C whoami|          1|\n",
      "|2019-11-03T15:27:...|    win10-alice|10.0.17763.802 (W...|      windows|C:\\Windows\\System...|C:\\Users\\Public\\s...|     0x0|    4688|powershell.exe -E...|          1|\n",
      "|2019-11-03T15:26:...|DESKTOP-1QAE25C|10.0.18362.449 (W...|      windows|C:\\Windows\\System...|C:\\Users\\Public\\s...|     0x0|    4688|powershell.exe -E...|          1|\n",
      "|2019-11-03T15:27:...|    win10-alice|10.0.17763.802 (W...|      windows|C:\\Windows\\System...|C:\\Users\\Public\\s...|     0x0|    4688|powershell.exe -E...|          1|\n",
      "|2019-11-03T15:28:...|DESKTOP-38EI7CP|10.0.18362.418 (W...|      windows|C:\\Windows\\System...|C:\\Users\\Public\\s...|     0x0|    4688|powershell.exe -E...|          1|\n",
      "|2019-11-03T15:28:...|DESKTOP-38EI7CP|10.0.18362.418 (W...|      windows|C:\\Windows\\System...|C:\\Users\\Public\\s...|     0x0|    4688|powershell.exe -E...|          1|\n",
      "|2019-11-03T15:28:...|DESKTOP-1QAE25C|10.0.18362.449 (W...|      windows|C:\\Windows\\System...|C:\\Users\\Public\\s...|     0x0|    4688|powershell.exe -E...|          1|\n",
      "|2019-11-03T15:29:...|DESKTOP-1P21UNK|10.0.18362.449 (W...|      windows|C:\\Windows\\System...|C:\\Users\\Public\\s...|     0x0|    4688|cmd.exe /C \"net s...|          1|\n",
      "|2019-11-03T15:29:...|DESKTOP-1P21UNK|10.0.18362.449 (W...|      windows|C:\\Windows\\System...|C:\\Users\\Public\\s...|     0x0|    4688|powershell.exe -E...|          1|\n",
      "+--------------------+---------------+--------------------+-------------+--------------------+--------------------+--------+--------+--------------------+-----------+\n",
      "only showing top 20 rows\n",
      "\n"
     ]
    }
   ],
   "source": [
    "bootstrapped_1_df.show()"
   ]
  },
  {
   "cell_type": "code",
   "execution_count": 13,
   "metadata": {},
   "outputs": [
    {
     "data": {
      "text/plain": [
       "DataFrame[timestamp: string, hostname: string, kernel: string, host_platform: string, process_name: string, parent_process: string, login_id: string, event_id: string, command_line: string, class_label: string]"
      ]
     },
     "execution_count": 13,
     "metadata": {},
     "output_type": "execute_result"
    }
   ],
   "source": [
    "combined_df = spark.createDataFrame(spark.sparkContext.union([bootstrapped_1_df.rdd, df.rdd]))\n",
    "combined_df.cache()"
   ]
  },
  {
   "cell_type": "code",
   "execution_count": 14,
   "metadata": {},
   "outputs": [
    {
     "data": {
      "text/plain": [
       "<matplotlib.axes._subplots.AxesSubplot at 0x7f47bc4e83c8>"
      ]
     },
     "execution_count": 14,
     "metadata": {},
     "output_type": "execute_result"
    },
    {
     "data": {
      "image/png": "[encoded data removed]",
      "text/plain": [
       "<Figure size 432x288 with 1 Axes>"
      ]
     },
     "metadata": {
      "needs_background": "light"
     },
     "output_type": "display_data"
    }
   ],
   "source": [
    "combined_df.groupBy('class_label').count().toPandas().plot.bar()"
   ]
  },
  {
   "cell_type": "markdown",
   "metadata": {},
   "source": [
    "## clean process,path fields and create command line tokens"
   ]
  },
  {
   "cell_type": "code",
   "execution_count": 9,
   "metadata": {},
   "outputs": [],
   "source": [
    "# TODO: consider converting this to a UDF\n",
    "\n",
    "from pyspark.sql.functions import regexp_extract, regexp_replace, col, count, split, size, to_date\n",
    "clean_df = df.select(\n",
    "    '*',\n",
    "    regexp_extract(col('process_name'), r\"(\\w?:?.*\\\\?\\w+\\s?\\w+\\\\)\", 0).alias('process_path'),\n",
    "    split(col('command_line'), '\\s+(?=[-/]+)').alias('cmd_line_split')\n",
    ").withColumn(\n",
    "    'class_label', (col('class_label').cast('int'))\n",
    ").withColumn(\n",
    "    'trusted_path', (col('process_path').like('%C:\\Program Files%') | col('process_path').like('%C:\\Windows%') | col('process_path').like('%C:\\PROGRA~2%') |col('process_path').like('%Program Files (x86)%')).cast('int')\n",
    ").withColumn(\n",
    "    '_timestamp', F.to_timestamp(col('timestamp'))\n",
    ").withColumn(\n",
    "    'process_name', regexp_extract(col('process_name'), r'(\\w+.?\\w+$)', 0)\n",
    ").withColumn(\n",
    "    'parent_process', regexp_extract(col('parent_process'), r'(\\w+.?\\w+$)', 0)\n",
    ").withColumn(\n",
    "    'command_line', regexp_replace(col('command_line'), r'[:\\\\\"\\?]',\" \")  # directory punct\n",
    ").withColumn(\n",
    "    'command_line', regexp_replace(col('command_line'), r'--field-trial-handle=.*\\d+',\"\")   # chrome data\n",
    ").withColumn(\n",
    "    'command_line', regexp_replace(col('command_line'), r'\\/\\/raw.*\\.com(\\/\\w+)*.*\\/',\"\") # github url\n",
    ").withColumn(\n",
    "    'command_line', regexp_replace(col('command_line'), r\"\\||\\s*\\\"\\s*\\|\\\"|-\\s*\\d{1}\\s*|\\'\",\"\")  # | \" 1 ' , \n",
    ").withColumn(\n",
    "    'command_line', regexp_replace(col('command_line'), r':\\/\\/(\\d+\\.?)+:\\d+',\"\")  # ip \n",
    ").withColumn(\n",
    "    'command_line', regexp_replace(col('command_line'), r'\\b\\d+\\b',\"\")  # lone numbers\n",
    ").withColumn(\n",
    "    'command_line', regexp_replace(col('command_line'), r'\\{.*\\}',\"\")  # {edfc6dbe, 9c3, 3ed, 21a1affb5fd}\n",
    ").withColumn(\n",
    "    'command_line', regexp_replace(col('command_line'), r'[=/;\\(\\),_]',\"\") # random punctuation\n",
    ").withColumn(\n",
    "    'cmd_line_tokens', split(col('command_line'), '\\s+')\n",
    ")"
   ]
  },
  {
   "cell_type": "markdown",
   "metadata": {},
   "source": [
    "## cleaned command line tokens"
   ]
  },
  {
   "cell_type": "code",
   "execution_count": 16,
   "metadata": {},
   "outputs": [],
   "source": [
    "@F.udf(returnType=T.ArrayType(T.StringType()))\n",
    "def clean_array(l):\n",
    "    arr = [str(x).lower() for x in l if x != 'C' and x != \"\"]\n",
    "    return arr"
   ]
  },
  {
   "cell_type": "code",
   "execution_count": 17,
   "metadata": {},
   "outputs": [],
   "source": [
    "clean_df = clean_df.withColumn('cmd_line_tokens', clean_array(col('cmd_line_tokens')))"
   ]
  },
  {
   "cell_type": "code",
   "execution_count": 18,
   "metadata": {},
   "outputs": [
    {
     "name": "stdout",
     "output_type": "stream",
     "text": [
      "+------------------------------------------------------------------------------------------+\n",
      "|cmd_line_tokens                                                                           |\n",
      "+------------------------------------------------------------------------------------------+\n",
      "|[windows, system32, upfc.exe, launchtype, boot, cv, 09o3cnnaskg8amtnuwkqhq.]              |\n",
      "|[windows, system32, svchost.exe, -k, netsvcs, -p, -s, gpsvc]                              |\n",
      "|[windows, system32, svchost.exe, -k, localservicenetworkrestricted, -p]                   |\n",
      "|[windows, system32, svchost.exe, -k, netsvcs, -p, -s, dmwappushservice]                   |\n",
      "|[windows, system32, svchost.exe, -k, localservicenetworkrestricted, -p, -s, smsrouter]    |\n",
      "|[windows, system32, svchost.exe, -k, networkservice, -p, -s, nlasvc]                      |\n",
      "|[windows, system32, svchost.exe, -k, localservicenetworkrestricted, -p, -s, timebrokersvc]|\n",
      "|[windows, system32, svchost.exe, -k, localservicenetworkrestricted, -p]                   |\n",
      "|[windows, system32, svchost.exe, -k, netsvcs, -p, -s, shellhwdetection]                   |\n",
      "|[windows, system32, svchost.exe, -k, netsvcs, -p, -s, ncasvc]                             |\n",
      "|[windows, system32, svchost.exe, -k, netsvcs, -p, -s, wuauserv]                           |\n",
      "|[windows, system32, vssvc.exe]                                                            |\n",
      "|[windows, system32, svchost.exe, -k, unistacksvcgroup, -s, cdpusersvc]                    |\n",
      "|[windows, system32, svchost.exe, -k, clipboardsvcgroup, -p, -s, cbdhsvc]                  |\n",
      "|[windows, system32, svchost.exe, -k, netsvcs, -p, -s, wmansvc]                            |\n",
      "|[windows, system32, svchost.exe, -k, netsvcs, -p, -s, dmwappushservice]                   |\n",
      "|[windows, system32, dllhost.exe, processid]                                               |\n",
      "|[windows, system32, svchost.exe, -k, netsvcs, -p, -s, bits]                               |\n",
      "|[windows, system32, svchost.exe, -k, localserviceandnoimpersonation, -p, -s, ssdpsrv]     |\n",
      "|[windows, system32, svchost.exe, -k, localsystemnetworkrestricted, -p, -s, ngcsvc]        |\n",
      "+------------------------------------------------------------------------------------------+\n",
      "only showing top 20 rows\n",
      "\n"
     ]
    },
    {
     "data": {
      "text/plain": [
       "DataFrame[timestamp: string, hostname: string, kernel: string, host_platform: string, process_name: string, parent_process: string, login_id: string, event_id: string, command_line: string, class_label: int, process_path: string, cmd_line_split: array<string>, trusted_path: int, _timestamp: timestamp, cmd_line_tokens: array<string>]"
      ]
     },
     "execution_count": 18,
     "metadata": {},
     "output_type": "execute_result"
    }
   ],
   "source": [
    "clean_df.select('cmd_line_tokens').sample(.10).show(20, False)\n",
    "clean_df.cache()"
   ]
  },
  {
   "cell_type": "markdown",
   "metadata": {},
   "source": [
    "## create freq and tfidf pipeline"
   ]
  },
  {
   "cell_type": "markdown",
   "metadata": {},
   "source": [
    "sc = spark.sparkContext\n",
    "broadcast_clean_df = sc.broadcast(clean_df)"
   ]
  },
  {
   "cell_type": "code",
   "execution_count": 19,
   "metadata": {},
   "outputs": [],
   "source": [
    "cv_pipeline = Pipeline(stages=[\n",
    "    feature.CountVectorizer(minTF=1, minDF=3, inputCol='cmd_line_tokens', outputCol='tf')\n",
    "]).fit(clean_df)"
   ]
  },
  {
   "cell_type": "code",
   "execution_count": 20,
   "metadata": {},
   "outputs": [
    {
     "name": "stdout",
     "output_type": "stream",
     "text": [
      "+------------------------------------------------------------------+\n",
      "|tf                                                                |\n",
      "+------------------------------------------------------------------+\n",
      "|(1305,[7,8,25,26,55,249],[1.0,1.0,1.0,1.0,1.0,1.0])               |\n",
      "|(1305,[7,8,25,26,55,56,101,477],[1.0,1.0,1.0,1.0,1.0,1.0,1.0,1.0])|\n",
      "|(1305,[648,1112],[1.0,1.0])                                       |\n",
      "|(1305,[7,8,648,829],[1.0,1.0,1.0,1.0])                            |\n",
      "|(1305,[7,8,25,26,55,56,94,370],[1.0,1.0,1.0,1.0,1.0,1.0,1.0,1.0]) |\n",
      "|(1305,[7,8,25,26,55,56,98,464],[1.0,1.0,1.0,1.0,1.0,1.0,1.0,1.0]) |\n",
      "|(1305,[7,8,25,26,55,56,94,458],[1.0,1.0,1.0,1.0,1.0,1.0,1.0,1.0]) |\n",
      "|(1305,[7,8,311,355,360,401],[1.0,1.0,1.0,1.0,1.0,1.0])            |\n",
      "|(1305,[7,8,25,26,56,98,424],[1.0,1.0,1.0,1.0,1.0,1.0,1.0])        |\n",
      "|(1305,[7,8,25,26,55,56,94,507],[1.0,1.0,1.0,1.0,1.0,1.0,1.0,1.0]) |\n",
      "|(1305,[7,8,25,26,55,56,101,478],[1.0,1.0,1.0,1.0,1.0,1.0,1.0,1.0])|\n",
      "|(1305,[7,8,25,26,55,56,69,161],[1.0,1.0,1.0,1.0,1.0,1.0,1.0,1.0]) |\n",
      "|(1305,[7,8,25,26,55,56,69,489],[1.0,1.0,1.0,1.0,1.0,1.0,1.0,1.0]) |\n",
      "|(1305,[7,8,25,26,55,56,101,495],[1.0,1.0,1.0,1.0,1.0,1.0,1.0,1.0])|\n",
      "|(1305,[7,8,25,26,55,56,98,486],[1.0,1.0,1.0,1.0,1.0,1.0,1.0,1.0]) |\n",
      "|(1305,[7,8,25,26,55,56,69,468],[1.0,1.0,1.0,1.0,1.0,1.0,1.0,1.0]) |\n",
      "|(1305,[7,127,129],[1.0,1.0,1.0])                                  |\n",
      "|(1305,[7,8,25,26,55,56,94,479],[1.0,1.0,1.0,1.0,1.0,1.0,1.0,1.0]) |\n",
      "|(1305,[7,8,25,26,55,56,69,497],[1.0,1.0,1.0,1.0,1.0,1.0,1.0,1.0]) |\n",
      "|(1305,[7,8,25,26,55,56,69,487],[1.0,1.0,1.0,1.0,1.0,1.0,1.0,1.0]) |\n",
      "+------------------------------------------------------------------+\n",
      "only showing top 20 rows\n",
      "\n"
     ]
    }
   ],
   "source": [
    "cv_pipeline.transform(clean_df).select('tf').show(20,truncate=False)"
   ]
  },
  {
   "cell_type": "code",
   "execution_count": 21,
   "metadata": {},
   "outputs": [
    {
     "data": {
      "text/plain": [
       "1305"
      ]
     },
     "execution_count": 21,
     "metadata": {},
     "output_type": "execute_result"
    }
   ],
   "source": [
    "len(cv_pipeline.stages[0].vocabulary)"
   ]
  },
  {
   "cell_type": "code",
   "execution_count": 22,
   "metadata": {},
   "outputs": [],
   "source": [
    "idf_pipeline = Pipeline(stages=[\n",
    "    cv_pipeline, feature.IDF(inputCol='tf', outputCol='tfidf')\n",
    "]).fit(clean_df)"
   ]
  },
  {
   "cell_type": "code",
   "execution_count": 23,
   "metadata": {},
   "outputs": [],
   "source": [
    "tfidf_df = idf_pipeline.transform(clean_df)"
   ]
  },
  {
   "cell_type": "markdown",
   "metadata": {},
   "source": [
    "## create logistic regression model"
   ]
  },
  {
   "cell_type": "code",
   "execution_count": 24,
   "metadata": {},
   "outputs": [],
   "source": [
    "training_df, validation_df, testing_df = clean_df.select('cmd_line_tokens', 'class_label').randomSplit([0.6, 0.3, 0.1], seed=0)"
   ]
  },
  {
   "cell_type": "code",
   "execution_count": 25,
   "metadata": {},
   "outputs": [
    {
     "data": {
      "text/plain": [
       "[30843, 15310, 5190]"
      ]
     },
     "execution_count": 25,
     "metadata": {},
     "output_type": "execute_result"
    }
   ],
   "source": [
    "[training_df.count(), validation_df.count(), testing_df.count()]"
   ]
  },
  {
   "cell_type": "code",
   "execution_count": 26,
   "metadata": {},
   "outputs": [],
   "source": [
    "lr = LogisticRegression(featuresCol='tfidf', labelCol='class_label')"
   ]
  },
  {
   "cell_type": "code",
   "execution_count": 27,
   "metadata": {},
   "outputs": [],
   "source": [
    "lr_pipeline = Pipeline(stages=[\n",
    "    idf_pipeline, \n",
    "    lr\n",
    "]).fit(training_df)"
   ]
  },
  {
   "cell_type": "code",
   "execution_count": 28,
   "metadata": {},
   "outputs": [
    {
     "name": "stdout",
     "output_type": "stream",
     "text": [
      "+------------+\n",
      "|avg(correct)|\n",
      "+------------+\n",
      "|         1.0|\n",
      "+------------+\n",
      "\n"
     ]
    }
   ],
   "source": [
    "lr_pipeline.transform(validation_df).\\\n",
    "    select(F.expr('float(prediction = class_label)').alias('correct')).\\\n",
    "    select(F.avg('correct')).show()"
   ]
  },
  {
   "cell_type": "code",
   "execution_count": 29,
   "metadata": {},
   "outputs": [],
   "source": [
    "import pandas as pd\n",
    "vocabulary = idf_pipeline.stages[0].stages[0].vocabulary\n",
    "weights = lr_pipeline.stages[-1].coefficients.toArray()\n",
    "coeffs_df = pd.DataFrame({'token': vocabulary, 'weight': weights})"
   ]
  },
  {
   "cell_type": "markdown",
   "metadata": {},
   "source": [
    "## the positive class is 1 (malicious) so the positive weights indicate a feature that contributes positively to being classified as malicious"
   ]
  },
  {
   "cell_type": "code",
   "execution_count": 30,
   "metadata": {},
   "outputs": [
    {
     "data": {
      "text/html": [
       "<div>\n",
       "<style scoped>\n",
       "    .dataframe tbody tr th:only-of-type {\n",
       "        vertical-align: middle;\n",
       "    }\n",
       "\n",
       "    .dataframe tbody tr th {\n",
       "        vertical-align: top;\n",
       "    }\n",
       "\n",
       "    .dataframe thead th {\n",
       "        text-align: right;\n",
       "    }\n",
       "</style>\n",
       "<table border=\"1\" class=\"dataframe\">\n",
       "  <thead>\n",
       "    <tr style=\"text-align: right;\">\n",
       "      <th></th>\n",
       "      <th>token</th>\n",
       "      <th>weight</th>\n",
       "    </tr>\n",
       "  </thead>\n",
       "  <tbody>\n",
       "    <tr>\n",
       "      <th>860</th>\n",
       "      <td>reg</td>\n",
       "      <td>25.696877</td>\n",
       "    </tr>\n",
       "    <tr>\n",
       "      <th>350</th>\n",
       "      <td>wmic</td>\n",
       "      <td>12.354456</td>\n",
       "    </tr>\n",
       "    <tr>\n",
       "      <th>1255</th>\n",
       "      <td>calc</td>\n",
       "      <td>8.809769</td>\n",
       "    </tr>\n",
       "    <tr>\n",
       "      <th>149</th>\n",
       "      <td>cmd.exe</td>\n",
       "      <td>5.625244</td>\n",
       "    </tr>\n",
       "    <tr>\n",
       "      <th>97</th>\n",
       "      <td>-executionpolicy</td>\n",
       "      <td>4.371764</td>\n",
       "    </tr>\n",
       "    <tr>\n",
       "      <th>96</th>\n",
       "      <td>bypass</td>\n",
       "      <td>4.371764</td>\n",
       "    </tr>\n",
       "    <tr>\n",
       "      <th>90</th>\n",
       "      <td>-c</td>\n",
       "      <td>3.374369</td>\n",
       "    </tr>\n",
       "    <tr>\n",
       "      <th>382</th>\n",
       "      <td>regsvr32.sct</td>\n",
       "      <td>2.891952</td>\n",
       "    </tr>\n",
       "    <tr>\n",
       "      <th>378</th>\n",
       "      <td>u</td>\n",
       "      <td>2.891952</td>\n",
       "    </tr>\n",
       "    <tr>\n",
       "      <th>380</th>\n",
       "      <td>i</td>\n",
       "      <td>2.891952</td>\n",
       "    </tr>\n",
       "    <tr>\n",
       "      <th>386</th>\n",
       "      <td>scrobj.dll</td>\n",
       "      <td>2.891952</td>\n",
       "    </tr>\n",
       "    <tr>\n",
       "      <th>274</th>\n",
       "      <td>regsvr32.exe</td>\n",
       "      <td>2.184544</td>\n",
       "    </tr>\n",
       "    <tr>\n",
       "      <th>155</th>\n",
       "      <td>select-object</td>\n",
       "      <td>1.611071</td>\n",
       "    </tr>\n",
       "    <tr>\n",
       "      <th>184</th>\n",
       "      <td>foreach</td>\n",
       "      <td>1.531947</td>\n",
       "    </tr>\n",
       "    <tr>\n",
       "      <th>186</th>\n",
       "      <td>-first</td>\n",
       "      <td>1.523300</td>\n",
       "    </tr>\n",
       "    <tr>\n",
       "      <th>189</th>\n",
       "      <td>-recurse</td>\n",
       "      <td>1.502384</td>\n",
       "    </tr>\n",
       "    <tr>\n",
       "      <th>222</th>\n",
       "      <td>staged</td>\n",
       "      <td>1.448748</td>\n",
       "    </tr>\n",
       "    <tr>\n",
       "      <th>237</th>\n",
       "      <td>get-childitem</td>\n",
       "      <td>1.417850</td>\n",
       "    </tr>\n",
       "    <tr>\n",
       "      <th>238</th>\n",
       "      <td>-include</td>\n",
       "      <td>1.417850</td>\n",
       "    </tr>\n",
       "    <tr>\n",
       "      <th>263</th>\n",
       "      <td>directory</td>\n",
       "      <td>1.396957</td>\n",
       "    </tr>\n",
       "  </tbody>\n",
       "</table>\n",
       "</div>"
      ],
      "text/plain": [
       "                 token     weight\n",
       "860                reg  25.696877\n",
       "350               wmic  12.354456\n",
       "1255              calc   8.809769\n",
       "149            cmd.exe   5.625244\n",
       "97    -executionpolicy   4.371764\n",
       "96              bypass   4.371764\n",
       "90                  -c   3.374369\n",
       "382       regsvr32.sct   2.891952\n",
       "378                  u   2.891952\n",
       "380                  i   2.891952\n",
       "386         scrobj.dll   2.891952\n",
       "274       regsvr32.exe   2.184544\n",
       "155      select-object   1.611071\n",
       "184            foreach   1.531947\n",
       "186             -first   1.523300\n",
       "189           -recurse   1.502384\n",
       "222             staged   1.448748\n",
       "237      get-childitem   1.417850\n",
       "238           -include   1.417850\n",
       "263          directory   1.396957"
      ]
     },
     "execution_count": 30,
     "metadata": {},
     "output_type": "execute_result"
    }
   ],
   "source": [
    "coeffs_df.sort_values('weight', ascending=False).head(20)"
   ]
  },
  {
   "cell_type": "markdown",
   "metadata": {},
   "source": [
    "## example of malicious tokens"
   ]
  },
  {
   "cell_type": "code",
   "execution_count": 31,
   "metadata": {},
   "outputs": [
    {
     "name": "stdout",
     "output_type": "stream",
     "text": [
      "+-------------------------------------------------------------------------------------------------------------------------------------------------------------------------------------------------------------------------------------------------------------------------------------------------------------------------------------------------------------------------------------------------------------------------------------------+\n",
      "|cmd_line_tokens                                                                                                                                                                                                                                                                                                                                                                                                                            |\n",
      "+-------------------------------------------------------------------------------------------------------------------------------------------------------------------------------------------------------------------------------------------------------------------------------------------------------------------------------------------------------------------------------------------------------------------------------------------+\n",
      "|[calc]                                                                                                                                                                                                                                                                                                                                                                                                                                     |\n",
      "|[cmd.exe, arp, -a]                                                                                                                                                                                                                                                                                                                                                                                                                         |\n",
      "|[cmd.exe, net, share]                                                                                                                                                                                                                                                                                                                                                                                                                      |\n",
      "|[cmd.exe, net, share]                                                                                                                                                                                                                                                                                                                                                                                                                      |\n",
      "|[cmd.exe, net, share]                                                                                                                                                                                                                                                                                                                                                                                                                      |\n",
      "|[cmd.exe, net, share]                                                                                                                                                                                                                                                                                                                                                                                                                      |\n",
      "|[cmd.exe, net, share]                                                                                                                                                                                                                                                                                                                                                                                                                      |\n",
      "|[cmd.exe, tasklist]                                                                                                                                                                                                                                                                                                                                                                                                                        |\n",
      "|[cmd.exe, whoami]                                                                                                                                                                                                                                                                                                                                                                                                                          |\n",
      "|[cmd.exe, whoami]                                                                                                                                                                                                                                                                                                                                                                                                                          |\n",
      "|[cmd.exe, whoami]                                                                                                                                                                                                                                                                                                                                                                                                                          |\n",
      "|[powershell.exe, -executionpolicy, bypass, -c, $namespace, get-wmiobject, -namespace, root, -class, namespace, select, name, out-string, -stream, select-string, securitycenter, $securitycenter, $namespace, select-object, -first, get-wmiobject, -namespace, root, $securitycenter, -class, antivirusproduct, select, displayname, instanceguid, pathtosignedproductexe, pathtosignedreportingexe, productstate, timestamp, format-list]|\n",
      "|[powershell.exe, -executionpolicy, bypass, -c, $namespace, get-wmiobject, -namespace, root, -class, namespace, select, name, out-string, -stream, select-string, securitycenter, $securitycenter, $namespace, select-object, -first, get-wmiobject, -namespace, root, $securitycenter, -class, antivirusproduct, select, displayname, instanceguid, pathtosignedproductexe, pathtosignedreportingexe, productstate, timestamp, format-list]|\n",
      "|[powershell.exe, -executionpolicy, bypass, -c, $namespace, get-wmiobject, -namespace, root, -class, namespace, select, name, out-string, -stream, select-string, securitycenter, $securitycenter, $namespace, select-object, -first, get-wmiobject, -namespace, root, $securitycenter, -class, antivirusproduct, select, displayname, instanceguid, pathtosignedproductexe, pathtosignedreportingexe, productstate, timestamp, format-list]|\n",
      "|[powershell.exe, -executionpolicy, bypass, -c, $namespace, get-wmiobject, -namespace, root, -class, namespace, select, name, out-string, -stream, select-string, securitycenter, $securitycenter, $namespace, select-object, -first, get-wmiobject, -namespace, root, $securitycenter, -class, antivirusproduct, select, displayname, instanceguid, pathtosignedproductexe, pathtosignedreportingexe, productstate, timestamp, format-list]|\n",
      "+-------------------------------------------------------------------------------------------------------------------------------------------------------------------------------------------------------------------------------------------------------------------------------------------------------------------------------------------------------------------------------------------------------------------------------------------+\n",
      "only showing top 15 rows\n",
      "\n"
     ]
    }
   ],
   "source": [
    "training_df.select('cmd_line_tokens').filter('class_label == 1').sample(.20).show(15, truncate=False)"
   ]
  },
  {
   "cell_type": "markdown",
   "metadata": {},
   "source": [
    "## the negative class is 0 (benign) so the negative weights indicate a feature that contributes negatively to being classified as benign"
   ]
  },
  {
   "cell_type": "code",
   "execution_count": 32,
   "metadata": {},
   "outputs": [
    {
     "data": {
      "text/html": [
       "<div>\n",
       "<style scoped>\n",
       "    .dataframe tbody tr th:only-of-type {\n",
       "        vertical-align: middle;\n",
       "    }\n",
       "\n",
       "    .dataframe tbody tr th {\n",
       "        vertical-align: top;\n",
       "    }\n",
       "\n",
       "    .dataframe thead th {\n",
       "        text-align: right;\n",
       "    }\n",
       "</style>\n",
       "<table border=\"1\" class=\"dataframe\">\n",
       "  <thead>\n",
       "    <tr style=\"text-align: right;\">\n",
       "      <th></th>\n",
       "      <th>token</th>\n",
       "      <th>weight</th>\n",
       "    </tr>\n",
       "  </thead>\n",
       "  <tbody>\n",
       "    <tr>\n",
       "      <th>878</th>\n",
       "      <td>reg.exe</td>\n",
       "      <td>-47.126464</td>\n",
       "    </tr>\n",
       "    <tr>\n",
       "      <th>2</th>\n",
       "      <td>program</td>\n",
       "      <td>-17.335210</td>\n",
       "    </tr>\n",
       "    <tr>\n",
       "      <th>3</th>\n",
       "      <td>files</td>\n",
       "      <td>-17.304727</td>\n",
       "    </tr>\n",
       "    <tr>\n",
       "      <th>7</th>\n",
       "      <td>windows</td>\n",
       "      <td>-16.944267</td>\n",
       "    </tr>\n",
       "    <tr>\n",
       "      <th>8</th>\n",
       "      <td>system32</td>\n",
       "      <td>-16.860308</td>\n",
       "    </tr>\n",
       "    <tr>\n",
       "      <th>4</th>\n",
       "      <td>x86</td>\n",
       "      <td>-16.380919</td>\n",
       "    </tr>\n",
       "    <tr>\n",
       "      <th>5</th>\n",
       "      <td>application</td>\n",
       "      <td>-15.847114</td>\n",
       "    </tr>\n",
       "    <tr>\n",
       "      <th>6</th>\n",
       "      <td>chrome.exe</td>\n",
       "      <td>-15.830066</td>\n",
       "    </tr>\n",
       "    <tr>\n",
       "      <th>353</th>\n",
       "      <td>wmic.exe</td>\n",
       "      <td>-13.476653</td>\n",
       "    </tr>\n",
       "    <tr>\n",
       "      <th>80</th>\n",
       "      <td>taskhostw.exe</td>\n",
       "      <td>-5.597604</td>\n",
       "    </tr>\n",
       "    <tr>\n",
       "      <th>0</th>\n",
       "      <td>google</td>\n",
       "      <td>-4.905556</td>\n",
       "    </tr>\n",
       "    <tr>\n",
       "      <th>316</th>\n",
       "      <td>system</td>\n",
       "      <td>-4.848476</td>\n",
       "    </tr>\n",
       "    <tr>\n",
       "      <th>823</th>\n",
       "      <td>nltest.exe</td>\n",
       "      <td>-4.775576</td>\n",
       "    </tr>\n",
       "    <tr>\n",
       "      <th>1</th>\n",
       "      <td>chrome</td>\n",
       "      <td>-4.750469</td>\n",
       "    </tr>\n",
       "    <tr>\n",
       "      <th>174</th>\n",
       "      <td>consent.exe</td>\n",
       "      <td>-4.737112</td>\n",
       "    </tr>\n",
       "    <tr>\n",
       "      <th>17</th>\n",
       "      <td>-embedding</td>\n",
       "      <td>-4.650357</td>\n",
       "    </tr>\n",
       "    <tr>\n",
       "      <th>9</th>\n",
       "      <td>--typerenderer</td>\n",
       "      <td>-4.586984</td>\n",
       "    </tr>\n",
       "    <tr>\n",
       "      <th>246</th>\n",
       "      <td>fontdrvhost.exe</td>\n",
       "      <td>-4.531322</td>\n",
       "    </tr>\n",
       "    <tr>\n",
       "      <th>390</th>\n",
       "      <td>-t</td>\n",
       "      <td>-4.324343</td>\n",
       "    </tr>\n",
       "    <tr>\n",
       "      <th>405</th>\n",
       "      <td>-u</td>\n",
       "      <td>-4.257561</td>\n",
       "    </tr>\n",
       "  </tbody>\n",
       "</table>\n",
       "</div>"
      ],
      "text/plain": [
       "               token     weight\n",
       "878          reg.exe -47.126464\n",
       "2            program -17.335210\n",
       "3              files -17.304727\n",
       "7            windows -16.944267\n",
       "8           system32 -16.860308\n",
       "4                x86 -16.380919\n",
       "5        application -15.847114\n",
       "6         chrome.exe -15.830066\n",
       "353         wmic.exe -13.476653\n",
       "80     taskhostw.exe  -5.597604\n",
       "0             google  -4.905556\n",
       "316           system  -4.848476\n",
       "823       nltest.exe  -4.775576\n",
       "1             chrome  -4.750469\n",
       "174      consent.exe  -4.737112\n",
       "17        -embedding  -4.650357\n",
       "9     --typerenderer  -4.586984\n",
       "246  fontdrvhost.exe  -4.531322\n",
       "390               -t  -4.324343\n",
       "405               -u  -4.257561"
      ]
     },
     "execution_count": 32,
     "metadata": {},
     "output_type": "execute_result"
    }
   ],
   "source": [
    "coeffs_df.sort_values('weight').head(20)"
   ]
  },
  {
   "cell_type": "markdown",
   "metadata": {},
   "source": [
    "## example of benign tokens"
   ]
  },
  {
   "cell_type": "code",
   "execution_count": 33,
   "metadata": {},
   "outputs": [
    {
     "name": "stdout",
     "output_type": "stream",
     "text": [
      "+--------------------------------------------------------------------------------+\n",
      "|cmd_line_tokens                                                                 |\n",
      "+--------------------------------------------------------------------------------+\n",
      "|[%systemroot%, system32, musnotificationux.exe, clearactivenotifications]       |\n",
      "|[%systemroot%, system32, musnotificationux.exe, dialogrebootactivehoursimminent]|\n",
      "|[%systemroot%, system32, musnotifyicon.exe, notifytrayicon]                     |\n",
      "|[%systemroot%, system32, musnotifyicon.exe, notifytrayicon]                     |\n",
      "|[%systemroot%, system32, musnotifyicon.exe, notifytrayicon]                     |\n",
      "+--------------------------------------------------------------------------------+\n",
      "only showing top 5 rows\n",
      "\n"
     ]
    }
   ],
   "source": [
    "training_df.select('cmd_line_tokens').filter('class_label == 0').sample(.20).show(5, truncate=False)"
   ]
  },
  {
   "cell_type": "markdown",
   "metadata": {},
   "source": [
    "## create another model with elastic net regularization to control overfitting and mitigate noisy data"
   ]
  },
  {
   "cell_type": "code",
   "execution_count": 34,
   "metadata": {},
   "outputs": [],
   "source": [
    "en_lr = Pipeline(stages=[\n",
    "    idf_pipeline,\n",
    "    LogisticRegression(featuresCol='tfidf',labelCol='class_label',regParam=0.02,elasticNetParam=0.3)\n",
    "]).fit(training_df)"
   ]
  },
  {
   "cell_type": "code",
   "execution_count": 35,
   "metadata": {},
   "outputs": [],
   "source": [
    "validation_model = en_lr.transform(validation_df)"
   ]
  },
  {
   "cell_type": "code",
   "execution_count": 36,
   "metadata": {},
   "outputs": [
    {
     "name": "stdout",
     "output_type": "stream",
     "text": [
      "+------------------+\n",
      "|        prediction|\n",
      "+------------------+\n",
      "|0.9998693664271718|\n",
      "+------------------+\n",
      "\n"
     ]
    }
   ],
   "source": [
    "from pyspark.sql.functions import avg\n",
    "validation_model.selectExpr('avg(float(prediction = class_label)) as prediction').show()"
   ]
  },
  {
   "cell_type": "markdown",
   "metadata": {},
   "source": [
    "## re-examine the coefficients of the model to determine how well it learned the weights for the tokens"
   ]
  },
  {
   "cell_type": "code",
   "execution_count": 37,
   "metadata": {},
   "outputs": [],
   "source": [
    "coefs = en_lr.stages[-1].coefficients.toArray()\n",
    "word_coefs = pd.DataFrame({'token': cv_pipeline.stages[0].vocabulary, 'weights': coefs})"
   ]
  },
  {
   "cell_type": "markdown",
   "metadata": {},
   "source": [
    "+ malicious tokens"
   ]
  },
  {
   "cell_type": "code",
   "execution_count": 38,
   "metadata": {},
   "outputs": [
    {
     "data": {
      "text/html": [
       "<div>\n",
       "<style scoped>\n",
       "    .dataframe tbody tr th:only-of-type {\n",
       "        vertical-align: middle;\n",
       "    }\n",
       "\n",
       "    .dataframe tbody tr th {\n",
       "        vertical-align: top;\n",
       "    }\n",
       "\n",
       "    .dataframe thead th {\n",
       "        text-align: right;\n",
       "    }\n",
       "</style>\n",
       "<table border=\"1\" class=\"dataframe\">\n",
       "  <thead>\n",
       "    <tr style=\"text-align: right;\">\n",
       "      <th></th>\n",
       "      <th>token</th>\n",
       "      <th>weights</th>\n",
       "    </tr>\n",
       "  </thead>\n",
       "  <tbody>\n",
       "    <tr>\n",
       "      <th>149</th>\n",
       "      <td>cmd.exe</td>\n",
       "      <td>0.957036</td>\n",
       "    </tr>\n",
       "    <tr>\n",
       "      <th>97</th>\n",
       "      <td>-executionpolicy</td>\n",
       "      <td>0.594190</td>\n",
       "    </tr>\n",
       "    <tr>\n",
       "      <th>96</th>\n",
       "      <td>bypass</td>\n",
       "      <td>0.594190</td>\n",
       "    </tr>\n",
       "    <tr>\n",
       "      <th>90</th>\n",
       "      <td>-c</td>\n",
       "      <td>0.463404</td>\n",
       "    </tr>\n",
       "    <tr>\n",
       "      <th>168</th>\n",
       "      <td>net</td>\n",
       "      <td>0.265239</td>\n",
       "    </tr>\n",
       "    <tr>\n",
       "      <th>378</th>\n",
       "      <td>u</td>\n",
       "      <td>0.245570</td>\n",
       "    </tr>\n",
       "    <tr>\n",
       "      <th>380</th>\n",
       "      <td>i</td>\n",
       "      <td>0.245570</td>\n",
       "    </tr>\n",
       "    <tr>\n",
       "      <th>386</th>\n",
       "      <td>scrobj.dll</td>\n",
       "      <td>0.245570</td>\n",
       "    </tr>\n",
       "    <tr>\n",
       "      <th>382</th>\n",
       "      <td>regsvr32.sct</td>\n",
       "      <td>0.245570</td>\n",
       "    </tr>\n",
       "    <tr>\n",
       "      <th>195</th>\n",
       "      <td>whoami</td>\n",
       "      <td>0.153714</td>\n",
       "    </tr>\n",
       "    <tr>\n",
       "      <th>542</th>\n",
       "      <td>-group</td>\n",
       "      <td>0.133904</td>\n",
       "    </tr>\n",
       "    <tr>\n",
       "      <th>528</th>\n",
       "      <td>sandcat.exe</td>\n",
       "      <td>0.133904</td>\n",
       "    </tr>\n",
       "    <tr>\n",
       "      <th>539</th>\n",
       "      <td>-v</td>\n",
       "      <td>0.133904</td>\n",
       "    </tr>\n",
       "    <tr>\n",
       "      <th>546</th>\n",
       "      <td>mygroup</td>\n",
       "      <td>0.133904</td>\n",
       "    </tr>\n",
       "    <tr>\n",
       "      <th>534</th>\n",
       "      <td>-server</td>\n",
       "      <td>0.133904</td>\n",
       "    </tr>\n",
       "  </tbody>\n",
       "</table>\n",
       "</div>"
      ],
      "text/plain": [
       "                token   weights\n",
       "149           cmd.exe  0.957036\n",
       "97   -executionpolicy  0.594190\n",
       "96             bypass  0.594190\n",
       "90                 -c  0.463404\n",
       "168               net  0.265239\n",
       "378                 u  0.245570\n",
       "380                 i  0.245570\n",
       "386        scrobj.dll  0.245570\n",
       "382      regsvr32.sct  0.245570\n",
       "195            whoami  0.153714\n",
       "542            -group  0.133904\n",
       "528       sandcat.exe  0.133904\n",
       "539                -v  0.133904\n",
       "546           mygroup  0.133904\n",
       "534           -server  0.133904"
      ]
     },
     "execution_count": 38,
     "metadata": {},
     "output_type": "execute_result"
    }
   ],
   "source": [
    "word_coefs.sort_values('weights', ascending=False).head(15)"
   ]
  },
  {
   "cell_type": "markdown",
   "metadata": {},
   "source": [
    "+ benign tokens"
   ]
  },
  {
   "cell_type": "code",
   "execution_count": 39,
   "metadata": {},
   "outputs": [
    {
     "data": {
      "text/html": [
       "<div>\n",
       "<style scoped>\n",
       "    .dataframe tbody tr th:only-of-type {\n",
       "        vertical-align: middle;\n",
       "    }\n",
       "\n",
       "    .dataframe tbody tr th {\n",
       "        vertical-align: top;\n",
       "    }\n",
       "\n",
       "    .dataframe thead th {\n",
       "        text-align: right;\n",
       "    }\n",
       "</style>\n",
       "<table border=\"1\" class=\"dataframe\">\n",
       "  <thead>\n",
       "    <tr style=\"text-align: right;\">\n",
       "      <th></th>\n",
       "      <th>token</th>\n",
       "      <th>weights</th>\n",
       "    </tr>\n",
       "  </thead>\n",
       "  <tbody>\n",
       "    <tr>\n",
       "      <th>0</th>\n",
       "      <td>google</td>\n",
       "      <td>0.0</td>\n",
       "    </tr>\n",
       "    <tr>\n",
       "      <th>873</th>\n",
       "      <td>invagent.dll</td>\n",
       "      <td>0.0</td>\n",
       "    </tr>\n",
       "    <tr>\n",
       "      <th>872</th>\n",
       "      <td>get-service</td>\n",
       "      <td>0.0</td>\n",
       "    </tr>\n",
       "    <tr>\n",
       "      <th>871</th>\n",
       "      <td>securityhealthhost.exe</td>\n",
       "      <td>0.0</td>\n",
       "    </tr>\n",
       "    <tr>\n",
       "      <th>870</th>\n",
       "      <td>copy-item</td>\n",
       "      <td>0.0</td>\n",
       "    </tr>\n",
       "    <tr>\n",
       "      <th>869</th>\n",
       "      <td>runupdate</td>\n",
       "      <td>0.0</td>\n",
       "    </tr>\n",
       "    <tr>\n",
       "      <th>868</th>\n",
       "      <td>stopped</td>\n",
       "      <td>0.0</td>\n",
       "    </tr>\n",
       "    <tr>\n",
       "      <th>867</th>\n",
       "      <td>pending.xml</td>\n",
       "      <td>0.0</td>\n",
       "    </tr>\n",
       "    <tr>\n",
       "      <th>874</th>\n",
       "      <td>noreboot</td>\n",
       "      <td>0.0</td>\n",
       "    </tr>\n",
       "    <tr>\n",
       "      <th>866</th>\n",
       "      <td>runonbattery</td>\n",
       "      <td>0.0</td>\n",
       "    </tr>\n",
       "  </tbody>\n",
       "</table>\n",
       "</div>"
      ],
      "text/plain": [
       "                      token  weights\n",
       "0                    google      0.0\n",
       "873            invagent.dll      0.0\n",
       "872             get-service      0.0\n",
       "871  securityhealthhost.exe      0.0\n",
       "870               copy-item      0.0\n",
       "869               runupdate      0.0\n",
       "868                 stopped      0.0\n",
       "867             pending.xml      0.0\n",
       "874                noreboot      0.0\n",
       "866            runonbattery      0.0"
      ]
     },
     "execution_count": 39,
     "metadata": {},
     "output_type": "execute_result"
    }
   ],
   "source": [
    "word_coefs.sort_values('weights', ascending=True).head(10)"
   ]
  },
  {
   "cell_type": "markdown",
   "metadata": {},
   "source": [
    "+ The 'C' is the directory path for all programs, not very informative here and should probably be removed \n",
    "+ The random numbers look to be from Microsoft Edge browser url srings, and other seemingly benign system processes--however hackers use similar encoding strategies for malicious code execution; therefore this feature shouldn't be ignored"
   ]
  },
  {
   "cell_type": "code",
   "execution_count": 40,
   "metadata": {},
   "outputs": [
    {
     "name": "stdout",
     "output_type": "stream",
     "text": [
      "+--------------------+\n",
      "|     cmd_line_tokens|\n",
      "+--------------------+\n",
      "|[%systemroot%, sy...|\n",
      "|[%systemroot%, sy...|\n",
      "|[%systemroot%, sy...|\n",
      "|[%systemroot%, sy...|\n",
      "|[%systemroot%, sy...|\n",
      "|[%systemroot%, sy...|\n",
      "|[%systemroot%, sy...|\n",
      "|[%systemroot%, sy...|\n",
      "|[%systemroot%, sy...|\n",
      "|[backgroundtransf...|\n",
      "|       [consent.exe]|\n",
      "|[consent.exe, 000...|\n",
      "|[consent.exe, 000...|\n",
      "|[consent.exe, 000...|\n",
      "|[consent.exe, 000...|\n",
      "|[consent.exe, 000...|\n",
      "|        [ctfmon.exe]|\n",
      "|        [ctfmon.exe]|\n",
      "|           [dwm.exe]|\n",
      "|           [dwm.exe]|\n",
      "+--------------------+\n",
      "only showing top 20 rows\n",
      "\n"
     ]
    }
   ],
   "source": [
    "new_testing_df = testing_df.select('cmd_line_tokens')\n",
    "new_testing_df.show()"
   ]
  },
  {
   "cell_type": "code",
   "execution_count": 41,
   "metadata": {},
   "outputs": [
    {
     "name": "stdout",
     "output_type": "stream",
     "text": [
      "+--------------------+--------------------+--------------------+--------------------+--------------------+----------+\n",
      "|     cmd_line_tokens|                  tf|               tfidf|       rawPrediction|         probability|prediction|\n",
      "+--------------------+--------------------+--------------------+--------------------+--------------------+----------+\n",
      "|[%systemroot%, sy...|(1305,[8,151,322,...|(1305,[8,151,322,...|[6.44726605546488...|[0.99841765863152...|       0.0|\n",
      "|[%systemroot%, sy...|(1305,[8,151,175,...|(1305,[8,151,175,...|[6.44726605546488...|[0.99841765863152...|       0.0|\n",
      "|[%systemroot%, sy...|(1305,[8,151,175,...|(1305,[8,151,175,...|[6.44726605546488...|[0.99841765863152...|       0.0|\n",
      "|[%systemroot%, sy...|(1305,[8,151,175,...|(1305,[8,151,175,...|[6.44726605546488...|[0.99841765863152...|       0.0|\n",
      "|[%systemroot%, sy...|(1305,[8,151,175,...|(1305,[8,151,175,...|[6.44726605546488...|[0.99841765863152...|       0.0|\n",
      "|[%systemroot%, sy...|(1305,[8,151,175,...|(1305,[8,151,175,...|[6.44726605546488...|[0.99841765863152...|       0.0|\n",
      "|[%systemroot%, sy...|(1305,[8,151,175,...|(1305,[8,151,175,...|[6.44726605546488...|[0.99841765863152...|       0.0|\n",
      "|[%systemroot%, sy...|(1305,[8,151,175,...|(1305,[8,151,175,...|[6.44726605546488...|[0.99841765863152...|       0.0|\n",
      "|[%systemroot%, sy...|(1305,[8,151,175,...|(1305,[8,151,175,...|[6.44726605546488...|[0.99841765863152...|       0.0|\n",
      "|[backgroundtransf...|(1305,[68,323,328...|(1305,[68,323,328...|[6.44726605546488...|[0.99841765863152...|       0.0|\n",
      "|       [consent.exe]|  (1305,[174],[1.0])|(1305,[174],[6.32...|[6.44726605546488...|[0.99841765863152...|       0.0|\n",
      "|[consent.exe, 000...|  (1305,[174],[1.0])|(1305,[174],[6.32...|[6.44726605546488...|[0.99841765863152...|       0.0|\n",
      "|[consent.exe, 000...|  (1305,[174],[1.0])|(1305,[174],[6.32...|[6.44726605546488...|[0.99841765863152...|       0.0|\n",
      "|[consent.exe, 000...|  (1305,[174],[1.0])|(1305,[174],[6.32...|[6.44726605546488...|[0.99841765863152...|       0.0|\n",
      "|[consent.exe, 000...|  (1305,[174],[1.0])|(1305,[174],[6.32...|[6.44726605546488...|[0.99841765863152...|       0.0|\n",
      "|[consent.exe, 000...|  (1305,[174],[1.0])|(1305,[174],[6.32...|[6.44726605546488...|[0.99841765863152...|       0.0|\n",
      "|        [ctfmon.exe]|  (1305,[452],[1.0])|(1305,[452],[7.66...|[6.44726605546488...|[0.99841765863152...|       0.0|\n",
      "|        [ctfmon.exe]|  (1305,[452],[1.0])|(1305,[452],[7.66...|[6.44726605546488...|[0.99841765863152...|       0.0|\n",
      "|           [dwm.exe]|  (1305,[381],[1.0])|(1305,[381],[7.51...|[6.44726605546488...|[0.99841765863152...|       0.0|\n",
      "|           [dwm.exe]|  (1305,[381],[1.0])|(1305,[381],[7.51...|[6.44726605546488...|[0.99841765863152...|       0.0|\n",
      "+--------------------+--------------------+--------------------+--------------------+--------------------+----------+\n",
      "only showing top 20 rows\n",
      "\n"
     ]
    }
   ],
   "source": [
    "test_model = en_lr.transform(new_testing_df).show()\n",
    "# test_model.selectExpr('avg(float(prediction = class_label)) as prediction').show()"
   ]
  },
  {
   "cell_type": "markdown",
   "metadata": {},
   "source": [
    "## write LR intecept, coefficients, and CV vocabulary to disk"
   ]
  },
  {
   "cell_type": "code",
   "execution_count": 42,
   "metadata": {},
   "outputs": [
    {
     "data": {
      "text/plain": [
       "-6.447266055464887"
      ]
     },
     "execution_count": 42,
     "metadata": {},
     "output_type": "execute_result"
    }
   ],
   "source": [
    "en_lr.stages[1].intercept"
   ]
  },
  {
   "cell_type": "code",
   "execution_count": 43,
   "metadata": {},
   "outputs": [],
   "source": [
    "import pickle\n",
    "\n",
    "with open('coefs_array.pkl', 'wb') as f:\n",
    "    pickle.dump(coefs, f)\n",
    "with open('intercept.pkl', 'wb') as f:\n",
    "    pickle.dump(en_lr.stages[1].intercept, f)\n",
    "with open('cv_vocabulary.pkl', 'wb') as f:\n",
    "    pickle.dump(en_lr.stages[0].stages[0].stages[0].vocabulary, f)"
   ]
  }
 ],
 "metadata": {
  "kernelspec": {
   "display_name": "Python 3",
   "language": "python",
   "name": "python3"
  },
  "language_info": {
   "codemirror_mode": {
    "name": "ipython",
    "version": 3
   },
   "file_extension": ".py",
   "mimetype": "text/x-python",
   "name": "python",
   "nbconvert_exporter": "python",
   "pygments_lexer": "ipython3",
   "version": "3.7.3"
  }
 },
 "nbformat": 4,
 "nbformat_minor": 4
}
