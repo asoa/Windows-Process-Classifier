{
 "cells": [
  {
   "cell_type": "code",
   "execution_count": 1,
   "metadata": {},
   "outputs": [],
   "source": [
    "from pyspark.conf import SparkConf\n",
    "from pyspark.sql import SparkSession\n",
    "import pyspark.sql.functions as F\n",
    "import pyspark.sql.types as T\n",
    "import pandas as pd\n",
    "import matplotlib.pyplot as plt\n",
    "from pyspark.ml import feature, evaluation, Pipeline\n",
    "from pyspark.ml.classification import LogisticRegression\n",
    "from pyspark.ml.evaluation import BinaryClassificationEvaluator\n",
    "from pyspark.ml.tuning import CrossValidator, ParamGridBuilder\n",
    "from functools import reduce\n",
    "from pyspark.sql import DataFrame"
   ]
  },
  {
   "cell_type": "code",
   "execution_count": 2,
   "metadata": {},
   "outputs": [
    {
     "data": {
      "text/plain": [
       "<pyspark.conf.SparkConf at 0x7f8e9aa6bb00>"
      ]
     },
     "execution_count": 2,
     "metadata": {},
     "output_type": "execute_result"
    }
   ],
   "source": [
    "conf = (SparkConf()\n",
    "            .setAppName('data_explore')\n",
    "            .setMaster('spark://spark-master:7077')\n",
    "       )\n",
    "conf.set(\"spark.executor.memory\", \"6g\")\n",
    "conf.set(\"spark.driver.maxResultSize\", \"0\")\n",
    "conf.set(\"spark.sql.shuffle.partitions\", \"6\")\n",
    "conf.set(\"spark.default.parallelism\", \"6\")\n",
    "conf.set(\"spark.driver.memory\", \"3g\") "
   ]
  },
  {
   "cell_type": "markdown",
   "metadata": {},
   "source": [
    "# TODO\n",
    "\n",
    "+ test final model against this dataset: https://github.com/hunters-forge/mordor\n",
    "+ see if writing model (model.save) with partitionBy param helps\n",
    "---\n"
   ]
  },
  {
   "cell_type": "code",
   "execution_count": 3,
   "metadata": {},
   "outputs": [],
   "source": [
    "spark = SparkSession.builder.config(conf=conf).getOrCreate()"
   ]
  },
  {
   "cell_type": "code",
   "execution_count": 4,
   "metadata": {},
   "outputs": [
    {
     "data": {
      "text/plain": [
       "[('spark.default.parallelism', '6'),\n",
       " ('spark.executor.id', 'driver'),\n",
       " ('spark.executor.memory', '6g'),\n",
       " ('spark.driver.host', 'b673edb6b90c'),\n",
       " ('spark.app.id', 'app-20191109202115-0004'),\n",
       " ('spark.driver.memory', '3g'),\n",
       " ('spark.driver.port', '40449'),\n",
       " ('spark.rdd.compress', 'True'),\n",
       " ('spark.master', 'spark://spark-master:7077'),\n",
       " ('spark.serializer.objectStreamReset', '100'),\n",
       " ('spark.driver.maxResultSize', '0'),\n",
       " ('spark.submit.deployMode', 'client'),\n",
       " ('spark.sql.shuffle.partitions', '6'),\n",
       " ('spark.ui.showConsoleProgress', 'true'),\n",
       " ('spark.app.name', 'data_explore')]"
      ]
     },
     "execution_count": 4,
     "metadata": {},
     "output_type": "execute_result"
    }
   ],
   "source": [
    "spark.sparkContext.getConf().getAll()"
   ]
  },
  {
   "cell_type": "code",
   "execution_count": 5,
   "metadata": {},
   "outputs": [
    {
     "data": {
      "text/plain": [
       "DataFrame[timestamp: string, hostname: string, kernel: string, host_platform: string, process_name: string, parent_process: string, login_id: string, event_id: int, command_line: string, class_label: int]"
      ]
     },
     "execution_count": 5,
     "metadata": {},
     "output_type": "execute_result"
    }
   ],
   "source": [
    "df = (spark.read.format('csv')\n",
    "      .option('inferSchema', 'true')\n",
    "      .option('header', 'true')\n",
    "      .option('escape', '\"')\n",
    "      .load('hdfs://namenode:9000/data/labeled_process_logs.csv') \n",
    "      .dropna() # orginal dataset had 52,025 rows, this operation drops 682 rows\n",
    "     )\n",
    "df.cache()"
   ]
  },
  {
   "cell_type": "markdown",
   "metadata": {},
   "source": [
    "# Data Cleaning and Engineering\n",
    "\n",
    "---\n"
   ]
  },
  {
   "cell_type": "markdown",
   "metadata": {},
   "source": [
    "## the target labels are unbalanced, and will result in a model with high bias that won't generalize well.  the minority class (1) will be resampled"
   ]
  },
  {
   "cell_type": "code",
   "execution_count": 6,
   "metadata": {},
   "outputs": [
    {
     "data": {
      "text/plain": [
       "<matplotlib.axes._subplots.AxesSubplot at 0x7f8e9a937438>"
      ]
     },
     "execution_count": 6,
     "metadata": {},
     "output_type": "execute_result"
    },
    {
     "data": {
      "image/png": "[encoded data removed]",
      "text/plain": [
       "<Figure size 432x288 with 1 Axes>"
      ]
     },
     "metadata": {
      "needs_background": "light"
     },
     "output_type": "display_data"
    }
   ],
   "source": [
    "df.groupBy('class_label').count().toPandas().plot.bar(x='class_label', y='count')"
   ]
  },
  {
   "cell_type": "code",
   "execution_count": 7,
   "metadata": {},
   "outputs": [
    {
     "data": {
      "text/plain": [
       "51343"
      ]
     },
     "execution_count": 7,
     "metadata": {},
     "output_type": "execute_result"
    }
   ],
   "source": [
    "df.count()"
   ]
  },
  {
   "cell_type": "code",
   "execution_count": null,
   "metadata": {},
   "outputs": [],
   "source": [
    "bootstrapped_1_rdd = [df.filter('class_label == 1').sample(withReplacement=True, fraction=.1, seed=0).rdd for x in range(1000)]\n",
    "_rdds = spark.sparkContext.union(bootstrapped_1_rdd)\n",
    "bootstrapped_1_df = spark.createDataFrame(_rdds)\n",
    "bootstrapped_1_df.cache()  # doesn't seem to speed up process; is spark clearing memory?"
   ]
  },
  {
   "cell_type": "code",
   "execution_count": 10,
   "metadata": {},
   "outputs": [],
   "source": [
    "combined_df = spark.createDataFrame(spark.sparkContext.union([df.rdd, bootstrapped_1_df.rdd]))"
   ]
  },
  {
   "cell_type": "code",
   "execution_count": 11,
   "metadata": {},
   "outputs": [
    {
     "data": {
      "text/plain": [
       "<matplotlib.axes._subplots.AxesSubplot at 0x7f8e9a8544e0>"
      ]
     },
     "execution_count": 11,
     "metadata": {},
     "output_type": "execute_result"
    },
    {
     "data": {
      "image/png": "[encoded data removed]",
      "text/plain": [
       "<Figure size 432x288 with 1 Axes>"
      ]
     },
     "metadata": {
      "needs_background": "light"
     },
     "output_type": "display_data"
    }
   ],
   "source": [
    "%%time\n",
    "combined_df.groupBy('class_label').count().toPandas().plot.bar(x='class_label', y='count')"
   ]
  },
  {
   "cell_type": "code",
   "execution_count": 12,
   "metadata": {},
   "outputs": [],
   "source": [
    "# write resampled df to disk\n",
    "combined_df.toPandas().to_csv('resampled_df.csv', header=True, index=False)"
   ]
  },
  {
   "cell_type": "code",
   "execution_count": 113,
   "metadata": {},
   "outputs": [
    {
     "data": {
      "text/plain": [
       "DataFrame[timestamp: timestamp, hostname: string, kernel: string, host_platform: string, process_name: string, parent_process: string, login_id: string, event_id: int, command_line: string, class_label: int]"
      ]
     },
     "execution_count": 113,
     "metadata": {},
     "output_type": "execute_result"
    }
   ],
   "source": [
    "# load resampled df and cache\n",
    "resampled_df = (spark.read.format('csv')\n",
    "      .option('inferSchema', 'true')\n",
    "      .option('header', 'true')\n",
    "      .option('escape', '\"')\n",
    "      .load('hdfs://namenode:9000/data/resampled_df.csv') \n",
    "     )\n",
    "resampled_df.cache()"
   ]
  },
  {
   "cell_type": "markdown",
   "metadata": {},
   "source": [
    "### Clean process,path fields and create command line tokens"
   ]
  },
  {
   "cell_type": "code",
   "execution_count": 114,
   "metadata": {},
   "outputs": [],
   "source": [
    "# TODO: consider converting this to a UDF\n",
    "\n",
    "from pyspark.sql.functions import regexp_extract, regexp_replace, col, count, split, size, to_date\n",
    "resampled_df = resampled_df.select(\n",
    "    '*',\n",
    "    regexp_extract(col('process_name'), r\"(\\w?:?.*\\\\?\\w+\\s?\\w+\\\\)\", 0).alias('process_path'),\n",
    "    split(col('command_line'), '\\s+(?=[-/]+)').alias('cmd_line_split')\n",
    ").withColumn(\n",
    "    'class_label', (col('class_label').cast('int'))\n",
    ").withColumn(\n",
    "    'trusted_path', (col('process_path').like('%C:\\Program Files%') | col('process_path').like('%C:\\Windows%') | col('process_path').like('%C:\\PROGRA~2%') |col('process_path').like('%Program Files (x86)%')).cast('int')\n",
    ").withColumn(\n",
    "    '_timestamp', F.to_timestamp(col('timestamp'))\n",
    ").withColumn(\n",
    "    'process_name', regexp_extract(col('process_name'), r'(\\w+.?\\w+$)', 0)\n",
    ").withColumn(\n",
    "    'parent_process', regexp_extract(col('parent_process'), r'(\\w+.?\\w+$)', 0)\n",
    ").withColumn(\n",
    "    'command_line', regexp_replace(col('command_line'), r'[:\\\\\"\\?]',\" \")  # directory punct\n",
    ").withColumn(\n",
    "    'command_line', regexp_replace(col('command_line'), r'--field-trial-handle=.*\\d+',\"\")   # chrome data\n",
    ").withColumn(\n",
    "    'command_line', regexp_replace(col('command_line'), r'\\/\\/raw.*\\.com(\\/\\w+)*.*\\/',\"\") # github url\n",
    ").withColumn(\n",
    "    'command_line', regexp_replace(col('command_line'), r\"\\||\\s*\\\"\\s*\\|\\\"|-\\s*\\d{1}\\s*|\\'\",\"\")  # | \" 1 ' , \n",
    ").withColumn(\n",
    "    'command_line', regexp_replace(col('command_line'), r':\\/\\/(\\d+\\.?)+:\\d+',\"\")  # ip \n",
    ").withColumn(\n",
    "    'command_line', regexp_replace(col('command_line'), r'\\b\\d+\\b',\"\")  # lone numbers\n",
    ").withColumn(\n",
    "    'command_line', regexp_replace(col('command_line'), r'\\{.*\\}',\"\")  # {edfc6dbe, 9c3, 3ed, 21a1affb5fd}\n",
    ").withColumn(\n",
    "    'command_line', regexp_replace(col('command_line'), r'[=/;\\(\\),_]',\"\") # random punctuation\n",
    ").withColumn(\n",
    "    'cmd_line_tokens', split(col('command_line'), '\\s+')\n",
    ")"
   ]
  },
  {
   "cell_type": "markdown",
   "metadata": {},
   "source": [
    "### Cleaned command line tokens"
   ]
  },
  {
   "cell_type": "code",
   "execution_count": 115,
   "metadata": {},
   "outputs": [],
   "source": [
    "@F.udf(returnType=T.ArrayType(T.StringType()))\n",
    "def clean_array(l):\n",
    "    arr = [str(x).lower() for x in l if x != 'C' and x != \"\"]\n",
    "    return arr"
   ]
  },
  {
   "cell_type": "code",
   "execution_count": 116,
   "metadata": {},
   "outputs": [],
   "source": [
    "resampled_df = resampled_df.withColumn('cmd_line_tokens', clean_array(col('cmd_line_tokens')))"
   ]
  },
  {
   "cell_type": "code",
   "execution_count": 118,
   "metadata": {},
   "outputs": [
    {
     "name": "stdout",
     "output_type": "stream",
     "text": [
      "+-------------------------------------------------------------------------------------+\n",
      "|cmd_line_tokens                                                                      |\n",
      "+-------------------------------------------------------------------------------------+\n",
      "|[windows, system32, svchost.exe, -k, localservice, -p, -s, dispbrokerdesktopsvc]     |\n",
      "|[windows, system32, svchost.exe, -k, localservicenetworkrestricted, -p, -s, eventlog]|\n",
      "|[windows, servicing, trustedinstaller.exe]                                           |\n",
      "|[windows, system32, svchost.exe, -k, localservicenetworkrestricted, -p, -s, dhcp]    |\n",
      "|[windows, system32, svchost.exe, -k, networkservice, -p, -s, nlasvc]                 |\n",
      "+-------------------------------------------------------------------------------------+\n",
      "only showing top 5 rows\n",
      "\n"
     ]
    }
   ],
   "source": [
    "resampled_df.select('cmd_line_tokens').sample(.10).show(5, False)"
   ]
  },
  {
   "cell_type": "markdown",
   "metadata": {},
   "source": [
    "### Create train, validation, test split"
   ]
  },
  {
   "cell_type": "code",
   "execution_count": 166,
   "metadata": {},
   "outputs": [],
   "source": [
    "training_df, validation_df, testing_df = resampled_df.randomSplit([0.6, 0.3, 0.1], seed=0)"
   ]
  },
  {
   "cell_type": "code",
   "execution_count": 167,
   "metadata": {},
   "outputs": [
    {
     "data": {
      "text/plain": [
       "[63801, 31852, 10690]"
      ]
     },
     "execution_count": 167,
     "metadata": {},
     "output_type": "execute_result"
    }
   ],
   "source": [
    "[training_df.count(), validation_df.count(), testing_df.count()]"
   ]
  },
  {
   "cell_type": "markdown",
   "metadata": {},
   "source": [
    "### Create freq and tfidf pipeline and fit to training data"
   ]
  },
  {
   "cell_type": "code",
   "execution_count": 168,
   "metadata": {},
   "outputs": [],
   "source": [
    "cv_pipeline = Pipeline(stages=[\n",
    "    feature.CountVectorizer(minTF=1, minDF=3, inputCol='cmd_line_tokens', outputCol='tf')\n",
    "]).fit(training_df)"
   ]
  },
  {
   "cell_type": "code",
   "execution_count": 169,
   "metadata": {},
   "outputs": [
    {
     "name": "stdout",
     "output_type": "stream",
     "text": [
      "+------------------------------------------------------------------------+\n",
      "|tf                                                                      |\n",
      "+------------------------------------------------------------------------+\n",
      "|(1109,[11,12,100,101,128,309],[1.0,1.0,1.0,1.0,1.0,1.0])                |\n",
      "|(1109,[11,12,100,101,128,129,196,517],[1.0,1.0,1.0,1.0,1.0,1.0,1.0,1.0])|\n",
      "|(1109,[568,1033],[1.0,1.0])                                             |\n",
      "|(1109,[11,12,568,800],[1.0,1.0,1.0,1.0])                                |\n",
      "|(1109,[11,12,100,101,128,129,192,489],[1.0,1.0,1.0,1.0,1.0,1.0,1.0,1.0])|\n",
      "+------------------------------------------------------------------------+\n",
      "only showing top 5 rows\n",
      "\n"
     ]
    }
   ],
   "source": [
    "cv_pipeline.transform(resampled_df).select('tf').show(5,truncate=False)"
   ]
  },
  {
   "cell_type": "code",
   "execution_count": 170,
   "metadata": {},
   "outputs": [
    {
     "data": {
      "text/plain": [
       "1109"
      ]
     },
     "execution_count": 170,
     "metadata": {},
     "output_type": "execute_result"
    }
   ],
   "source": [
    "len(cv_pipeline.stages[0].vocabulary)"
   ]
  },
  {
   "cell_type": "code",
   "execution_count": 187,
   "metadata": {},
   "outputs": [],
   "source": [
    "idf_pipeline = Pipeline(stages=[\n",
    "    cv_pipeline, feature.IDF(inputCol='tf', outputCol='tfidf')\n",
    "]).fit(training_df)"
   ]
  },
  {
   "cell_type": "markdown",
   "metadata": {},
   "source": [
    "# Modeling\n",
    "---"
   ]
  },
  {
   "cell_type": "markdown",
   "metadata": {},
   "source": [
    "### create logistic regression model"
   ]
  },
  {
   "cell_type": "code",
   "execution_count": 191,
   "metadata": {},
   "outputs": [],
   "source": [
    "lr = LogisticRegression(featuresCol='tfidf', labelCol='class_label')"
   ]
  },
  {
   "cell_type": "code",
   "execution_count": 192,
   "metadata": {},
   "outputs": [],
   "source": [
    "lr_pipeline = Pipeline(stages=[\n",
    "    idf_pipeline, \n",
    "    lr\n",
    "]).fit(training_df)"
   ]
  },
  {
   "cell_type": "code",
   "execution_count": 193,
   "metadata": {},
   "outputs": [],
   "source": [
    "import pandas as pd\n",
    "vocabulary = idf_pipeline.stages[0].stages[0].vocabulary\n",
    "weights = lr_pipeline.stages[-1].coefficients.toArray()\n",
    "coeffs_df = pd.DataFrame({'token': vocabulary, 'weight': weights})"
   ]
  },
  {
   "cell_type": "markdown",
   "metadata": {},
   "source": [
    "### Inference"
   ]
  },
  {
   "cell_type": "code",
   "execution_count": 194,
   "metadata": {},
   "outputs": [
    {
     "name": "stdout",
     "output_type": "stream",
     "text": [
      "+-----------------+\n",
      "|     avg(correct)|\n",
      "+-----------------+\n",
      "|0.999905814391561|\n",
      "+-----------------+\n",
      "\n"
     ]
    }
   ],
   "source": [
    "lr_pipeline.transform(validation_df).\\\n",
    "    select(F.expr('float(prediction = class_label)').alias('correct')).\\\n",
    "    select(F.avg('correct')).show()"
   ]
  },
  {
   "cell_type": "markdown",
   "metadata": {},
   "source": [
    "### The positive class is 1 (malicious) so the positive weights indicate a feature that contributes positively to being classified as malicious"
   ]
  },
  {
   "cell_type": "code",
   "execution_count": 195,
   "metadata": {},
   "outputs": [],
   "source": [
    "import pandas as pd\n",
    "vocabulary = idf_pipeline.stages[0].stages[0].vocabulary\n",
    "weights = lr_pipeline.stages[-1].coefficients.toArray()\n",
    "coeffs_df = pd.DataFrame({'token': vocabulary, 'weight': weights})"
   ]
  },
  {
   "cell_type": "code",
   "execution_count": 196,
   "metadata": {},
   "outputs": [
    {
     "data": {
      "text/html": [
       "<div>\n",
       "<style scoped>\n",
       "    .dataframe tbody tr th:only-of-type {\n",
       "        vertical-align: middle;\n",
       "    }\n",
       "\n",
       "    .dataframe tbody tr th {\n",
       "        vertical-align: top;\n",
       "    }\n",
       "\n",
       "    .dataframe thead th {\n",
       "        text-align: right;\n",
       "    }\n",
       "</style>\n",
       "<table border=\"1\" class=\"dataframe\">\n",
       "  <thead>\n",
       "    <tr style=\"text-align: right;\">\n",
       "      <th></th>\n",
       "      <th>token</th>\n",
       "      <th>weight</th>\n",
       "    </tr>\n",
       "  </thead>\n",
       "  <tbody>\n",
       "    <tr>\n",
       "      <th>14</th>\n",
       "      <td>cmd.exe</td>\n",
       "      <td>19.442095</td>\n",
       "    </tr>\n",
       "    <tr>\n",
       "      <th>3</th>\n",
       "      <td>-c</td>\n",
       "      <td>4.422955</td>\n",
       "    </tr>\n",
       "    <tr>\n",
       "      <th>2</th>\n",
       "      <td>powershell.exe</td>\n",
       "      <td>4.334876</td>\n",
       "    </tr>\n",
       "    <tr>\n",
       "      <th>4</th>\n",
       "      <td>bypass</td>\n",
       "      <td>4.266387</td>\n",
       "    </tr>\n",
       "    <tr>\n",
       "      <th>5</th>\n",
       "      <td>-executionpolicy</td>\n",
       "      <td>4.266387</td>\n",
       "    </tr>\n",
       "    <tr>\n",
       "      <th>475</th>\n",
       "      <td>scrobj.dll</td>\n",
       "      <td>2.967283</td>\n",
       "    </tr>\n",
       "    <tr>\n",
       "      <th>485</th>\n",
       "      <td>i</td>\n",
       "      <td>2.967283</td>\n",
       "    </tr>\n",
       "    <tr>\n",
       "      <th>486</th>\n",
       "      <td>u</td>\n",
       "      <td>2.967283</td>\n",
       "    </tr>\n",
       "    <tr>\n",
       "      <th>491</th>\n",
       "      <td>regsvr32.sct</td>\n",
       "      <td>2.967283</td>\n",
       "    </tr>\n",
       "    <tr>\n",
       "      <th>136</th>\n",
       "      <td>get-nettcpconnection</td>\n",
       "      <td>2.695755</td>\n",
       "    </tr>\n",
       "    <tr>\n",
       "      <th>358</th>\n",
       "      <td>regsvr32.exe</td>\n",
       "      <td>2.547415</td>\n",
       "    </tr>\n",
       "    <tr>\n",
       "      <th>143</th>\n",
       "      <td>[system.io.compression.zipfile]</td>\n",
       "      <td>2.262551</td>\n",
       "    </tr>\n",
       "    <tr>\n",
       "      <th>141</th>\n",
       "      <td>-forceadd-type</td>\n",
       "      <td>2.262551</td>\n",
       "    </tr>\n",
       "    <tr>\n",
       "      <th>140</th>\n",
       "      <td>$web.downloadfile</td>\n",
       "      <td>2.262551</td>\n",
       "    </tr>\n",
       "    <tr>\n",
       "      <th>139</th>\n",
       "      <td>system.io.compression.filesystem</td>\n",
       "      <td>2.262551</td>\n",
       "    </tr>\n",
       "    <tr>\n",
       "      <th>138</th>\n",
       "      <td>-assembly</td>\n",
       "      <td>2.262551</td>\n",
       "    </tr>\n",
       "    <tr>\n",
       "      <th>137</th>\n",
       "      <td>extracttodirectory</td>\n",
       "      <td>2.262551</td>\n",
       "    </tr>\n",
       "    <tr>\n",
       "      <th>142</th>\n",
       "      <td>download.sysinternals.comfilespstools.zip</td>\n",
       "      <td>2.262551</td>\n",
       "    </tr>\n",
       "    <tr>\n",
       "      <th>28</th>\n",
       "      <td>gpresult</td>\n",
       "      <td>2.084179</td>\n",
       "    </tr>\n",
       "    <tr>\n",
       "      <th>27</th>\n",
       "      <td>r</td>\n",
       "      <td>2.042425</td>\n",
       "    </tr>\n",
       "  </tbody>\n",
       "</table>\n",
       "</div>"
      ],
      "text/plain": [
       "                                         token     weight\n",
       "14                                     cmd.exe  19.442095\n",
       "3                                           -c   4.422955\n",
       "2                               powershell.exe   4.334876\n",
       "4                                       bypass   4.266387\n",
       "5                             -executionpolicy   4.266387\n",
       "475                                 scrobj.dll   2.967283\n",
       "485                                          i   2.967283\n",
       "486                                          u   2.967283\n",
       "491                               regsvr32.sct   2.967283\n",
       "136                       get-nettcpconnection   2.695755\n",
       "358                               regsvr32.exe   2.547415\n",
       "143            [system.io.compression.zipfile]   2.262551\n",
       "141                             -forceadd-type   2.262551\n",
       "140                          $web.downloadfile   2.262551\n",
       "139           system.io.compression.filesystem   2.262551\n",
       "138                                  -assembly   2.262551\n",
       "137                         extracttodirectory   2.262551\n",
       "142  download.sysinternals.comfilespstools.zip   2.262551\n",
       "28                                    gpresult   2.084179\n",
       "27                                           r   2.042425"
      ]
     },
     "execution_count": 196,
     "metadata": {},
     "output_type": "execute_result"
    }
   ],
   "source": [
    "coeffs_df.sort_values('weight', ascending=False).head(20)"
   ]
  },
  {
   "cell_type": "markdown",
   "metadata": {},
   "source": [
    "### Example of malicious tokens"
   ]
  },
  {
   "cell_type": "code",
   "execution_count": 198,
   "metadata": {},
   "outputs": [
    {
     "name": "stdout",
     "output_type": "stream",
     "text": [
      "+--------------------------------------------------------------------------------------+\n",
      "|cmd_line_split                                                                        |\n",
      "+--------------------------------------------------------------------------------------+\n",
      "|[\"C:\\Users\\Public\\sandcat.exe\", -server http://192.168.4.10:8888, -group my_group, -v]|\n",
      "|[\"C:\\Users\\Public\\sandcat.exe\", -server http://192.168.4.10:8888, -group my_group, -v]|\n",
      "|[\"C:\\Users\\Public\\sandcat.exe\", -server http://192.168.4.10:8888, -group my_group, -v]|\n",
      "|[\"C:\\Users\\Public\\sandcat.exe\", -server http://192.168.4.10:8888, -group my_group, -v]|\n",
      "|[\"C:\\Users\\Public\\sandcat.exe\", -server http://192.168.4.10:8888, -group my_group, -v]|\n",
      "+--------------------------------------------------------------------------------------+\n",
      "only showing top 5 rows\n",
      "\n"
     ]
    }
   ],
   "source": [
    "training_df.filter('class_label == 1').sample(.1).select('cmd_line_split').show(5, truncate=False)"
   ]
  },
  {
   "cell_type": "markdown",
   "metadata": {},
   "source": [
    "### The negative class is 0 (benign) so the negative weights indicate a feature that contributes negatively to being classified as benign"
   ]
  },
  {
   "cell_type": "code",
   "execution_count": 199,
   "metadata": {},
   "outputs": [
    {
     "data": {
      "text/html": [
       "<div>\n",
       "<style scoped>\n",
       "    .dataframe tbody tr th:only-of-type {\n",
       "        vertical-align: middle;\n",
       "    }\n",
       "\n",
       "    .dataframe tbody tr th {\n",
       "        vertical-align: top;\n",
       "    }\n",
       "\n",
       "    .dataframe thead th {\n",
       "        text-align: right;\n",
       "    }\n",
       "</style>\n",
       "<table border=\"1\" class=\"dataframe\">\n",
       "  <thead>\n",
       "    <tr style=\"text-align: right;\">\n",
       "      <th></th>\n",
       "      <th>token</th>\n",
       "      <th>weight</th>\n",
       "    </tr>\n",
       "  </thead>\n",
       "  <tbody>\n",
       "    <tr>\n",
       "      <th>12</th>\n",
       "      <td>system32</td>\n",
       "      <td>-14.358118</td>\n",
       "    </tr>\n",
       "    <tr>\n",
       "      <th>11</th>\n",
       "      <td>windows</td>\n",
       "      <td>-13.004495</td>\n",
       "    </tr>\n",
       "    <tr>\n",
       "      <th>178</th>\n",
       "      <td>taskhostw.exe</td>\n",
       "      <td>-3.187900</td>\n",
       "    </tr>\n",
       "    <tr>\n",
       "      <th>631</th>\n",
       "      <td>wmiadap.exe</td>\n",
       "      <td>-2.747591</td>\n",
       "    </tr>\n",
       "    <tr>\n",
       "      <th>252</th>\n",
       "      <td>consent.exe</td>\n",
       "      <td>-2.508383</td>\n",
       "    </tr>\n",
       "    <tr>\n",
       "      <th>304</th>\n",
       "      <td>fontdrvhost.exe</td>\n",
       "      <td>-2.319579</td>\n",
       "    </tr>\n",
       "    <tr>\n",
       "      <th>397</th>\n",
       "      <td>dwm.exe</td>\n",
       "      <td>-2.203038</td>\n",
       "    </tr>\n",
       "    <tr>\n",
       "      <th>493</th>\n",
       "      <td>sihost.exe</td>\n",
       "      <td>-2.127204</td>\n",
       "    </tr>\n",
       "    <tr>\n",
       "      <th>529</th>\n",
       "      <td>ctfmon.exe</td>\n",
       "      <td>-2.091393</td>\n",
       "    </tr>\n",
       "    <tr>\n",
       "      <th>366</th>\n",
       "      <td>background</td>\n",
       "      <td>-2.086209</td>\n",
       "    </tr>\n",
       "    <tr>\n",
       "      <th>618</th>\n",
       "      <td>ping</td>\n",
       "      <td>-2.062483</td>\n",
       "    </tr>\n",
       "    <tr>\n",
       "      <th>52</th>\n",
       "      <td>whoami</td>\n",
       "      <td>-2.004023</td>\n",
       "    </tr>\n",
       "    <tr>\n",
       "      <th>675</th>\n",
       "      <td>schtasks</td>\n",
       "      <td>-1.942610</td>\n",
       "    </tr>\n",
       "    <tr>\n",
       "      <th>857</th>\n",
       "      <td>hostname</td>\n",
       "      <td>-1.917009</td>\n",
       "    </tr>\n",
       "    <tr>\n",
       "      <th>7</th>\n",
       "      <td>files</td>\n",
       "      <td>-1.897997</td>\n",
       "    </tr>\n",
       "    <tr>\n",
       "      <th>6</th>\n",
       "      <td>program</td>\n",
       "      <td>-1.896978</td>\n",
       "    </tr>\n",
       "    <tr>\n",
       "      <th>355</th>\n",
       "      <td>c</td>\n",
       "      <td>-1.878433</td>\n",
       "    </tr>\n",
       "    <tr>\n",
       "      <th>8</th>\n",
       "      <td>x86</td>\n",
       "      <td>-1.844761</td>\n",
       "    </tr>\n",
       "    <tr>\n",
       "      <th>9</th>\n",
       "      <td>application</td>\n",
       "      <td>-1.817751</td>\n",
       "    </tr>\n",
       "    <tr>\n",
       "      <th>10</th>\n",
       "      <td>chrome.exe</td>\n",
       "      <td>-1.816856</td>\n",
       "    </tr>\n",
       "  </tbody>\n",
       "</table>\n",
       "</div>"
      ],
      "text/plain": [
       "               token     weight\n",
       "12          system32 -14.358118\n",
       "11           windows -13.004495\n",
       "178    taskhostw.exe  -3.187900\n",
       "631      wmiadap.exe  -2.747591\n",
       "252      consent.exe  -2.508383\n",
       "304  fontdrvhost.exe  -2.319579\n",
       "397          dwm.exe  -2.203038\n",
       "493       sihost.exe  -2.127204\n",
       "529       ctfmon.exe  -2.091393\n",
       "366       background  -2.086209\n",
       "618             ping  -2.062483\n",
       "52            whoami  -2.004023\n",
       "675         schtasks  -1.942610\n",
       "857         hostname  -1.917009\n",
       "7              files  -1.897997\n",
       "6            program  -1.896978\n",
       "355                c  -1.878433\n",
       "8                x86  -1.844761\n",
       "9        application  -1.817751\n",
       "10        chrome.exe  -1.816856"
      ]
     },
     "execution_count": 199,
     "metadata": {},
     "output_type": "execute_result"
    }
   ],
   "source": [
    "coeffs_df.sort_values('weight').head(20)"
   ]
  },
  {
   "cell_type": "markdown",
   "metadata": {},
   "source": [
    "### Example of benign tokens"
   ]
  },
  {
   "cell_type": "code",
   "execution_count": 201,
   "metadata": {},
   "outputs": [
    {
     "name": "stdout",
     "output_type": "stream",
     "text": [
      "+------------------------------------------------------------------------------------------------------------------------------+\n",
      "|cmd_line_tokens                                                                                                               |\n",
      "+------------------------------------------------------------------------------------------------------------------------------+\n",
      "|[windows, winsxs, amd64microsoft-windows-servicingstack31bf3856ad364e3510...411none5f53d2d858cf8961, tiworker.exe, -embedding]|\n",
      "|[windows, system32, svchost.exe, -k, swprv]                                                                                   |\n",
      "|[windows, system32, searchindexer.exe, embedding]                                                                             |\n",
      "|[windows, system32, rundll32.exe, windows, system32, edgehtml.dll, #, microsoft.windowsmaps8wekyb3d8bbwe]                     |\n",
      "|[windows, system32, rundll32.exe, windows, system32, edgehtml.dll, #, microsoft.windowssoundrecorder8wekyb3d8bbwe]            |\n",
      "+------------------------------------------------------------------------------------------------------------------------------+\n",
      "only showing top 5 rows\n",
      "\n"
     ]
    }
   ],
   "source": [
    "training_df.filter('class_label == 0').sample(.1).select('cmd_line_tokens').show(5, truncate=False)"
   ]
  },
  {
   "cell_type": "markdown",
   "metadata": {},
   "source": [
    "### Create another model with elastic net regularization to control overfitting and mitigate noisy data\n",
    "+ will grid search over these regParam and elasticNetParam parameters during validation"
   ]
  },
  {
   "cell_type": "code",
   "execution_count": 211,
   "metadata": {},
   "outputs": [],
   "source": [
    "en_lr_estimator = Pipeline(stages=[\n",
    "    idf_pipeline,\n",
    "    LogisticRegression(featuresCol='tfidf',labelCol='class_label',regParam=0.02,elasticNetParam=0.3)\n",
    "])\n",
    "\n",
    "en_lr_pipeline = en_lr_estimator.fit(training_df)"
   ]
  },
  {
   "cell_type": "markdown",
   "metadata": {},
   "source": [
    "### Re-examine the coefficients of the model to determine how well it learned the weights for the tokens"
   ]
  },
  {
   "cell_type": "code",
   "execution_count": 212,
   "metadata": {},
   "outputs": [],
   "source": [
    "coefs = en_lr.stages[-1].coefficients.toArray()\n",
    "word_coefs = pd.DataFrame({'token': cv_pipeline.stages[0].vocabulary, 'weights': coefs})"
   ]
  },
  {
   "cell_type": "markdown",
   "metadata": {},
   "source": [
    "+ malicious tokens"
   ]
  },
  {
   "cell_type": "code",
   "execution_count": 237,
   "metadata": {},
   "outputs": [
    {
     "data": {
      "text/html": [
       "<div>\n",
       "<style scoped>\n",
       "    .dataframe tbody tr th:only-of-type {\n",
       "        vertical-align: middle;\n",
       "    }\n",
       "\n",
       "    .dataframe tbody tr th {\n",
       "        vertical-align: top;\n",
       "    }\n",
       "\n",
       "    .dataframe thead th {\n",
       "        text-align: right;\n",
       "    }\n",
       "</style>\n",
       "<table border=\"1\" class=\"dataframe\">\n",
       "  <thead>\n",
       "    <tr style=\"text-align: right;\">\n",
       "      <th></th>\n",
       "      <th>token</th>\n",
       "      <th>weights</th>\n",
       "    </tr>\n",
       "  </thead>\n",
       "  <tbody>\n",
       "    <tr>\n",
       "      <th>14</th>\n",
       "      <td>cmd.exe</td>\n",
       "      <td>1.317535</td>\n",
       "    </tr>\n",
       "    <tr>\n",
       "      <th>4</th>\n",
       "      <td>bypass</td>\n",
       "      <td>1.173568</td>\n",
       "    </tr>\n",
       "    <tr>\n",
       "      <th>5</th>\n",
       "      <td>-executionpolicy</td>\n",
       "      <td>1.173568</td>\n",
       "    </tr>\n",
       "    <tr>\n",
       "      <th>3</th>\n",
       "      <td>-c</td>\n",
       "      <td>1.130623</td>\n",
       "    </tr>\n",
       "    <tr>\n",
       "      <th>2</th>\n",
       "      <td>powershell.exe</td>\n",
       "      <td>0.885644</td>\n",
       "    </tr>\n",
       "    <tr>\n",
       "      <th>52</th>\n",
       "      <td>whoami</td>\n",
       "      <td>0.453677</td>\n",
       "    </tr>\n",
       "    <tr>\n",
       "      <th>23</th>\n",
       "      <td>arp</td>\n",
       "      <td>0.387180</td>\n",
       "    </tr>\n",
       "    <tr>\n",
       "      <th>22</th>\n",
       "      <td>-a</td>\n",
       "      <td>0.350790</td>\n",
       "    </tr>\n",
       "    <tr>\n",
       "      <th>49</th>\n",
       "      <td>net</td>\n",
       "      <td>0.292329</td>\n",
       "    </tr>\n",
       "    <tr>\n",
       "      <th>48</th>\n",
       "      <td>share</td>\n",
       "      <td>0.260128</td>\n",
       "    </tr>\n",
       "    <tr>\n",
       "      <th>69</th>\n",
       "      <td>public</td>\n",
       "      <td>0.171678</td>\n",
       "    </tr>\n",
       "    <tr>\n",
       "      <th>70</th>\n",
       "      <td>mygroup</td>\n",
       "      <td>0.171678</td>\n",
       "    </tr>\n",
       "    <tr>\n",
       "      <th>68</th>\n",
       "      <td>-server</td>\n",
       "      <td>0.171678</td>\n",
       "    </tr>\n",
       "    <tr>\n",
       "      <th>66</th>\n",
       "      <td>http</td>\n",
       "      <td>0.171678</td>\n",
       "    </tr>\n",
       "    <tr>\n",
       "      <th>65</th>\n",
       "      <td>sandcat.exe</td>\n",
       "      <td>0.171678</td>\n",
       "    </tr>\n",
       "    <tr>\n",
       "      <th>64</th>\n",
       "      <td>-v</td>\n",
       "      <td>0.171678</td>\n",
       "    </tr>\n",
       "    <tr>\n",
       "      <th>67</th>\n",
       "      <td>-group</td>\n",
       "      <td>0.171678</td>\n",
       "    </tr>\n",
       "    <tr>\n",
       "      <th>486</th>\n",
       "      <td>u</td>\n",
       "      <td>0.099179</td>\n",
       "    </tr>\n",
       "    <tr>\n",
       "      <th>485</th>\n",
       "      <td>i</td>\n",
       "      <td>0.099179</td>\n",
       "    </tr>\n",
       "    <tr>\n",
       "      <th>475</th>\n",
       "      <td>scrobj.dll</td>\n",
       "      <td>0.099179</td>\n",
       "    </tr>\n",
       "  </tbody>\n",
       "</table>\n",
       "</div>"
      ],
      "text/plain": [
       "                token   weights\n",
       "14            cmd.exe  1.317535\n",
       "4              bypass  1.173568\n",
       "5    -executionpolicy  1.173568\n",
       "3                  -c  1.130623\n",
       "2      powershell.exe  0.885644\n",
       "52             whoami  0.453677\n",
       "23                arp  0.387180\n",
       "22                 -a  0.350790\n",
       "49                net  0.292329\n",
       "48              share  0.260128\n",
       "69             public  0.171678\n",
       "70            mygroup  0.171678\n",
       "68            -server  0.171678\n",
       "66               http  0.171678\n",
       "65        sandcat.exe  0.171678\n",
       "64                 -v  0.171678\n",
       "67             -group  0.171678\n",
       "486                 u  0.099179\n",
       "485                 i  0.099179\n",
       "475        scrobj.dll  0.099179"
      ]
     },
     "execution_count": 237,
     "metadata": {},
     "output_type": "execute_result"
    }
   ],
   "source": [
    "word_coefs.sort_values('weights', ascending=False).head(20)"
   ]
  },
  {
   "cell_type": "markdown",
   "metadata": {},
   "source": [
    "+ benign tokens"
   ]
  },
  {
   "cell_type": "code",
   "execution_count": 238,
   "metadata": {},
   "outputs": [
    {
     "data": {
      "text/html": [
       "<div>\n",
       "<style scoped>\n",
       "    .dataframe tbody tr th:only-of-type {\n",
       "        vertical-align: middle;\n",
       "    }\n",
       "\n",
       "    .dataframe tbody tr th {\n",
       "        vertical-align: top;\n",
       "    }\n",
       "\n",
       "    .dataframe thead th {\n",
       "        text-align: right;\n",
       "    }\n",
       "</style>\n",
       "<table border=\"1\" class=\"dataframe\">\n",
       "  <thead>\n",
       "    <tr style=\"text-align: right;\">\n",
       "      <th></th>\n",
       "      <th>token</th>\n",
       "      <th>weights</th>\n",
       "    </tr>\n",
       "  </thead>\n",
       "  <tbody>\n",
       "    <tr>\n",
       "      <th>11</th>\n",
       "      <td>windows</td>\n",
       "      <td>-0.641115</td>\n",
       "    </tr>\n",
       "    <tr>\n",
       "      <th>6</th>\n",
       "      <td>program</td>\n",
       "      <td>-0.517428</td>\n",
       "    </tr>\n",
       "    <tr>\n",
       "      <th>7</th>\n",
       "      <td>files</td>\n",
       "      <td>-0.515940</td>\n",
       "    </tr>\n",
       "    <tr>\n",
       "      <th>8</th>\n",
       "      <td>x86</td>\n",
       "      <td>-0.446950</td>\n",
       "    </tr>\n",
       "    <tr>\n",
       "      <th>9</th>\n",
       "      <td>application</td>\n",
       "      <td>-0.413915</td>\n",
       "    </tr>\n",
       "    <tr>\n",
       "      <th>10</th>\n",
       "      <td>chrome.exe</td>\n",
       "      <td>-0.413226</td>\n",
       "    </tr>\n",
       "    <tr>\n",
       "      <th>12</th>\n",
       "      <td>system32</td>\n",
       "      <td>-0.403662</td>\n",
       "    </tr>\n",
       "    <tr>\n",
       "      <th>178</th>\n",
       "      <td>taskhostw.exe</td>\n",
       "      <td>-0.217318</td>\n",
       "    </tr>\n",
       "    <tr>\n",
       "      <th>71</th>\n",
       "      <td>-embedding</td>\n",
       "      <td>-0.161987</td>\n",
       "    </tr>\n",
       "    <tr>\n",
       "      <th>113</th>\n",
       "      <td>microsoft.net</td>\n",
       "      <td>-0.097604</td>\n",
       "    </tr>\n",
       "    <tr>\n",
       "      <th>99</th>\n",
       "      <td>v4..</td>\n",
       "      <td>-0.077009</td>\n",
       "    </tr>\n",
       "    <tr>\n",
       "      <th>102</th>\n",
       "      <td>v1.</td>\n",
       "      <td>-0.070213</td>\n",
       "    </tr>\n",
       "    <tr>\n",
       "      <th>103</th>\n",
       "      <td>windowspowershell</td>\n",
       "      <td>-0.070213</td>\n",
       "    </tr>\n",
       "    <tr>\n",
       "      <th>0</th>\n",
       "      <td>google</td>\n",
       "      <td>-0.068985</td>\n",
       "    </tr>\n",
       "    <tr>\n",
       "      <th>155</th>\n",
       "      <td>-servername</td>\n",
       "      <td>-0.067342</td>\n",
       "    </tr>\n",
       "    <tr>\n",
       "      <th>104</th>\n",
       "      <td>documents</td>\n",
       "      <td>-0.062676</td>\n",
       "    </tr>\n",
       "    <tr>\n",
       "      <th>432</th>\n",
       "      <td>-t</td>\n",
       "      <td>-0.062515</td>\n",
       "    </tr>\n",
       "    <tr>\n",
       "      <th>106</th>\n",
       "      <td>&amp;</td>\n",
       "      <td>-0.062149</td>\n",
       "    </tr>\n",
       "    <tr>\n",
       "      <th>107</th>\n",
       "      <td>-noexit</td>\n",
       "      <td>-0.062149</td>\n",
       "    </tr>\n",
       "    <tr>\n",
       "      <th>1</th>\n",
       "      <td>chrome</td>\n",
       "      <td>-0.056146</td>\n",
       "    </tr>\n",
       "  </tbody>\n",
       "</table>\n",
       "</div>"
      ],
      "text/plain": [
       "                 token   weights\n",
       "11             windows -0.641115\n",
       "6              program -0.517428\n",
       "7                files -0.515940\n",
       "8                  x86 -0.446950\n",
       "9          application -0.413915\n",
       "10          chrome.exe -0.413226\n",
       "12            system32 -0.403662\n",
       "178      taskhostw.exe -0.217318\n",
       "71          -embedding -0.161987\n",
       "113      microsoft.net -0.097604\n",
       "99                v4.. -0.077009\n",
       "102                v1. -0.070213\n",
       "103  windowspowershell -0.070213\n",
       "0               google -0.068985\n",
       "155        -servername -0.067342\n",
       "104          documents -0.062676\n",
       "432                 -t -0.062515\n",
       "106                  & -0.062149\n",
       "107            -noexit -0.062149\n",
       "1               chrome -0.056146"
      ]
     },
     "execution_count": 238,
     "metadata": {},
     "output_type": "execute_result"
    }
   ],
   "source": [
    "word_coefs.sort_values('weights', ascending=True).head(20)"
   ]
  },
  {
   "cell_type": "markdown",
   "metadata": {},
   "source": [
    "# Model Tuning\n",
    "\n",
    "+ Perform grid-search over TF-IDF and regularization parameters\n",
    "---"
   ]
  },
  {
   "cell_type": "code",
   "execution_count": 206,
   "metadata": {},
   "outputs": [
    {
     "data": {
      "text/plain": [
       "[PipelineModel_40713b69237c,\n",
       " LogisticRegressionModel: uid = LogisticRegression_42b2cafaa886, numClasses = 2, numFeatures = 1109]"
      ]
     },
     "execution_count": 206,
     "metadata": {},
     "output_type": "execute_result"
    }
   ],
   "source": [
    "en_lr.stages"
   ]
  },
  {
   "cell_type": "code",
   "execution_count": 207,
   "metadata": {},
   "outputs": [],
   "source": [
    "en_lr_val = LogisticRegression()"
   ]
  },
  {
   "cell_type": "code",
   "execution_count": 225,
   "metadata": {},
   "outputs": [
    {
     "data": {
      "text/plain": [
       "[{Param(parent='LogisticRegression_42b2cafaa886', name='regParam', doc='regularization parameter (>= 0)'): 0.0,\n",
       "  Param(parent='LogisticRegression_42b2cafaa886', name='elasticNetParam', doc='the ElasticNet mixing parameter, in range [0, 1]. For alpha = 0, the penalty is an L2 penalty. For alpha = 1, it is an L1 penalty'): 0.0},\n",
       " {Param(parent='LogisticRegression_42b2cafaa886', name='regParam', doc='regularization parameter (>= 0)'): 0.0,\n",
       "  Param(parent='LogisticRegression_42b2cafaa886', name='elasticNetParam', doc='the ElasticNet mixing parameter, in range [0, 1]. For alpha = 0, the penalty is an L2 penalty. For alpha = 1, it is an L1 penalty'): 0.2},\n",
       " {Param(parent='LogisticRegression_42b2cafaa886', name='regParam', doc='regularization parameter (>= 0)'): 0.0,\n",
       "  Param(parent='LogisticRegression_42b2cafaa886', name='elasticNetParam', doc='the ElasticNet mixing parameter, in range [0, 1]. For alpha = 0, the penalty is an L2 penalty. For alpha = 1, it is an L1 penalty'): 0.4},\n",
       " {Param(parent='LogisticRegression_42b2cafaa886', name='regParam', doc='regularization parameter (>= 0)'): 0.01,\n",
       "  Param(parent='LogisticRegression_42b2cafaa886', name='elasticNetParam', doc='the ElasticNet mixing parameter, in range [0, 1]. For alpha = 0, the penalty is an L2 penalty. For alpha = 1, it is an L1 penalty'): 0.0},\n",
       " {Param(parent='LogisticRegression_42b2cafaa886', name='regParam', doc='regularization parameter (>= 0)'): 0.01,\n",
       "  Param(parent='LogisticRegression_42b2cafaa886', name='elasticNetParam', doc='the ElasticNet mixing parameter, in range [0, 1]. For alpha = 0, the penalty is an L2 penalty. For alpha = 1, it is an L1 penalty'): 0.2},\n",
       " {Param(parent='LogisticRegression_42b2cafaa886', name='regParam', doc='regularization parameter (>= 0)'): 0.01,\n",
       "  Param(parent='LogisticRegression_42b2cafaa886', name='elasticNetParam', doc='the ElasticNet mixing parameter, in range [0, 1]. For alpha = 0, the penalty is an L2 penalty. For alpha = 1, it is an L1 penalty'): 0.4},\n",
       " {Param(parent='LogisticRegression_42b2cafaa886', name='regParam', doc='regularization parameter (>= 0)'): 0.02,\n",
       "  Param(parent='LogisticRegression_42b2cafaa886', name='elasticNetParam', doc='the ElasticNet mixing parameter, in range [0, 1]. For alpha = 0, the penalty is an L2 penalty. For alpha = 1, it is an L1 penalty'): 0.0},\n",
       " {Param(parent='LogisticRegression_42b2cafaa886', name='regParam', doc='regularization parameter (>= 0)'): 0.02,\n",
       "  Param(parent='LogisticRegression_42b2cafaa886', name='elasticNetParam', doc='the ElasticNet mixing parameter, in range [0, 1]. For alpha = 0, the penalty is an L2 penalty. For alpha = 1, it is an L1 penalty'): 0.2},\n",
       " {Param(parent='LogisticRegression_42b2cafaa886', name='regParam', doc='regularization parameter (>= 0)'): 0.02,\n",
       "  Param(parent='LogisticRegression_42b2cafaa886', name='elasticNetParam', doc='the ElasticNet mixing parameter, in range [0, 1]. For alpha = 0, the penalty is an L2 penalty. For alpha = 1, it is an L1 penalty'): 0.4}]"
      ]
     },
     "execution_count": 225,
     "metadata": {},
     "output_type": "execute_result"
    }
   ],
   "source": [
    "paramGrid = (ParamGridBuilder() \n",
    "                 .addGrid(en_lr.stages[1].regParam, [0., 0.01, 0.02]) \n",
    "                 .addGrid(en_lr.stages[1].elasticNetParam, [0., 0.2, 0.4]) \n",
    "                 .build()\n",
    "            )\n",
    "paramGrid"
   ]
  },
  {
   "cell_type": "markdown",
   "metadata": {},
   "source": [
    "+ Loop over each parameter mapping in paramGrid and fit model"
   ]
  },
  {
   "cell_type": "code",
   "execution_count": 216,
   "metadata": {},
   "outputs": [
    {
     "name": "stdout",
     "output_type": "stream",
     "text": [
      "Fitting model 0\n",
      "Fitting model 1\n",
      "Fitting model 2\n",
      "Fitting model 3\n",
      "Fitting model 4\n",
      "Fitting model 5\n",
      "Fitting model 6\n",
      "Fitting model 7\n",
      "Fitting model 8\n"
     ]
    }
   ],
   "source": [
    "models = []\n",
    "for g in range(len(paramGrid)):\n",
    "    print(\"Fitting model {}\".format(g))\n",
    "    _model = en_lr_estimator.fit(validation_df, paramGrid[g])\n",
    "    models.append(_model)"
   ]
  },
  {
   "cell_type": "markdown",
   "metadata": {},
   "source": [
    "+ Get the accuracy of each model"
   ]
  },
  {
   "cell_type": "code",
   "execution_count": 220,
   "metadata": {},
   "outputs": [],
   "source": [
    "accuracies = [m.\\\n",
    "    transform(validation_df).\\\n",
    "    select(F.avg(F.expr('float(class_label = prediction)')).alias('accuracy')).\\\n",
    "    first().\\\n",
    "    accuracy for m in models]"
   ]
  },
  {
   "cell_type": "code",
   "execution_count": 221,
   "metadata": {},
   "outputs": [
    {
     "data": {
      "text/plain": [
       "[0.9988383774959186,\n",
       " 0.9988383774959186,\n",
       " 0.9988383774959186,\n",
       " 0.9988383774959186,\n",
       " 0.9988383774959186,\n",
       " 0.9988383774959186,\n",
       " 0.9988383774959186,\n",
       " 0.9988383774959186,\n",
       " 0.9988383774959186]"
      ]
     },
     "execution_count": 221,
     "metadata": {},
     "output_type": "execute_result"
    }
   ],
   "source": [
    "accuracies"
   ]
  },
  {
   "cell_type": "markdown",
   "metadata": {},
   "source": [
    "# Cross validation \n",
    "+ test generalization performance on test dataset\n",
    "\n",
    "---"
   ]
  },
  {
   "cell_type": "code",
   "execution_count": 233,
   "metadata": {},
   "outputs": [
    {
     "data": {
      "text/plain": [
       "0.9988383774959186"
      ]
     },
     "execution_count": 233,
     "metadata": {},
     "output_type": "execute_result"
    }
   ],
   "source": [
    "import numpy as np\n",
    "best_model_idx = np.argmax(accuracies)\n",
    "best_model = models[best_model_idx]\n",
    "accuracies[best_model_idx]"
   ]
  },
  {
   "cell_type": "code",
   "execution_count": 234,
   "metadata": {},
   "outputs": [
    {
     "data": {
      "text/plain": [
       "{Param(parent='LogisticRegression_42b2cafaa886', name='regParam', doc='regularization parameter (>= 0)'): 0.0,\n",
       " Param(parent='LogisticRegression_42b2cafaa886', name='elasticNetParam', doc='the ElasticNet mixing parameter, in range [0, 1]. For alpha = 0, the penalty is an L2 penalty. For alpha = 1, it is an L1 penalty'): 0.0}"
      ]
     },
     "execution_count": 234,
     "metadata": {},
     "output_type": "execute_result"
    }
   ],
   "source": [
    "paramGrid[best_model_idx]"
   ]
  },
  {
   "cell_type": "code",
   "execution_count": 236,
   "metadata": {},
   "outputs": [
    {
     "name": "stdout",
     "output_type": "stream",
     "text": [
      "+------------------+\n",
      "|          accuracy|\n",
      "+------------------+\n",
      "|0.9986903648269411|\n",
      "+------------------+\n",
      "\n"
     ]
    }
   ],
   "source": [
    "best_model.\\\n",
    "    transform(testing_df).\\\n",
    "    select(F.avg(F.expr('float(class_label = prediction)')).alias('accuracy')).\\\n",
    "    show()"
   ]
  },
  {
   "cell_type": "markdown",
   "metadata": {},
   "source": [
    "### Write LR intecept, coefficients, and CV vocabulary to disk"
   ]
  },
  {
   "cell_type": "code",
   "execution_count": null,
   "metadata": {},
   "outputs": [],
   "source": [
    "en_lr.stages[1].intercept"
   ]
  },
  {
   "cell_type": "code",
   "execution_count": null,
   "metadata": {},
   "outputs": [],
   "source": [
    "import pickle\n",
    "\n",
    "with open('coefs_array.pkl', 'wb') as f:\n",
    "    pickle.dump(coefs, f)\n",
    "with open('intercept.pkl', 'wb') as f:\n",
    "    pickle.dump(en_lr.stages[1].intercept, f)\n",
    "with open('cv_vocabulary.pkl', 'wb') as f:\n",
    "    pickle.dump(en_lr.stages[0].stages[0].stages[0].vocabulary, f)"
   ]
  }
 ],
 "metadata": {
  "kernelspec": {
   "display_name": "Python 3",
   "language": "python",
   "name": "python3"
  },
  "language_info": {
   "codemirror_mode": {
    "name": "ipython",
    "version": 3
   },
   "file_extension": ".py",
   "mimetype": "text/x-python",
   "name": "python",
   "nbconvert_exporter": "python",
   "pygments_lexer": "ipython3",
   "version": "3.7.3"
  }
 },
 "nbformat": 4,
 "nbformat_minor": 4
}
