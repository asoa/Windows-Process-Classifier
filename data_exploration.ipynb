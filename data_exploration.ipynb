{
 "cells": [
  {
   "cell_type": "code",
   "execution_count": 1,
   "metadata": {},
   "outputs": [],
   "source": [
    "from pyspark.conf import SparkConf\n",
    "from pyspark.sql import SparkSession\n",
    "from pyspark.sql.types import *\n",
    "import pandas as pd"
   ]
  },
  {
   "cell_type": "code",
   "execution_count": 2,
   "metadata": {},
   "outputs": [
    {
     "data": {
      "text/plain": [
       "<pyspark.conf.SparkConf at 0x7f9673e0dda0>"
      ]
     },
     "execution_count": 2,
     "metadata": {},
     "output_type": "execute_result"
    }
   ],
   "source": [
    "conf = (SparkConf()\n",
    "            .setAppName('data_explore')\n",
    "            .setMaster('spark://spark-master:7077')\n",
    "       )\n",
    "conf.set(\"spark.executor.memory\", \"6g\")\n",
    "conf.set(\"spark.driver.maxResultSize\", \"0\")\n",
    "conf.set(\"spark.sql.shuffle.partitions\", \"10\")"
   ]
  },
  {
   "cell_type": "code",
   "execution_count": 3,
   "metadata": {},
   "outputs": [],
   "source": [
    "spark = SparkSession.builder.config(conf=conf).getOrCreate()"
   ]
  },
  {
   "cell_type": "code",
   "execution_count": 4,
   "metadata": {},
   "outputs": [],
   "source": [
    "df = (spark.read.format('csv')\n",
    "      .option('inferSchema', 'true')\n",
    "      .option('escape', '\"')\n",
    "      .option('header', 'true')\n",
    "      .load('hdfs://namenode:9000/data/process_logs.csv')\n",
    "     )"
   ]
  },
  {
   "cell_type": "markdown",
   "metadata": {},
   "source": [
    "## Data Cleaning and feature engineering\n",
    "+ parse process name/process path\n",
    "+ split `Process_Command_Line` into tokens to count arguments\n",
    "+ add boolean value to identify if process was started by an administrator\n",
    "+ add boolean value to identify if path is in trusted directory: [C:\\Program Files, C:\\Windows]"
   ]
  },
  {
   "cell_type": "code",
   "execution_count": 23,
   "metadata": {},
   "outputs": [],
   "source": [
    "from pyspark.sql.functions import regexp_extract, regexp_replace, col, count, split, size, to_date\n",
    "clean_df = df.select(\n",
    "    '*',\n",
    "    regexp_extract(col('New_Process_Name'), r'(\\w+.?\\w+$)', 0).alias('process_name'),\n",
    "    regexp_extract(col('New_Process_Name'), r\"(\\w?:?.*\\\\?\\w+\\s?\\w+\\\\)\", 0).alias('process_path'),\n",
    "    regexp_replace(col('user'), r'\\$', '').alias('user_name'),\n",
    "    split(col('Process_Command_Line'), '\\s+').alias('cmd_line_split')\n",
    ").selectExpr(\n",
    "        'Account_Domain as domain', 'Creator_Process_ID as creator_process_id', 'EventCode as event_code', 'host', 'Logon_ID as logon_id', 'member_id', \\\n",
    "        'New_Process_ID as new_process_id', 'Process_Command_Line as command_line', 'process_name', 'process_path', 'session_id', 'user_name', 'cmd_line_split', '_time as time'\n",
    ").withColumn(\n",
    "    'is_admin', col('member_id').isin(['FROTHLY\\\\administrator', 'NT AUTHORITY\\\\SYSTEM', 'NT AUTHORITY\\\\LOCAL SERVICE', 'NT AUTHORITY\\\\NETWORK SERVICE']).cast('int')\n",
    ").withColumn(\n",
    "    'trusted_path', (col('process_path').like('%C:\\Program Files%') | col('process_path').like('%C:\\Windows%')).cast('int')\n",
    ").dropna(how='any')\n"
   ]
  },
  {
   "cell_type": "code",
   "execution_count": 24,
   "metadata": {},
   "outputs": [
    {
     "name": "stdout",
     "output_type": "stream",
     "text": [
      "+------------------+--------+----------------------+------------+------------------------------------------------------------------------------------+-----+\n",
      "|user_name         |is_admin|process_name          |trusted_path|process_path                                                                        |count|\n",
      "+------------------+--------+----------------------+------------+------------------------------------------------------------------------------------+-----+\n",
      "|fyodor.malteskesko|0       |chrome.exe            |1           |C:\\Program Files (x86)\\Google\\Chrome\\Application\\                                   |2109 |\n",
      "|WRK-BTUN          |1       |aitagent.exe          |1           |C:\\Windows\\System32\\                                                                |2    |\n",
      "|VENUS             |1       |DWHWizrd.exe          |1           |C:\\Program Files (x86)\\Symantec\\Symantec Endpoint Protection\\12.1.7266.6800.105\\Bin\\|1    |\n",
      "|VENUS             |1       |netmon.exe            |1           |C:\\Program Files\\SplunkUniversalForwarder\\bin\\                                      |7832 |\n",
      "|WRK-ATURING       |1       |GoogleUpdate.exe      |1           |C:\\Program Files (x86)\\Google\\Update\\                                               |474  |\n",
      "|WRK-BTUN          |1       |SearchProtocolHost.exe|1           |C:\\Windows\\System32\\                                                                |438  |\n",
      "|MERCURY           |1       |dwm.exe               |1           |C:\\Windows\\System32\\                                                                |1    |\n",
      "|WRK-FMALTES       |1       |GoogleUpdate.exe      |1           |C:\\Program Files (x86)\\Google\\Update\\                                               |437  |\n",
      "|amber.turing      |0       |US.exe                |0           |C:\\Users\\amber.turing\\Downloads\\                                                    |1    |\n",
      "|MERCURY           |1       |sppsvc.exe            |1           |C:\\Windows\\System32\\                                                                |2    |\n",
      "|WRK-ATURING       |1       |powershell.exe        |1           |C:\\Program Files\\SplunkUniversalForwarder\\bin\\                                      |14376|\n",
      "|WRK-GHOPPY        |1       |svchost.exe           |1           |C:\\Windows\\System32\\                                                                |1    |\n",
      "|billy.tun         |0       |schtasks.exe          |1           |C:\\Windows\\System32\\                                                                |1    |\n",
      "|WRK-ATURING       |1       |conhost.exe           |1           |C:\\Windows\\System32\\                                                                |5845 |\n",
      "|WRK-GHOPPY        |1       |NETSTAT.EXE           |1           |C:\\Windows\\System32\\                                                                |26   |\n",
      "|service3          |0       |whoami.exe            |1           |C:\\Windows\\System32\\                                                                |3    |\n",
      "|WRK-ATURING       |1       |ehrec.exe             |1           |C:\\Windows\\ehome\\                                                                   |1    |\n",
      "|grace.hoppy       |0       |cmd.exe               |1           |C:\\Windows\\System32\\                                                                |1    |\n",
      "|WRK-FMALTES       |1       |powershell.exe        |1           |C:\\Program Files\\SplunkUniversalForwarder\\bin\\                                      |14485|\n",
      "|VENUS             |1       |taskhost.exe          |1           |C:\\Windows\\System32\\                                                                |17   |\n",
      "+------------------+--------+----------------------+------------+------------------------------------------------------------------------------------+-----+\n",
      "only showing top 20 rows\n",
      "\n"
     ]
    }
   ],
   "source": [
    "clean_df.groupBy('user_name','is_admin','process_name','trusted_path','process_path').count().show(truncate=False)"
   ]
  },
  {
   "cell_type": "markdown",
   "metadata": {},
   "source": [
    "## process count"
   ]
  },
  {
   "cell_type": "code",
   "execution_count": 25,
   "metadata": {},
   "outputs": [],
   "source": [
    "from pyspark.sql.functions import count, desc, asc, expr\n",
    "df_process_count = clean_df.groupBy('process_name').agg(\n",
    "    count('process_name').alias('process_count')\n",
    ")"
   ]
  },
  {
   "cell_type": "code",
   "execution_count": 26,
   "metadata": {},
   "outputs": [
    {
     "name": "stdout",
     "output_type": "stream",
     "text": [
      "+----------------------+-------------+\n",
      "|process_name          |process_count|\n",
      "+----------------------+-------------+\n",
      "|powershell.exe        |124310       |\n",
      "|winprintmon.exe       |74964        |\n",
      "|MonitorNoHandle.exe   |70836        |\n",
      "|netmon.exe            |68734        |\n",
      "|winhostinfo.exe       |66849        |\n",
      "|admon.exe             |55794        |\n",
      "|conhost.exe           |39452        |\n",
      "|cscript.exe           |27535        |\n",
      "|dllhost.exe           |13691        |\n",
      "|schtasks.exe          |9187         |\n",
      "|chrome.exe            |8744         |\n",
      "|cmd.exe               |7915         |\n",
      "|wsmprovhost.exe       |4901         |\n",
      "|SearchProtocolHost.exe|4862         |\n",
      "|slui.exe              |4438         |\n",
      "|SearchFilterHost.exe  |3091         |\n",
      "|GoogleUpdate.exe      |2811         |\n",
      "|WmiPrvSE.exe          |2582         |\n",
      "|taskhost.exe          |2372         |\n",
      "|OSPPSVC.EXE           |1722         |\n",
      "+----------------------+-------------+\n",
      "only showing top 20 rows\n",
      "\n"
     ]
    }
   ],
   "source": [
    "df_process_count.orderBy(desc('process_count')).show(20, False)"
   ]
  },
  {
   "cell_type": "markdown",
   "metadata": {},
   "source": [
    "# create additional features\n",
    "+ number of command line arguments\n",
    "+ count of path \n",
    "+ if executable is common attack tool (i.e. at.exe, sc.exe, powershell.exe)"
   ]
  },
  {
   "cell_type": "markdown",
   "metadata": {},
   "source": [
    "## command line argument count"
   ]
  },
  {
   "cell_type": "code",
   "execution_count": 27,
   "metadata": {},
   "outputs": [],
   "source": [
    "from pyspark.sql.functions import split\n",
    "df_arg_count = clean_df.select(\n",
    "    '*'\n",
    ").selectExpr(\n",
    "    'command_line',\n",
    "    'size(cmd_line_split) as argument_count'\n",
    ")"
   ]
  },
  {
   "cell_type": "code",
   "execution_count": 28,
   "metadata": {},
   "outputs": [
    {
     "name": "stdout",
     "output_type": "stream",
     "text": [
      "+---------------------------------------------------------------------------+--------------+\n",
      "|command_line                                                               |argument_count|\n",
      "+---------------------------------------------------------------------------+--------------+\n",
      "|\"C:\\Program Files\\SplunkUniversalForwarder\\bin\\splunk-netmon.exe\"          |2             |\n",
      "|\"C:\\Program Files\\SplunkUniversalForwarder\\bin\\splunk-powershell.exe\" --ps2|3             |\n",
      "|\"C:\\Program Files\\SplunkUniversalForwarder\\bin\\splunk-netmon.exe\"          |2             |\n",
      "|\"C:\\Program Files\\SplunkUniversalForwarder\\bin\\splunk-winhostinfo.exe\"     |2             |\n",
      "|\"C:\\Program Files\\SplunkUniversalForwarder\\bin\\splunk-powershell.exe\" --ps2|3             |\n",
      "|\"C:\\Program Files\\SplunkUniversalForwarder\\bin\\splunk-powershell.exe\"      |2             |\n",
      "|\"C:\\Program Files\\SplunkUniversalForwarder\\bin\\splunk-netmon.exe\"          |2             |\n",
      "|\"C:\\Program Files\\SplunkUniversalForwarder\\bin\\splunk-winhostinfo.exe\"     |2             |\n",
      "|\"C:\\Program Files\\SplunkUniversalForwarder\\bin\\splunk-MonitorNoHandle.exe\" |2             |\n",
      "|\"C:\\Program Files\\SplunkUniversalForwarder\\bin\\splunk-winhostinfo.exe\"     |2             |\n",
      "+---------------------------------------------------------------------------+--------------+\n",
      "only showing top 10 rows\n",
      "\n"
     ]
    }
   ],
   "source": [
    "df_arg_count.show(10, False)"
   ]
  },
  {
   "cell_type": "markdown",
   "metadata": {},
   "source": [
    "## path count\n",
    "+ count the number of times of the executable's path "
   ]
  },
  {
   "cell_type": "code",
   "execution_count": 29,
   "metadata": {},
   "outputs": [],
   "source": [
    "df_path_count = clean_df.select('process_path').groupBy('process_path').count().orderBy(desc('count'))"
   ]
  },
  {
   "cell_type": "code",
   "execution_count": 30,
   "metadata": {},
   "outputs": [
    {
     "name": "stdout",
     "output_type": "stream",
     "text": [
      "+-------------------------------------------------+------+\n",
      "|process_path                                     |count |\n",
      "+-------------------------------------------------+------+\n",
      "|C:\\Program Files\\SplunkUniversalForwarder\\bin\\   |456891|\n",
      "|C:\\Windows\\System32\\                             |110607|\n",
      "|C:\\Windows\\SysWOW64\\                             |17233 |\n",
      "|C:\\Program Files (x86)\\Google\\Chrome\\Application\\|8744  |\n",
      "|C:\\Windows\\System32\\WindowsPowerShell\\           |4628  |\n",
      "+-------------------------------------------------+------+\n",
      "only showing top 5 rows\n",
      "\n"
     ]
    }
   ],
   "source": [
    "df_path_count.show(5, False)"
   ]
  },
  {
   "cell_type": "markdown",
   "metadata": {},
   "source": [
    "## common_attack_tool check\n",
    "+ import splunk tools.csv and create tool array\n",
    "+ check to see if the exectuble is a common attack tools such as [at.exe, sc.exe, powershell.exe]"
   ]
  },
  {
   "cell_type": "code",
   "execution_count": 31,
   "metadata": {},
   "outputs": [],
   "source": [
    "tool_df = (spark.read.format('csv')\n",
    "           .option('inferschema', 'true')\n",
    "           .option('header', 'true')\n",
    "           .load('hdfs://namenode:9000/data/tools.csv')\n",
    "          )"
   ]
  },
  {
   "cell_type": "code",
   "execution_count": 32,
   "metadata": {},
   "outputs": [],
   "source": [
    "# create list of tool names by taking the value of the filename key from every row object in tool_df\n",
    "tool_list = [x['filename'] for x in tool_df.select('filename').collect()]"
   ]
  },
  {
   "cell_type": "code",
   "execution_count": 33,
   "metadata": {},
   "outputs": [],
   "source": [
    "util_df = clean_df.groupBy('process_name').agg(\n",
    "    clean_df['process_name'].isin(tool_list).cast('int').alias('common_attack_tool')\n",
    ")"
   ]
  },
  {
   "cell_type": "code",
   "execution_count": 34,
   "metadata": {},
   "outputs": [
    {
     "name": "stdout",
     "output_type": "stream",
     "text": [
      "+--------------------+------------------+\n",
      "|        process_name|common_attack_tool|\n",
      "+--------------------+------------------+\n",
      "|         OSPPSVC.EXE|                 0|\n",
      "|          wermgr.exe|                 0|\n",
      "|         cscript.exe|                 0|\n",
      "|             tor.exe|                 0|\n",
      "|VMwareResolutionS...|                 0|\n",
      "|          cvtres.exe|                 0|\n",
      "|       SymCorpUI.exe|                 0|\n",
      "|          tlsbln.exe|                 0|\n",
      "|         ehsched.exe|                 0|\n",
      "|     vncserverui.exe|                 0|\n",
      "|             mmc.exe|                 0|\n",
      "|      taskhostex.exe|                 0|\n",
      "|        regsvr32.exe|                 0|\n",
      "|        ccSvcHst.exe|                 0|\n",
      "|             dwm.exe|                 0|\n",
      "|         perfmon.exe|                 0|\n",
      "|OfficeClickToRun.exe|                 0|\n",
      "|     winprintmon.exe|                 0|\n",
      "|             wmi.exe|                 0|\n",
      "|        DVDMaker.exe|                 0|\n",
      "+--------------------+------------------+\n",
      "only showing top 20 rows\n",
      "\n"
     ]
    }
   ],
   "source": [
    "util_df.show()"
   ]
  },
  {
   "cell_type": "markdown",
   "metadata": {},
   "source": [
    "# combine data frames"
   ]
  },
  {
   "cell_type": "code",
   "execution_count": 35,
   "metadata": {},
   "outputs": [],
   "source": [
    "df_process = clean_df.join(df_process_count, on='process_name').selectExpr(\n",
    "    'process_name', 'process_count', 'command_line', 'process_path', 'is_admin', 'trusted_path'\n",
    ")"
   ]
  },
  {
   "cell_type": "code",
   "execution_count": 36,
   "metadata": {},
   "outputs": [],
   "source": [
    "df_arg = df_process.join(df_arg_count, on='command_line').selectExpr(\n",
    "    'process_name', 'process_count', 'command_line', 'process_path', 'is_admin', 'trusted_path', 'argument_count'\n",
    ")"
   ]
  },
  {
   "cell_type": "code",
   "execution_count": 37,
   "metadata": {},
   "outputs": [
    {
     "name": "stdout",
     "output_type": "stream",
     "text": [
      "+--------------------+-------------+--------------------+--------------------+--------+------------+--------------+\n",
      "|        process_name|process_count|        command_line|        process_path|is_admin|trusted_path|argument_count|\n",
      "+--------------------+-------------+--------------------+--------------------+--------+------------+--------------+\n",
      "|SearchProtocolHos...|         4862|\"C:\\Windows\\syste...|C:\\Windows\\System32\\|       1|           1|            19|\n",
      "|SearchProtocolHos...|         4862|\"C:\\Windows\\syste...|C:\\Windows\\System32\\|       1|           1|            19|\n",
      "|SearchProtocolHos...|         4862|\"C:\\Windows\\syste...|C:\\Windows\\System32\\|       1|           1|            19|\n",
      "|SearchProtocolHos...|         4862|\"C:\\Windows\\syste...|C:\\Windows\\System32\\|       1|           1|            19|\n",
      "|SearchProtocolHos...|         4862|\"C:\\Windows\\syste...|C:\\Windows\\System32\\|       1|           1|            19|\n",
      "+--------------------+-------------+--------------------+--------------------+--------+------------+--------------+\n",
      "only showing top 5 rows\n",
      "\n"
     ]
    }
   ],
   "source": [
    "df_arg.show(5)"
   ]
  },
  {
   "cell_type": "code",
   "execution_count": null,
   "metadata": {},
   "outputs": [],
   "source": [
    "df_path = df_arg.join(df_path_count, on='process_path').selectExpr(\n",
    "    'process_name', 'process_count', 'command_line', 'process_path', 'is_admin', 'trusted_path', 'argument_count', 'count'\n",
    ").show(10,False) "
   ]
  }
 ],
 "metadata": {
  "kernelspec": {
   "display_name": "Python 3",
   "language": "python",
   "name": "python3"
  },
  "language_info": {
   "codemirror_mode": {
    "name": "ipython",
    "version": 3
   },
   "file_extension": ".py",
   "mimetype": "text/x-python",
   "name": "python",
   "nbconvert_exporter": "python",
   "pygments_lexer": "ipython3",
   "version": "3.7.3"
  }
 },
 "nbformat": 4,
 "nbformat_minor": 4
}
