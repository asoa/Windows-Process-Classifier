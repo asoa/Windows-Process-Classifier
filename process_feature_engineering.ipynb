{
 "cells": [
  {
   "cell_type": "code",
   "execution_count": 1,
   "metadata": {},
   "outputs": [],
   "source": [
    "from pyspark.conf import SparkConf\n",
    "from pyspark.sql import SparkSession\n",
    "from pyspark.sql.types import *\n",
    "import pyspark.sql.functions as F\n",
    "import pandas as pd\n",
    "import matplotlib.pyplot as plt\n",
    "from pyspark.ml.feature import StandardScaler"
   ]
  },
  {
   "cell_type": "code",
   "execution_count": 2,
   "metadata": {},
   "outputs": [
    {
     "data": {
      "text/plain": [
       "<pyspark.conf.SparkConf at 0x7fd570735be0>"
      ]
     },
     "execution_count": 2,
     "metadata": {},
     "output_type": "execute_result"
    }
   ],
   "source": [
    "conf = (SparkConf()\n",
    "            .setAppName('data_explore')\n",
    "            .setMaster('spark://spark-master:7077')\n",
    "       )\n",
    "conf.set(\"spark.executor.memory\", \"6g\")\n",
    "conf.set(\"spark.driver.maxResultSize\", \"0\")\n",
    "conf.set(\"spark.sql.shuffle.partitions\", \"5\")\n",
    "conf.set(\"spark.driver.memory\", \"3g\")"
   ]
  },
  {
   "cell_type": "code",
   "execution_count": 3,
   "metadata": {},
   "outputs": [],
   "source": [
    "spark = SparkSession.builder.config(conf=conf).getOrCreate()"
   ]
  },
  {
   "cell_type": "code",
   "execution_count": 4,
   "metadata": {},
   "outputs": [],
   "source": [
    "df = (spark.read.format('csv')\n",
    "      .option('inferSchema', 'true')\n",
    "      .option('escape', '\"')\n",
    "      .option('header', 'true')\n",
    "      .load('hdfs://namenode:9000/data/process_logs.csv') \n",
    "     )"
   ]
  },
  {
   "cell_type": "markdown",
   "metadata": {},
   "source": [
    "## Data Cleaning and feature engineering\n",
    "+ parse process name/process path\n",
    "+ split `Process_Command_Line` into tokens to count arguments\n",
    "+ add boolean value to identify if process was started by an administrator\n",
    "+ add boolean value to identify if path is in trusted directory: [C:\\Program Files, C:\\Windows]"
   ]
  },
  {
   "cell_type": "code",
   "execution_count": 5,
   "metadata": {},
   "outputs": [
    {
     "data": {
      "text/plain": [
       "DataFrame[domain: string, creator_process_id: string, event_code: int, host: string, logon_id: string, member_id: string, new_process_id: string, command_line: string, process_name: string, process_path: string, session_id: string, user_name: string, cmd_line_split: array<string>, _time: int, is_admin: int, trusted_path: int, time: string]"
      ]
     },
     "execution_count": 5,
     "metadata": {},
     "output_type": "execute_result"
    }
   ],
   "source": [
    "from pyspark.sql.functions import regexp_extract, regexp_replace, col, count, split, size, to_date\n",
    "clean_df = df.select(\n",
    "    '*',\n",
    "    regexp_extract(col('New_Process_Name'), r'(\\w+.?\\w+$)', 0).alias('process_name'),\n",
    "    regexp_extract(col('New_Process_Name'), r\"(\\w?:?.*\\\\?\\w+\\s?\\w+\\\\)\", 0).alias('process_path'),\n",
    "    regexp_replace(col('user'), r'\\$', '').alias('user_name'),\n",
    "    regexp_replace(col('Process_Command_Line'), r'(\")', '').alias('command_line'),\n",
    "    split(col('Process_Command_Line'), '\\s+(?=[-/]+)').alias('cmd_line_split')\n",
    ").selectExpr(\n",
    "        'Account_Domain as domain', 'Creator_Process_ID as creator_process_id', 'EventCode as event_code', 'host', 'Logon_ID as logon_id', 'member_id', \\\n",
    "        'New_Process_ID as new_process_id', 'command_line', 'process_name', 'process_path', 'session_id', 'user_name', 'cmd_line_split', '_time'\n",
    ").withColumn(\n",
    "    'is_admin', col('member_id').isin(['FROTHLY\\\\administrator', 'NT AUTHORITY\\\\SYSTEM', 'NT AUTHORITY\\\\LOCAL SERVICE', 'NT AUTHORITY\\\\NETWORK SERVICE']).cast('int')\n",
    ").withColumn(\n",
    "    'trusted_path', (col('process_path').like('%C:\\Program Files%') | col('process_path').like('%C:\\Windows%') | col('process_path').like('%C:\\PROGRA~2%') |col('process_path').like('%Program Files (x86)%')).cast('int')\n",
    ").withColumn(\n",
    "    'time', F.from_unixtime('_time')\n",
    ").dropna(how='any')\n",
    "\n",
    "clean_df.cache()"
   ]
  },
  {
   "cell_type": "code",
   "execution_count": 6,
   "metadata": {},
   "outputs": [
    {
     "name": "stdout",
     "output_type": "stream",
     "text": [
      "+------------------+--------+--------------------------+------------+------------------------------------------------------------------------------------+-----+\n",
      "|user_name         |is_admin|process_name              |trusted_path|process_path                                                                        |count|\n",
      "+------------------+--------+--------------------------+------------+------------------------------------------------------------------------------------+-----+\n",
      "|WRK-ABUNGST       |1       |MonitorNoHandle.exe       |1           |C:\\Program Files\\SplunkUniversalForwarder\\bin\\                                      |8131 |\n",
      "|WRK-ATURING       |1       |ccSvcHst.exe              |1           |C:\\Program Files (x86)\\Symantec\\Symantec Endpoint Protection\\12.1.7266.6800.105\\Bin\\|343  |\n",
      "|WRK-BGIST         |1       |winprintmon.exe           |1           |C:\\Program Files\\SplunkUniversalForwarder\\bin\\                                      |8419 |\n",
      "|VENUS             |1       |conhost.exe               |1           |C:\\Windows\\System32\\                                                                |4341 |\n",
      "|WRK-ABUNGST       |1       |powershell.exe            |1           |C:\\Program Files\\SplunkUniversalForwarder\\bin\\                                      |14126|\n",
      "|WRK-FMALTES       |1       |netmon.exe                |1           |C:\\Program Files\\SplunkUniversalForwarder\\bin\\                                      |7649 |\n",
      "|WRK-BTUN          |1       |powershell.exe            |1           |C:\\Program Files\\SplunkUniversalForwarder\\bin\\                                      |12900|\n",
      "|WRK-BTUN          |1       |MonitorNoHandle.exe       |1           |C:\\Program Files\\SplunkUniversalForwarder\\bin\\                                      |7643 |\n",
      "|VENUS             |1       |winhostinfo.exe           |1           |C:\\Program Files\\SplunkUniversalForwarder\\bin\\                                      |5733 |\n",
      "|WRK-KLAGERF       |1       |winhostinfo.exe           |1           |C:\\Program Files\\SplunkUniversalForwarder\\bin\\                                      |9140 |\n",
      "|administrator     |1       |winhostinfo.exe           |1           |C:\\Program Files\\SplunkUniversalForwarder\\bin\\                                      |9322 |\n",
      "|WRK-ATURING       |1       |winhostinfo.exe           |1           |C:\\Program Files\\SplunkUniversalForwarder\\bin\\                                      |7901 |\n",
      "|WRK-ABUNGST       |1       |admon.exe                 |1           |C:\\Program Files\\SplunkUniversalForwarder\\bin\\                                      |6611 |\n",
      "|WRK-BGIST         |1       |schtasks.exe              |1           |C:\\Windows\\System32\\                                                                |1646 |\n",
      "|WRK-BTUN          |1       |cscript.exe               |1           |C:\\Windows\\System32\\                                                                |2845 |\n",
      "|WRK-KLAGERF       |1       |GoogleUpdate.exe          |1           |C:\\Program Files (x86)\\Google\\Update\\                                               |901  |\n",
      "|VENUS             |1       |cmd.exe                   |1           |C:\\Windows\\System32\\                                                                |960  |\n",
      "|fyodor.malteskesko|0       |chrome.exe                |1           |C:\\Program Files (x86)\\Google\\Chrome\\Application\\                                   |2109 |\n",
      "|billy.tun         |0       |software_reporter_tool.exe|0           |C:\\Users\\billy.tun\\AppData\\Local\\Google\\Chrome\\User Data\\SwReporter\\                |404  |\n",
      "|amber.turing      |0       |chrome.exe                |1           |C:\\Program Files (x86)\\Google\\Chrome\\Application\\                                   |2280 |\n",
      "+------------------+--------+--------------------------+------------+------------------------------------------------------------------------------------+-----+\n",
      "only showing top 20 rows\n",
      "\n"
     ]
    }
   ],
   "source": [
    "clean_df.groupBy('user_name','is_admin','process_name','trusted_path','process_path').count().show(truncate=False)"
   ]
  },
  {
   "cell_type": "markdown",
   "metadata": {},
   "source": [
    "## process count"
   ]
  },
  {
   "cell_type": "code",
   "execution_count": 7,
   "metadata": {},
   "outputs": [
    {
     "data": {
      "text/plain": [
       "[('domain', 'string'),\n",
       " ('creator_process_id', 'string'),\n",
       " ('event_code', 'int'),\n",
       " ('host', 'string'),\n",
       " ('logon_id', 'string'),\n",
       " ('member_id', 'string'),\n",
       " ('new_process_id', 'string'),\n",
       " ('command_line', 'string'),\n",
       " ('process_name', 'string'),\n",
       " ('process_path', 'string'),\n",
       " ('session_id', 'string'),\n",
       " ('user_name', 'string'),\n",
       " ('cmd_line_split', 'array<string>'),\n",
       " ('_time', 'int'),\n",
       " ('is_admin', 'int'),\n",
       " ('trusted_path', 'int'),\n",
       " ('time', 'string')]"
      ]
     },
     "execution_count": 7,
     "metadata": {},
     "output_type": "execute_result"
    }
   ],
   "source": [
    "clean_df.dtypes"
   ]
  },
  {
   "cell_type": "code",
   "execution_count": 8,
   "metadata": {},
   "outputs": [],
   "source": [
    "from pyspark.sql.functions import count, desc, asc, expr\n",
    "df_process_count = clean_df.groupBy('process_name').agg(\n",
    "    count('process_name').alias('process_count')\n",
    ")"
   ]
  },
  {
   "cell_type": "code",
   "execution_count": 9,
   "metadata": {},
   "outputs": [
    {
     "name": "stdout",
     "output_type": "stream",
     "text": [
      "+----------------------+-------------+\n",
      "|process_name          |process_count|\n",
      "+----------------------+-------------+\n",
      "|powershell.exe        |124310       |\n",
      "|winprintmon.exe       |74964        |\n",
      "|MonitorNoHandle.exe   |70836        |\n",
      "|netmon.exe            |68734        |\n",
      "|winhostinfo.exe       |66849        |\n",
      "|admon.exe             |55794        |\n",
      "|conhost.exe           |39452        |\n",
      "|cscript.exe           |27535        |\n",
      "|dllhost.exe           |13691        |\n",
      "|schtasks.exe          |9187         |\n",
      "|chrome.exe            |8744         |\n",
      "|cmd.exe               |7915         |\n",
      "|wsmprovhost.exe       |4901         |\n",
      "|SearchProtocolHost.exe|4862         |\n",
      "|slui.exe              |4438         |\n",
      "|SearchFilterHost.exe  |3091         |\n",
      "|GoogleUpdate.exe      |2811         |\n",
      "|WmiPrvSE.exe          |2582         |\n",
      "|taskhost.exe          |2372         |\n",
      "|OSPPSVC.EXE           |1722         |\n",
      "+----------------------+-------------+\n",
      "only showing top 20 rows\n",
      "\n"
     ]
    }
   ],
   "source": [
    "df_process_count.orderBy(desc('process_count')).show(20, False)"
   ]
  },
  {
   "cell_type": "markdown",
   "metadata": {},
   "source": [
    "# create additional features\n",
    "1. number of command line arguments\n",
    "2. count of path \n",
    "3. if executable is common attack tool (i.e. at.exe, sc.exe, powershell.exe)\n",
    "4. if executable ran from a trusted path"
   ]
  },
  {
   "cell_type": "markdown",
   "metadata": {},
   "source": [
    "## number of command line arguments"
   ]
  },
  {
   "cell_type": "code",
   "execution_count": 10,
   "metadata": {},
   "outputs": [],
   "source": [
    "from pyspark.sql.functions import split\n",
    "df_arg_count = clean_df.groupBy('command_line', 'cmd_line_split').agg(\n",
    "    (size('cmd_line_split')).alias('argument_count')\n",
    ").select('command_line', 'argument_count')"
   ]
  },
  {
   "cell_type": "code",
   "execution_count": 11,
   "metadata": {},
   "outputs": [
    {
     "name": "stdout",
     "output_type": "stream",
     "text": [
      "+----------------------------------------------------------------------------------------------------------------------------------------------------------+--------------+\n",
      "|command_line                                                                                                                                              |argument_count|\n",
      "+----------------------------------------------------------------------------------------------------------------------------------------------------------+--------------+\n",
      "|C:\\Program Files\\SplunkUniversalForwarder\\bin\\splunk-admon.exe                                                                                            |1             |\n",
      "|schtasks.exe /Create /tn Microsoft\\Office\\Office Automatic Updates /XML C:\\Program Files\\Common Files\\Microsoft Shared\\ClickToRun\\OfficeUpdateSchedule.xml|4             |\n",
      "+----------------------------------------------------------------------------------------------------------------------------------------------------------+--------------+\n",
      "only showing top 2 rows\n",
      "\n"
     ]
    }
   ],
   "source": [
    "df_arg_count.show(2, False)"
   ]
  },
  {
   "cell_type": "code",
   "execution_count": 12,
   "metadata": {},
   "outputs": [
    {
     "name": "stdout",
     "output_type": "stream",
     "text": [
      "+--------------------+--------------+\n",
      "|        command_line|argument_count|\n",
      "+--------------------+--------------+\n",
      "|schtasks.exe /Cre...|             4|\n",
      "|schtasks.exe /Cre...|             4|\n",
      "|C:\\Windows\\system...|             4|\n",
      "|C:\\Windows\\system...|             3|\n",
      "|C:\\Program Files ...|             9|\n",
      "+--------------------+--------------+\n",
      "only showing top 5 rows\n",
      "\n"
     ]
    }
   ],
   "source": [
    "df_arg_count.filter(col('argument_count') > 2).show(5)"
   ]
  },
  {
   "cell_type": "markdown",
   "metadata": {},
   "source": [
    "## count of path\n",
    "+ count the number of times of the executable's path "
   ]
  },
  {
   "cell_type": "code",
   "execution_count": 13,
   "metadata": {},
   "outputs": [],
   "source": [
    "df_path_count = clean_df.select('process_path').groupBy('process_path').count().orderBy(desc('count'))"
   ]
  },
  {
   "cell_type": "code",
   "execution_count": 14,
   "metadata": {},
   "outputs": [
    {
     "name": "stdout",
     "output_type": "stream",
     "text": [
      "+-------------------------------------------------+------+\n",
      "|process_path                                     |count |\n",
      "+-------------------------------------------------+------+\n",
      "|C:\\Program Files\\SplunkUniversalForwarder\\bin\\   |456891|\n",
      "|C:\\Windows\\System32\\                             |110607|\n",
      "|C:\\Windows\\SysWOW64\\                             |17233 |\n",
      "|C:\\Program Files (x86)\\Google\\Chrome\\Application\\|8744  |\n",
      "|C:\\Windows\\System32\\WindowsPowerShell\\           |4628  |\n",
      "+-------------------------------------------------+------+\n",
      "only showing top 5 rows\n",
      "\n"
     ]
    }
   ],
   "source": [
    "df_path_count.show(5, False)"
   ]
  },
  {
   "cell_type": "markdown",
   "metadata": {},
   "source": [
    "## if executable is common attack tool (i.e. at.exe, sc.exe, powershell.exe)\n",
    "+ import splunk tools.csv and create tool array\n",
    "+ check to see if the exectuble is a common attack tools such as [at.exe, sc.exe, powershell.exe]"
   ]
  },
  {
   "cell_type": "code",
   "execution_count": 15,
   "metadata": {},
   "outputs": [],
   "source": [
    "tool_df = (spark.read.format('csv')\n",
    "           .option('inferschema', 'true')\n",
    "           .option('header', 'true')\n",
    "           .load('hdfs://namenode:9000/data/tools.csv')\n",
    "          )"
   ]
  },
  {
   "cell_type": "code",
   "execution_count": 16,
   "metadata": {},
   "outputs": [],
   "source": [
    "# create list of tool names by taking the value of the filename key from every row object in tool_df\n",
    "tool_list = [x['filename'] for x in tool_df.select('filename').collect()]"
   ]
  },
  {
   "cell_type": "code",
   "execution_count": 17,
   "metadata": {},
   "outputs": [],
   "source": [
    "util_df = clean_df.groupBy('process_name').agg(\n",
    "    clean_df['process_name'].isin(tool_list).cast('int').alias('common_attack_tool')\n",
    ")"
   ]
  },
  {
   "cell_type": "code",
   "execution_count": 18,
   "metadata": {},
   "outputs": [
    {
     "name": "stdout",
     "output_type": "stream",
     "text": [
      "+--------------------+------------------+\n",
      "|        process_name|common_attack_tool|\n",
      "+--------------------+------------------+\n",
      "|          netmon.exe|                 0|\n",
      "|           admon.exe|                 0|\n",
      "|        taskhost.exe|                 0|\n",
      "|SearchFilterHost.exe|                 0|\n",
      "|             cmd.exe|                 0|\n",
      "|          acregl.exe|                 0|\n",
      "|         findstr.exe|                 0|\n",
      "|GoogleCrashHandle...|                 0|\n",
      "|           VSSVC.exe|                 0|\n",
      "|        rundll32.exe|                 0|\n",
      "|        aitagent.exe|                 0|\n",
      "|        MpCmdRun.exe|                 0|\n",
      "|        iexplore.exe|                 0|\n",
      "|       ehprivjob.exe|                 0|\n",
      "|   OneDriveSetup.exe|                 0|\n",
      "|         MSOSYNC.EXE|                 0|\n",
      "|             mmc.exe|                 0|\n",
      "|           csrss.exe|                 0|\n",
      "|            ngen.exe|                 0|\n",
      "|             reg.exe|                 0|\n",
      "+--------------------+------------------+\n",
      "only showing top 20 rows\n",
      "\n"
     ]
    }
   ],
   "source": [
    "util_df.show()"
   ]
  },
  {
   "cell_type": "markdown",
   "metadata": {},
   "source": [
    "## if executable ran from a trusted path"
   ]
  },
  {
   "cell_type": "code",
   "execution_count": 19,
   "metadata": {},
   "outputs": [
    {
     "name": "stdout",
     "output_type": "stream",
     "text": [
      "+-------------------------------------------------------------------------------------------------+------------+-----+\n",
      "|process_path                                                                                     |trusted_path|count|\n",
      "+-------------------------------------------------------------------------------------------------+------------+-----+\n",
      "|C:\\Program Files (x86)\\Google\\Update\\                                                            |1           |3201 |\n",
      "|C:\\Program Files\\Common Files\\Microsoft Shared\\OfficeSoftwareProtectionPlatform\\                 |1           |1722 |\n",
      "|C:\\Windows\\Microsoft.NET\\Framework64\\v4.0.30319\\                                                 |1           |6    |\n",
      "|C:\\Program Files (x86)\\Symantec\\Symantec Endpoint Protection\\12.1.7266.6800.105\\Bin64\\           |1           |1    |\n",
      "|C:\\Program Files\\VMware\\VMware Tools\\                                                            |1           |3    |\n",
      "|C:\\Users\\al.bungstien\\AppData\\Local\\Google\\Chrome\\User Data\\SwReporter\\                          |0           |2    |\n",
      "|C:\\Users\\amber.turing\\Desktop\\Tor Browser\\Browser\\                                               |0           |3    |\n",
      "|                                                                                                 |0           |2    |\n",
      "|C:\\Users\\amber.turing\\Downloads\\                                                                 |0           |1    |\n",
      "|C:\\Program Files (x86)\\Symantec\\Symantec Endpoint Protection\\12.1.7266.6800.105\\Bin\\             |1           |1185 |\n",
      "|C:\\Windows\\                                                                                      |1           |501  |\n",
      "|C:\\PROGRA~2\\Symantec\\SYMANT~1\\121726~1.105\\Bin\\                                                  |1           |13   |\n",
      "|C:\\Windows\\ehome\\                                                                                |1           |6    |\n",
      "|C:\\Program Files\\Windows NT\\Accessories\\                                                         |1           |3    |\n",
      "|C:\\Program Files\\Mozilla Firefox\\                                                                |1           |756  |\n",
      "|C:\\Program Files (x86)\\Google\\Chrome\\Application\\                                                |1           |8744 |\n",
      "|C:\\Program Files\\RealVNC\\VNC Server\\                                                             |1           |465  |\n",
      "|C:\\Users\\billy.tun\\AppData\\Local\\Google\\Chrome\\User Data\\SwReporter\\                             |0           |404  |\n",
      "|C:\\Windows\\Microsoft.NET\\Framework\\v4.0.30319\\                                                   |1           |6    |\n",
      "|C:\\Program Files (x86)\\Microsoft Office\\root\\vfs\\ProgramFilesCommonX86\\Microsoft Shared\\OFFICE16\\|1           |10   |\n",
      "+-------------------------------------------------------------------------------------------------+------------+-----+\n",
      "only showing top 20 rows\n",
      "\n"
     ]
    }
   ],
   "source": [
    "clean_df.groupBy('process_path', 'trusted_path').count().show(20, False)"
   ]
  },
  {
   "cell_type": "markdown",
   "metadata": {},
   "source": [
    "# combine data frames"
   ]
  },
  {
   "cell_type": "code",
   "execution_count": 20,
   "metadata": {},
   "outputs": [],
   "source": [
    "df1 = clean_df.join(df_process_count, on='process_name').selectExpr(\n",
    "    'user_name', 'process_name', 'process_count', 'command_line', 'process_path', 'is_admin', 'trusted_path'\n",
    ")"
   ]
  },
  {
   "cell_type": "code",
   "execution_count": 21,
   "metadata": {},
   "outputs": [],
   "source": [
    "df2 = df1.join(df_arg_count, on='command_line').selectExpr(\n",
    "    'user_name', 'process_name', 'process_count', 'command_line', 'process_path', 'is_admin', 'trusted_path', 'argument_count'\n",
    ")"
   ]
  },
  {
   "cell_type": "code",
   "execution_count": 22,
   "metadata": {},
   "outputs": [],
   "source": [
    "df3 = df2.join(df_path_count, on='process_path').selectExpr(\n",
    "    'user_name', 'process_name', 'process_count', 'command_line', 'process_path', 'is_admin', 'trusted_path', 'argument_count', 'count as path_count'\n",
    ")"
   ]
  },
  {
   "cell_type": "code",
   "execution_count": 42,
   "metadata": {},
   "outputs": [
    {
     "name": "stdout",
     "output_type": "stream",
     "text": [
      "+------------+------------+-------------+--------------------+--------------------+--------+------------+--------------+----------+\n",
      "|   user_name|process_name|process_count|        command_line|        process_path|is_admin|trusted_path|argument_count|path_count|\n",
      "+------------+------------+-------------+--------------------+--------------------+--------+------------+--------------+----------+\n",
      "|amber.turing|     tor.exe|            1|C:\\Users\\amber.tu...|C:\\Users\\amber.tu...|       0|           0|             3|         1|\n",
      "|          %2|            |            2|                  %9|                    |       0|           0|             1|         2|\n",
      "|          %2|            |            2|                  %9|                    |       0|           0|             1|         2|\n",
      "|    service3|  python.exe|            2|C:\\python27\\pytho...|        C:\\Python27\\|       0|           0|             1|         2|\n",
      "|    service3|  python.exe|            2|c:\\Python27\\pytho...|        C:\\Python27\\|       0|           0|             4|         2|\n",
      "|amber.turing| firefox.exe|          759|C:\\Users\\amber.tu...|C:\\Users\\amber.tu...|       0|           0|             1|         3|\n",
      "|amber.turing| firefox.exe|          759|C:\\Users\\amber.tu...|C:\\Users\\amber.tu...|       0|           0|             6|         3|\n",
      "|amber.turing| firefox.exe|          759|C:\\Users\\amber.tu...|C:\\Users\\amber.tu...|       0|           0|             6|         3|\n",
      "|amber.turing|      US.exe|            1|C:\\Users\\amber.tu...|C:\\Users\\amber.tu...|       0|           0|             1|         1|\n",
      "+------------+------------+-------------+--------------------+--------------------+--------+------------+--------------+----------+\n",
      "\n"
     ]
    }
   ],
   "source": [
    "df3.filter((col('trusted_path') == 0) & (col('process_name') != 'software_reporter_tool.exe')).show()"
   ]
  },
  {
   "cell_type": "code",
   "execution_count": 25,
   "metadata": {},
   "outputs": [
    {
     "data": {
      "text/plain": [
       "<matplotlib.axes._subplots.AxesSubplot at 0x7fd57057c5c0>"
      ]
     },
     "execution_count": 25,
     "metadata": {},
     "output_type": "execute_result"
    },
    {
     "data": {
      "image/png": "[encoded data removed]",
      "text/plain": [
       "<Figure size 432x288 with 1 Axes>"
      ]
     },
     "metadata": {
      "needs_background": "light"
     },
     "output_type": "display_data"
    }
   ],
   "source": [
    "df3.select('process_count').toPandas().plot.hist()"
   ]
  },
  {
   "cell_type": "code",
   "execution_count": 26,
   "metadata": {},
   "outputs": [
    {
     "data": {
      "text/plain": [
       "<matplotlib.axes._subplots.AxesSubplot at 0x7fd5700a1d68>"
      ]
     },
     "execution_count": 26,
     "metadata": {},
     "output_type": "execute_result"
    },
    {
     "data": {
      "image/png": "[encoded data removed]",
      "text/plain": [
       "<Figure size 432x288 with 1 Axes>"
      ]
     },
     "metadata": {
      "needs_background": "light"
     },
     "output_type": "display_data"
    }
   ],
   "source": [
    "df3.select('argument_count').toPandas().plot.hist()"
   ]
  },
  {
   "cell_type": "code",
   "execution_count": 27,
   "metadata": {},
   "outputs": [
    {
     "data": {
      "text/plain": [
       "<matplotlib.axes._subplots.AxesSubplot at 0x7fd570528dd8>"
      ]
     },
     "execution_count": 27,
     "metadata": {},
     "output_type": "execute_result"
    },
    {
     "data": {
      "image/png": "[encoded data removed]",
      "text/plain": [
       "<Figure size 432x288 with 1 Axes>"
      ]
     },
     "metadata": {
      "needs_background": "light"
     },
     "output_type": "display_data"
    }
   ],
   "source": [
    "df3.select('path_count').toPandas().plot.hist()"
   ]
  },
  {
   "cell_type": "code",
   "execution_count": 28,
   "metadata": {},
   "outputs": [
    {
     "name": "stdout",
     "output_type": "stream",
     "text": [
      "+------------+--------------------------+-----------------------------------------------------------------------+------------+-------------+----------+-----+\n",
      "|user_name   |process_name              |process_path                                                           |trusted_path|process_count|path_count|count|\n",
      "+------------+--------------------------+-----------------------------------------------------------------------+------------+-------------+----------+-----+\n",
      "|amber.turing|software_reporter_tool.exe|C:\\Users\\amber.turing\\AppData\\Local\\Google\\Chrome\\User Data\\SwReporter\\|0           |408          |2         |1    |\n",
      "|al.bungstien|software_reporter_tool.exe|C:\\Users\\al.bungstien\\AppData\\Local\\Google\\Chrome\\User Data\\SwReporter\\|0           |408          |2         |1    |\n",
      "|service3    |python.exe                |C:\\Python27\\                                                           |0           |2            |2         |1    |\n",
      "|amber.turing|firefox.exe               |C:\\Users\\amber.turing\\Desktop\\Tor Browser\\Browser\\                     |0           |759          |3         |2    |\n",
      "+------------+--------------------------+-----------------------------------------------------------------------+------------+-------------+----------+-----+\n",
      "\n"
     ]
    }
   ],
   "source": [
    "df3.filter((col('argument_count') > 3) & (col('trusted_path')==0)).groupBy('user_name', 'process_name', 'process_path', 'trusted_path', 'process_count', 'path_count').count().show(truncate=False)"
   ]
  },
  {
   "cell_type": "code",
   "execution_count": 29,
   "metadata": {},
   "outputs": [],
   "source": [
    "# df3.toPandas().to_csv('process_final.csv')"
   ]
  },
  {
   "cell_type": "markdown",
   "metadata": {},
   "source": [
    "# Standardize data\n",
    "+ center and scale column: `process_count`"
   ]
  },
  {
   "cell_type": "code",
   "execution_count": 30,
   "metadata": {},
   "outputs": [],
   "source": [
    "# create z-score udf\n",
    "@F.udf(returnType=FloatType())\n",
    "def z_score(mean, stdev, x):\n",
    "    return ((x-mean)/stdev)"
   ]
  },
  {
   "cell_type": "code",
   "execution_count": 31,
   "metadata": {},
   "outputs": [],
   "source": [
    "def get_mean_stdev(col_name):\n",
    "    _mean = df3.select(\n",
    "        F.mean(col(col_name)).alias('mean')\n",
    "    ).collect()[0].mean\n",
    "\n",
    "    _stdev = df3.select(\n",
    "        F.stddev(col(col_name)).alias('stdev')\n",
    "    ).collect()[0].stdev\n",
    "    \n",
    "    return _mean, _stdev"
   ]
  },
  {
   "cell_type": "code",
   "execution_count": 32,
   "metadata": {},
   "outputs": [],
   "source": [
    "_mean, _stdev = get_mean_stdev('process_count')"
   ]
  },
  {
   "cell_type": "code",
   "execution_count": 33,
   "metadata": {},
   "outputs": [],
   "source": [
    "df_scaled = df3.withColumn('process_count_scaled', z_score(F.lit(_mean), F.lit(_stdev), col('process_count')))"
   ]
  },
  {
   "cell_type": "code",
   "execution_count": 34,
   "metadata": {},
   "outputs": [
    {
     "data": {
      "text/plain": [
       "<matplotlib.axes._subplots.AxesSubplot at 0x7fd563cede80>"
      ]
     },
     "execution_count": 34,
     "metadata": {},
     "output_type": "execute_result"
    },
    {
     "data": {
      "image/png": "[encoded data removed]",
      "text/plain": [
       "<Figure size 432x288 with 1 Axes>"
      ]
     },
     "metadata": {
      "needs_background": "light"
     },
     "output_type": "display_data"
    }
   ],
   "source": [
    "df_scaled.select('process_count_scaled').toPandas().plot.hist()"
   ]
  },
  {
   "cell_type": "code",
   "execution_count": 35,
   "metadata": {},
   "outputs": [
    {
     "name": "stdout",
     "output_type": "stream",
     "text": [
      "+----------------+--------------------+------------+--------+--------------------+\n",
      "|       user_name|        process_name|trusted_path|is_admin|process_count_scaled|\n",
      "+----------------+--------------------+------------+--------+--------------------+\n",
      "|    amber.turing|         ehshell.exe|           1|       0|          -1.8564416|\n",
      "|     WRK-ATURING|           ehrec.exe|           1|       1|          -1.8564416|\n",
      "|    al.bungstien|        splwow64.exe|           1|       0|          -1.8564416|\n",
      "|     WRK-ATURING|OfficeClickToRun.exe|           1|       1|          -1.8564416|\n",
      "|     WRK-ATURING|          Sysmon.exe|           1|       1|          -1.8564416|\n",
      "|        WRK-BTUN|          SmcGui.exe|           1|       1|          -1.8564416|\n",
      "|     WRK-ATURING|         ehsched.exe|           1|       1|          -1.8564416|\n",
      "|    amber.turing|             tor.exe|           0|       0|          -1.8564416|\n",
      "|    al.bungstien|        setup_wm.exe|           1|       0|          -1.8564416|\n",
      "|    amber.turing|          ehtray.exe|           1|       0|          -1.8564416|\n",
      "|kevin.lagerfield|        POWERPNT.EXE|           1|       0|          -1.8564416|\n",
      "|       billy.tun|             csc.exe|           1|       0|          -1.8564416|\n",
      "|           VENUS|           xBFon.exe|           1|       1|          -1.8564416|\n",
      "|       billy.tun|          cvtres.exe|           1|       0|          -1.8564416|\n",
      "|     WRK-ATURING|         WMIADAP.exe|           1|       1|          -1.8564416|\n",
      "|         MERCURY|            w3wp.exe|           1|       1|          -1.8564416|\n",
      "|    amber.turing|         MSOSYNC.EXE|           1|       0|          -1.8564416|\n",
      "|     grace.hoppy|        vmtoolsd.exe|           1|       0|          -1.8564416|\n",
      "|     WRK-ATURING|        unsecapp.exe|           1|       1|          -1.8564416|\n",
      "|    amber.turing|              US.exe|           0|       0|          -1.8564416|\n",
      "+----------------+--------------------+------------+--------+--------------------+\n",
      "only showing top 20 rows\n",
      "\n"
     ]
    }
   ],
   "source": [
    "df_scaled.select('user_name', 'process_name', 'trusted_path', 'is_admin', 'process_count_scaled').orderBy(F.asc('process_count_scaled')).show()"
   ]
  },
  {
   "cell_type": "markdown",
   "metadata": {},
   "source": [
    "+ center and scale column: `path count`"
   ]
  },
  {
   "cell_type": "code",
   "execution_count": 36,
   "metadata": {},
   "outputs": [],
   "source": [
    "_mean, _stdev = get_mean_stdev('path_count')\n",
    "df_scaled = df_scaled.withColumn('path_count_scaled', z_score(F.lit(_mean), F.lit(_stdev), col('path_count')))"
   ]
  },
  {
   "cell_type": "code",
   "execution_count": 37,
   "metadata": {},
   "outputs": [
    {
     "data": {
      "text/plain": [
       "<matplotlib.axes._subplots.AxesSubplot at 0x7fd56612e390>"
      ]
     },
     "execution_count": 37,
     "metadata": {},
     "output_type": "execute_result"
    },
    {
     "data": {
      "image/png": "[encoded data removed]",
      "text/plain": [
       "<Figure size 432x288 with 1 Axes>"
      ]
     },
     "metadata": {
      "needs_background": "light"
     },
     "output_type": "display_data"
    }
   ],
   "source": [
    "df_scaled.select('path_count_scaled').toPandas().plot.hist()"
   ]
  },
  {
   "cell_type": "markdown",
   "metadata": {},
   "source": [
    "+ center and scale column: `argument_count`"
   ]
  },
  {
   "cell_type": "code",
   "execution_count": 38,
   "metadata": {},
   "outputs": [],
   "source": [
    "_mean, _stdev = get_mean_stdev('argument_count')\n",
    "df_scaled = df_scaled.withColumn('argument_count_scaled', z_score(F.lit(_mean), F.lit(_stdev), col('argument_count')))"
   ]
  },
  {
   "cell_type": "code",
   "execution_count": 40,
   "metadata": {},
   "outputs": [
    {
     "data": {
      "text/plain": [
       "<matplotlib.axes._subplots.AxesSubplot at 0x7fd570606668>"
      ]
     },
     "execution_count": 40,
     "metadata": {},
     "output_type": "execute_result"
    },
    {
     "data": {
      "image/png": "[encoded data removed]",
      "text/plain": [
       "<Figure size 432x288 with 1 Axes>"
      ]
     },
     "metadata": {
      "needs_background": "light"
     },
     "output_type": "display_data"
    }
   ],
   "source": [
    "df_scaled.select('argument_count_scaled').toPandas().plot.hist()"
   ]
  },
  {
   "cell_type": "code",
   "execution_count": 41,
   "metadata": {},
   "outputs": [
    {
     "name": "stdout",
     "output_type": "stream",
     "text": [
      "+------------+------------+-------------+--------------------+--------------------+--------+------------+--------------+----------+--------------------+-----------------+---------------------+\n",
      "|   user_name|process_name|process_count|        command_line|        process_path|is_admin|trusted_path|argument_count|path_count|process_count_scaled|path_count_scaled|argument_count_scaled|\n",
      "+------------+------------+-------------+--------------------+--------------------+--------+------------+--------------+----------+--------------------+-----------------+---------------------+\n",
      "| WRK-ABUNGST|DWHWizrd.exe|           15|C:\\PROGRA~2\\Syman...|C:\\PROGRA~2\\Syman...|       1|           1|             1|        13|          -1.8560556|       -2.1957655|           -0.3038338|\n",
      "| WRK-ATURING|DWHWizrd.exe|           15|C:\\PROGRA~2\\Syman...|C:\\PROGRA~2\\Syman...|       1|           1|             1|        13|          -1.8560556|       -2.1957655|           -0.3038338|\n",
      "|    WRK-BTUN|DWHWizrd.exe|           15|C:\\PROGRA~2\\Syman...|C:\\PROGRA~2\\Syman...|       1|           1|             1|        13|          -1.8560556|       -2.1957655|           -0.3038338|\n",
      "|       VENUS|DWHWizrd.exe|           15|C:\\PROGRA~2\\Syman...|C:\\PROGRA~2\\Syman...|       1|           1|             1|        13|          -1.8560556|       -2.1957655|           -0.3038338|\n",
      "|  WRK-GHOPPY|DWHWizrd.exe|           15|C:\\PROGRA~2\\Syman...|C:\\PROGRA~2\\Syman...|       1|           1|             1|        13|          -1.8560556|       -2.1957655|           -0.3038338|\n",
      "|   WRK-BGIST|DWHWizrd.exe|           15|C:\\PROGRA~2\\Syman...|C:\\PROGRA~2\\Syman...|       1|           1|             1|        13|          -1.8560556|       -2.1957655|           -0.3038338|\n",
      "| WRK-ATURING|DWHWizrd.exe|           15|C:\\PROGRA~2\\Syman...|C:\\PROGRA~2\\Syman...|       1|           1|             1|        13|          -1.8560556|       -2.1957655|           -0.3038338|\n",
      "|    WRK-BTUN|DWHWizrd.exe|           15|C:\\PROGRA~2\\Syman...|C:\\PROGRA~2\\Syman...|       1|           1|             1|        13|          -1.8560556|       -2.1957655|           -0.3038338|\n",
      "| WRK-FMALTES|DWHWizrd.exe|           15|C:\\PROGRA~2\\Syman...|C:\\PROGRA~2\\Syman...|       1|           1|             1|        13|          -1.8560556|       -2.1957655|           -0.3038338|\n",
      "| WRK-ATURING|DWHWizrd.exe|           15|C:\\PROGRA~2\\Syman...|C:\\PROGRA~2\\Syman...|       1|           1|             1|        13|          -1.8560556|       -2.1957655|           -0.3038338|\n",
      "|   WRK-BGIST|DWHWizrd.exe|           15|C:\\PROGRA~2\\Syman...|C:\\PROGRA~2\\Syman...|       1|           1|             1|        13|          -1.8560556|       -2.1957655|           -0.3038338|\n",
      "| WRK-ABUNGST|DWHWizrd.exe|           15|C:\\PROGRA~2\\Syman...|C:\\PROGRA~2\\Syman...|       1|           1|             1|        13|          -1.8560556|       -2.1957655|           -0.3038338|\n",
      "|  WRK-GHOPPY|DWHWizrd.exe|           15|C:\\PROGRA~2\\Syman...|C:\\PROGRA~2\\Syman...|       1|           1|             1|        13|          -1.8560556|       -2.1957655|           -0.3038338|\n",
      "| grace.hoppy|  chrome.exe|         8744|C:\\Program Files ...|C:\\Program Files ...|       0|           1|            10|      8744|          -1.6153581|       -2.1427593|            5.7759757|\n",
      "|amber.turing|  chrome.exe|         8744|C:\\Program Files ...|C:\\Program Files ...|       0|           1|            18|      8744|          -1.6153581|       -2.1427593|             11.18025|\n",
      "|   billy.tun|  chrome.exe|         8744|C:\\Program Files ...|C:\\Program Files ...|       0|           1|            19|      8744|          -1.6153581|       -2.1427593|            11.855784|\n",
      "|   billy.tun|  chrome.exe|         8744|C:\\Program Files ...|C:\\Program Files ...|       0|           1|            19|      8744|          -1.6153581|       -2.1427593|            11.855784|\n",
      "|   billy.tun|  chrome.exe|         8744|C:\\Program Files ...|C:\\Program Files ...|       0|           1|            19|      8744|          -1.6153581|       -2.1427593|            11.855784|\n",
      "|   billy.tun|  chrome.exe|         8744|C:\\Program Files ...|C:\\Program Files ...|       0|           1|            19|      8744|          -1.6153581|       -2.1427593|            11.855784|\n",
      "|   billy.tun|  chrome.exe|         8744|C:\\Program Files ...|C:\\Program Files ...|       0|           1|            19|      8744|          -1.6153581|       -2.1427593|            11.855784|\n",
      "+------------+------------+-------------+--------------------+--------------------+--------+------------+--------------+----------+--------------------+-----------------+---------------------+\n",
      "only showing top 20 rows\n",
      "\n"
     ]
    }
   ],
   "source": [
    "df_scaled.show()"
   ]
  },
  {
   "cell_type": "code",
   "execution_count": 43,
   "metadata": {},
   "outputs": [],
   "source": [
    "# df_scaled.toPandas().to_csv('process_scaled.csv', index=False)"
   ]
  }
 ],
 "metadata": {
  "kernelspec": {
   "display_name": "Python 3",
   "language": "python",
   "name": "python3"
  },
  "language_info": {
   "codemirror_mode": {
    "name": "ipython",
    "version": 3
   },
   "file_extension": ".py",
   "mimetype": "text/x-python",
   "name": "python",
   "nbconvert_exporter": "python",
   "pygments_lexer": "ipython3",
   "version": "3.7.3"
  }
 },
 "nbformat": 4,
 "nbformat_minor": 4
}
